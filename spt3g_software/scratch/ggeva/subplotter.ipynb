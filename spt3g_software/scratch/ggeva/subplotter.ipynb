{
 "cells": [
  {
   "cell_type": "code",
   "execution_count": null,
   "metadata": {},
   "outputs": [],
   "source": [
    "# This is so you can interact with plots within the notebook\n",
    "# I.e. zoom, pan, etc.\n",
    "%matplotlib notebook"
   ]
  },
  {
   "cell_type": "code",
   "execution_count": null,
   "metadata": {},
   "outputs": [],
   "source": [
    "import sys\n",
    "sys.path.append('/home/ggeva/spt3g/spt3g_software/build')\n",
    "import os\n",
    "from spt3g import core, std_processing, mapmaker, dfmux, calibration, todfilter, coordinateutils, timestreamflagging, util\n",
    "from spt3g.coordinateutils.coordsysmodules import FillCoordTransRotations\n",
    "import numpy as np\n",
    "import pylab as plt\n",
    "from astropy import units\n",
    "from astropy.coordinates import SkyCoord"
   ]
  },
  {
   "cell_type": "code",
   "execution_count": null,
   "metadata": {},
   "outputs": [],
   "source": [
    "# Flatsky maps that I'm using are 720x720 pixels\n",
    "X_MAX = 719\n",
    "Y_MAX = 719\n",
    "\n",
    "SAVE_FIGS = True\n",
    "SOURCE = 'RCW38-pixelraster' # Only use pixelraster sources\n",
    "POLARIZED = False"
   ]
  },
  {
   "cell_type": "code",
   "execution_count": null,
   "metadata": {},
   "outputs": [],
   "source": [
    "# Haven't set up appropriate colorbars for all sources yet.\n",
    "# Colorbar limits determined by just looking through several maps to find\n",
    "# The approximate colorbar limtis for a typical map.\n",
    "if SOURCE == 'RCW38':\n",
    "    cbarLWeighted = [[0, 4000], [0, 5000], [0, 500]]\n",
    "    cbarLWeights = [[0.0, 8.0], [0.0, 14.0], [0.0, 1.2]]\n",
    "    cbarRWeighted = [[0, 4000], [0, 5000], [0, 500]]\n",
    "    cbarRWeights = [[0.0, 8.0], [0.0, 14.0], [0.0, 1.2]]\n",
    "    cbarLUnweighted = [[0, 900], [0, 700], [-100, 700]]\n",
    "    cbarLUnweightedLog = [[-6.0, 3.0], [-6.0, 3.0], [-5.0, 3.0]]\n",
    "    cbarLUnweightedZoom = [[0, 900], [0, 700], [-100, 700]]\n",
    "    cbarLUnweightedZoomLog = [[-6.0, 3.0], [-6.0, 3.0], [-5.0, 3.0]]\n",
    "    cbarRUnweighted = [[0, 900], [0, 700], [-100, 700]]\n",
    "    cbarRUnweightedLog = [[-5.0, 3.0], [-5.0, 3.0], [-5.0, 3.0]]\n",
    "    cbarRUnweightedZoom = [[0, 900], [0, 700], [-100, 700]]\n",
    "    cbarRUnweightedZoomLog = [[-5.0, 3.0], [-5.0, 3.0], [-5.0, 3.0]]\n",
    "    cbarSumLR = [[0, 1800], [0, 1400], [-200, 1400]]\n",
    "    cbarSumLRZoom = [[0, 1800], [0, 1400], [-200, 1400]]\n",
    "    cbarDiffLR = [[-125, 125], [-100, 100], [-200, 150]]\n",
    "    cbarDiffLRZoom = [[-125, 125], [-100, 100], [-200, 150]]\n",
    "\n",
    "    colorbars = [cbarLWeighted, cbarLWeights, cbarRWeighted, cbarRWeights,\n",
    "                 cbarLUnweighted, cbarLUnweightedLog, cbarLUnweightedZoom, cbarLUnweightedZoomLog,\n",
    "                 cbarRUnweighted, cbarRUnweightedLog, cbarRUnweightedZoom, cbarRUnweightedZoomLog,\n",
    "                 cbarSumLR, cbarSumLRZoom, cbarDiffLR, cbarDiffLRZoom]\n",
    "    \n",
    "    input_root = '/spt/user/ggeva/RCW38/rcw38_coadd_lr'\n",
    "    output_root = '/home/ggeva/spt3g/spt3g_software/scratch/ggeva/RCW38/maps/highres/rcw38_coadd_lr/'\n",
    "    fname_map_sum = '/spt/user/ggeva/map_sums/RCW38/rcw38_coadd_lr/rcw38_coadd_lr_sum.g3'\n",
    "    mapsumTitle = 'RCW38_Coadd_LR_Split_Combined'"
   ]
  },
  {
   "cell_type": "code",
   "execution_count": null,
   "metadata": {},
   "outputs": [],
   "source": []
  },
  {
   "cell_type": "code",
   "execution_count": null,
   "metadata": {},
   "outputs": [],
   "source": [
    "# Haven't actually determined badobs yet\n",
    "badobs = ['64927739','65033646'] # Trying to make these plots gave errors for some reason\n",
    "freqs = ['90GHz', '150GHz', '220GHz']"
   ]
  },
  {
   "cell_type": "code",
   "execution_count": null,
   "metadata": {},
   "outputs": [],
   "source": [
    "# If element is in array, remove the first instance of it.\n",
    "# (Used to remove the bad observations from the list of observations.)\n",
    "def RemoveOne(array, element):\n",
    "    if element in array:\n",
    "        if array[0] == element:\n",
    "            return array[1:]\n",
    "        else:\n",
    "            return [array[0]] + RemoveOne(array[1:], element)\n",
    "    else:\n",
    "        return array"
   ]
  },
  {
   "cell_type": "code",
   "execution_count": null,
   "metadata": {},
   "outputs": [],
   "source": []
  },
  {
   "cell_type": "code",
   "execution_count": null,
   "metadata": {},
   "outputs": [],
   "source": [
    "# Sets up a single subplot appropriately\n",
    "def SetupSubplot(fig, array, ax, freq, pos, title, noise=False, x0=0, x1=X_MAX, y0=0, y1=Y_MAX, xlabel='Pixel Number', ylabel='Pixel Number'):\n",
    "    npArray = np.asarray(array)\n",
    "    if noise:\n",
    "        vmin=np.percentile(npArray[npArray!=0],10)\n",
    "        vmax=np.percentile(npArray[npArray!=0],90)\n",
    "        im = ax.imshow(array, interpolation='none', cmap='jet', vmin=vmin, vmax=vmax)\n",
    "    # Only commented out until all sources have colorbars set up\n",
    "    else:\n",
    "        #vmin=colorbars[pos][freq][0]\n",
    "        #vmax=colorbars[pos][freq][1]\n",
    "        im = ax.imshow(array, interpolation='none', cmap='jet')\n",
    "    ax.set_xlim(x0, x1)\n",
    "    ax.set_ylim(y0, y1)\n",
    "    cbar = fig.colorbar(im, ax=ax)\n",
    "    ax.set_title(title)\n",
    "    ax.set_xlabel(xlabel)\n",
    "    ax.set_ylabel(ylabel)"
   ]
  },
  {
   "cell_type": "code",
   "execution_count": null,
   "metadata": {
    "scrolled": true
   },
   "outputs": [],
   "source": [
    "# Creates nine sets of plots from one .g3 file.\n",
    "# Nine sets come from T, Q, and U data at all three frequency bands.\n",
    "def CreateSubplot(file, source, title, save=False, outdir='', overwrite=False):      \n",
    "    prevfiles = []\n",
    "    for root, dirs, files in os.walk(outdir, topdown=False):\n",
    "        for f in files:\n",
    "            prevfiles += [root+f]\n",
    "            \n",
    "    for freq in range(len(freqs)):\n",
    "        data = [frame for frame in core.G3File(file)]\n",
    "        \n",
    "        if 'Wpol' in data[freq].keys():\n",
    "            temppol = True\n",
    "        else:\n",
    "            temppol = False\n",
    "        global POLARIZED\n",
    "        POLARIZED = POLARIZED\n",
    "        if temppol != POLARIZED:\n",
    "            print('Wrong Polarization: ' + output_file)\n",
    "            POLARIZED = temppol\n",
    "        \n",
    "        if POLARIZED:\n",
    "            leftWeightMap = np.asarray(data[freq]['Wpol'].TT)\n",
    "            rightWeightMap = np.asarray(data[3+freq]['Wpol'].TT)\n",
    "        else:\n",
    "            leftWeightMap = np.asarray(data[freq]['Wunpol'].TT)\n",
    "            rightWeightMap = np.asarray(data[3+freq]['Wunpol'].TT)\n",
    "        \n",
    "        mapmaker.mapmakerutils.RemoveWeightModule(data[freq])\n",
    "        mapmaker.mapmakerutils.RemoveWeightModule(data[3+freq])\n",
    "        \n",
    "        for p in ['T']:\n",
    "            plotTitle = title + '_' + freqs[freq] + '_' + p\n",
    "            output_file = outdir + plotTitle + '.png'\n",
    "            \n",
    "            if (overwrite == False) and (output_file in prevfiles):\n",
    "                return\n",
    "            \n",
    "            leftMapUnweighted = data[freq][p]\n",
    "            rightMapUnweighted = data[3+freq][p]\n",
    "            sumMapUnweighted = leftMapUnweighted + rightMapUnweighted\n",
    "            diffMapUnweighted = leftMapUnweighted - rightMapUnweighted\n",
    "\n",
    "            fig, axs = plt.subplots(6, 4, figsize=(30,30))\n",
    "            fig.subplots_adjust(left=0.02, bottom=0.06, right=0.95, top=0.94, wspace=0.05)\n",
    "\n",
    "            axLWeights = axs.ravel()[0]\n",
    "            axRWeights = axs.ravel()[1]\n",
    "            axLUnweighted = axs.ravel()[4]\n",
    "            axRUnweighted = axs.ravel()[5]\n",
    "            axSumLR = axs.ravel()[6]\n",
    "            axDiffLR = axs.ravel()[7]\n",
    "            axLUnweightedLog = axs.ravel()[8]\n",
    "            axRUnweightedLog = axs.ravel()[9]\n",
    "            axLUnweightedZoom = axs.ravel()[12]\n",
    "            axRUnweightedZoom = axs.ravel()[13]\n",
    "            axSumLRZoom = axs.ravel()[14]\n",
    "            axDiffLRZoom = axs.ravel()[15]\n",
    "            axLUnweightedZoomLog = axs.ravel()[16]\n",
    "            axRUnweightedZoomLog = axs.ravel()[17]\n",
    "            axLNoise = axs.ravel()[20]\n",
    "            axRNoise = axs.ravel()[21]\n",
    "            axSumNoise = axs.ravel()[22]\n",
    "            axDiffNoise = axs.ravel()[23]\n",
    "\n",
    "            emptyaxs = [2,3,10,11,18,19]\n",
    "\n",
    "\n",
    "            SetupSubplot(fig=fig, array=leftWeightMap, ax=axLWeights, freq=freq, pos=0,\n",
    "                         title=source + ' Leftgoing Weight Map ' + freqs[freq])\n",
    "\n",
    "            SetupSubplot(fig=fig, array=rightWeightMap, ax=axRWeights, freq=freq, pos=1,\n",
    "                         title=source + ' Rightgoing Weight Map ' + freqs[freq])\n",
    "\n",
    "            SetupSubplot(fig=fig, array=leftMapUnweighted, ax=axLUnweighted, freq=freq, pos=4,\n",
    "                         title=source + ' Leftgoing ' + p + ' Map ' + freqs[freq])\n",
    "\n",
    "            SetupSubplot(fig=fig, array=rightMapUnweighted, ax=axRUnweighted, freq=freq, pos=5,\n",
    "                         title=source + ' Rightgoing ' + p + ' Map ' + freqs[freq])\n",
    "\n",
    "            SetupSubplot(fig=fig, array=sumMapUnweighted, ax=axSumLR, freq=freq, pos=6,\n",
    "                         title=source + ' Left Plus Right ' + p + ' ' + freqs[freq])\n",
    "\n",
    "            SetupSubplot(fig=fig, array=diffMapUnweighted, ax=axDiffLR, freq=freq, pos=7,\n",
    "                         title=source + ' Left Minus Right ' + p + ' ' + freqs[freq])\n",
    "\n",
    "            SetupSubplot(fig=fig, array=np.log10(np.abs(leftMapUnweighted)), ax=axLUnweightedLog, freq=freq, pos=8,\n",
    "                         title=source + ' Leftgoing Log(' + p + ') Map ' + freqs[freq])\n",
    "\n",
    "            SetupSubplot(fig=fig, array=np.log10(np.abs(rightMapUnweighted)), ax=axRUnweightedLog, freq=freq, pos=9,\n",
    "                         title=source + ' Rightgoing Log(' + p + ') Map ' + freqs[freq])\n",
    "\n",
    "            SetupSubplot(fig=fig, array=leftMapUnweighted, ax=axLUnweightedZoom, freq=freq, pos=12,\n",
    "                         title='Zoomed-In ' + source + ' Leftgoing ' + p + ' Map ' + freqs[freq],\n",
    "                         x0=300, x1=400, y0=310, y1=410)\n",
    "\n",
    "            SetupSubplot(fig=fig, array=rightMapUnweighted, ax=axRUnweightedZoom, freq=freq, pos=13,\n",
    "                         title='Zoomed-In ' + source + ' Rightgoing ' + p + ' Map ' + freqs[freq],\n",
    "                         x0=300, x1=400, y0=310, y1=410)\n",
    "\n",
    "            SetupSubplot(fig=fig, array=sumMapUnweighted, ax=axSumLRZoom, freq=freq, pos=14,\n",
    "                         title='Zoomed-In '+ source + ' Left Plus Right ' + p + ' ' + freqs[freq],\n",
    "                         x0=300, x1=400, y0=310, y1=410)\n",
    "\n",
    "            SetupSubplot(fig=fig, array=diffMapUnweighted, ax=axDiffLRZoom, freq=freq, pos=15,\n",
    "                         title='Zoomed-In ' + source + ' Left Minus Right ' + p + ' ' + freqs[freq],\n",
    "                         x0=300, x1=400, y0=310, y1=410)\n",
    "\n",
    "            SetupSubplot(fig=fig, array=np.log10(np.abs(leftMapUnweighted)), ax=axLUnweightedZoomLog, freq=freq, pos=16,\n",
    "                         title='Zoomed-In ' + source + ' Leftgoing Log(' + p + ') Map ' + freqs[freq],\n",
    "                         x0=300, x1=400, y0=310, y1=410)\n",
    "\n",
    "            SetupSubplot(fig=fig, array=np.log10(np.abs(rightMapUnweighted)), ax=axRUnweightedZoomLog, freq=freq, pos=17,\n",
    "                         title='Zoomed-In ' + source + ' Rightgoing Log(' + p + ') Map ' + freqs[freq],\n",
    "                         x0=300, x1=400, y0=310, y1=410)\n",
    "\n",
    "            SetupSubplot(fig=fig, array=leftMapUnweighted, ax=axLNoise, freq=freq, pos=20, noise=True,\n",
    "                         title=source + ' Leftgoing ' + p + ' Map (Noise) ' + freqs[freq])\n",
    "\n",
    "            SetupSubplot(fig=fig, array=rightMapUnweighted, ax=axRNoise, freq=freq, pos=21, noise=True,\n",
    "                         title=source + ' Rightgoing ' + p + ' Map (Noise) ' + freqs[freq])\n",
    "\n",
    "            SetupSubplot(fig=fig, array=sumMapUnweighted, ax=axSumNoise, freq=freq, pos=22, noise=True,\n",
    "                         title=source + ' Left Plus Right ' + p + ' (Noise) ' + freqs[freq])\n",
    "\n",
    "            SetupSubplot(fig=fig, array=diffMapUnweighted, ax=axDiffNoise, freq=freq, pos=23, noise=True,\n",
    "                         title=source + ' Left Minus Right ' + p + ' (Noise) ' + freqs[freq])\n",
    "\n",
    "            for i in emptyaxs:\n",
    "                fig.delaxes(axs.flatten()[i])\n",
    "\n",
    "            figTitle = fig.suptitle(plotTitle, fontsize = 'x-large')\n",
    "            fig.tight_layout()\n",
    "            figTitle.set_x(0.58)\n",
    "            figTitle.set_y(1.02)\n",
    "\n",
    "            if save:\n",
    "                if outdir != '':\n",
    "                    plt.savefig(output_file, bbox_inches = 'tight')\n",
    "                else:\n",
    "                    print('Plots were not saved. Please specify an output directory.')"
   ]
  },
  {
   "cell_type": "code",
   "execution_count": null,
   "metadata": {
    "scrolled": true
   },
   "outputs": [],
   "source": [
    "# Make subplots for all observations of a source\n",
    "def SubplotSource(source, pol=True, save=True, overwrite=False):\n",
    "    global SOURCE\n",
    "    global POLARIZED\n",
    "    SOURCE = source\n",
    "    POLARIZED = pol\n",
    "    \n",
    "    job_root = 'coadd_lr_0.25res'\n",
    "    if POLARIZED:\n",
    "        job_root += '_pol'\n",
    "    input_root = '/spt/user/ggeva/' + SOURCE + '/' + job_root\n",
    "    output_root = '/home/ggeva/spt3g/spt3g_software/scratch/ggeva/' + SOURCE + '/maps/' + job_root + '/'\n",
    "    \n",
    "    observations = []\n",
    "    fnames = []\n",
    "    for root, dirs, files in os.walk(input_root, topdown=False):\n",
    "        for dir in dirs:\n",
    "            observations += [dir]\n",
    "            for x, y, z in os.walk(input_root + '/' + dir, topdown=False):\n",
    "                for file in z:\n",
    "                    fnames += [x + '/' + file]\n",
    "                    \n",
    "    goodobs = observations\n",
    "    for obs in badobs:\n",
    "        goodobs = RemoveOne(goodobs, obs)\n",
    "    \n",
    "    for obs in goodobs:\n",
    "        fname = input_root + '/' + obs + '/coadd_lr_0.25res_' + obs + '.g3'\n",
    "        if fname in fnames:\n",
    "            if POLARIZED:\n",
    "                title = SOURCE + '_Coadd_LR_0.25res_pol_' + obs\n",
    "            else:\n",
    "                title = SOURCE + '_Coadd_LR_0.25res_' + obs\n",
    "            \n",
    "            CreateSubplot(file=fname, source=SOURCE, title=title, save=save, outdir=output_root, overwrite=overwrite)"
   ]
  },
  {
   "cell_type": "code",
   "execution_count": null,
   "metadata": {},
   "outputs": [],
   "source": []
  },
  {
   "cell_type": "code",
   "execution_count": null,
   "metadata": {
    "scrolled": true
   },
   "outputs": [],
   "source": [
    "# Make subplots for all observations of all sources\n",
    "Sources = ['CenA-pixelraster', 'PMNJ0210-5101-pixelraster', 'MAT5A-pixelraster', 'RCW38-pixelraster']\n",
    "\n",
    "for Src in Sources:\n",
    "    SubplotSource(Src, pol=True, save=True, overwrite=False)"
   ]
  },
  {
   "cell_type": "code",
   "execution_count": null,
   "metadata": {},
   "outputs": [],
   "source": []
  },
  {
   "cell_type": "code",
   "execution_count": null,
   "metadata": {},
   "outputs": [],
   "source": [
    "# Make subplots for coadds (mapsums) of all observations\n",
    "Sources = ['CenA-pixelraster', 'PMNJ0210-5101-pixelraster', 'MAT5A-pixelraster', 'RCW38-pixelraster']\n",
    "sources = ['cena-pixelraster', 'pmnj0210-5101-pixelraster', 'mat5a-pixelraster', 'rcw38-pixelraster']\n",
    "out_root = '/home/ggeva/spt3g/spt3g_software/scratch/ggeva/'\n",
    "mapsum_root = '/spt/user/ggeva/map_sums/'\n",
    "job_dir = '/coadd_lr_0.25res_pol/'\n",
    "\n",
    "for i in range(len(Sources)):\n",
    "    SOURCE = Sources[i]\n",
    "    fname = mapsum_root + SOURCE + job_dir + sources[i] + '_coadd_lr_0.25res_sum.g3'\n",
    "    out_dir = out_root + SOURCE + '/maps' + job_dir\n",
    "    title = SOURCE + '_Coadd_LR_0.25res_pol_Sum'\n",
    "    CreateSubplot(fname, SOURCE, title, save=True, outdir=out_dir, overwrite=False)"
   ]
  },
  {
   "cell_type": "code",
   "execution_count": null,
   "metadata": {},
   "outputs": [],
   "source": []
  },
  {
   "cell_type": "code",
   "execution_count": null,
   "metadata": {
    "scrolled": true
   },
   "outputs": [],
   "source": []
  },
  {
   "cell_type": "code",
   "execution_count": null,
   "metadata": {},
   "outputs": [],
   "source": []
  },
  {
   "cell_type": "code",
   "execution_count": null,
   "metadata": {},
   "outputs": [],
   "source": []
  },
  {
   "cell_type": "code",
   "execution_count": null,
   "metadata": {},
   "outputs": [],
   "source": []
  },
  {
   "cell_type": "code",
   "execution_count": null,
   "metadata": {
    "scrolled": true
   },
   "outputs": [],
   "source": []
  },
  {
   "cell_type": "code",
   "execution_count": null,
   "metadata": {
    "scrolled": true
   },
   "outputs": [],
   "source": []
  },
  {
   "cell_type": "code",
   "execution_count": null,
   "metadata": {},
   "outputs": [],
   "source": []
  },
  {
   "cell_type": "code",
   "execution_count": null,
   "metadata": {},
   "outputs": [],
   "source": []
  },
  {
   "cell_type": "code",
   "execution_count": null,
   "metadata": {
    "scrolled": false
   },
   "outputs": [],
   "source": []
  },
  {
   "cell_type": "code",
   "execution_count": null,
   "metadata": {},
   "outputs": [],
   "source": []
  },
  {
   "cell_type": "code",
   "execution_count": null,
   "metadata": {},
   "outputs": [],
   "source": []
  },
  {
   "cell_type": "code",
   "execution_count": null,
   "metadata": {},
   "outputs": [],
   "source": []
  },
  {
   "cell_type": "code",
   "execution_count": null,
   "metadata": {},
   "outputs": [],
   "source": []
  },
  {
   "cell_type": "code",
   "execution_count": null,
   "metadata": {},
   "outputs": [],
   "source": []
  },
  {
   "cell_type": "code",
   "execution_count": null,
   "metadata": {},
   "outputs": [],
   "source": []
  },
  {
   "cell_type": "code",
   "execution_count": null,
   "metadata": {},
   "outputs": [],
   "source": []
  },
  {
   "cell_type": "code",
   "execution_count": null,
   "metadata": {},
   "outputs": [],
   "source": []
  },
  {
   "cell_type": "code",
   "execution_count": null,
   "metadata": {},
   "outputs": [],
   "source": []
  },
  {
   "cell_type": "code",
   "execution_count": null,
   "metadata": {},
   "outputs": [],
   "source": []
  },
  {
   "cell_type": "code",
   "execution_count": null,
   "metadata": {},
   "outputs": [],
   "source": []
  },
  {
   "cell_type": "code",
   "execution_count": null,
   "metadata": {},
   "outputs": [],
   "source": []
  },
  {
   "cell_type": "code",
   "execution_count": null,
   "metadata": {},
   "outputs": [],
   "source": []
  }
 ],
 "metadata": {
  "kernelspec": {
   "display_name": "Python 3 (v2)",
   "language": "python",
   "name": "python3-v2"
  },
  "language_info": {
   "codemirror_mode": {
    "name": "ipython",
    "version": 3
   },
   "file_extension": ".py",
   "mimetype": "text/x-python",
   "name": "python",
   "nbconvert_exporter": "python",
   "pygments_lexer": "ipython3",
   "version": "3.6.1"
  }
 },
 "nbformat": 4,
 "nbformat_minor": 2
}
