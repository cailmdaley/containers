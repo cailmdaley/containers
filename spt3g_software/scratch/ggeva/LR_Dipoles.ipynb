{
 "cells": [
  {
   "cell_type": "code",
   "execution_count": null,
   "metadata": {},
   "outputs": [],
   "source": [
    "%matplotlib notebook"
   ]
  },
  {
   "cell_type": "code",
   "execution_count": null,
   "metadata": {},
   "outputs": [],
   "source": [
    "import sys\n",
    "sys.path.append('/home/ggeva/spt3g/spt3g_software/build')\n",
    "import os\n",
    "from spt3g import core, std_processing, mapmaker, dfmux, calibration, todfilter, coordinateutils, timestreamflagging, util\n",
    "from spt3g.coordinateutils.coordsysmodules import FillCoordTransRotations\n",
    "import numpy as np\n",
    "import pylab as plt\n",
    "import matplotlib.image as mgimg\n",
    "from astropy import units\n",
    "from astropy.coordinates import SkyCoord"
   ]
  },
  {
   "cell_type": "code",
   "execution_count": null,
   "metadata": {},
   "outputs": [],
   "source": [
    "# Measures the sizes of LR dipoles (in T) for one .g3 file across all three frequency bands.\n",
    "# Returns total separations (degrees), separation times (seconds),\n",
    "# RA seprations (degrees), and separation times assuming only scanning in RA (seconds).\n",
    "def MeasureDipole(file, scanspeed):\n",
    "    cmins = []\n",
    "    cmaxs = []\n",
    "    seps = []\n",
    "    septimes=[]\n",
    "    raseps=[]\n",
    "    raseptimes=[]\n",
    "    data = [frame for frame in core.G3File(file)]\n",
    "    freqs = ['90GHz','150GHz','220GHz']\n",
    "    for freq in range(len(freqs)):\n",
    "        leftTMapUnweighted = mapmaker.mapmakerutils.remove_weight_t(data[freq]['T'], data[freq]['Wpol'])\n",
    "        rightTMapUnweighted = mapmaker.mapmakerutils.remove_weight_t(data[3+freq]['T'], data[3+freq]['Wpol'])\n",
    "        diffTMapUnweighted = leftTMapUnweighted - rightTMapUnweighted\n",
    "\n",
    "        diffArr=np.asarray(diffTMapUnweighted)\n",
    "        y = []\n",
    "        for j in range(len(diffArr)):\n",
    "            if 299 < j < 400:\n",
    "                x = []\n",
    "                for i in range(len(diffArr[j])):\n",
    "                    if 299 < i < 400:\n",
    "                        x += [diffArr[j][i]]\n",
    "                y += [x]\n",
    "        diffArrZoom = np.asarray(y)\n",
    "\n",
    "        for j in range(len(diffArrZoom)):\n",
    "            for i in range(len(diffArrZoom[j])):\n",
    "                if diffArrZoom[j][i] == diffArrZoom.min():\n",
    "                    min = [i+330,j+330]\n",
    "                elif diffArrZoom[j][i] == diffArrZoom.max():\n",
    "                    max = [i+330,j+330]\n",
    "\n",
    "        minRa, minDec = diffTMapUnweighted.pixel_to_angle(min[0], min[1])\n",
    "        maxRa, maxDec = diffTMapUnweighted.pixel_to_angle(max[0], max[1])\n",
    "        cmin = SkyCoord(ra=minRa*units.radian, dec=minDec*units.radian)\n",
    "        cmax = SkyCoord(ra=maxRa*units.radian, dec=maxDec*units.radian)\n",
    "        cmins += [cmin]\n",
    "        cmaxs += [cmax]\n",
    "        seps += [cmin.separation(cmax)]\n",
    "        septimes += [seps[freq].deg/scanspeed]\n",
    "        raseps += [cmaxs[freq].ra - cmins[freq].ra]\n",
    "        raseptimes += [raseps[freq].deg/scanspeed]\n",
    "        \n",
    "    return seps, septimes, raseps, raseptimes"
   ]
  },
  {
   "cell_type": "code",
   "execution_count": null,
   "metadata": {},
   "outputs": [],
   "source": [
    "# Measure the LR dipoles for coadds of all four (pixelraster) sources\n",
    "scanspeed = 0.4 # Default scanning speed for pixelraster observations\n",
    "Sources = ['CenA-pixelraster', 'PMNJ0210-5101-pixelraster', 'MAT5A-pixelraster', 'RCW38-pixelraster']\n",
    "sources = ['cena-pixelraster', 'pmnj0210-5101-pixelraster', 'mat5a-pixelraster', 'rcw38-pixelraster']\n",
    "out_root = '/home/ggeva/spt3g/spt3g_software/scratch/ggeva/'\n",
    "mapsum_root = '/spt/user/ggeva/map_sums/'\n",
    "job_dir = '/coadd_lr_0.25res_pol/'\n",
    "\n",
    "seps = []\n",
    "septimes = []\n",
    "raseps = []\n",
    "raseptimes = []\n",
    "for i in range(len(Sources)):\n",
    "    fname = mapsum_root + Sources[i] + job_dir + sources[i] + '_coadd_lr_0.25res_sum.g3'\n",
    "    sep, septime, rasep, raseptime = MeasureDipole(fname, scanspeed)\n",
    "    seps += [sep]\n",
    "    septimes += [septime]\n",
    "    raseps += [rasep]\n",
    "    raseptimes += [raseptime]"
   ]
  },
  {
   "cell_type": "code",
   "execution_count": null,
   "metadata": {},
   "outputs": [],
   "source": [
    "# Show the measurements for one source\n",
    "for i in range(len(Sources)):\n",
    "    print('Source: ', Sources[i])\n",
    "    print('Separation: ', seps[i])\n",
    "    print('Separation (time): ', septimes[i])\n",
    "    print('RA Separation: ', raseps[i])\n",
    "    print('RA Separation (time): ', raseptimes[i], '\\n')"
   ]
  },
  {
   "cell_type": "code",
   "execution_count": null,
   "metadata": {},
   "outputs": [],
   "source": []
  }
 ],
 "metadata": {
  "kernelspec": {
   "display_name": "Python 3 (v2)",
   "language": "python",
   "name": "python3-v2"
  },
  "language_info": {
   "codemirror_mode": {
    "name": "ipython",
    "version": 3
   },
   "file_extension": ".py",
   "mimetype": "text/x-python",
   "name": "python",
   "nbconvert_exporter": "python",
   "pygments_lexer": "ipython3",
   "version": "3.6.1"
  }
 },
 "nbformat": 4,
 "nbformat_minor": 2
}
