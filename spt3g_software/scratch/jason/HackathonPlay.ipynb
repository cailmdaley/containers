{
 "cells": [
  {
   "cell_type": "code",
   "execution_count": null,
   "metadata": {
    "collapsed": false
   },
   "outputs": [],
   "source": [
    "%pylab notebook"
   ]
  },
  {
   "cell_type": "code",
   "execution_count": null,
   "metadata": {
    "collapsed": true
   },
   "outputs": [],
   "source": [
    "import spt3g\n",
    "from spt3g import core, dfmux"
   ]
  },
  {
   "cell_type": "code",
   "execution_count": null,
   "metadata": {
    "collapsed": false
   },
   "outputs": [],
   "source": [
    "for frame in core.G3File('/spt/data/bolodata/downsampled/calibrator/3009897/0000.g3'):\n",
    "    print(frame)\n",
    "    #print(frame.type)\n",
    "    #print(frame.keys())"
   ]
  },
  {
   "cell_type": "code",
   "execution_count": null,
   "metadata": {
    "collapsed": true
   },
   "outputs": [],
   "source": [
    "frames = list(core.G3File('/spt/data/bolodata/downsampled/calibrator/3009897/0000.g3'))"
   ]
  },
  {
   "cell_type": "code",
   "execution_count": null,
   "metadata": {
    "collapsed": false
   },
   "outputs": [],
   "source": [
    "len(frames)"
   ]
  },
  {
   "cell_type": "code",
   "execution_count": null,
   "metadata": {
    "collapsed": true
   },
   "outputs": [],
   "source": [
    "scan = frames[-1]"
   ]
  },
  {
   "cell_type": "code",
   "execution_count": null,
   "metadata": {
    "collapsed": false
   },
   "outputs": [],
   "source": [
    "scan.keys()"
   ]
  },
  {
   "cell_type": "code",
   "execution_count": null,
   "metadata": {
    "collapsed": false
   },
   "outputs": [],
   "source": [
    "ts = frames[-1]['RawTimestreams_I']['W136/2017.W136.5.4.7.912']"
   ]
  },
  {
   "cell_type": "code",
   "execution_count": null,
   "metadata": {
    "collapsed": false
   },
   "outputs": [],
   "source": [
    "ts.sample_rate / core.G3Units.Hz"
   ]
  },
  {
   "cell_type": "code",
   "execution_count": null,
   "metadata": {
    "collapsed": true
   },
   "outputs": [],
   "source": [
    "cal = scan['CalibratorOn']"
   ]
  },
  {
   "cell_type": "code",
   "execution_count": null,
   "metadata": {
    "collapsed": false
   },
   "outputs": [],
   "source": [
    "scan['CalibratorOn'].sample_rate / core.G3Units.Hz"
   ]
  },
  {
   "cell_type": "code",
   "execution_count": null,
   "metadata": {
    "collapsed": false
   },
   "outputs": [],
   "source": [
    "figure()\n",
    "hz = scan['CalibratorOn'].sample_rate / core.G3Units.Hz\n",
    "times = np.arange(len(scan['CalibratorOn'])) / hz\n",
    "plot(times, scan['CalibratorOn'], '.')\n",
    "ylim(-0.1,1.1)"
   ]
  },
  {
   "cell_type": "code",
   "execution_count": null,
   "metadata": {
    "collapsed": false
   },
   "outputs": [],
   "source": [
    "figure()\n",
    "pad = 10\n",
    "plot(times[pad:-pad], scan['RawTimestreams_I']['W136/2017.W136.5.4.7.912'][pad:-pad], '.')"
   ]
  },
  {
   "cell_type": "code",
   "execution_count": null,
   "metadata": {
    "collapsed": false
   },
   "outputs": [],
   "source": [
    "figure()\n",
    "psd(ts[pad:-pad], Fs=hz, NFFT=2**10, window=window_hanning, detrend='linear');"
   ]
  },
  {
   "cell_type": "code",
   "execution_count": null,
   "metadata": {
    "collapsed": false
   },
   "outputs": [],
   "source": [
    "figure()\n",
    "psd(cal[pad:-pad], Fs=hz, NFFT=2**10, window=window_hanning, detrend='linear');"
   ]
  },
  {
   "cell_type": "code",
   "execution_count": null,
   "metadata": {
    "collapsed": false
   },
   "outputs": [],
   "source": [
    "scan['DfMuxHousekeeping'].keys()"
   ]
  },
  {
   "cell_type": "code",
   "execution_count": null,
   "metadata": {
    "collapsed": false
   },
   "outputs": [],
   "source": [
    "boardinfo = scan['DfMuxHousekeeping'][156]"
   ]
  },
  {
   "cell_type": "code",
   "execution_count": null,
   "metadata": {
    "collapsed": false
   },
   "outputs": [],
   "source": [
    "list(boardinfo.temperatures.iteritems())"
   ]
  },
  {
   "cell_type": "code",
   "execution_count": null,
   "metadata": {
    "collapsed": true
   },
   "outputs": [],
   "source": [
    "dfmux.HousekeepingForBolo?"
   ]
  },
  {
   "cell_type": "code",
   "execution_count": null,
   "metadata": {
    "collapsed": false
   },
   "outputs": [],
   "source": [
    "hkmap = scan['DfMuxHousekeeping']\n",
    "wiringmap = frames[1][\"WiringMap\"]\n",
    "bolo = 'W136/2017.W136.5.4.7.912'\n",
    "(board, mezz, module, channel) = dfmux.HousekeepingForBolo(hkmap, wiringmap, bolo, all_hk=True)"
   ]
  },
  {
   "cell_type": "code",
   "execution_count": null,
   "metadata": {
    "collapsed": false
   },
   "outputs": [],
   "source": [
    "(channel.carrier_amplitude, channel.state)"
   ]
  },
  {
   "cell_type": "code",
   "execution_count": null,
   "metadata": {
    "collapsed": false
   },
   "outputs": [],
   "source": [
    "def get_calibrator_freq(caltimestream):\n",
    "    # Convert to and from Hz for easy printing/plotting/debugging\n",
    "    hz = caltimestream.sample_rate / core.G3Units.Hz\n",
    "    freqs = np.fft.rfftfreq(len(caltimestream)) * hz\n",
    "    rfft = np.fft.rfft(caltimestream-np.mean(caltimestream))\n",
    "    freq = freqs[np.argmax(rfft)] # in Hz\n",
    "    return freq * core.G3Units.Hz\n",
    "\n",
    "def get_response_at_freq(bolotimestream, freq, pad=10):\n",
    "    bolotimestream = bolotimestream[pad:-pad] # lop off the first and last few samples\n",
    "    freqs = np.fft.rfftfreq(len(bolotimestream)) * bolotimestream.sample_rate\n",
    "    freqindex = np.argmin( np.abs(freqs-freq) )\n",
    "    modts = matplotlib.mlab.detrend_linear(bolotimestream) * np.hanning(len(bolotimestream))\n",
    "    rfft = np.fft.rfft(modts)\n",
    "    response = np.abs(rfft[freqindex])\n",
    "    return response\n",
    "\n",
    "class TunedCalResponse(object):\n",
    "    def __init__(self, output='CalibratorResponse'):\n",
    "        self.wiringmap = None\n",
    "        self.output = output\n",
    "        self.responses = None\n",
    "    def __call__(self, frame):\n",
    "        #print(frame)\n",
    "        if frame.type == core.G3FrameType.Wiring:\n",
    "            self.wiringmap = frame['WiringMap']\n",
    "        if frame.type == core.G3FrameType.Scan:\n",
    "            hkmap = frame['DfMuxHousekeeping']\n",
    "            calibrator_freq = get_calibrator_freq(frame['CalibratorOn'])\n",
    "            print('calibrator_freq:', calibrator_freq / core.G3Units.Hz)\n",
    "            frame['CalibratorResponse'] = core.G3MapDouble()\n",
    "            for bolo in frame['RawTimestreams_I'].keys():\n",
    "                hkmap = frame['DfMuxHousekeeping']\n",
    "                status = dfmux.HousekeepingForBolo(hkmap, self.wiringmap, bolo)\n",
    "                #if status.state == 'tuned':\n",
    "                if status.carrier_amplitude != 0.0:\n",
    "                    resp = get_response_at_freq(frame['RawTimestreams_I'][bolo], calibrator_freq)\n",
    "                    #print(bolo, resp)\n",
    "                    frame['CalibratorResponse'][bolo] = resp\n",
    "            self.responses = frame['CalibratorResponse']"
   ]
  },
  {
   "cell_type": "code",
   "execution_count": null,
   "metadata": {
    "collapsed": false
   },
   "outputs": [],
   "source": [
    "pipe = core.G3Pipeline()\n",
    "pipe.Add(core.G3Reader, filename='/spt/data/bolodata/downsampled/calibrator/3009897/0000.g3')\n",
    "tunedcalresponse = TunedCalResponse()\n",
    "pipe.Add(tunedcalresponse)\n",
    "pipe.Run()"
   ]
  },
  {
   "cell_type": "code",
   "execution_count": null,
   "metadata": {
    "collapsed": false
   },
   "outputs": [],
   "source": [
    "responses = np.asarray(tunedcalresponse.responses.values())"
   ]
  },
  {
   "cell_type": "code",
   "execution_count": null,
   "metadata": {
    "collapsed": false
   },
   "outputs": [],
   "source": [
    "figure()\n",
    "minresp = np.percentile(responses, 1)\n",
    "maxresp = np.percentile(responses, 99)\n",
    "hist(np.log10(responses[(responses>=minresp)*(responses<=maxresp)]), bins=100);"
   ]
  },
  {
   "cell_type": "code",
   "execution_count": null,
   "metadata": {
    "collapsed": true
   },
   "outputs": [],
   "source": []
  }
 ],
 "metadata": {
  "kernelspec": {
   "display_name": "Python 3",
   "language": "python",
   "name": "python3"
  },
  "language_info": {
   "codemirror_mode": {
    "name": "ipython",
    "version": 3
   },
   "file_extension": ".py",
   "mimetype": "text/x-python",
   "name": "python",
   "nbconvert_exporter": "python",
   "pygments_lexer": "ipython3",
   "version": "3.5.2"
  }
 },
 "nbformat": 4,
 "nbformat_minor": 1
}
