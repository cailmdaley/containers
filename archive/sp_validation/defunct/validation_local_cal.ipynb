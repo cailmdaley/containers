{
 "cells": [
  {
   "cell_type": "markdown",
   "metadata": {},
   "source": [
    "# Weak-lensing galaxy shape catalogue validation\n",
    "\n",
    "### Local calibration\n",
    "\n",
    "Version 06/05/2021\n",
    "\n",
    "Includes\n",
    "- PSF residuals\n",
    "- PSF to galaxy shapes leakage\n",
    "- Additive shear bias\n",
    "- Convergence E- and B-modes\n",
    "- Cluster lensing"
   ]
  },
  {
   "cell_type": "markdown",
   "metadata": {},
   "source": [
    "## Set-up"
   ]
  },
  {
   "cell_type": "code",
   "execution_count": null,
   "metadata": {},
   "outputs": [],
   "source": [
    "import sys\n",
    "import os\n",
    "import numpy as np\n",
    "\n",
    "import shapepipe\n",
    "from shapepipe.utilities.canfar import download"
   ]
  },
  {
   "cell_type": "code",
   "execution_count": null,
   "metadata": {},
   "outputs": [],
   "source": [
    "#from sp_validation.basic import *\n",
    "from sp_validation.plot_style import *\n",
    "\n",
    "from scipy import ndimage as ndi\n",
    "from scipy import signal\n",
    "\n",
    "from lenspack import peaks\n",
    "from lenspack.peaks import find_peaks2d\n",
    "from mpl_toolkits.axes_grid1 import make_axes_locatable\n",
    "import seaborn as sns\n",
    "\n",
    "import pandas as pd"
   ]
  },
  {
   "cell_type": "code",
   "execution_count": null,
   "metadata": {},
   "outputs": [],
   "source": [
    "# The following commands will be replaced by import instructions, once the sp_validation scripts are stable\n",
    "\n",
    "#sp_val = '{}/astro/repositories/github/sp_validation/sp_validation'.format(os.environ['HOME'])\n",
    "sp_val = '{}/sp_validation/sp_validation'.format(os.environ['HOME'])\n",
    "\n",
    "for sc in ['survey', 'params', 'io','basic']:\n",
    "    script = os.path.join(sp_val, sc)\n",
    "    %run $script"
   ]
  },
  {
   "cell_type": "markdown",
   "metadata": {},
   "source": [
    "### Load parameters"
   ]
  },
  {
   "cell_type": "markdown",
   "metadata": {},
   "source": [
    "### Output files and directories"
   ]
  },
  {
   "cell_type": "code",
   "execution_count": null,
   "metadata": {},
   "outputs": [],
   "source": [
    "make_out_dirs(plot_dir, plot_subdirs, verbose=verbose)\n",
    "stats_file = open_stats_file(plot_dir, stats_file_name)"
   ]
  },
  {
   "cell_type": "markdown",
   "metadata": {},
   "source": [
    "## Load data\n",
    "\n",
    "### Load merged (final) galaxy catalogue"
   ]
  },
  {
   "cell_type": "code",
   "execution_count": null,
   "metadata": {},
   "outputs": [],
   "source": [
    "print(galaxy_cat_path)"
   ]
  },
  {
   "cell_type": "code",
   "execution_count": null,
   "metadata": {},
   "outputs": [],
   "source": [
    "dd = np.load(galaxy_cat_path, mmap_mode=None)"
   ]
  },
  {
   "cell_type": "markdown",
   "metadata": {},
   "source": [
    "#### Print some quantities to check nothing obvious is wrong with catalogue"
   ]
  },
  {
   "cell_type": "code",
   "execution_count": null,
   "metadata": {
    "scrolled": true
   },
   "outputs": [],
   "source": [
    "# Print all column names\n",
    "print('Galaxy cat column names:')\n",
    "print(dd.dtype.names)\n",
    "print()\n",
    "\n",
    "# Mean ellipticity looks reasonable, no `nan`?\n",
    "print('Mean gal ellipticity =', dd['NGMIX_ELL_NOSHEAR'].mean(axis=0))\n",
    "\n",
    "# Total number of objects\n",
    "n_tot_dd = len(dd)\n",
    "print('Total number of objects = {} = {:.2f} Mio'.format(n_tot_dd, n_tot_dd / 1e6))"
   ]
  },
  {
   "cell_type": "markdown",
   "metadata": {},
   "source": [
    "#### Survey area and potential missing tiles\n",
    "The approximate observed area is the number of tiles $\\times$ 0.25 deg$^2$ (ignoring overlaps and masking)."
   ]
  },
  {
   "cell_type": "code",
   "execution_count": null,
   "metadata": {},
   "outputs": [],
   "source": [
    "area_deg2, area_amin2, tile_IDs = get_area(dd, area_tile, verbose=verbose)"
   ]
  },
  {
   "cell_type": "markdown",
   "metadata": {},
   "source": [
    "Identify missing tiles by comparing tile ID from catalogue to external input tile ID file."
   ]
  },
  {
   "cell_type": "code",
   "execution_count": null,
   "metadata": {},
   "outputs": [],
   "source": [
    "n_found, n_missing = missing_tiles(tile_IDs, path_tile_ID, path_missing_ID, verbose=verbose)"
   ]
  },
  {
   "cell_type": "markdown",
   "metadata": {},
   "source": [
    "### Load star catalogue"
   ]
  },
  {
   "cell_type": "code",
   "execution_count": null,
   "metadata": {},
   "outputs": [],
   "source": [
    "d_star = fits.getdata('./P3X/psf_validation_merged/psf_cat_full.fits', 1)"
   ]
  },
  {
   "cell_type": "code",
   "execution_count": null,
   "metadata": {},
   "outputs": [],
   "source": [
    "print('Star cat column names:')\n",
    "print(d_star.dtype.names)\n",
    "print()\n",
    "\n",
    "print('Mean PSF ellipticity = ({:.3g}, {:.3g})'\n",
    "      ''.format(np.mean(d_star['E1_PSF_HSM']), np.mean(d_star['E2_PSF_HSM'])))\n",
    "\n",
    "print('Number of objects = ', len(d_star))"
   ]
  },
  {
   "cell_type": "markdown",
   "metadata": {},
   "source": [
    "# Data"
   ]
  },
  {
   "cell_type": "markdown",
   "metadata": {},
   "source": [
    "## Matching of star catalogues\n",
    "Match the star catalogue `d_star` (selected on individual exposures using size-magnitude diagram) to the stars identified on tiles by shape measurement algorithms.\n",
    "\n",
    "This is mainly for testing, this match will not be used later."
   ]
  },
  {
   "cell_type": "markdown",
   "metadata": {},
   "source": [
    "### Match to all objects"
   ]
  },
  {
   "cell_type": "code",
   "execution_count": null,
   "metadata": {},
   "outputs": [],
   "source": [
    "# Filter stars outside footprint for efficiency\n",
    "mask_area_tiles = get_mask_footprint_P3(d_star['RA'], d_star['DEC'])\n",
    "\n",
    "# Maximum distance in degrees for matching\n",
    "thresh = 0.0002\n",
    "\n",
    "# Match stars from exposure (PSF) catalogue to total catalogue\n",
    "ind_star = match_stars2(dd['XWIN_WORLD'], dd['YWIN_WORLD'], d_star['RA'][mask_area_tiles],\n",
    "                        d_star['DEC'][mask_area_tiles], thresh=thresh)\n",
    "msg = 'Number of matched stars from exposures to total catalogue = {} = {:.1f}%' \\\n",
    "      ''.format(len(ind_star), len(ind_star) / len(d_star['RA'][mask_area_tiles])*100)\n",
    "print_stats(msg, stats_file, verbose=verbose)\n",
    "\n",
    "# Testing\n",
    "ind_star_test = match_stars2(dd['XWIN_WORLD'], dd['YWIN_WORLD'], d_star['RA'], d_star['DEC'], thresh=thresh)\n",
    "print('[ Check: #stars without removing tiles outside footprint = {} ]'.format(len(ind_star_test)))\n",
    "\n",
    "# Remove stars matched to more than one target object\n",
    "ind_star = np.array(list(set(ind_star)))\n",
    "\n",
    "msg = 'Number of matched stars after removing multuple matches = {} = {:.1f}%' \\\n",
    "      ''.format(len(ind_star), len(ind_star) / len(d_star['RA'][mask_area_tiles])*100)\n",
    "print_stats(msg, stats_file)"
   ]
  },
  {
   "cell_type": "markdown",
   "metadata": {},
   "source": [
    "#### Refine: match to ngmix star sample"
   ]
  },
  {
   "cell_type": "code",
   "execution_count": null,
   "metadata": {},
   "outputs": [],
   "source": [
    "# Flags to indicate ngmix star sample\n",
    "m_star_ngmix = (dd['FLAGS'][ind_star] == 0) & \\\n",
    "               (dd['IMAFLAGS_ISO'][ind_star] == 0) & \\\n",
    "               (dd['NGMIX_MCAL_FLAGS'][ind_star] == 0) & \\\n",
    "               (dd['NGMIX_ELL_PSFo_NOSHEAR'][:,0][ind_star] != -10)\n",
    "\n",
    "msg = 'Number of stars matched to ngmix star sample = {} = {:.1f}%' \\\n",
    "      ''.format(len(dd['FLAGS'][ind_star][m_star_ngmix]),\n",
    "                len(dd['FLAGS'][ind_star][m_star_ngmix]) / len(d_star['RA'][mask_area_tiles])*100)\n",
    "print_stats(msg, stats_file, verbose=verbose)\n",
    "\n",
    "g_star_psf_ngmix = np.array([dd['NGMIX_ELL_PSFo_NOSHEAR'][:,0][ind_star][m_star_ngmix], dd['NGMIX_ELL_PSFo_NOSHEAR'][:,1][ind_star][m_star_ngmix]])\n",
    "ra_star_ngmix = dd['XWIN_WORLD'][ind_star][m_star_ngmix]\n",
    "dec_star_ngmix = dd['YWIN_WORLD'][ind_star][m_star_ngmix]"
   ]
  },
  {
   "cell_type": "markdown",
   "metadata": {},
   "source": [
    "#### Objects with invalid PSF"
   ]
  },
  {
   "cell_type": "code",
   "execution_count": null,
   "metadata": {},
   "outputs": [],
   "source": [
    "n_all = len(dd)\n",
    "\n",
    "w = dd['NGMIX_ELL_PSFo_NOSHEAR'][:,0] == -10\n",
    "n_inv_psf = len(np.where(w)[0])\n",
    "print('Invalid PSF shear found for {}/{} = {:.1g}% objects'.format(n_inv_psf, n_all, n_inv_psf / n_all))\n",
    "\n",
    "w = dd['NGMIX_ELL_NOSHEAR'][:,0] == -10\n",
    "n_inv_gal = len(np.where(w)[0])\n",
    "print('Invalid galaxy shear found for {}/{} = {:.1g}% objects'\n",
    "      ''.format(n_inv_gal, n_all, n_inv_gal / n_all))"
   ]
  },
  {
   "cell_type": "markdown",
   "metadata": {},
   "source": [
    "#### Star galsim"
   ]
  },
  {
   "cell_type": "code",
   "execution_count": null,
   "metadata": {},
   "outputs": [],
   "source": [
    "msg = \"Number of star matched : {}  ( {:.2f}% )\".format(len(ind_star), len(ind_star)/len(d_star['RA'][mask_area_tiles])*100)\n",
    "print_stats(msg, stats_file, verbose=verbose)\n",
    "\n",
    "m_star_galsim = (dd['FLAGS'][ind_star] == 0) & (dd['IMAFLAGS_ISO'][ind_star] == 0) \\\n",
    "          & (dd['GALSIM_PSF_ELL_ORIGINAL_PSF'][:,0][ind_star] != -10)\n",
    "\n",
    "msg = \"Number of star after removing repetition : {}\".format(len(dd['FLAGS'][ind_star][m_star_galsim]))\n",
    "print_stats(msg, stats_file, verbose=verbose)\n",
    "\n",
    "g_star_psf_galsim = np.array([dd['GALSIM_PSF_ELL_ORIGINAL_PSF'][:,0][ind_star][m_star_galsim], dd['GALSIM_PSF_ELL_ORIGINAL_PSF'][:,1][ind_star][m_star_galsim]])\n",
    "ra_star_galsim = dd['XWIN_WORLD'][ind_star][m_star_galsim]\n",
    "dec_star_galsim = dd['YWIN_WORLD'][ind_star][m_star_galsim]\n",
    "\n",
    "msg = \"Number of star matched : {}  ( {:.2f}% )\\n\".format(len(ind_star), len(ind_star)/len(d_star['RA'][mask_area_tiles])*100)\n",
    "print_stats(msg, stats_file, verbose=verbose)"
   ]
  },
  {
   "cell_type": "markdown",
   "metadata": {},
   "source": [
    "#### Stat stars ngmix"
   ]
  },
  {
   "cell_type": "code",
   "execution_count": null,
   "metadata": {},
   "outputs": [],
   "source": [
    "tot_star = len(ra_star_ngmix)\n",
    "tot_as_star = len(np.where(dd['SPREAD_CLASS'][ind_star][m_star_ngmix] == 0)[0])\n",
    "tot_as_gal = len(np.where(dd['SPREAD_CLASS'][ind_star][m_star_ngmix] == 1)[0])\n",
    "tot_as_other = len(np.where(dd['SPREAD_CLASS'][ind_star][m_star_ngmix] == 2)[0])\n",
    "print(\"Star (single_selection) as star (spread_model) : {:.3f}%\".format(tot_as_star/tot_star*100))\n",
    "print(\"Star (single_selection) as gal (spread_model) : {:.3f}%\".format(tot_as_gal/tot_star*100))\n",
    "print(\"Star (single_selection) as other (spread_model) : {:.3f}%\".format(tot_as_other/tot_star*100))\n",
    "stats_file.write(\"Star (single_selection) as star (spread_model) : {:.3f}%\\n\".format(tot_as_star/tot_star*100))\n",
    "stats_file.write(\"Star (single_selection) as gal (spread_model) : {:.3f}%\\n\".format(tot_as_gal/tot_star*100))\n",
    "dummy = stats_file.write(\"Star (single_selection) as other (spread_model) : {:.3f}%\\n\".format(tot_as_other/tot_star*100))"
   ]
  },
  {
   "cell_type": "markdown",
   "metadata": {},
   "source": [
    "#### Stat stars galsim"
   ]
  },
  {
   "cell_type": "code",
   "execution_count": null,
   "metadata": {},
   "outputs": [],
   "source": [
    "tot_star = len(ra_star_galsim)\n",
    "tot_as_star = len(np.where(dd['SPREAD_CLASS'][ind_star][m_star_galsim] == 0)[0])\n",
    "tot_as_gal = len(np.where(dd['SPREAD_CLASS'][ind_star][m_star_galsim] == 1)[0])\n",
    "tot_as_other = len(np.where(dd['SPREAD_CLASS'][ind_star][m_star_galsim] == 2)[0])\n",
    "print(\"Star (single_selection) as star (spread_model) : {:.3f}%\".format(tot_as_star/tot_star*100))\n",
    "print(\"Star (single_selection) as gal (spread_model) : {:.3f}%\".format(tot_as_gal/tot_star*100))\n",
    "print(\"Star (single_selection) as other (spread_model) : {:.3f}%\".format(tot_as_other/tot_star*100))\n",
    "stats_file.write(\"Star (single_selection) as star (spread_model) : {:.3f}%\\n\".format(tot_as_star/tot_star*100))\n",
    "stats_file.write(\"Star (single_selection) as gal (spread_model) : {:.3f}%\\n\".format(tot_as_gal/tot_star*100))\n",
    "dummy = stats_file.write(\"Star (single_selection) as other (spread_model) : {:.3f}%\\n\".format(tot_as_other/tot_star*100))"
   ]
  },
  {
   "cell_type": "markdown",
   "metadata": {},
   "source": [
    "### Select galaxies"
   ]
  },
  {
   "cell_type": "markdown",
   "metadata": {},
   "source": [
    "#### Galxies ngmix"
   ]
  },
  {
   "cell_type": "code",
   "execution_count": null,
   "metadata": {},
   "outputs": [],
   "source": [
    "sm_classif = dd['SPREAD_MODEL']+2*dd['SPREADERR_MODEL']\n",
    "m_gal_ngmix = \\\n",
    "    (sm_classif > 0.0035) \\\n",
    "    & (dd['SPREAD_MODEL'] > 0.) \\\n",
    "    & (dd['SPREAD_MODEL'] < 0.03) \\\n",
    "    & (dd['MAG_AUTO'] < 26) \\\n",
    "    & (dd['MAG_AUTO'] > 20) \\\n",
    "    & (dd['FLAGS'] == 0) \\\n",
    "    & (dd['IMAFLAGS_ISO'] == 0) \\\n",
    "    & (dd['NGMIX_MCAL_FLAGS'] == 0) \\\n",
    "    & (dd['NGMIX_ELL_PSFo_NOSHEAR'][:,0] != -10) \\\n",
    "    & (dd['NGMIX_MOM_FAIL'] == 0) \\\n",
    "    & (dd['N_EPOCH'] > 0) \\\n",
    "    & (dd['NGMIX_N_EPOCH'] > 0)\n",
    "print('Objects selected as galaxies = {}'.format(len(np.where(m_gal_ngmix)[0])))"
   ]
  },
  {
   "cell_type": "markdown",
   "metadata": {},
   "source": [
    "#### Galaxies galsim"
   ]
  },
  {
   "cell_type": "code",
   "execution_count": null,
   "metadata": {},
   "outputs": [],
   "source": [
    "sm_classif = dd['SPREAD_MODEL']+2*dd['SPREADERR_MODEL']\n",
    "#m_gal = (dd['SPREAD_CLASS'] == 1) & (dd['SPREAD_MODEL'] > 0.)  (dd['MAG_AUTO'] > 20)   ((dd['FLAGS'] == 0) | (dd['FLAGS'] == 2))\n",
    "m_gal_galsim = (sm_classif > 0.0035) & (dd['SPREAD_MODEL'] > 0.) & (dd['SPREAD_MODEL'] < 0.03) \\\n",
    "        & (dd['MAG_AUTO'] < 26) & (dd['MAG_AUTO'] > 20) \\\n",
    "        & (dd['FLAGS'] == 0) & (dd['IMAFLAGS_ISO'] == 0) \\\n",
    "        & (dd['GALSIM_PSF_ELL_ORIGINAL_PSF'][:,0] != -10) \\\n",
    "        & (dd['N_EPOCH'] > 0)"
   ]
  },
  {
   "cell_type": "markdown",
   "metadata": {},
   "source": [
    "### Compile metacal for galaxies  \n",
    "\n",
    "Masking : Flags == 0   &   $\\frac{T_{gal}}{T_{psf}}$ > 0.5   &   SNR > 10   &   SNR < 500"
   ]
  },
  {
   "cell_type": "markdown",
   "metadata": {},
   "source": [
    "#### Ngmix"
   ]
  },
  {
   "cell_type": "markdown",
   "metadata": {},
   "source": [
    "Global calibration"
   ]
  },
  {
   "cell_type": "code",
   "execution_count": null,
   "metadata": {
    "scrolled": true
   },
   "outputs": [],
   "source": [
    "gal_metacal_ngmix = metacal(dd, m_gal_ngmix)"
   ]
  },
  {
   "cell_type": "code",
   "execution_count": null,
   "metadata": {},
   "outputs": [],
   "source": [
    "g_ngmix = np.array([gal_metacal_ngmix.ns['g1'][gal_metacal_ngmix.mask_dict['ns']], gal_metacal_ngmix.ns['g2'][gal_metacal_ngmix.mask_dict['ns']]])\n",
    "g_corr_ngmix = np.linalg.inv(gal_metacal_ngmix.R).dot(g_ngmix)\n",
    "w_ngmix = gal_metacal_ngmix.ns['w'][gal_metacal_ngmix.mask_dict['ns']]\n",
    "ra_ngmix = dd['XWIN_WORLD'][m_gal_ngmix][gal_metacal_ngmix.mask_dict['ns']]\n",
    "dec_ngmix = dd['YWIN_WORLD'][m_gal_ngmix][gal_metacal_ngmix.mask_dict['ns']]\n",
    "mag_ngmix = dd['MAG_AUTO'][m_gal_ngmix][gal_metacal_ngmix.mask_dict['ns']]\n",
    "snr_ngmix = dd['NGMIX_FLUX_NOSHEAR'][m_gal_ngmix][gal_metacal_ngmix.mask_dict['ns']]/dd['NGMIX_FLUX_ERR_NOSHEAR'][m_gal_ngmix][gal_metacal_ngmix.mask_dict['ns']]"
   ]
  },
  {
   "cell_type": "code",
   "execution_count": null,
   "metadata": {},
   "outputs": [],
   "source": [
    "print(np.sqrt(np.var(g_ngmix[0])+np.var(g_ngmix[1])))\n",
    "print(np.sqrt(R_shear_moy[0,0]*(np.var(g_corr_ngmix[0])+np.var(g_corr_ngmix[1]))))"
   ]
  },
  {
   "cell_type": "code",
   "execution_count": null,
   "metadata": {},
   "outputs": [],
   "source": [
    "np.save('./P3X/var_save/mag_ngmix.npy',mag_ngmix)\n",
    "np.save('./P3X/var_save/snr_ngmix.npy',snr_ngmix)"
   ]
  },
  {
   "cell_type": "code",
   "execution_count": null,
   "metadata": {},
   "outputs": [],
   "source": [
    "ra_ngmix = np.load('./P3X/var_save/ra_ngmix.npy')\n",
    "dec_ngmix = np.load('./P3X/var_save/dec_ngmix.npy')\n",
    "w_ngmix = np.load('./P3X/var_save/w_ngmix.npy')\n"
   ]
  },
  {
   "cell_type": "code",
   "execution_count": null,
   "metadata": {},
   "outputs": [],
   "source": [
    "# R matrix and std needed\n",
    "R_shear_moy = np.mean(gal_metacal_ngmix.R_shear,2)\n",
    "R_shear_moy_std = gal_metacal_ngmix.R_shear_std\n",
    "R_selec_moy = gal_metacal_ngmix.R_selection\n",
    "R_selec_moy_std = gal_metacal_ngmix.R_selection_std\n",
    "R_tot_moy = gal_metacal_ngmix.R"
   ]
  },
  {
   "cell_type": "code",
   "execution_count": null,
   "metadata": {},
   "outputs": [],
   "source": [
    "R_shear_moy = np.load('./P3X/var_save/R_shear_moy.npy')\n",
    "R_shear_moy_std = np.load('./P3X/var_save/R_shear_moy_std.npy')\n",
    "R_selec_moy = np.load('./P3X/var_save/R_selec_moy.npy')\n",
    "R_selec_moy_std  = np.load('./P3X/var_save/R_selec_moy_std.npy')\n",
    "R_tot_moy = np.load('./P3X/var_save/R_tot_moy.npy')"
   ]
  },
  {
   "cell_type": "code",
   "execution_count": null,
   "metadata": {},
   "outputs": [],
   "source": [
    "# Quantity for correlation matrix\n",
    "# PSF\n",
    "Psf1 = dd['NGMIX_ELL_PSFo_NOSHEAR'][:,0][m_gal_ngmix][gal_metacal_ngmix.mask_dict['ns']]\n",
    "Psf2 = dd['NGMIX_ELL_PSFo_NOSHEAR'][:,1][m_gal_ngmix][gal_metacal_ngmix.mask_dict['ns']]\n",
    "module_psf = np.sqrt(Psf1**2 + Psf2**2)\n",
    "\n",
    "# Size gal\n",
    "size_gal = dd['NGMIX_T_NOSHEAR'][m_gal_ngmix][gal_metacal_ngmix.mask_dict['ns']]\n",
    "\n",
    "# N epoch\n",
    "nepoch = dd['NGMIX_N_EPOCH'][m_gal_ngmix][gal_metacal_ngmix.mask_dict['ns']]\n",
    "\n",
    "# Mag\n",
    "mag = dd['MAG_AUTO'][m_gal_ngmix][gal_metacal_ngmix.mask_dict['ns']]\n",
    "\n",
    "# snr\n",
    "snr_win = dd['SNR_WIN'][m_gal_ngmix][gal_metacal_ngmix.mask_dict['ns']]\n",
    "\n",
    "# taille psf\n",
    "t_psf = dd['NGMIX_Tpsf_NOSHEAR'][m_gal_ngmix][gal_metacal_ngmix.mask_dict['ns']]"
   ]
  },
  {
   "cell_type": "markdown",
   "metadata": {},
   "source": [
    "#### Local calibration"
   ]
  },
  {
   "cell_type": "code",
   "execution_count": null,
   "metadata": {},
   "outputs": [],
   "source": [
    "# Projection (rad,dec) -> (x,y)\n",
    "x, y = radec2xy(np.mean(dd['XWIN_WORLD']), np.mean(dd['YWIN_WORLD']), dd['XWIN_WORLD'], dd['YWIN_WORLD'])"
   ]
  },
  {
   "cell_type": "code",
   "execution_count": null,
   "metadata": {},
   "outputs": [],
   "source": [
    "# Define mix, max and size\n",
    "min_x = np.min(x)\n",
    "max_x = np.max(x)\n",
    "min_y = np.min(y)\n",
    "max_y = np.max(y)\n",
    "\n",
    "size_x = max_x - min_x\n",
    "size_y = max_y - min_y"
   ]
  },
  {
   "cell_type": "code",
   "execution_count": null,
   "metadata": {},
   "outputs": [],
   "source": [
    "print('size ra in deg',np.rad2deg(size_x))\n",
    "print('size dec in deg',np.rad2deg(size_y))"
   ]
  },
  {
   "cell_type": "code",
   "execution_count": null,
   "metadata": {},
   "outputs": [],
   "source": [
    "# W3\n",
    "#extend_x = 12-8.614568497714435\n",
    "#extend_y = 8-7.192988571604766\n",
    "\n",
    "#P3\n",
    "extend_x = 36-34.643958374949605\n",
    "extend_y = 20-17.71186344852433"
   ]
  },
  {
   "cell_type": "code",
   "execution_count": null,
   "metadata": {},
   "outputs": [],
   "source": [
    "# Extend\n",
    "max_x = max_x + np.deg2rad(extend_x)\n",
    "max_y = max_y + np.deg2rad(extend_y)\n",
    "size_x = max_x - min_x \n",
    "size_y = max_y - min_y\n",
    "\n",
    "# Check that new size is ok\n",
    "print(np.rad2deg(size_x))\n",
    "print(np.rad2deg(size_y))"
   ]
  },
  {
   "cell_type": "code",
   "execution_count": null,
   "metadata": {},
   "outputs": [],
   "source": [
    "size_deg_x = 36 #P3\n",
    "size_deg_y = 20\n",
    "\n",
    "#size_deg_x = 12 #W3\n",
    "#size_deg_y = 8\n",
    "\n",
    "reso = 0.4"
   ]
  },
  {
   "cell_type": "code",
   "execution_count": null,
   "metadata": {},
   "outputs": [],
   "source": [
    "# Size in pixel\n",
    "Nx = int(size_deg_x*60/reso)\n",
    "Ny = int(size_deg_y*60/reso)\n",
    "print(Nx,Ny)"
   ]
  },
  {
   "cell_type": "code",
   "execution_count": null,
   "metadata": {},
   "outputs": [],
   "source": [
    "# Project (ra,dec) -> (x,y)\n",
    "xx, yy = radec2xy(np.mean(ra_ngmix), np.mean(dec_ngmix), ra_ngmix, dec_ngmix)"
   ]
  },
  {
   "cell_type": "code",
   "execution_count": null,
   "metadata": {},
   "outputs": [],
   "source": [
    "xx = np.load('./P3X/var_save/xx.npy')\n",
    "yy = np.load('./P3X/var_save/yy.npy')"
   ]
  },
  {
   "cell_type": "code",
   "execution_count": null,
   "metadata": {},
   "outputs": [],
   "source": [
    "# Additive bias\n",
    "c1_ngmix, err_c1_ngmix = jackknif_weighted_average(g_corr_ngmix[0], w_ngmix, remove_size=0.05, n_realization=500)\n",
    "c2_ngmix, err_c2_ngmix = jackknif_weighted_average(g_corr_ngmix[1], w_ngmix, remove_size=0.05, n_realization=500)"
   ]
  },
  {
   "cell_type": "code",
   "execution_count": null,
   "metadata": {},
   "outputs": [],
   "source": [
    "c1_ngmix = np.load('./P3X/var_save/c1_ngmix.npy')\n",
    "err_c1_ngmix = np.load('./P3X/var_save/err_c1_ngmix.npy')\n",
    "c2_ngmix = np.load('./P3X/var_save/c2_ngmix.npy')\n",
    "err_c2_ngmix = np.load('./P3X/var_save/err_c2_ngmix.npy')"
   ]
  },
  {
   "cell_type": "code",
   "execution_count": null,
   "metadata": {},
   "outputs": [],
   "source": [
    "def local_calib(npix_x,npix_y,dm,sigm):\n",
    "    g1_final = np.array([])\n",
    "    g2_final = np.array([])\n",
    "    g1_final_dm = np.array([])\n",
    "    g2_final_dm = np.array([])\n",
    "    R_selec = np.zeros((2,2,npix_y,npix_x))\n",
    "    R_shear = np.zeros((2,2,npix_y,npix_x))\n",
    "    ra_ngmix2 = np.array([])\n",
    "    dec_ngmix2 = np.array([])\n",
    "    R_selec_std = np.zeros((2,2,npix_y,npix_x))\n",
    "    R_shear_std = np.zeros((2,2,npix_y,npix_x))\n",
    "    c1_ngmix_cut = np.zeros((npix_y,npix_x))\n",
    "    c2_ngmix_cut = np.zeros((npix_y,npix_x))\n",
    "    err_c1_ngmix_cut = np.zeros((npix_y,npix_x))\n",
    "    err_c2_ngmix_cut = np.zeros((npix_y,npix_x))\n",
    "    \n",
    "    ngal = bin2d(xx, yy, npix=(npix_x,npix_y),extent=(min_x,max_x,min_y,max_y))\n",
    "\n",
    "    # Cut the catalogue into subpatches -> dd_cut\n",
    "    for i in range(npix_x):\n",
    "        for j in range(npix_y):\n",
    "            if(i==npix_x and j!=npix_y):\n",
    "                dd_cut = dd[np.where((x >= min_x + (i*size_x/npix_x)) & (x <= max_x) \\\n",
    "                                     & (y >= min_y + (j*size_y/npix_y)) & (y < min_y + ((j+1)*size_y/npix_y)))]\n",
    "            elif(j==npix_x and i!=npix_y):\n",
    "                dd_cut = dd[np.where((x >= min_x + (i*size_x/npix_x)) & (x < min_x + ((i+1)*size_x/npix_x)) \\\n",
    "                                     & (y >= min_y + (j*size_y/npix_y)) & (y <= max_y))] \n",
    "            elif(j==npix_x and i==npix_y):\n",
    "                dd_cut = dd[np.where((x >= min_x + (i*size_x/npix_x)) & (x <= max_x) \\\n",
    "                                     & (y >= min_y + (j*size_y/npix_y)) & (y <= max_y ))]\n",
    "            else:\n",
    "                dd_cut = dd[np.where((x >= min_x + (i*size_x/npix_x)) & (x < min_x + ((i+1)*size_x/npix_x)) \\\n",
    "                                     & (y >= min_y + (j*size_y/npix_y)) & (y < min_y + ((j+1)*size_y/npix_y)))]\n",
    "        \n",
    "            # Mask of dd_cut\n",
    "            sm_classif_cut = dd_cut['SPREAD_MODEL']+2*dd_cut['SPREADERR_MODEL']\n",
    "            m_gal_ngmix_cut = \\\n",
    "                (sm_classif_cut > 0.0035) \\\n",
    "                & (dd_cut['SPREAD_MODEL'] > 0.) \\\n",
    "                & (dd_cut['SPREAD_MODEL'] < 0.03) \\\n",
    "                & (dd_cut['MAG_AUTO'] < 26) \\\n",
    "                & (dd_cut['MAG_AUTO'] > 20) \\\n",
    "                & (dd_cut['FLAGS'] == 0) \\\n",
    "                & (dd_cut['IMAFLAGS_ISO'] == 0) \\\n",
    "                & (dd_cut['NGMIX_MCAL_FLAGS'] == 0) \\\n",
    "                & (dd_cut['NGMIX_ELL_PSFo_NOSHEAR'][:,0] != -10) \\\n",
    "                & (dd_cut['NGMIX_MOM_FAIL'] == 0) \\\n",
    "                & (dd_cut['N_EPOCH'] > 0) \\\n",
    "                & (dd_cut['NGMIX_N_EPOCH'] > 0)\n",
    "            print('Objects selected as galaxies = {}'.format(len(np.where(m_gal_ngmix_cut)[0])))\n",
    "\n",
    "            # Apply metacal to dd_cut\n",
    "            gal_metacal_ngmix_cut = metacal(dd_cut, m_gal_ngmix_cut)\n",
    "        \n",
    "            # Save ra & dec to keep the order        \n",
    "            ra_ngmix_temp = dd_cut['XWIN_WORLD'][m_gal_ngmix_cut][gal_metacal_ngmix_cut.mask_dict['ns']]\n",
    "            ra_ngmix2 = np.concatenate((ra_ngmix2,ra_ngmix_temp))\n",
    "            dec_ngmix_temp = dd_cut['YWIN_WORLD'][m_gal_ngmix_cut][gal_metacal_ngmix_cut.mask_dict['ns']]\n",
    "            dec_ngmix2 = np.concatenate((dec_ngmix2,dec_ngmix_temp))\n",
    "            \n",
    "            w_ngmix_cut = gal_metacal_ngmix_cut.ns['w'][gal_metacal_ngmix_cut.mask_dict['ns']]\n",
    "        \n",
    "            g_ngmix_cut = np.array([gal_metacal_ngmix_cut.ns['g1'][gal_metacal_ngmix_cut.mask_dict['ns']], gal_metacal_ngmix_cut.ns['g2'][gal_metacal_ngmix_cut.mask_dict['ns']]])\n",
    "        \n",
    "            # If numver of galaxy is ok, metacal local\n",
    "            if (ngal[j,i] > (np.mean(ngal))/2):\n",
    "                g_corr_ngmix_cut = np.linalg.inv(gal_metacal_ngmix_cut.R).dot(g_ngmix_cut)\n",
    "                \n",
    "                # Add of delta m \n",
    "                R_dm = gal_metacal_ngmix_cut.R + np.ones((2,2))*(dm + np.random.normal(0, sigm))\n",
    "                g_corr_ngmix_cut_dm = np.linalg.inv(R_dm).dot(g_ngmix_cut)\n",
    "                \n",
    "                # Additive bias\n",
    "                c1_ngmix_cut[j,i], err_c1_ngmix_cut[j,i] = jackknif_weighted_average2(g_corr_ngmix_cut[0], w_ngmix_cut, remove_size=0.05, n_realization=500)\n",
    "                c2_ngmix_cut[j,i], err_c2_ngmix_cut[j,i] = jackknif_weighted_average2(g_corr_ngmix_cut[1], w_ngmix_cut, remove_size=0.05, n_realization=500)\n",
    "                \n",
    "                # Save R matrix and std\n",
    "                R_selec[:,:,j,i] = gal_metacal_ngmix_cut.R_selection\n",
    "                R_shear[:,:,j,i] = np.mean(gal_metacal_ngmix_cut.R_shear,2)\n",
    "                R_selec_std[:,:,j,i] = gal_metacal_ngmix_cut.R_selection_std\n",
    "                R_shear_std[:,:,j,i] = gal_metacal_ngmix_cut.R_shear_std\n",
    "                                \n",
    "            # If low number of galaxy, we use value of globaal metacal\n",
    "            else:\n",
    "                g_corr_ngmix_cut = np.linalg.inv(R_tot_moy).dot(g_ngmix_cut)\n",
    "                R_dm = R_tot_moy + np.ones((2,2))*(dm + np.random.normal(0, sigm))\n",
    "                g_corr_ngmix_cut_dm = np.linalg.inv(R_dm).dot(g_ngmix_cut)\n",
    "                \n",
    "                c1_ngmix_cut[j,i] = c1_ngmix\n",
    "                err_c1_ngmix_cut[j,i] = err_c1_ngmix\n",
    "                c2_ngmix_cut[j,i] = c2_ngmix\n",
    "                err_c2_ngmix_cut[j,i] = err_c2_ngmix\n",
    "            \n",
    "                R_selec[:,:,j,i] = R_selec_moy\n",
    "                R_shear[:,:,j,i] = R_shear_moy\n",
    "                R_selec_std[:,:,j,i] = R_selec_moy_std\n",
    "                R_shear_std[:,:,j,i] = R_shear_moy_std\n",
    "                             \n",
    "            g1_final = np.concatenate((g1_final, g_corr_ngmix_cut[0]))  \n",
    "            g2_final = np.concatenate((g2_final, g_corr_ngmix_cut[1]))\n",
    "            g1_final_dm = np.concatenate((g1_final_dm, g_corr_ngmix_cut_dm[0]))  \n",
    "            g2_final_dm = np.concatenate((g2_final_dm, g_corr_ngmix_cut_dm[1]))\n",
    "            \n",
    "    return g1_final, g2_final, g1_final_dm, g2_final_dm, R_selec, R_shear, ra_ngmix2, dec_ngmix2, R_selec_std, R_shear_std,c1_ngmix_cut,c2_ngmix_cut,err_c1_ngmix_cut,err_c2_ngmix_cut"
   ]
  },
  {
   "cell_type": "code",
   "execution_count": null,
   "metadata": {},
   "outputs": [],
   "source": [
    "# Apply local metacal, with different cutting size : 1 px = 0.25, 0.5, 1, 2, 4 square degree"
   ]
  },
  {
   "cell_type": "markdown",
   "metadata": {},
   "source": [
    "With dm = 0.007 (Axel's simulations)"
   ]
  },
  {
   "cell_type": "code",
   "execution_count": null,
   "metadata": {
    "scrolled": true
   },
   "outputs": [],
   "source": [
    "g1_final_05deg, g2_final_05deg, g1_final_dm_05deg, g2_final_dm_05deg, R_selec_05deg, R_shear_05deg, ra_ngmix2_05deg, dec_ngmix2_05deg, R_selec_std_05deg, R_shear_std_05deg,c1_ngmix_05deg,c2_ngmix_05deg,err_c1_ngmix_05deg,err_c2_ngmix_05deg = local_calib(size_deg_x*2,size_deg_y*2,0.007,0)"
   ]
  },
  {
   "cell_type": "code",
   "execution_count": null,
   "metadata": {},
   "outputs": [],
   "source": [
    "g1_final_025deg, g2_final_025deg, g1_final_dm_025deg, g2_final_dm_025deg, R_selec_025deg, R_shear_025deg, ra_ngmix2_025deg, dec_ngmix2_025deg, R_selec_std_025deg, R_shear_std_025deg,c1_ngmix_025deg,c2_ngmix_025deg,err_c1_ngmix_025deg,err_c2_ngmix_025deg = local_calib(size_deg_x*4,size_deg_y*4,0.007,0)"
   ]
  },
  {
   "cell_type": "code",
   "execution_count": null,
   "metadata": {},
   "outputs": [],
   "source": [
    "g1_final_1deg, g2_final_1deg, g1_final_dm_1deg, g2_final_dm_1deg, R_selec_1deg, R_shear_1deg, ra_ngmix2_1deg, dec_ngmix2_1deg, R_selec_std_1deg, R_shear_std_1deg,c1_ngmix_1deg,c2_ngmix_1deg,err_c1_ngmix_1deg,err_c2_ngmix_1deg = local_calib(size_deg_x,size_deg_y,0.007,0)"
   ]
  },
  {
   "cell_type": "code",
   "execution_count": null,
   "metadata": {},
   "outputs": [],
   "source": [
    "g1_final_2deg, g2_final_2deg, g1_final_dm_2deg, g2_final_dm_2deg, R_selec_2deg, R_shear_2deg, ra_ngmix2_2deg, dec_ngmix2_2deg, R_selec_std_2deg, R_shear_std_2deg,c1_ngmix_2deg,c2_ngmix_2deg,err_c1_ngmix_2deg,err_c2_ngmix_2deg = local_calib(int(size_deg_x/2),int(size_deg_y/2),0.007,0)"
   ]
  },
  {
   "cell_type": "code",
   "execution_count": null,
   "metadata": {
    "scrolled": true
   },
   "outputs": [],
   "source": [
    "g1_final_4deg, g2_final_4deg, g1_final_dm_4deg, g2_final_dm_4deg, R_selec_4deg, R_shear_4deg, ra_ngmix2_4deg, dec_ngmix2_4deg, R_selec_std_4deg, R_shear_std_4deg,c1_ngmix_4deg,c2_ngmix_4deg,err_c1_ngmix_4deg,err_c2_ngmix_4deg = local_calib(int(size_deg_x/4),int(size_deg_y/4),0.007,0)"
   ]
  },
  {
   "cell_type": "code",
   "execution_count": null,
   "metadata": {},
   "outputs": [],
   "source": [
    "# Load some previous data saved for plot, correlation matrix,...\n",
    "c1_ngmix_1deg = np.load('./P3X/var_save/dm_0_013/c1_ngmix_1deg.npy')\n",
    "c2_ngmix_1deg = np.load('./P3X/var_save/dm_0_013/c2_ngmix_1deg.npy')\n",
    "err_c1_ngmix_1deg = np.load('./P3X/var_save/dm_0_013/err_c1_ngmix_1deg.npy')\n",
    "err_c2_ngmix_1deg = np.load('./P3X/var_save/dm_0_013/err_c2_ngmix_1deg.npy')\n",
    "c1_ngmix_2deg = np.load('./P3X/var_save/dm_0_013/c1_ngmix_2deg.npy')\n",
    "c2_ngmix_2deg = np.load('./P3X/var_save/dm_0_013/c2_ngmix_2deg.npy')\n",
    "err_c1_ngmix_2deg = np.load('./P3X/var_save/dm_0_013/err_c1_ngmix_2deg.npy')\n",
    "err_c2_ngmix_2deg = np.load('./P3X/var_save/dm_0_013/err_c2_ngmix_2deg.npy')\n",
    "c1_ngmix_4deg = np.load('./P3X/var_save/dm_0_013/c1_ngmix_4deg.npy')\n",
    "c2_ngmix_4deg = np.load('./P3X/var_save/dm_0_013/c2_ngmix_4deg.npy')\n",
    "err_c1_ngmix_4deg = np.load('./P3X/var_save/dm_0_013/err_c1_ngmix_4deg.npy')\n",
    "err_c2_ngmix_4deg = np.load('./P3X/var_save/dm_0_013/err_c2_ngmix_4deg.npy')\n",
    "c1_ngmix_05deg = np.load('./P3X/var_save/dm_0_013/c1_ngmix_05deg.npy')\n",
    "c2_ngmix_05deg = np.load('./P3X/var_save/dm_0_013/c2_ngmix_05deg.npy')\n",
    "err_c1_ngmix_05deg = np.load('./P3X/var_save/dm_0_013/err_c1_ngmix_05deg.npy')\n",
    "err_c2_ngmix_05deg = np.load('./P3X/var_save/dm_0_013/err_c2_ngmix_05deg.npy')\n",
    "c1_ngmix_025deg = np.load('./P3X/var_save/dm_0_013/c1_ngmix_025deg.npy')\n",
    "c2_ngmix_025deg = np.load('./P3X/var_save/dm_0_013/c2_ngmix_025deg.npy')\n",
    "err_c1_ngmix_025deg = np.load('./P3X/var_save/dm_0_013/err_c1_ngmix_025deg.npy')\n",
    "err_c2_ngmix_025deg = np.load('./P3X/var_save/dm_0_013/err_c2_ngmix_025deg.npy')\n",
    "\n",
    "c1_ngmix = np.load('./P3X/var_save/c1_ngmix.npy')\n",
    "c2_ngmix = np.load('./P3X/var_save/c2_ngmix.npy')\n",
    "\n",
    "R_selec_1deg = np.load('./P3X/var_save/dm_0_013/R_selec_1deg.npy')\n",
    "R_selec_2deg = np.load('./P3X/var_save/dm_0_013/R_selec_2deg.npy')\n",
    "R_selec_4deg = np.load('./P3X/var_save/dm_0_013/R_selec_4deg.npy')\n",
    "R_selec_05deg = np.load('./P3X/var_save/dm_0_013/R_selec_05deg.npy')\n",
    "R_selec_025deg = np.load('./P3X/var_save/dm_0_013/R_selec_025deg.npy')\n",
    "R_shear_1deg = np.load('./P3X/var_save/dm_0_013/R_shear_1deg.npy')\n",
    "R_shear_2deg = np.load('./P3X/var_save/dm_0_013/R_shear_2deg.npy')\n",
    "R_shear_4deg = np.load('./P3X/var_save/dm_0_013/R_shear_4deg.npy')\n",
    "R_shear_05deg = np.load('./P3X/var_save/dm_0_013/R_shear_05deg.npy')\n",
    "R_shear_025deg = np.load('./P3X/var_save/dm_0_013/R_shear_025deg.npy')"
   ]
  },
  {
   "cell_type": "code",
   "execution_count": null,
   "metadata": {},
   "outputs": [],
   "source": [
    "plt.figure(figsize=(74,45))\n",
    "plt.subplot(5,4,1)\n",
    "ax = plt.gca()\n",
    "im = ax.imshow(c1_ngmix_025deg)\n",
    "plt.title(r'$c_1$',fontsize=50)\n",
    "divider = make_axes_locatable(ax)\n",
    "plt.yticks(fontsize=32)\n",
    "plt.xticks(fontsize=32)\n",
    "cax = divider.append_axes(\"right\", size=\"5%\", pad=0.1)\n",
    "plt.colorbar(im,cax=cax)\n",
    "plt.yticks(fontsize=35)\n",
    "\n",
    "plt.subplot(5,4,2)\n",
    "ax = plt.gca()\n",
    "im = ax.imshow(err_c1_ngmix_025deg)\n",
    "plt.title(r'err $c_1$',fontsize=50)\n",
    "divider = make_axes_locatable(ax)\n",
    "plt.yticks(fontsize=32)\n",
    "plt.xticks(fontsize=32)\n",
    "cax = divider.append_axes(\"right\", size=\"5%\", pad=0.1)\n",
    "plt.colorbar(im,cax=cax)\n",
    "plt.yticks(fontsize=35)\n",
    "\n",
    "plt.subplot(5,4,3)\n",
    "ax = plt.gca()\n",
    "im = ax.imshow(c2_ngmix_025deg)\n",
    "plt.title(r'$c_2$',fontsize=50)\n",
    "divider = make_axes_locatable(ax)\n",
    "plt.yticks(fontsize=32)\n",
    "plt.xticks(fontsize=32)\n",
    "cax = divider.append_axes(\"right\", size=\"5%\", pad=0.1)\n",
    "plt.colorbar(im,cax=cax)\n",
    "plt.yticks(fontsize=35)\n",
    "\n",
    "plt.subplot(5,4,4)\n",
    "ax = plt.gca()\n",
    "im = ax.imshow(err_c2_ngmix_025deg)\n",
    "plt.title(r'err $c_2$',fontsize=50)\n",
    "divider = make_axes_locatable(ax)\n",
    "plt.yticks(fontsize=32)\n",
    "plt.xticks(fontsize=32)\n",
    "cax = divider.append_axes(\"right\", size=\"5%\", pad=0.1)\n",
    "plt.colorbar(im,cax=cax)\n",
    "plt.yticks(fontsize=35)\n",
    "\n",
    "plt.subplot(5,4,5)\n",
    "ax = plt.gca()\n",
    "im = ax.imshow(c1_ngmix_05deg)\n",
    "divider = make_axes_locatable(ax)\n",
    "plt.yticks(fontsize=32)\n",
    "plt.xticks(fontsize=32)\n",
    "cax = divider.append_axes(\"right\", size=\"5%\", pad=0.1)\n",
    "plt.colorbar(im,cax=cax)\n",
    "plt.yticks(fontsize=35)\n",
    "\n",
    "plt.subplot(5,4,6)\n",
    "ax = plt.gca()\n",
    "im = ax.imshow(err_c1_ngmix_05deg)\n",
    "divider = make_axes_locatable(ax)\n",
    "plt.yticks(fontsize=32)\n",
    "plt.xticks(fontsize=32)\n",
    "cax = divider.append_axes(\"right\", size=\"5%\", pad=0.1)\n",
    "plt.colorbar(im,cax=cax)\n",
    "plt.yticks(fontsize=35)\n",
    "\n",
    "plt.subplot(5,4,7)\n",
    "ax = plt.gca()\n",
    "im = ax.imshow(c2_ngmix_05deg)\n",
    "divider = make_axes_locatable(ax)\n",
    "plt.yticks(fontsize=32)\n",
    "plt.xticks(fontsize=32)\n",
    "cax = divider.append_axes(\"right\", size=\"5%\", pad=0.1)\n",
    "plt.colorbar(im,cax=cax)\n",
    "plt.yticks(fontsize=35)\n",
    "\n",
    "plt.subplot(5,4,8)\n",
    "ax = plt.gca()\n",
    "im = ax.imshow(err_c2_ngmix_05deg)\n",
    "divider = make_axes_locatable(ax)\n",
    "plt.yticks(fontsize=32)\n",
    "plt.xticks(fontsize=32)\n",
    "cax = divider.append_axes(\"right\", size=\"5%\", pad=0.1)\n",
    "plt.colorbar(im,cax=cax)\n",
    "plt.yticks(fontsize=35)\n",
    "\n",
    "plt.subplot(5,4,9)\n",
    "ax = plt.gca()\n",
    "im = ax.imshow(c1_ngmix_1deg)\n",
    "divider = make_axes_locatable(ax)\n",
    "plt.yticks(fontsize=32)\n",
    "plt.xticks(fontsize=32)\n",
    "cax = divider.append_axes(\"right\", size=\"5%\", pad=0.1)\n",
    "plt.colorbar(im,cax=cax)\n",
    "plt.yticks(fontsize=35)\n",
    "\n",
    "plt.subplot(5,4,10)\n",
    "ax = plt.gca()\n",
    "im = ax.imshow(err_c1_ngmix_1deg)\n",
    "divider = make_axes_locatable(ax)\n",
    "plt.yticks(fontsize=32)\n",
    "plt.xticks(fontsize=32)\n",
    "cax = divider.append_axes(\"right\", size=\"5%\", pad=0.1)\n",
    "plt.colorbar(im,cax=cax)\n",
    "plt.yticks(fontsize=35)\n",
    "\n",
    "plt.subplot(5,4,11)\n",
    "ax = plt.gca()\n",
    "im = ax.imshow(c2_ngmix_1deg)\n",
    "divider = make_axes_locatable(ax)\n",
    "plt.yticks(fontsize=32)\n",
    "plt.xticks(fontsize=32)\n",
    "cax = divider.append_axes(\"right\", size=\"5%\", pad=0.1)\n",
    "plt.colorbar(im,cax=cax)\n",
    "plt.yticks(fontsize=35)\n",
    "\n",
    "plt.subplot(5,4,12)\n",
    "ax = plt.gca()\n",
    "im = ax.imshow(err_c2_ngmix_1deg)\n",
    "divider = make_axes_locatable(ax)\n",
    "plt.yticks(fontsize=32)\n",
    "plt.xticks(fontsize=32)\n",
    "cax = divider.append_axes(\"right\", size=\"5%\", pad=0.1)\n",
    "plt.colorbar(im,cax=cax)\n",
    "plt.yticks(fontsize=35)\n",
    "\n",
    "plt.subplot(5,4,13)\n",
    "ax = plt.gca()\n",
    "im = ax.imshow(c1_ngmix_2deg)\n",
    "divider = make_axes_locatable(ax)\n",
    "plt.yticks(fontsize=32)\n",
    "plt.xticks(fontsize=32)\n",
    "cax = divider.append_axes(\"right\", size=\"5%\", pad=0.1)\n",
    "plt.colorbar(im,cax=cax)\n",
    "plt.yticks(fontsize=35)\n",
    "\n",
    "plt.subplot(5,4,14)\n",
    "ax = plt.gca()\n",
    "im = ax.imshow(err_c1_ngmix_2deg)\n",
    "divider = make_axes_locatable(ax)\n",
    "plt.yticks(fontsize=32)\n",
    "plt.xticks(fontsize=32)\n",
    "cax = divider.append_axes(\"right\", size=\"5%\", pad=0.1)\n",
    "plt.colorbar(im,cax=cax)\n",
    "plt.yticks(fontsize=35)\n",
    "\n",
    "plt.subplot(5,4,15)\n",
    "ax = plt.gca()\n",
    "im = ax.imshow(c2_ngmix_2deg)\n",
    "divider = make_axes_locatable(ax)\n",
    "plt.yticks(fontsize=32)\n",
    "plt.xticks(fontsize=32)\n",
    "cax = divider.append_axes(\"right\", size=\"5%\", pad=0.1)\n",
    "plt.colorbar(im,cax=cax)\n",
    "plt.yticks(fontsize=35)\n",
    "\n",
    "plt.subplot(5,4,16)\n",
    "ax = plt.gca()\n",
    "im = ax.imshow(err_c2_ngmix_2deg)\n",
    "divider = make_axes_locatable(ax)\n",
    "plt.yticks(fontsize=32)\n",
    "plt.xticks(fontsize=32)\n",
    "cax = divider.append_axes(\"right\", size=\"5%\", pad=0.1)\n",
    "plt.colorbar(im,cax=cax)\n",
    "plt.yticks(fontsize=35)\n",
    "\n",
    "plt.subplot(5,4,17)\n",
    "ax = plt.gca()\n",
    "im = ax.imshow(c1_ngmix_4deg)\n",
    "divider = make_axes_locatable(ax)\n",
    "plt.yticks(fontsize=32)\n",
    "plt.xticks(fontsize=32)\n",
    "cax = divider.append_axes(\"right\", size=\"5%\", pad=0.1)\n",
    "plt.colorbar(im,cax=cax)\n",
    "plt.yticks(fontsize=35)\n",
    "\n",
    "plt.subplot(5,4,18)\n",
    "ax = plt.gca()\n",
    "im = ax.imshow(err_c1_ngmix_4deg)\n",
    "divider = make_axes_locatable(ax)\n",
    "plt.yticks(fontsize=32)\n",
    "plt.xticks(fontsize=32)\n",
    "cax = divider.append_axes(\"right\", size=\"5%\", pad=0.1)\n",
    "plt.colorbar(im,cax=cax)\n",
    "plt.yticks(fontsize=35)\n",
    "\n",
    "plt.subplot(5,4,19)\n",
    "ax = plt.gca()\n",
    "im = ax.imshow(c2_ngmix_4deg)\n",
    "divider = make_axes_locatable(ax)\n",
    "plt.yticks(fontsize=32)\n",
    "plt.xticks(fontsize=32)\n",
    "cax = divider.append_axes(\"right\", size=\"5%\", pad=0.1)\n",
    "plt.colorbar(im,cax=cax)\n",
    "plt.yticks(fontsize=35)\n",
    "\n",
    "plt.subplot(5,4,20)\n",
    "ax = plt.gca()\n",
    "im = ax.imshow(err_c2_ngmix_4deg)\n",
    "divider = make_axes_locatable(ax)\n",
    "plt.yticks(fontsize=32)\n",
    "plt.xticks(fontsize=32)\n",
    "cax = divider.append_axes(\"right\", size=\"5%\", pad=0.1)\n",
    "plt.colorbar(im,cax=cax)\n",
    "plt.yticks(fontsize=35)\n",
    "plt.savefig('./P3X/c.png',bbox_inches = 'tight',pad_inches = 0)\n",
    "plt.show()"
   ]
  },
  {
   "cell_type": "code",
   "execution_count": null,
   "metadata": {},
   "outputs": [],
   "source": [
    "plt.figure(figsize=(16,6))\n",
    "plt.hist(np.ravel(c1_ngmix_025deg),label=r'$0.25^\\circ$',histtype='step',density=True,bins=50)\n",
    "#plt.hist(np.ravel(c1_ngmix_05deg),label='1 px = 0.5° x 0.5°',histtype='step',density=True,bins=50)\n",
    "plt.hist(np.ravel(c1_ngmix_1deg),label=r'$1^\\circ$',histtype='step',density=True,bins=50)\n",
    "#plt.hist(np.ravel(c1_ngmix_2deg),label='1 px = 2° x 2°',histtype='step',density=True,bins=50)\n",
    "plt.hist(np.ravel(c1_ngmix_4deg),label=r'$4^\\circ$',histtype='step',density=True,bins=50)\n",
    "plt.axvline(x=c1_ngmix,c='k',label='global calibration')\n",
    "plt.legend(fontsize=18)\n",
    "plt.xticks(fontsize=18)\n",
    "plt.yticks(fontsize=18)\n",
    "plt.xlim(-0.02,0.02)\n",
    "plt.xlabel(r'$c_1$', fontsize=30)\n",
    "plt.savefig('./W3/c1_hist.png',bbox_inches = 'tight',pad_inches = 0.1)\n",
    "plt.show()"
   ]
  },
  {
   "cell_type": "code",
   "execution_count": null,
   "metadata": {},
   "outputs": [],
   "source": [
    "plt.figure(figsize=(16,6))\n",
    "plt.hist(np.ravel(c2_ngmix_025deg),label=r'$0.25^\\circ$',histtype='step',density=True,bins=50)\n",
    "#plt.hist(np.ravel(c2_ngmix_05deg),label='1 px = 0.5° x 0.5°',histtype='step',density=True,bins=50)\n",
    "plt.hist(np.ravel(c2_ngmix_1deg),label=r'$1^\\circ$',histtype='step',density=True,bins=50)\n",
    "#plt.hist(np.ravel(c2_ngmix_2deg),label='1 px = 2° x 2°',histtype='step',density=True,bins=50)\n",
    "plt.hist(np.ravel(c2_ngmix_4deg),label=r'$4^\\circ$',histtype='step',density=True,bins=50)\n",
    "plt.axvline(x=c2_ngmix,c='k',label='global calibration')\n",
    "plt.legend(fontsize=18)\n",
    "plt.xticks(fontsize=18)\n",
    "plt.yticks(fontsize=18)\n",
    "plt.xlim(-0.02,0.02)\n",
    "plt.xlabel(r'$c_2$', fontsize=30)\n",
    "plt.savefig('./W3/c2_hist.png',bbox_inches = 'tight',pad_inches = 0.1)\n",
    "plt.show()"
   ]
  },
  {
   "cell_type": "code",
   "execution_count": null,
   "metadata": {},
   "outputs": [],
   "source": [
    "# Binning e with global calibration\n",
    "e1map, e2map = bin2d(xx, yy, npix=(Nx,Ny), v=(g_corr_ngmix[0],g_corr_ngmix[1]),extent=(min_x,max_x,min_y,max_y))\n",
    "emap = np.array([e1map,e2map])"
   ]
  },
  {
   "cell_type": "code",
   "execution_count": null,
   "metadata": {},
   "outputs": [],
   "source": [
    "# Binning local calibration\n",
    "# Calib with 0.5 deg\n",
    "xx_025deg, yy_025deg = radec2xy(np.mean(ra_ngmix2_025deg), np.mean(dec_ngmix2_025deg), ra_ngmix2_025deg, dec_ngmix2_025deg)\n",
    "\n",
    "g1map_025deg, g2map_025deg = bin2d(xx_025deg, yy_025deg, npix=(Nx,Ny), v=(g1_final_025deg,g2_final_025deg),extent=(min_x,max_x,min_y,max_y))\n",
    "gmap_025deg = np.array([g1map_025deg,g2map_025deg])\n",
    "\n",
    "g1map_dm_025deg, g2map_dm_025deg = bin2d(xx_025deg, yy_025deg, npix=(Nx,Ny), v=(g1_final_dm_025deg,g2_final_dm_025deg),extent=(min_x,max_x,min_y,max_y))\n",
    "gmap_dm_025deg = np.array([g1map_dm_025deg,g2map_dm_025deg])\n",
    "\n",
    "# Calib with 0.5 deg\n",
    "xx_05deg, yy_05deg = radec2xy(np.mean(ra_ngmix2_05deg), np.mean(dec_ngmix2_05deg), ra_ngmix2_05deg, dec_ngmix2_05deg)\n",
    "\n",
    "g1map_05deg, g2map_05deg = bin2d(xx_05deg, yy_05deg, npix=(Nx,Ny), v=(g1_final_05deg,g2_final_05deg),extent=(min_x,max_x,min_y,max_y))\n",
    "gmap_05deg = np.array([g1map_05deg,g2map_05deg])\n",
    "\n",
    "g1map_dm_05deg, g2map_dm_05deg = bin2d(xx_05deg, yy_05deg, npix=(Nx,Ny), v=(g1_final_dm_05deg,g2_final_dm_05deg),extent=(min_x,max_x,min_y,max_y))\n",
    "gmap_dm_05deg = np.array([g1map_dm_05deg,g2map_dm_05deg])\n",
    "\n",
    "# Calib with 1 deg\n",
    "xx_1deg, yy_1deg = radec2xy(np.mean(ra_ngmix2_1deg), np.mean(dec_ngmix2_1deg), ra_ngmix2_1deg, dec_ngmix2_1deg)\n",
    "\n",
    "g1map_1deg, g2map_1deg = bin2d(xx_1deg, yy_1deg, npix=(Nx,Ny), v=(g1_final_1deg,g2_final_1deg),extent=(min_x,max_x,min_y,max_y))\n",
    "gmap_1deg = np.array([g1map_1deg,g2map_1deg])\n",
    "\n",
    "g1map_dm_1deg, g2map_dm_1deg = bin2d(xx_1deg, yy_1deg, npix=(Nx,Ny), v=(g1_final_dm_1deg,g2_final_dm_1deg),extent=(min_x,max_x,min_y,max_y))\n",
    "gmap_dm_1deg = np.array([g1map_dm_1deg,g2map_dm_1deg])\n",
    "\n",
    "# Calib with 2 deg\n",
    "xx_2deg, yy_2deg = radec2xy(np.mean(ra_ngmix2_2deg), np.mean(dec_ngmix2_2deg), ra_ngmix2_2deg, dec_ngmix2_2deg)\n",
    "\n",
    "g1map_2deg, g2map_2deg = bin2d(xx_2deg, yy_2deg, npix=(Nx,Ny), v=(g1_final_2deg,g2_final_2deg),extent=(min_x,max_x,min_y,max_y))\n",
    "gmap_2deg = np.array([g1map_2deg,g2map_2deg])\n",
    "\n",
    "g1map_dm_2deg, g2map_dm_2deg = bin2d(xx_2deg, yy_2deg, npix=(Nx,Ny), v=(g1_final_dm_2deg,g2_final_dm_2deg),extent=(min_x,max_x,min_y,max_y))\n",
    "gmap_dm_2deg = np.array([g1map_dm_2deg,g2map_dm_2deg])\n",
    "\n",
    "# Calib with 4 deg\n",
    "xx_4deg, yy_4deg = radec2xy(np.mean(ra_ngmix2_4deg), np.mean(dec_ngmix2_4deg), ra_ngmix2_4deg, dec_ngmix2_4deg)\n",
    "\n",
    "g1map_4deg, g2map_4deg = bin2d(xx_4deg, yy_4deg, npix=(Nx,Ny), v=(g1_final_4deg,g2_final_4deg),extent=(min_x,max_x,min_y,max_y))\n",
    "gmap_4deg = np.array([g1map_4deg,g2map_4deg])\n",
    "\n",
    "g1map_dm_4deg, g2map_dm_4deg = bin2d(xx_4deg, yy_4deg, npix=(Nx,Ny), v=(g1_final_dm_4deg,g2_final_dm_4deg),extent=(min_x,max_x,min_y,max_y))\n",
    "gmap_dm_4deg = np.array([g1map_dm_4deg,g2map_dm_4deg])"
   ]
  },
  {
   "cell_type": "code",
   "execution_count": null,
   "metadata": {},
   "outputs": [],
   "source": [
    "emap = np.load('./P3X/var_save/emap.npy')\n",
    "gmap_025deg = np.load('./P3X/var_save/dm_0_013/gmap_025deg.npy')\n",
    "gmap_05deg = np.load('./P3X/var_save/dm_0_013/gmap_05deg.npy')\n",
    "gmap_1deg = np.load('./P3X/var_save/dm_0_013/gmap_1deg.npy')\n",
    "gmap_2deg = np.load('./P3X/var_save/dm_0_013/gmap_2deg.npy')\n",
    "gmap_4deg = np.load('./P3X/var_save/dm_0_013/gmap_4deg.npy')"
   ]
  },
  {
   "cell_type": "code",
   "execution_count": null,
   "metadata": {},
   "outputs": [],
   "source": [
    "# Quantity for correlation : binning\n",
    "psf1map, psf2map = bin2d(xx, yy, npix=(Nx,Ny), v=(Psf1,Psf2),extent=(min_x,max_x,min_y,max_y))\n",
    "psf = np.array([psf1map,psf2map])\n",
    "\n",
    "module_psf_map, size_gal_map, nepoch_map, mag_map, snr_map, snr_ngmix_map, tpsf_map, w_ngmix_map = bin2d(xx, yy, npix=(Nx,Ny), v=(module_psf,size_gal,nepoch,mag,snr_win,snr_ngmix,t_psf,w_ngmix),extent=(min_x,max_x,min_y,max_y))"
   ]
  },
  {
   "cell_type": "code",
   "execution_count": null,
   "metadata": {},
   "outputs": [],
   "source": [
    "snr_ngmix_map = bin2d(xx, yy, npix=(Nx,Ny), v=(snr_ngmix),extent=(min_x,max_x,min_y,max_y))"
   ]
  },
  {
   "cell_type": "code",
   "execution_count": null,
   "metadata": {},
   "outputs": [],
   "source": [
    "module_psf_map = np.load('./P3X/var_save/module_psf_map.npy')\n",
    "psf1map = np.load('./P3X/var_save/psf1map.npy')\n",
    "psf2map = np.load('./P3X/var_save/psf2map.npy')\n",
    "size_gal_map = np.load('./P3X/var_save/size_gal_map.npy')\n",
    "nepoch_map = np.load('./P3X/var_save/nepoch_map.npy')\n",
    "mag_map = np.load('./P3X/var_save/mag_map.npy')\n",
    "snr_map = np.load('./P3X/var_save/snr_map.npy')\n",
    "tpsf_map = np.load('./P3X/var_save/tpsf_map.npy')\n",
    "w_ngmix_map = np.load('./P3X/var_save/w_ngmix_map.npy')\n",
    "snr_ngmix_map = np.load('./P3X/var_save/snr_ngmix_map.npy')"
   ]
  },
  {
   "cell_type": "code",
   "execution_count": null,
   "metadata": {},
   "outputs": [],
   "source": [
    "def compute_R_real_std(npix_x,npix_y,factor,R):\n",
    "    # Compute std of R with jackknife spatial\n",
    "    \n",
    "    R_real_std = np.zeros((2,2,npix_y,npix_x))\n",
    "\n",
    "    for i in range(npix_y):\n",
    "        for j in range(npix_x):\n",
    "            if (np.sum(R[0,0,factor*i:factor*(i+1),factor*j:factor*(j+1)])!=0):\n",
    "                R_real_std[0,0,i,j] = jackknif_weighted_average(np.ravel(R[0,0,factor*i:factor*(i+1),factor*j:factor*(j+1)]), np.ones_like(np.ravel(R[0,0,factor*i:factor*(i+1),factor*j:factor*(j+1)])))[1]\n",
    "            else:\n",
    "                R_real_std[0,0,i,j] = np.nan\n",
    "                \n",
    "            if (np.sum(R[1,1,factor*i:factor*(i+1),factor*j:factor*(j+1)])!=0):\n",
    "                R_real_std[1,1,i,j] = jackknif_weighted_average(np.ravel(R[1,1,factor*i:factor*(i+1),factor*j:factor*(j+1)]), np.ones_like(np.ravel(R[1,1,factor*i:factor*(i+1),factor*j:factor*(j+1)])))[1]\n",
    "            else:\n",
    "                R_real_std[1,1,i,j] = np.nan\n",
    "                \n",
    "            if (np.sum(R[0,1,factor*i:factor*(i+1),factor*j:factor*(j+1)])!=0):\n",
    "                R_real_std[0,1,i,j] = jackknif_weighted_average(np.ravel(R[0,1,factor*i:factor*(i+1),factor*j:factor*(j+1)]), np.ones_like(np.ravel(R[0,1,factor*i:factor*(i+1),factor*j:factor*(j+1)])))[1]\n",
    "            else:\n",
    "                R_real_std[0,1,i,j] = np.nan\n",
    "                \n",
    "            if (np.sum(R[1,0,factor*i:factor*(i+1),factor*j:factor*(j+1)])!=0):\n",
    "                R_real_std[1,0,i,j] = jackknif_weighted_average(np.ravel(R[1,0,factor*i:factor*(i+1),factor*j:factor*(j+1)]), np.ones_like(np.ravel(R[1,0,factor*i:factor*(i+1),factor*j:factor*(j+1)])))[1]\n",
    "            else:\n",
    "                R_real_std[1,0,i,j] = np.nan\n",
    "                \n",
    "    return R_real_std"
   ]
  },
  {
   "cell_type": "code",
   "execution_count": null,
   "metadata": {},
   "outputs": [],
   "source": [
    "# Std of R selec 1 deg thanks to 2x2 px of R selec 0.5 deg\n",
    "R_selec_real_std_1deg = compute_R_real_std(size_deg_x,size_deg_y,2,R_selec_05deg)\n",
    "\n",
    "# Std of R selec 2 deg thanks to 2x2 px of R selec 1 deg\n",
    "R_selec_real_std_2deg = compute_R_real_std(int(size_deg_x/2),int(size_deg_y/2),2,R_selec_1deg)\n",
    "\n",
    "# Std of R selec 4 deg thanks to 4x4 px of R selec 1 deg\n",
    "R_selec_real_std_4deg = compute_R_real_std(int(size_deg_x/4),int(size_deg_y/4),4,R_selec_1deg)"
   ]
  },
  {
   "cell_type": "code",
   "execution_count": null,
   "metadata": {},
   "outputs": [],
   "source": [
    "# Std of R selec 2 deg thanks to 4x4 px of R selec 0.5 deg\n",
    "R_selec_real_std_2deg_from05 = compute_R_real_std(int(size_deg_x/2),int(size_deg_y/2),4,R_selec_05deg)\n",
    "\n",
    "# Std of R selec 4 deg thanks to 8x8 px of R selec 0.5 deg\n",
    "R_selec_real_std_4deg_from05 = compute_R_real_std(int(size_deg_x/4),int(size_deg_y/4),8,R_selec_05deg)"
   ]
  },
  {
   "cell_type": "code",
   "execution_count": null,
   "metadata": {},
   "outputs": [],
   "source": [
    "# Std of R selec 05deg thanks to 2x2 px of R selec 0.25 deg\n",
    "R_selec_real_std_05deg_from025 = compute_R_real_std(size_deg_x*2,size_deg_y*2,2,R_selec_025deg)"
   ]
  },
  {
   "cell_type": "code",
   "execution_count": null,
   "metadata": {},
   "outputs": [],
   "source": [
    "# n gal needed\n",
    "#ngal_00001deg = bin2d(xx,yy,npix=(size_deg_x*10000,size_deg_y*10000),extent=(min_x,max_x,min_y,max_y))\n",
    "ngal_0001deg = bin2d(xx,yy,npix=(size_deg_x*1000,size_deg_y*1000),extent=(min_x,max_x,min_y,max_y))\n",
    "ngal_001deg = bin2d(xx,yy,npix=(size_deg_x*100,size_deg_y*100),extent=(min_x,max_x,min_y,max_y))\n",
    "ngal_01deg = bin2d(xx,yy,npix=(size_deg_x*10,size_deg_y*10),extent=(min_x,max_x,min_y,max_y))\n",
    "ngal_05deg = bin2d(xx,yy,npix=(size_deg_x*2,size_deg_y*2),extent=(min_x,max_x,min_y,max_y))\n",
    "ngal_025deg = bin2d(xx,yy,npix=(size_deg_x*4,size_deg_y*4),extent=(min_x,max_x,min_y,max_y))\n",
    "ngal_1deg = bin2d(xx,yy,npix=(size_deg_x,size_deg_y),extent=(min_x,max_x,min_y,max_y))\n",
    "ngal_2deg = bin2d(xx,yy,npix=(int(size_deg_x/2),int(size_deg_y/2)),extent=(min_x,max_x,min_y,max_y))\n",
    "ngal_4deg = bin2d(xx,yy,npix=(int(size_deg_x/4),int(size_deg_y/4)),extent=(min_x,max_x,min_y,max_y))"
   ]
  },
  {
   "cell_type": "code",
   "execution_count": null,
   "metadata": {},
   "outputs": [],
   "source": [
    "#ngal_0001deg = np.load('./P3X/var_save/ngal_0001deg.npy')\n",
    "#ngal_001deg = np.load('./P3X/var_save/ngal_001deg.npy')\n",
    "#ngal_01deg = np.load('./P3X/var_save/ngal_01deg.npy')\n",
    "ngal_05deg = np.load('./P3X/var_save/ngal_05deg.npy')\n",
    "ngal_025deg = np.load('./P3X/var_save/ngal_025deg.npy')\n",
    "ngal_1deg = np.load('./P3X/var_save/ngal_1deg.npy')\n",
    "ngal_2deg = np.load('./P3X/var_save/ngal_2deg.npy')\n",
    "ngal_4deg = np.load('./P3X/var_save/ngal_4deg.npy')"
   ]
  },
  {
   "cell_type": "code",
   "execution_count": null,
   "metadata": {},
   "outputs": [],
   "source": [
    "# Plot R_11 selec, its std, ngal\n",
    "plt.figure(figsize=(55,45))\n",
    "plt.subplot(5,3,1)\n",
    "ax = plt.gca()\n",
    "im = ax.imshow(R_selec_025deg[0,0,:,:])\n",
    "plt.title(r'$R_{selection}$',fontsize=50)\n",
    "divider = make_axes_locatable(ax)\n",
    "plt.yticks(fontsize=32)\n",
    "plt.xticks(fontsize=32)\n",
    "cax = divider.append_axes(\"right\", size=\"5%\", pad=0.1)\n",
    "plt.colorbar(im,cax=cax)\n",
    "plt.yticks(fontsize=35)\n",
    "\n",
    "plt.subplot(5,3,2)\n",
    "ax = plt.gca()\n",
    "plt.title(r'std $R_{selection}$',fontsize=50)\n",
    "plt.axis('off')\n",
    "\n",
    "plt.subplot(5,3,3)\n",
    "ax = plt.gca()\n",
    "im = ax.imshow(ngal_025deg)\n",
    "plt.title(r'n gal',fontsize=50)\n",
    "divider = make_axes_locatable(ax)\n",
    "plt.yticks(fontsize=32)\n",
    "plt.xticks(fontsize=32)\n",
    "cax = divider.append_axes(\"right\", size=\"5%\", pad=0.1)\n",
    "plt.colorbar(im,cax=cax)\n",
    "plt.yticks(fontsize=35)\n",
    "\n",
    "plt.subplot(5,3,4)\n",
    "ax = plt.gca()\n",
    "im = ax.imshow(R_selec_05deg[0,0,:,:])\n",
    "divider = make_axes_locatable(ax)\n",
    "plt.yticks(fontsize=32)\n",
    "plt.xticks(fontsize=32)\n",
    "cax = divider.append_axes(\"right\", size=\"5%\", pad=0.1)\n",
    "plt.colorbar(im,cax=cax)\n",
    "plt.yticks(fontsize=35)\n",
    "\n",
    "plt.subplot(5,3,5)\n",
    "ax = plt.gca()\n",
    "im = ax.imshow(R_selec_real_std_05deg_from025[0,0,:,:])\n",
    "divider = make_axes_locatable(ax)\n",
    "plt.yticks(fontsize=32)\n",
    "plt.xticks(fontsize=32)\n",
    "cax = divider.append_axes(\"right\", size=\"5%\", pad=0.1)\n",
    "plt.colorbar(im,cax=cax)\n",
    "plt.yticks(fontsize=35)\n",
    "\n",
    "plt.subplot(5,3,6)\n",
    "ax = plt.gca()\n",
    "im = ax.imshow(ngal_05deg)\n",
    "divider = make_axes_locatable(ax)\n",
    "plt.yticks(fontsize=32)\n",
    "plt.xticks(fontsize=32)\n",
    "cax = divider.append_axes(\"right\", size=\"5%\", pad=0.1)\n",
    "plt.colorbar(im,cax=cax)\n",
    "plt.yticks(fontsize=35)\n",
    "\n",
    "plt.subplot(5,3,7)\n",
    "ax = plt.gca()\n",
    "im = ax.imshow(R_selec_1deg[0,0,:,:])\n",
    "divider = make_axes_locatable(ax)\n",
    "plt.yticks(fontsize=32)\n",
    "plt.xticks(fontsize=32)\n",
    "cax = divider.append_axes(\"right\", size=\"5%\", pad=0.1)\n",
    "plt.colorbar(im,cax=cax)\n",
    "plt.yticks(fontsize=35)\n",
    "\n",
    "plt.subplot(5,3,8)\n",
    "ax = plt.gca()\n",
    "im = ax.imshow(R_selec_real_std_1deg[0,0,:,:])\n",
    "divider = make_axes_locatable(ax)\n",
    "plt.yticks(fontsize=32)\n",
    "plt.xticks(fontsize=32)\n",
    "cax = divider.append_axes(\"right\", size=\"5%\", pad=0.1)\n",
    "plt.colorbar(im,cax=cax)\n",
    "plt.yticks(fontsize=35)\n",
    "\n",
    "plt.subplot(5,3,9)\n",
    "ax = plt.gca()\n",
    "im = ax.imshow(ngal_1deg)\n",
    "divider = make_axes_locatable(ax)\n",
    "plt.yticks(fontsize=32)\n",
    "plt.xticks(fontsize=32)\n",
    "cax = divider.append_axes(\"right\", size=\"5%\", pad=0.1)\n",
    "plt.colorbar(im,cax=cax)\n",
    "plt.yticks(fontsize=35)\n",
    "\n",
    "plt.subplot(5,3,10)\n",
    "ax = plt.gca()\n",
    "im = ax.imshow(R_selec_2deg[0,0,:,:])\n",
    "divider = make_axes_locatable(ax)\n",
    "plt.yticks(fontsize=32)\n",
    "plt.xticks(fontsize=32)\n",
    "cax = divider.append_axes(\"right\", size=\"5%\", pad=0.1)\n",
    "plt.colorbar(im,cax=cax)\n",
    "plt.yticks(fontsize=35)\n",
    "\n",
    "plt.subplot(5,3,11)\n",
    "ax = plt.gca()\n",
    "im = ax.imshow(R_selec_real_std_2deg_from05[0,0,:,:])\n",
    "divider = make_axes_locatable(ax)\n",
    "plt.yticks(fontsize=32)\n",
    "plt.xticks(fontsize=32)\n",
    "cax = divider.append_axes(\"right\", size=\"5%\", pad=0.1)\n",
    "plt.colorbar(im,cax=cax)\n",
    "plt.yticks(fontsize=35)\n",
    "\n",
    "plt.subplot(5,3,12)\n",
    "ax = plt.gca()\n",
    "im = ax.imshow(ngal_2deg)\n",
    "divider = make_axes_locatable(ax)\n",
    "plt.yticks(fontsize=32)\n",
    "plt.xticks(fontsize=32)\n",
    "cax = divider.append_axes(\"right\", size=\"5%\", pad=0.1)\n",
    "plt.colorbar(im,cax=cax)\n",
    "plt.yticks(fontsize=35)\n",
    "\n",
    "plt.subplot(5,3,13)\n",
    "ax = plt.gca()\n",
    "im = ax.imshow(R_selec_4deg[0,0,:,:])\n",
    "divider = make_axes_locatable(ax)\n",
    "plt.yticks(fontsize=32)\n",
    "plt.xticks(fontsize=32)\n",
    "cax = divider.append_axes(\"right\", size=\"5%\", pad=0.1)\n",
    "plt.colorbar(im,cax=cax)\n",
    "plt.yticks(fontsize=35)\n",
    "\n",
    "plt.subplot(5,3,14)\n",
    "ax = plt.gca()\n",
    "im = ax.imshow(R_selec_real_std_4deg_from05[0,0,:,:])\n",
    "divider = make_axes_locatable(ax)\n",
    "plt.yticks(fontsize=32)\n",
    "plt.xticks(fontsize=32)\n",
    "cax = divider.append_axes(\"right\", size=\"5%\", pad=0.1)\n",
    "plt.colorbar(im,cax=cax)\n",
    "plt.yticks(fontsize=35)\n",
    "\n",
    "plt.subplot(5,3,15)\n",
    "ax = plt.gca()\n",
    "im = ax.imshow(ngal_4deg)\n",
    "divider = make_axes_locatable(ax)\n",
    "plt.yticks(fontsize=32)\n",
    "plt.xticks(fontsize=32)\n",
    "cax = divider.append_axes(\"right\", size=\"5%\", pad=0.1)\n",
    "plt.colorbar(im,cax=cax)\n",
    "plt.yticks(fontsize=35)\n",
    "plt.savefig('./W3/R_selec.png',bbox_inches = 'tight',pad_inches = 0)\n",
    "plt.show()"
   ]
  },
  {
   "cell_type": "code",
   "execution_count": null,
   "metadata": {},
   "outputs": [],
   "source": [
    "plt.figure(figsize=(16,6))\n",
    "plt.hist(np.ravel(R_selec_025deg[0,0,:,:]),label=r'$0.25^\\circ$',histtype='step',density=True,bins=50)\n",
    "#plt.hist(np.ravel(R_selec_05deg[0,0,:,:]),label='1 px = 0.5° x 0.5°',histtype='step',density=True,bins=50)\n",
    "plt.hist(np.ravel(R_selec_1deg[0,0,:,:]),label=r'$2^\\circ$',histtype='step',density=True,bins=50)\n",
    "#plt.hist(np.ravel(R_selec_2deg[0,0,:,:]),label='1 px = 2° x 2°',histtype='step',density=True,bins=50)\n",
    "plt.hist(np.ravel(R_selec_4deg[0,0,:,:]),label=r'$4^\\circ$',histtype='step',density=True,bins=50)\n",
    "plt.axvline(x=R_selec_moy[0,0],c='k',label='global calibration')\n",
    "plt.legend(fontsize=18)\n",
    "plt.xticks(fontsize=18)\n",
    "plt.yticks(fontsize=18)\n",
    "plt.xlim(-0.2,0)\n",
    "plt.xlabel(r'$R_{11,selection}$', fontsize=30)\n",
    "plt.savefig('./W3/Rselec_hist.png',bbox_inches = 'tight',pad_inches = 0.1)\n",
    "plt.show()"
   ]
  },
  {
   "cell_type": "code",
   "execution_count": null,
   "metadata": {},
   "outputs": [],
   "source": [
    "# Compute % of pixel changed\n",
    "ind_change_025deg = np.shape((np.where(ngal_025deg < (np.mean(ngal_025deg))/2))[1])\n",
    "ind_change_05deg = np.shape((np.where(ngal_05deg < (np.mean(ngal_05deg))/2))[1])\n",
    "ind_change_1deg = np.shape((np.where(ngal_1deg < (np.mean(ngal_1deg))/2))[1])\n",
    "ind_change_2deg = np.shape((np.where(ngal_2deg < (np.mean(ngal_2deg))/2))[1])\n",
    "ind_change_4deg = np.shape((np.where(ngal_4deg < (np.mean(ngal_4deg))/2))[1])"
   ]
  },
  {
   "cell_type": "code",
   "execution_count": null,
   "metadata": {},
   "outputs": [],
   "source": [
    "ind_change_01deg = np.shape((np.where(ngal_01deg < (np.mean(ngal_01deg))/2))[1])\n",
    "ind_change_001deg = np.shape((np.where(ngal_001deg < (np.mean(ngal_001deg))/2))[1])\n",
    "ind_change_0001deg = np.shape((np.where(ngal_0001deg < (np.mean(ngal_0001deg))/2))[1])\n",
    "#ind_change_00001deg = np.shape((np.where(ngal_00001deg < (np.mean(ngal_00001deg))/2))[1])"
   ]
  },
  {
   "cell_type": "code",
   "execution_count": null,
   "metadata": {},
   "outputs": [],
   "source": [
    "# Tot size\n",
    "tot_025deg = (size_deg_x*4)*(size_deg_y*4)\n",
    "tot_05deg = (size_deg_x*2)*(size_deg_y*2)\n",
    "tot_1deg = (size_deg_x)*(size_deg_y)\n",
    "tot_2deg = (int(size_deg_x/2))*(int(size_deg_y/2))\n",
    "tot_4deg = (int(size_deg_x/4))*(int(size_deg_y/4))"
   ]
  },
  {
   "cell_type": "code",
   "execution_count": null,
   "metadata": {},
   "outputs": [],
   "source": [
    "tot_01deg = (size_deg_x*10)*(size_deg_y*10)\n",
    "tot_001deg = (size_deg_x*100)*(size_deg_y*100)\n",
    "tot_0001deg = (size_deg_x*1000)*(size_deg_y*1000)\n",
    "#tot_00001deg = (size_deg_x*10000)*(size_deg_y*10000)"
   ]
  },
  {
   "cell_type": "code",
   "execution_count": null,
   "metadata": {},
   "outputs": [],
   "source": [
    "# % of mask area\n",
    "mask_025deg = np.shape(np.where(ngal_025deg==0))[1]\n",
    "mask_05deg = np.shape(np.where(ngal_05deg==0))[1]\n",
    "mask_1deg = np.shape(np.where(ngal_1deg==0))[1]\n",
    "mask_2deg = np.shape(np.where(ngal_2deg==0))[1]\n",
    "mask_4deg = np.shape(np.where(ngal_4deg==0))[1]"
   ]
  },
  {
   "cell_type": "code",
   "execution_count": null,
   "metadata": {},
   "outputs": [],
   "source": [
    "mask_01deg = np.shape(np.where(ngal_01deg==0))[1]\n",
    "mask_001deg = np.shape(np.where(ngal_001deg==0))[1]\n",
    "mask_0001deg = np.shape(np.where(ngal_0001deg==0))[1]\n",
    "#mask_00001deg = np.shape(np.where(ngal_00001deg==0))[1]"
   ]
  },
  {
   "cell_type": "code",
   "execution_count": null,
   "metadata": {},
   "outputs": [],
   "source": [
    "# % change - % mask\n",
    "change_prct_025deg = ind_change_025deg[0]*100/tot_025deg - mask_025deg*100/tot_025deg\n",
    "change_prct_05deg = ind_change_05deg[0]*100/tot_05deg - mask_05deg*100/tot_05deg\n",
    "change_prct_1deg = ind_change_1deg[0]*100/tot_1deg - mask_1deg*100/tot_1deg\n",
    "change_prct_2deg = ind_change_2deg[0]*100/tot_2deg - mask_2deg*100/tot_2deg\n",
    "change_prct_4deg = ind_change_4deg[0]*100/tot_4deg - mask_4deg*100/tot_4deg"
   ]
  },
  {
   "cell_type": "code",
   "execution_count": null,
   "metadata": {},
   "outputs": [],
   "source": [
    "change_prct_01deg = ind_change_01deg[0]*100/tot_01deg - mask_01deg*100/tot_01deg\n",
    "change_prct_001deg = ind_change_001deg[0]*100/tot_001deg - mask_001deg*100/tot_001deg\n",
    "change_prct_0001deg = ind_change_0001deg[0]*100/tot_0001deg - mask_0001deg*100/tot_0001deg\n",
    "#change_prct_00001deg = ind_change_00001deg[0]*100/tot_00001deg - mask_00001deg*100/tot_00001deg"
   ]
  },
  {
   "cell_type": "code",
   "execution_count": null,
   "metadata": {},
   "outputs": [],
   "source": [
    "x=np.array([0.001,0.01,0.1,0.25,0.5,1,2,4])\n",
    "y=np.array([change_prct_0001deg,change_prct_001deg,change_prct_01deg,change_prct_025deg,change_prct_05deg,change_prct_1deg,change_prct_2deg,change_prct_4deg])"
   ]
  },
  {
   "cell_type": "code",
   "execution_count": null,
   "metadata": {},
   "outputs": [],
   "source": [
    "plt.figure()\n",
    "plt.scatter(x,y)\n",
    "plt.xlabel('pixel size in deg')\n",
    "plt.ylabel('% of value change')\n",
    "plt.savefig('./P3X/px_change.png')\n",
    "plt.show()"
   ]
  },
  {
   "cell_type": "code",
   "execution_count": null,
   "metadata": {},
   "outputs": [],
   "source": [
    "# R shear bin needed\n",
    "R_11, R_22, R_12, R_21 = bin2d(xx, yy, npix=(size_deg_x*4,size_deg_y*4), v=(gal_metacal_ngmix.R_shear[0,0,:],gal_metacal_ngmix.R_shear[1,1,:],gal_metacal_ngmix.R_shear[0,1,:],gal_metacal_ngmix.R_shear[1,0,:]),extent=(min_x,max_x,min_y,max_y)) \n",
    "Rmap_025deg = np.array([[R_11,R_12],[R_21,R_22]])\n",
    "\n",
    "R_11, R_22, R_12, R_21 = bin2d(xx, yy, npix=(size_deg_x*2,size_deg_y*2), v=(gal_metacal_ngmix.R_shear[0,0,:],gal_metacal_ngmix.R_shear[1,1,:],gal_metacal_ngmix.R_shear[0,1,:],gal_metacal_ngmix.R_shear[1,0,:]),extent=(min_x,max_x,min_y,max_y)) \n",
    "Rmap_05deg = np.array([[R_11,R_12],[R_21,R_22]])\n",
    "\n",
    "R_11, R_22, R_12, R_21 = bin2d(xx, yy, npix=(size_deg_x,size_deg_y), v=(gal_metacal_ngmix.R_shear[0,0,:],gal_metacal_ngmix.R_shear[1,1,:],gal_metacal_ngmix.R_shear[0,1,:],gal_metacal_ngmix.R_shear[1,0,:]),extent=(min_x,max_x,min_y,max_y)) \n",
    "Rmap_1deg = np.array([[R_11,R_12],[R_21,R_22]])\n",
    "\n",
    "R_11, R_22, R_12, R_21 = bin2d(xx, yy, npix=(int(size_deg_x/2),int(size_deg_y/2)), v=(gal_metacal_ngmix.R_shear[0,0,:],gal_metacal_ngmix.R_shear[1,1,:],gal_metacal_ngmix.R_shear[0,1,:],gal_metacal_ngmix.R_shear[1,0,:]),extent=(min_x,max_x,min_y,max_y)) \n",
    "Rmap_2deg = np.array([[R_11,R_12],[R_21,R_22]])\n",
    "\n",
    "R_11, R_22, R_12, R_21 = bin2d(xx, yy, npix=(int(size_deg_x/4),int(size_deg_y/4)), v=(gal_metacal_ngmix.R_shear[0,0,:],gal_metacal_ngmix.R_shear[1,1,:],gal_metacal_ngmix.R_shear[0,1,:],gal_metacal_ngmix.R_shear[1,0,:]),extent=(min_x,max_x,min_y,max_y)) \n",
    "Rmap_4deg = np.array([[R_11,R_12],[R_21,R_22]])"
   ]
  },
  {
   "cell_type": "code",
   "execution_count": null,
   "metadata": {},
   "outputs": [],
   "source": [
    "Rmap_025deg = np.load('./P3X/var_save/Rmap_025deg.npy')\n",
    "Rmap_05deg = np.load('./P3X/var_save/Rmap_05deg.npy')\n",
    "Rmap_1deg = np.load('./P3X/var_save/Rmap_1deg.npy')\n",
    "Rmap_2deg = np.load('./P3X/var_save/Rmap_2deg.npy')\n",
    "Rmap_4deg = np.load('./P3X/var_save/Rmap_4deg.npy')"
   ]
  },
  {
   "cell_type": "code",
   "execution_count": null,
   "metadata": {},
   "outputs": [],
   "source": [
    "# Std of R shear\n",
    "R_shear_real_std_05deg = compute_R_real_std(size_deg_x*2,size_deg_y*2,2,R_shear_025deg)\n",
    "R_shear_real_std_1deg = compute_R_real_std(size_deg_x,size_deg_y,2,R_shear_05deg)\n",
    "R_shear_real_std_2deg = compute_R_real_std(int(size_deg_x/2),int(size_deg_y/2),4,R_shear_05deg)\n",
    "R_shear_real_std_4deg = compute_R_real_std(int(size_deg_x/4),int(size_deg_y/4),8,R_shear_05deg)"
   ]
  },
  {
   "cell_type": "code",
   "execution_count": null,
   "metadata": {},
   "outputs": [],
   "source": [
    "# Plot R shear, R shear bin, ngal\n",
    "plt.figure(figsize=(70,45))\n",
    "plt.subplot(5,4,1)\n",
    "ax = plt.gca()\n",
    "im = ax.imshow(R_shear_025deg[0,0,:,:],vmin=0.55,vmax=0.9)\n",
    "plt.title(r'$R_{shear}$',fontsize=50)\n",
    "divider = make_axes_locatable(ax)\n",
    "plt.yticks(fontsize=32)\n",
    "plt.xticks(fontsize=32)\n",
    "cax = divider.append_axes(\"right\", size=\"5%\", pad=0.1)\n",
    "plt.colorbar(im,cax=cax)\n",
    "plt.yticks(fontsize=35)\n",
    "\n",
    "plt.subplot(5,4,2)\n",
    "ax = plt.gca()\n",
    "im = ax.imshow(Rmap_025deg[0,0,:,:],vmin=0.55,vmax=0.9)\n",
    "plt.title(r'$R_{shear}$ binning',fontsize=50)\n",
    "divider = make_axes_locatable(ax)\n",
    "plt.yticks(fontsize=32)\n",
    "plt.xticks(fontsize=32)\n",
    "cax = divider.append_axes(\"right\", size=\"5%\", pad=0.1)\n",
    "plt.colorbar(im,cax=cax)\n",
    "plt.yticks(fontsize=35)\n",
    "\n",
    "plt.subplot(5,4,3)\n",
    "ax = plt.gca()\n",
    "plt.title(r'std $R_{shear}$',fontsize=50)\n",
    "plt.axis('off')\n",
    "\n",
    "plt.subplot(5,4,4)\n",
    "ax = plt.gca()\n",
    "im = ax.imshow(ngal_025deg)\n",
    "plt.title(r'n gal',fontsize=50)\n",
    "divider = make_axes_locatable(ax)\n",
    "plt.yticks(fontsize=32)\n",
    "plt.xticks(fontsize=32)\n",
    "cax = divider.append_axes(\"right\", size=\"5%\", pad=0.1)\n",
    "plt.colorbar(im,cax=cax)\n",
    "plt.yticks(fontsize=35)\n",
    "\n",
    "plt.subplot(5,4,5)\n",
    "ax = plt.gca()\n",
    "im = ax.imshow(R_shear_05deg[0,0,:,:],vmin=0.66,vmax=0.80)\n",
    "divider = make_axes_locatable(ax)\n",
    "plt.yticks(fontsize=32)\n",
    "plt.xticks(fontsize=32)\n",
    "cax = divider.append_axes(\"right\", size=\"5%\", pad=0.1)\n",
    "plt.colorbar(im,cax=cax)\n",
    "plt.yticks(fontsize=35)\n",
    "\n",
    "plt.subplot(5,4,6)\n",
    "ax = plt.gca()\n",
    "im = ax.imshow(Rmap_05deg[0,0,:,:],vmin=0.66,vmax=0.80)\n",
    "divider = make_axes_locatable(ax)\n",
    "plt.yticks(fontsize=32)\n",
    "plt.xticks(fontsize=32)\n",
    "cax = divider.append_axes(\"right\", size=\"5%\", pad=0.1)\n",
    "plt.colorbar(im,cax=cax)\n",
    "plt.yticks(fontsize=35)\n",
    "\n",
    "plt.subplot(5,4,7)\n",
    "ax = plt.gca()\n",
    "im = ax.imshow(R_shear_real_std_05deg[0,0,:,:])\n",
    "divider = make_axes_locatable(ax)\n",
    "plt.yticks(fontsize=32)\n",
    "plt.xticks(fontsize=32)\n",
    "cax = divider.append_axes(\"right\", size=\"5%\", pad=0.1)\n",
    "plt.colorbar(im,cax=cax)\n",
    "plt.yticks(fontsize=35)\n",
    "\n",
    "plt.subplot(5,4,8)\n",
    "ax = plt.gca()\n",
    "im = ax.imshow(ngal_05deg)\n",
    "divider = make_axes_locatable(ax)\n",
    "plt.yticks(fontsize=32)\n",
    "plt.xticks(fontsize=32)\n",
    "cax = divider.append_axes(\"right\", size=\"5%\", pad=0.1)\n",
    "plt.colorbar(im,cax=cax)\n",
    "plt.yticks(fontsize=35)\n",
    "\n",
    "plt.subplot(5,4,9)\n",
    "ax = plt.gca()\n",
    "im = ax.imshow(R_shear_1deg[0,0,:,:],vmin=0.70,vmax=0.78)\n",
    "divider = make_axes_locatable(ax)\n",
    "plt.yticks(fontsize=32)\n",
    "plt.xticks(fontsize=32)\n",
    "cax = divider.append_axes(\"right\", size=\"5%\", pad=0.1)\n",
    "plt.colorbar(im,cax=cax)\n",
    "plt.yticks(fontsize=35)\n",
    "\n",
    "plt.subplot(5,4,10)\n",
    "ax = plt.gca()\n",
    "im = ax.imshow(Rmap_1deg[0,0,:,:],vmin=0.70,vmax=0.78)\n",
    "divider = make_axes_locatable(ax)\n",
    "plt.yticks(fontsize=32)\n",
    "plt.xticks(fontsize=32)\n",
    "cax = divider.append_axes(\"right\", size=\"5%\", pad=0.1)\n",
    "plt.colorbar(im,cax=cax)\n",
    "plt.yticks(fontsize=35)\n",
    "\n",
    "plt.subplot(5,4,11)\n",
    "ax = plt.gca()\n",
    "im = ax.imshow(R_shear_real_std_1deg[0,0,:,:])\n",
    "divider = make_axes_locatable(ax)\n",
    "plt.yticks(fontsize=32)\n",
    "plt.xticks(fontsize=32)\n",
    "cax = divider.append_axes(\"right\", size=\"5%\", pad=0.1)\n",
    "plt.colorbar(im,cax=cax)\n",
    "plt.yticks(fontsize=35)\n",
    "\n",
    "plt.subplot(5,4,12)\n",
    "ax = plt.gca()\n",
    "im = ax.imshow(ngal_1deg)\n",
    "divider = make_axes_locatable(ax)\n",
    "plt.yticks(fontsize=32)\n",
    "plt.xticks(fontsize=32)\n",
    "cax = divider.append_axes(\"right\", size=\"5%\", pad=0.1)\n",
    "plt.colorbar(im,cax=cax)\n",
    "plt.yticks(fontsize=35)\n",
    "\n",
    "plt.subplot(5,4,13)\n",
    "ax = plt.gca()\n",
    "im = ax.imshow(R_shear_2deg[0,0,:,:],vmin=0.72,vmax=0.76)\n",
    "divider = make_axes_locatable(ax)\n",
    "plt.yticks(fontsize=32)\n",
    "plt.xticks(fontsize=32)\n",
    "cax = divider.append_axes(\"right\", size=\"5%\", pad=0.1)\n",
    "plt.colorbar(im,cax=cax)\n",
    "plt.yticks(fontsize=35)\n",
    "\n",
    "plt.subplot(5,4,14)\n",
    "ax = plt.gca()\n",
    "im = ax.imshow(Rmap_2deg[0,0,:,:],vmin=0.72,vmax=0.76)\n",
    "divider = make_axes_locatable(ax)\n",
    "plt.yticks(fontsize=32)\n",
    "plt.xticks(fontsize=32)\n",
    "cax = divider.append_axes(\"right\", size=\"5%\", pad=0.1)\n",
    "plt.colorbar(im,cax=cax)\n",
    "plt.yticks(fontsize=35)\n",
    "\n",
    "\n",
    "plt.subplot(5,4,15)\n",
    "ax = plt.gca()\n",
    "im = ax.imshow(R_shear_real_std_2deg[0,0,:,:])\n",
    "divider = make_axes_locatable(ax)\n",
    "plt.yticks(fontsize=32)\n",
    "plt.xticks(fontsize=32)\n",
    "cax = divider.append_axes(\"right\", size=\"5%\", pad=0.1)\n",
    "plt.colorbar(im,cax=cax)\n",
    "plt.yticks(fontsize=35)\n",
    "\n",
    "plt.subplot(5,4,16)\n",
    "ax = plt.gca()\n",
    "im = ax.imshow(ngal_2deg)\n",
    "divider = make_axes_locatable(ax)\n",
    "plt.yticks(fontsize=32)\n",
    "plt.xticks(fontsize=32)\n",
    "cax = divider.append_axes(\"right\", size=\"5%\", pad=0.1)\n",
    "plt.colorbar(im,cax=cax)\n",
    "plt.yticks(fontsize=35)\n",
    "\n",
    "plt.subplot(5,4,17)\n",
    "ax = plt.gca()\n",
    "im = ax.imshow(R_shear_4deg[0,0,:,:],vmin=0.71,vmax=0.77)\n",
    "divider = make_axes_locatable(ax)\n",
    "plt.yticks(fontsize=32)\n",
    "plt.xticks(fontsize=32)\n",
    "cax = divider.append_axes(\"right\", size=\"5%\", pad=0.1)\n",
    "plt.colorbar(im,cax=cax)\n",
    "plt.yticks(fontsize=35)\n",
    "\n",
    "plt.subplot(5,4,18)\n",
    "ax = plt.gca()\n",
    "im = ax.imshow(Rmap_4deg[0,0,:,:],vmin=0.71,vmax=0.77)\n",
    "divider = make_axes_locatable(ax)\n",
    "plt.yticks(fontsize=32)\n",
    "plt.xticks(fontsize=32)\n",
    "cax = divider.append_axes(\"right\", size=\"5%\", pad=0.1)\n",
    "plt.colorbar(im,cax=cax)\n",
    "plt.yticks(fontsize=35)\n",
    "\n",
    "plt.subplot(5,4,19)\n",
    "ax = plt.gca()\n",
    "im = ax.imshow(R_shear_real_std_4deg[0,0,:,:])\n",
    "divider = make_axes_locatable(ax)\n",
    "plt.yticks(fontsize=32)\n",
    "plt.xticks(fontsize=32)\n",
    "cax = divider.append_axes(\"right\", size=\"5%\", pad=0.1)\n",
    "plt.colorbar(im,cax=cax)\n",
    "plt.yticks(fontsize=35)\n",
    "\n",
    "plt.subplot(5,4,20)\n",
    "ax = plt.gca()\n",
    "im = ax.imshow(ngal_4deg)\n",
    "divider = make_axes_locatable(ax)\n",
    "plt.yticks(fontsize=32)\n",
    "plt.xticks(fontsize=32)\n",
    "cax = divider.append_axes(\"right\", size=\"5%\", pad=0.1)\n",
    "plt.colorbar(im,cax=cax)\n",
    "plt.yticks(fontsize=35)\n",
    "plt.savefig('./W3/R_shear.png',bbox_inches = 'tight',pad_inches = 0)\n",
    "plt.show()"
   ]
  },
  {
   "cell_type": "code",
   "execution_count": null,
   "metadata": {},
   "outputs": [],
   "source": [
    "plt.figure(figsize=(16,6))\n",
    "plt.hist(np.ravel(R_shear_025deg[0,0,:,:]),label=r'$0.25^\\circ$',histtype='step',density=True,bins=50)\n",
    "#plt.hist(np.ravel(R_shear_05deg[0,0,:,:]),label='1 px = 0.5° x 0.5°',histtype='step',density=True,bins=50)\n",
    "plt.hist(np.ravel(R_shear_1deg[0,0,:,:]),label=r'$2^\\circ$',histtype='step',density=True,bins=50)\n",
    "#plt.hist(np.ravel(R_shear_2deg[0,0,:,:]),label='1 px = 2° x 2°',histtype='step',density=True,bins=50)\n",
    "plt.hist(np.ravel(R_shear_4deg[0,0,:,:]),label=r'$4^\\circ$',histtype='step',density=True,bins=50)\n",
    "plt.axvline(x=R_shear_moy[0,0],c='k',label='global calibration')\n",
    "plt.legend(fontsize=18)\n",
    "plt.xticks(fontsize=18)\n",
    "plt.yticks(fontsize=18)\n",
    "plt.xlim(0.68,0.81)\n",
    "plt.xlabel(r'$R_{11,shear}$', fontsize=30)\n",
    "plt.savefig('./W3/Rshear_hist.png',bbox_inches = 'tight',pad_inches = 0.1)\n",
    "plt.show()"
   ]
  },
  {
   "cell_type": "code",
   "execution_count": null,
   "metadata": {},
   "outputs": [],
   "source": [
    "ngaltot = bin2d(xx, yy, npix=(Nx,Ny),extent=(min_x,max_x,min_y,max_y))"
   ]
  },
  {
   "cell_type": "code",
   "execution_count": null,
   "metadata": {},
   "outputs": [],
   "source": [
    "ngaltot = np.load('./P3X/var_save/ngaltot.npy')"
   ]
  },
  {
   "cell_type": "code",
   "execution_count": null,
   "metadata": {},
   "outputs": [],
   "source": [
    "def Rtot_extent(npix_x,npix_y,R):\n",
    "    # From R, create R with same size as g\n",
    "    \n",
    "    R_large = np.zeros((Ny, Nx))\n",
    "    srx = int(Nx / npix_x)\n",
    "    sry = int(Ny/npix_y)\n",
    "\n",
    "    for i in range(npix_y):\n",
    "        for j in range(npix_x):\n",
    "            r = np.ones((sry, srx)) * R[i,j]\n",
    "            R_large[i*sry:(i+1)*sry, j*srx:(j+1)*srx] = r\n",
    "    return R_large"
   ]
  },
  {
   "cell_type": "code",
   "execution_count": null,
   "metadata": {},
   "outputs": [],
   "source": [
    "# Extend R shear from calib 0.5 deg\n",
    "Rshear_metacal_025deg = np.zeros((2,2,Ny,Nx))\n",
    "Rshear_metacal_025deg[0,0,:,:] = Rtot_extent(size_deg_x*4,size_deg_y*4,R_shear_025deg[0,0,:,:])\n",
    "Rshear_metacal_025deg[0,1,:,:] = Rtot_extent(size_deg_x*4,size_deg_y*4,R_shear_025deg[0,1,:,:])\n",
    "Rshear_metacal_025deg[1,0,:,:] = Rtot_extent(size_deg_x*4,size_deg_y*4,R_shear_025deg[1,0,:,:])\n",
    "Rshear_metacal_025deg[1,1,:,:] = Rtot_extent(size_deg_x*4,size_deg_y*4,R_shear_025deg[1,1,:,:])\n",
    "\n",
    "# Extend R selec from calib 0.5 deg\n",
    "Rselec_metacal_025deg = np.zeros((2,2,Ny,Nx))\n",
    "Rselec_metacal_025deg[0,0,:,:] = Rtot_extent(size_deg_x*4,size_deg_y*4,R_selec_025deg[0,0,:,:])\n",
    "Rselec_metacal_025deg[0,1,:,:] = Rtot_extent(size_deg_x*4,size_deg_y*4,R_selec_025deg[0,1,:,:])\n",
    "Rselec_metacal_025deg[1,0,:,:] = Rtot_extent(size_deg_x*4,size_deg_y*4,R_selec_025deg[1,0,:,:])\n",
    "Rselec_metacal_025deg[1,1,:,:] = Rtot_extent(size_deg_x*4,size_deg_y*4,R_selec_025deg[1,1,:,:])"
   ]
  },
  {
   "cell_type": "code",
   "execution_count": null,
   "metadata": {},
   "outputs": [],
   "source": [
    "# Extend c from calib 0.5 deg\n",
    "c1_ngmix_metacal_025deg = Rtot_extent(size_deg_x*4,size_deg_y*4,c1_ngmix_025deg)\n",
    "c2_ngmix_metacal_025deg = Rtot_extent(size_deg_x*4,size_deg_y*4,c2_ngmix_025deg)"
   ]
  },
  {
   "cell_type": "code",
   "execution_count": null,
   "metadata": {},
   "outputs": [],
   "source": [
    "# Extend R shear from calib 0.5 deg\n",
    "Rshear_metacal_05deg = np.zeros((2,2,Ny,Nx))\n",
    "Rshear_metacal_05deg[0,0,:,:] = Rtot_extent(size_deg_x*2,size_deg_y*2,R_shear_05deg[0,0,:,:])\n",
    "Rshear_metacal_05deg[0,1,:,:] = Rtot_extent(size_deg_x*2,size_deg_y*2,R_shear_05deg[0,1,:,:])\n",
    "Rshear_metacal_05deg[1,0,:,:] = Rtot_extent(size_deg_x*2,size_deg_y*2,R_shear_05deg[1,0,:,:])\n",
    "Rshear_metacal_05deg[1,1,:,:] = Rtot_extent(size_deg_x*2,size_deg_y*2,R_shear_05deg[1,1,:,:])\n",
    "\n",
    "# Extend R selec from calib 0.5 deg\n",
    "Rselec_metacal_05deg = np.zeros((2,2,Ny,Nx))\n",
    "Rselec_metacal_05deg[0,0,:,:] = Rtot_extent(size_deg_x*2,size_deg_y*2,R_selec_05deg[0,0,:,:])\n",
    "Rselec_metacal_05deg[0,1,:,:] = Rtot_extent(size_deg_x*2,size_deg_y*2,R_selec_05deg[0,1,:,:])\n",
    "Rselec_metacal_05deg[1,0,:,:] = Rtot_extent(size_deg_x*2,size_deg_y*2,R_selec_05deg[1,0,:,:])\n",
    "Rselec_metacal_05deg[1,1,:,:] = Rtot_extent(size_deg_x*2,size_deg_y*2,R_selec_05deg[1,1,:,:])"
   ]
  },
  {
   "cell_type": "code",
   "execution_count": null,
   "metadata": {},
   "outputs": [],
   "source": [
    "# Extend c from calib 0.5 deg\n",
    "c1_ngmix_metacal_05deg = Rtot_extent(size_deg_x*2,size_deg_y*2,c1_ngmix_05deg)\n",
    "c2_ngmix_metacal_05deg = Rtot_extent(size_deg_x*2,size_deg_y*2,c2_ngmix_05deg)"
   ]
  },
  {
   "cell_type": "code",
   "execution_count": null,
   "metadata": {},
   "outputs": [],
   "source": [
    "# Extend R shear from calib 1 deg\n",
    "Rshear_metacal_1deg = np.zeros((2,2,Ny,Nx))\n",
    "Rshear_metacal_1deg[0,0,:,:] = Rtot_extent(size_deg_x,size_deg_y,R_shear_1deg[0,0,:,:])\n",
    "Rshear_metacal_1deg[0,1,:,:] = Rtot_extent(size_deg_x,size_deg_y,R_shear_1deg[0,1,:,:])\n",
    "Rshear_metacal_1deg[1,0,:,:] = Rtot_extent(size_deg_x,size_deg_y,R_shear_1deg[1,0,:,:])\n",
    "Rshear_metacal_1deg[1,1,:,:] = Rtot_extent(size_deg_x,size_deg_y,R_shear_1deg[1,1,:,:])\n",
    "\n",
    "# Extend R selec from calib 1 deg\n",
    "Rselec_metacal_1deg = np.zeros((2,2,Ny,Nx))\n",
    "Rselec_metacal_1deg[0,0,:,:] = Rtot_extent(size_deg_x,size_deg_y,R_selec_1deg[0,0,:,:])\n",
    "Rselec_metacal_1deg[0,1,:,:] = Rtot_extent(size_deg_x,size_deg_y,R_selec_1deg[0,1,:,:])\n",
    "Rselec_metacal_1deg[1,0,:,:] = Rtot_extent(size_deg_x,size_deg_y,R_selec_1deg[1,0,:,:])\n",
    "Rselec_metacal_1deg[1,1,:,:] = Rtot_extent(size_deg_x,size_deg_y,R_selec_1deg[1,1,:,:])"
   ]
  },
  {
   "cell_type": "code",
   "execution_count": null,
   "metadata": {},
   "outputs": [],
   "source": [
    "# Extend c from calib 1 deg\n",
    "c1_ngmix_metacal_1deg = Rtot_extent(size_deg_x,size_deg_y,c1_ngmix_1deg)\n",
    "c2_ngmix_metacal_1deg = Rtot_extent(size_deg_x,size_deg_y,c2_ngmix_1deg)"
   ]
  },
  {
   "cell_type": "code",
   "execution_count": null,
   "metadata": {},
   "outputs": [],
   "source": [
    "# Extend R shear from calib 2 deg\n",
    "Rshear_metacal_2deg = np.zeros((2,2,Ny,Nx))\n",
    "Rshear_metacal_2deg[0,0,:,:] = Rtot_extent(int(size_deg_x/2),int(size_deg_y/2),R_shear_2deg[0,0,:,:])\n",
    "Rshear_metacal_2deg[0,1,:,:] = Rtot_extent(int(size_deg_x/2),int(size_deg_y/2),R_shear_2deg[0,1,:,:])\n",
    "Rshear_metacal_2deg[1,0,:,:] = Rtot_extent(int(size_deg_x/2),int(size_deg_y/2),R_shear_2deg[1,0,:,:])\n",
    "Rshear_metacal_2deg[1,1,:,:] = Rtot_extent(int(size_deg_x/2),int(size_deg_y/2),R_shear_2deg[1,1,:,:])\n",
    "\n",
    "# Extend R selec from calib 2 deg\n",
    "Rselec_metacal_2deg = np.zeros((2,2,Ny,Nx))\n",
    "Rselec_metacal_2deg[0,0,:,:] = Rtot_extent(int(size_deg_x/2),int(size_deg_y/2),R_selec_2deg[0,0,:,:])\n",
    "Rselec_metacal_2deg[0,1,:,:] = Rtot_extent(int(size_deg_x/2),int(size_deg_y/2),R_selec_2deg[0,1,:,:])\n",
    "Rselec_metacal_2deg[1,0,:,:] = Rtot_extent(int(size_deg_x/2),int(size_deg_y/2),R_selec_2deg[1,0,:,:])\n",
    "Rselec_metacal_2deg[1,1,:,:] = Rtot_extent(int(size_deg_x/2),int(size_deg_y/2),R_selec_2deg[1,1,:,:])"
   ]
  },
  {
   "cell_type": "code",
   "execution_count": null,
   "metadata": {},
   "outputs": [],
   "source": [
    "# Extend c from calib 2 deg\n",
    "c1_ngmix_metacal_2deg = Rtot_extent(int(size_deg_x/2),int(size_deg_y/2),c1_ngmix_2deg)\n",
    "c2_ngmix_metacal_2deg = Rtot_extent(int(size_deg_x/2),int(size_deg_y/2),c2_ngmix_2deg)"
   ]
  },
  {
   "cell_type": "code",
   "execution_count": null,
   "metadata": {},
   "outputs": [],
   "source": [
    "# Extend R shear from calib 2 deg\n",
    "Rshear_metacal_4deg = np.zeros((2,2,Ny,Nx))\n",
    "Rshear_metacal_4deg[0,0,:,:] = Rtot_extent(int(size_deg_x/4),int(size_deg_y/4),R_shear_4deg[0,0,:,:])\n",
    "Rshear_metacal_4deg[0,1,:,:] = Rtot_extent(int(size_deg_x/4),int(size_deg_y/4),R_shear_4deg[0,1,:,:])\n",
    "Rshear_metacal_4deg[1,0,:,:] = Rtot_extent(int(size_deg_x/4),int(size_deg_y/4),R_shear_4deg[1,0,:,:])\n",
    "Rshear_metacal_4deg[1,1,:,:] = Rtot_extent(int(size_deg_x/4),int(size_deg_y/4),R_shear_4deg[1,1,:,:])\n",
    "\n",
    "# Extend R selec from calib 2 deg\n",
    "Rselec_metacal_4deg = np.zeros((2,2,Ny,Nx))\n",
    "Rselec_metacal_4deg[0,0,:,:] = Rtot_extent(int(size_deg_x/4),int(size_deg_y/4),R_selec_4deg[0,0,:,:])\n",
    "Rselec_metacal_4deg[0,1,:,:] = Rtot_extent(int(size_deg_x/4),int(size_deg_y/4),R_selec_4deg[0,1,:,:])\n",
    "Rselec_metacal_4deg[1,0,:,:] = Rtot_extent(int(size_deg_x/4),int(size_deg_y/4),R_selec_4deg[1,0,:,:])\n",
    "Rselec_metacal_4deg[1,1,:,:] = Rtot_extent(int(size_deg_x/4),int(size_deg_y/4),R_selec_4deg[1,1,:,:])"
   ]
  },
  {
   "cell_type": "code",
   "execution_count": null,
   "metadata": {},
   "outputs": [],
   "source": [
    "# Extend c from calib 4 deg\n",
    "c1_ngmix_metacal_4deg = Rtot_extent(int(size_deg_x/4),int(size_deg_y/4),c1_ngmix_4deg)\n",
    "c2_ngmix_metacal_4deg = Rtot_extent(int(size_deg_x/4),int(size_deg_y/4),c2_ngmix_4deg)"
   ]
  },
  {
   "cell_type": "code",
   "execution_count": null,
   "metadata": {},
   "outputs": [],
   "source": [
    "# Check\n",
    "plt.figure(figsize=(15,6))\n",
    "plt.subplot(1,2,1)\n",
    "plt.imshow(R_shear_05deg[0,0,:,:])\n",
    "plt.colorbar()\n",
    "plt.clim(0.7,0.77)\n",
    "plt.subplot(1,2,2)\n",
    "plt.imshow(Rshear_metacal_05deg[0,0,:,:])\n",
    "plt.colorbar()\n",
    "plt.clim(0.7,0.77)\n",
    "plt.show()\n",
    "print(np.where(Rshear_metacal_05deg[0,0,:,:]==0))\n",
    "\n",
    "plt.figure(figsize=(15,6))\n",
    "plt.subplot(1,2,1)\n",
    "plt.imshow(R_selec_05deg[0,0,:,:])\n",
    "plt.colorbar()\n",
    "plt.subplot(1,2,2)\n",
    "plt.imshow(Rselec_metacal_05deg[0,0,:,:])\n",
    "plt.colorbar()\n",
    "plt.show()\n",
    "print(np.where(Rselec_metacal_05deg[0,0,:,:]==0))"
   ]
  },
  {
   "cell_type": "code",
   "execution_count": null,
   "metadata": {},
   "outputs": [],
   "source": [
    "def bin_Rtot(Rshear,Rselec):\n",
    "    # R tot = R shear + R selection\n",
    "    \n",
    "    Rtot = np.zeros((2,2,Ny,Nx))\n",
    "    for i in range(Ny):\n",
    "        for j in range(Nx):\n",
    "            Rtot[:,:,i,j] = Rshear[:,:,i,j] + Rselec[:,:,i,j]\n",
    "    return Rtot"
   ]
  },
  {
   "cell_type": "code",
   "execution_count": null,
   "metadata": {},
   "outputs": [],
   "source": [
    "Rtot_metacal_05deg = bin_Rtot(Rshear_metacal_05deg,Rselec_metacal_05deg)\n",
    "Rtot_metacal_1deg = bin_Rtot(Rshear_metacal_1deg,Rselec_metacal_1deg)\n",
    "Rtot_metacal_2deg = bin_Rtot(Rshear_metacal_2deg,Rselec_metacal_2deg)\n",
    "Rtot_metacal_4deg = bin_Rtot(Rshear_metacal_4deg,Rselec_metacal_4deg)"
   ]
  },
  {
   "cell_type": "markdown",
   "metadata": {},
   "source": [
    "Kappa map"
   ]
  },
  {
   "cell_type": "code",
   "execution_count": null,
   "metadata": {},
   "outputs": [],
   "source": [
    "# Kappa map\n",
    "# Global calibration\n",
    "kappaE_cal, kappaB_cal = ks93(emap[0]-c1_ngmix,-(emap[1]-c2_ngmix))\n",
    "\n",
    "# From local calibration\n",
    "kappaE_05deg, kappaB_05deg = ks93(gmap_05deg[0]-c1_ngmix_metacal_05deg, -(gmap_05deg[1]-c2_ngmix_metacal_05deg)) \n",
    "kappaE_1deg, kappaB_1deg = ks93(gmap_1deg[0]-c1_ngmix_metacal_1deg, -(gmap_1deg[1]-c2_ngmix_metacal_1deg)) \n",
    "kappaE_2deg, kappaB_2deg = ks93(gmap_2deg[0]-c1_ngmix_metacal_2deg, -(gmap_2deg[1]-c2_ngmix_metacal_2deg)) \n",
    "kappaE_4deg, kappaB_4deg = ks93(gmap_4deg[0]-c1_ngmix_metacal_4deg, -(gmap_4deg[1]-c2_ngmix_metacal_4deg))\n",
    "\n",
    "#kappaE_05deg_globalc, kappaB_05deg_globalc = ks93(gmap_05deg[0]-c1_ngmix, -(gmap_05deg[1]-c2_ngmix)) \n",
    "#kappaE_1deg_globalc, kappaB_1deg_globalc = ks93(gmap_1deg[0]-c1_ngmix, -(gmap_1deg[1]-c2_ngmix)) \n",
    "#kappaE_2deg_globalc, kappaB_2deg_globalc = ks93(gmap_2deg[0]-c1_ngmix, -(gmap_2deg[1]-c2_ngmix)) \n",
    "#kappaE_4deg_globalc, kappaB_4deg_globalc = ks93(gmap_4deg[0]-c1_ngmix, -(gmap_4deg[1]-c2_ngmix))\n",
    "\n",
    "# From local calibration + dm\n",
    "#kappaE_dm_05deg, kappaB_dm_05deg = ks93(gmap_dm_05deg[0]-c1_ngmix_metacal_05deg, -(gmap_dm_05deg[1]-c2_ngmix_metacal_05deg))\n",
    "#kappaE_dm_1deg, kappaB_dm_1deg = ks93(gmap_dm_1deg[0]-c1_ngmix_metacal_1deg, -(gmap_dm_1deg[1]-c2_ngmix_metacal_1deg))\n",
    "#kappaE_dm_2deg, kappaB_dm_2deg = ks93(gmap_dm_2deg[0]-c1_ngmix_metacal_2deg, -(gmap_dm_2deg[1]-c2_ngmix_metacal_2deg)) \n",
    "#kappaE_dm_4deg, kappaB_dm_4deg = ks93(gmap_dm_4deg[0]-c1_ngmix_metacal_4deg, -(gmap_dm_4deg[1]-c2_ngmix_metacal_4deg))"
   ]
  },
  {
   "cell_type": "code",
   "execution_count": null,
   "metadata": {},
   "outputs": [],
   "source": [
    "# From local calibration + dm = -0.0208\n",
    "kappaE_dm_05deg_ax, kappaB_dm_05deg_ax = ks93(gmap_dm_05deg_ax[0]-c1_ngmix_metacal_05deg, -(gmap_dm_05deg_ax[1]-c2_ngmix_metacal_05deg))\n",
    "kappaE_dm_1deg_ax, kappaB_dm_1deg_ax = ks93(gmap_dm_1deg_ax[0]-c1_ngmix_metacal_1deg, -(gmap_dm_1deg_ax[1]-c2_ngmix_metacal_1deg))\n",
    "kappaE_dm_2deg_ax, kappaB_dm_2deg_ax = ks93(gmap_dm_2deg_ax[0]-c1_ngmix_metacal_2deg, -(gmap_dm_2deg_ax[1]-c2_ngmix_metacal_2deg)) \n",
    "kappaE_dm_4deg_ax, kappaB_dm_4deg_ax = ks93(gmap_dm_4deg_ax[0]-c1_ngmix_metacal_4deg, -(gmap_dm_4deg_ax[1]-c2_ngmix_metacal_4deg))"
   ]
  },
  {
   "cell_type": "code",
   "execution_count": null,
   "metadata": {},
   "outputs": [],
   "source": [
    "kappaE_05deg = fits.getdata('./P3X/kappa_map/kappaE_05deg.fits')\n",
    "kappaE_1deg = fits.getdata('./P3X/kappa_map/kappaE_1deg.fits')\n",
    "kappaE_2deg = fits.getdata('./P3X/kappa_map/kappaE_2deg.fits')\n",
    "kappaE_4deg = fits.getdata('./P3X/kappa_map/kappaE_4deg.fits')"
   ]
  },
  {
   "cell_type": "code",
   "execution_count": null,
   "metadata": {},
   "outputs": [],
   "source": [
    "def reduce(npix_x,npix_y,kappa):\n",
    "    # From kappa, create kappa_small to mimic the binning\n",
    "    \n",
    "    kappa_small = np.zeros((npix_y, npix_x))\n",
    "    srx = int(Nx/npix_x)\n",
    "    sry = int(Ny/npix_y)\n",
    "\n",
    "    for i in range(npix_y):\n",
    "        for j in range(npix_x):\n",
    "            a = np.mean(kappa[i*sry:(i+1)*sry, j*srx:(j+1)*srx])\n",
    "            kappa_small[i,j] = a\n",
    "    return kappa_small"
   ]
  },
  {
   "cell_type": "code",
   "execution_count": null,
   "metadata": {},
   "outputs": [],
   "source": [
    "# Reduce map usefull for the random forest"
   ]
  },
  {
   "cell_type": "code",
   "execution_count": null,
   "metadata": {},
   "outputs": [],
   "source": [
    "gmap_05deg_comp1 = reduce(72,40,gmap_05deg[0])\n",
    "gmap_05deg_comp2 = reduce(72,40,gmap_05deg[1])"
   ]
  },
  {
   "cell_type": "code",
   "execution_count": null,
   "metadata": {},
   "outputs": [],
   "source": [
    "kappa_small_05deg = reduce(72,40,kappaE_05deg)\n",
    "kappa_small_1deg = reduce(36,20,kappaE_1deg)\n",
    "kappa_small_2deg = reduce(18,10,kappaE_2deg)\n",
    "kappa_small_4deg = reduce(9,5,kappaE_4deg)"
   ]
  },
  {
   "cell_type": "code",
   "execution_count": null,
   "metadata": {},
   "outputs": [],
   "source": [
    "plt.figure(figsize=(20,9))\n",
    "plt.subplot(1,2,1)\n",
    "plt.imshow(gmap_05deg_comp1)\n",
    "plt.colorbar()\n",
    "plt.subplot(1,2,2)\n",
    "plt.imshow(gmap_05deg[0])\n",
    "plt.colorbar()\n",
    "plt.show()"
   ]
  },
  {
   "cell_type": "code",
   "execution_count": null,
   "metadata": {
    "scrolled": true
   },
   "outputs": [],
   "source": [
    "hdu = fits.PrimaryHDU(kappaE_dm_4deg_ax)\n",
    "hdul = fits.HDUList([hdu])\n",
    "hdul.writeto('./W3/kappaE_dm_4deg_ax.fits')"
   ]
  },
  {
   "cell_type": "code",
   "execution_count": null,
   "metadata": {},
   "outputs": [],
   "source": [
    "#galaxy number density in gal/arcmin^2\n",
    "n_gal=7 # gal/arcmin^2 in the survey\n",
    "\n",
    "#pixel size in arcmin\n",
    "pix_arcmin=0.4\n",
    "\n",
    "#compute shape noise for CFIS\n",
    "shape_noise=0.44\n",
    "sigma_noise_CFIS=shape_noise/(np.sqrt(2*n_gal*pix_arcmin**2))\n",
    "noise_CFIS_z05=sigma_noise_CFIS*np.random.randn(Ny, Nx)"
   ]
  },
  {
   "cell_type": "code",
   "execution_count": null,
   "metadata": {},
   "outputs": [],
   "source": [
    "#smooth the map with Gaussian kernel\n",
    "precision_Peaks = 2/pix_arcmin\n",
    "\n",
    "kappa_noisy_smoothedB = ndi.gaussian_filter(kappaB_cal, precision_Peaks) \n",
    "kappa_noisy_smoothed_cal = ndi.gaussian_filter(kappaE_cal, precision_Peaks)\n",
    "\n",
    "kappa_noisy_smoothed_05deg = ndi.gaussian_filter(kappaE_05deg, precision_Peaks)\n",
    "kappa_noisy_smoothed_1deg = ndi.gaussian_filter(kappaE_1deg, precision_Peaks)\n",
    "kappa_noisy_smoothed_2deg = ndi.gaussian_filter(kappaE_2deg, precision_Peaks)\n",
    "kappa_noisy_smoothed_4deg = ndi.gaussian_filter(kappaE_4deg, precision_Peaks)\n",
    "\n",
    "#kappa_noisy_smoothed_dm_1deg = ndi.gaussian_filter(kappaE_dm_1deg, precision_Peaks)\n",
    "#kappa_noisy_smoothed_dm_2deg = ndi.gaussian_filter(kappaE_dm_2deg, precision_Peaks)\n",
    "#kappa_noisy_smoothed_dm_4deg = ndi.gaussian_filter(kappaE_dm_4deg, precision_Peaks)"
   ]
  },
  {
   "cell_type": "code",
   "execution_count": null,
   "metadata": {},
   "outputs": [],
   "source": [
    "plt.figure(figsize=(25,10))\n",
    "plt.subplot(1,2,1)\n",
    "ax = plt.gca()\n",
    "im = ax.imshow(kappa_noisy_smoothed_cal)\n",
    "divider = make_axes_locatable(ax)\n",
    "plt.title('Global')\n",
    "cax = divider.append_axes(\"right\", size=\"5%\", pad=0.05)\n",
    "plt.colorbar(im, cax=cax)\n",
    "\n",
    "plt.subplot(1,2,2)\n",
    "ax = plt.gca()\n",
    "im = ax.imshow(kappa_noisy_smoothed_1deg)\n",
    "divider = make_axes_locatable(ax)\n",
    "plt.title('metacal deg')\n",
    "cax = divider.append_axes(\"right\", size=\"5%\", pad=0.05)\n",
    "plt.colorbar(im, cax=cax)\n",
    "plt.show()"
   ]
  },
  {
   "cell_type": "code",
   "execution_count": null,
   "metadata": {},
   "outputs": [],
   "source": [
    "# snr map\n",
    "snr_cal = kappa_noisy_smoothed_cal/np.std(ndi.gaussian_filter(noise_CFIS_z05, precision_Peaks))\n",
    "snrB = kappa_noisy_smoothedB/np.std(ndi.gaussian_filter(noise_CFIS_z05, precision_Peaks))\n",
    "\n",
    "snr_05deg = kappa_noisy_smoothed_05deg/np.std(ndi.gaussian_filter(noise_CFIS_z05, precision_Peaks))\n",
    "snr_1deg = kappa_noisy_smoothed_1deg/np.std(ndi.gaussian_filter(noise_CFIS_z05, precision_Peaks))\n",
    "snr_2deg = kappa_noisy_smoothed_2deg/np.std(ndi.gaussian_filter(noise_CFIS_z05, precision_Peaks))\n",
    "snr_4deg = kappa_noisy_smoothed_4deg/np.std(ndi.gaussian_filter(noise_CFIS_z05, precision_Peaks))"
   ]
  },
  {
   "cell_type": "code",
   "execution_count": null,
   "metadata": {},
   "outputs": [],
   "source": [
    "# Compute peak count on kappa smooth\n",
    "kappa_th = np.linspace(-0.06, 0.06, 31)\n",
    "kappa_th_center = 0.5*(kappa_th[:-1]+kappa_th[1:])\n",
    "\n",
    "peak_counts_cal, bins_cal = peaks.peaks_histogram(kappa_noisy_smoothed_cal,kappa_th)\n",
    "\n",
    "peak_counts_1deg, bins = peaks.peaks_histogram(kappa_noisy_smoothed_1deg,kappa_th)\n",
    "peak_counts_2deg, bins = peaks.peaks_histogram(kappa_noisy_smoothed_2deg,kappa_th)\n",
    "peak_counts_4deg, bins = peaks.peaks_histogram(kappa_noisy_smoothed_4deg,kappa_th)"
   ]
  },
  {
   "cell_type": "code",
   "execution_count": null,
   "metadata": {},
   "outputs": [],
   "source": [
    "# Compute peaks on snr map\n",
    "kappa_snr = np.linspace(-2,6,31)\n",
    "kappa_th_center_snr = 0.5*(kappa_snr[:-1]+kappa_snr[1:])\n",
    "\n",
    "peak_counts_cal_snr, bins_cal = peaks.peaks_histogram(snr_cal,kappa_snr)\n",
    "\n",
    "peak_counts_1deg_snr, bins = peaks.peaks_histogram(snr_1deg,kappa_snr)\n",
    "peak_counts_2deg_snr, bins = peaks.peaks_histogram(snr_2deg,kappa_snr)\n",
    "peak_counts_4deg_snr, bins = peaks.peaks_histogram(snr_4deg,kappa_snr)"
   ]
  },
  {
   "cell_type": "code",
   "execution_count": null,
   "metadata": {},
   "outputs": [],
   "source": [
    "#plot single-Gaussian peak counts : Verification\n",
    "plt.figure(figsize=(20,6))\n",
    "plt.subplot(1,2,1)\n",
    "plt.plot(kappa_th_center,peak_counts_cal,label='Global cal')\n",
    "plt.legend()\n",
    "plt.xticks(fontsize=18)\n",
    "plt.yticks(fontsize=18)\n",
    "plt.xlabel('kappa smooth', fontsize=18)\n",
    "plt.ylabel('peak counts', fontsize=18)\n",
    "plt.subplot(1,2,2)\n",
    "plt.plot(kappa_th_center_snr,peak_counts_cal_snr)\n",
    "plt.xticks(fontsize=18)\n",
    "plt.yticks(fontsize=18)\n",
    "plt.xlabel('snr', fontsize=18)\n",
    "plt.ylabel('peak counts', fontsize=18)\n",
    "plt.show()"
   ]
  },
  {
   "cell_type": "code",
   "execution_count": null,
   "metadata": {},
   "outputs": [],
   "source": [
    "# For random forest\n",
    "snr_small_05deg = reduce(72,40,snr_05deg)\n",
    "snr_small_1deg = reduce(36,20,snr_1deg)\n",
    "snr_small_2deg = reduce(18,10,snr_2deg)\n",
    "snr_small_4deg = reduce(9,5,snr_4deg)"
   ]
  },
  {
   "cell_type": "code",
   "execution_count": null,
   "metadata": {},
   "outputs": [],
   "source": [
    "# Find the peaks positions and bin it\n",
    "y_peaks, x_peaks, h_peaks = find_peaks2d(snr_cal, threshold=-2, include_border=True)\n",
    "pos_peaks = bin2d(x_peaks, y_peaks, npix=(Nx,Ny))\n",
    "\n",
    "plt.figure()\n",
    "plt.imshow(pos_peaks)\n",
    "plt.colorbar()\n",
    "plt.clim(-0.01,0.01)\n",
    "plt.show()"
   ]
  },
  {
   "cell_type": "code",
   "execution_count": null,
   "metadata": {},
   "outputs": [],
   "source": [
    "# Pos peak for random forest\n",
    "y_peaks, x_peaks, h_peaks = find_peaks2d(snr_05deg, threshold=-2, include_border=True)\n",
    "pos_peaks_05deg = bin2d(x_peaks, y_peaks, npix=(Nx,Ny))\n",
    "\n",
    "y_peaks, x_peaks, h_peaks = find_peaks2d(snr_1deg, threshold=-2, include_border=True)\n",
    "pos_peaks_1deg = bin2d(x_peaks, y_peaks, npix=(Nx,Ny))\n",
    "\n",
    "y_peaks, x_peaks, h_peaks = find_peaks2d(snr_2deg, threshold=-2, include_border=True)\n",
    "pos_peaks_2deg = bin2d(x_peaks, y_peaks, npix=(Nx,Ny))\n",
    "\n",
    "y_peaks, x_peaks, h_peaks = find_peaks2d(snr_4deg, threshold=-2, include_border=True)\n",
    "pos_peaks_4deg = bin2d(x_peaks, y_peaks, npix=(Nx,Ny))"
   ]
  },
  {
   "cell_type": "code",
   "execution_count": null,
   "metadata": {},
   "outputs": [],
   "source": [
    "plt.figure()\n",
    "plt.imshow(pos_peaks_4deg)\n",
    "plt.colorbar()\n",
    "plt.clim(-0.01,0.01)\n",
    "plt.show()"
   ]
  },
  {
   "cell_type": "code",
   "execution_count": null,
   "metadata": {},
   "outputs": [],
   "source": [
    "# Reduce pos peaks for random forest\n",
    "pos_peaks_small_05deg = reduce(72,40,pos_peaks_05deg)\n",
    "pos_peaks_small_1deg = reduce(36,20,pos_peaks_1deg)\n",
    "pos_peaks_small_2deg = reduce(18,10,pos_peaks_2deg)\n",
    "pos_peaks_small_4deg = reduce(9,5,pos_peaks_4deg)"
   ]
  },
  {
   "cell_type": "code",
   "execution_count": null,
   "metadata": {},
   "outputs": [],
   "source": [
    "plt.figure()\n",
    "plt.imshow(pos_peaks_small_4deg)\n",
    "plt.colorbar()\n",
    "plt.clim(-0.01,0.01)\n",
    "plt.show()"
   ]
  },
  {
   "cell_type": "code",
   "execution_count": null,
   "metadata": {},
   "outputs": [],
   "source": [
    "pos_peaks = np.load('./P3X/var_save/pos_peaks.npy')"
   ]
  },
  {
   "cell_type": "markdown",
   "metadata": {},
   "source": [
    "Cross correlation"
   ]
  },
  {
   "cell_type": "code",
   "execution_count": null,
   "metadata": {},
   "outputs": [],
   "source": [
    "# R shear, selec, tot diagonal and off-diag\n",
    "Rshear_diag_1deg = (Rshear_metacal_1deg[0,0,:,:]+Rshear_metacal_1deg[1,1,:,:])/2\n",
    "Rshear_off_diag_1deg = (Rshear_metacal_1deg[0,1,:,:]+Rshear_metacal_1deg[1,0,:,:])/2\n",
    "\n",
    "Rselec_diag_1deg = (Rselec_metacal_1deg[0,0,:,:]+Rselec_metacal_1deg[1,1,:,:])/2\n",
    "Rselec_off_diag_1deg = (Rselec_metacal_1deg[0,1,:,:]+Rselec_metacal_1deg[1,0,:,:])/2\n",
    "\n",
    "Rtot_diag_1deg = (Rtot_metacal_1deg[0,0,:,:]+Rtot_metacal_1deg[1,1,:,:])/2\n",
    "Rtot_off_diag_1deg = (Rtot_metacal_1deg[0,1,:,:]+Rtot_metacal_1deg[1,0,:,:])/2"
   ]
  },
  {
   "cell_type": "code",
   "execution_count": null,
   "metadata": {},
   "outputs": [],
   "source": [
    "# R shear, selec, tot diagonal and off-diag\n",
    "Rshear_diag_05deg = (Rshear_metacal_05deg[0,0,:,:]+Rshear_metacal_05deg[1,1,:,:])/2\n",
    "Rshear_off_diag_05deg = (Rshear_metacal_05deg[0,1,:,:]+Rshear_metacal_05deg[1,0,:,:])/2\n",
    "\n",
    "Rselec_diag_05deg = (Rselec_metacal_05deg[0,0,:,:]+Rselec_metacal_05deg[1,1,:,:])/2\n",
    "Rselec_off_diag_05deg = (Rselec_metacal_05deg[0,1,:,:]+Rselec_metacal_05deg[1,0,:,:])/2\n",
    "\n",
    "Rtot_diag_05deg = (Rtot_metacal_05deg[0,0,:,:]+Rtot_metacal_05deg[1,1,:,:])/2\n",
    "Rtot_off_diag_05deg = (Rtot_metacal_05deg[0,1,:,:]+Rtot_metacal_05deg[1,0,:,:])/2"
   ]
  },
  {
   "cell_type": "code",
   "execution_count": null,
   "metadata": {},
   "outputs": [],
   "source": [
    "Rshear_diag_2deg = (Rshear_metacal_2deg[0,0,:,:]+Rshear_metacal_2deg[1,1,:,:])/2\n",
    "Rshear_off_diag_2deg = (Rshear_metacal_2deg[0,1,:,:]+Rshear_metacal_2deg[1,0,:,:])/2\n",
    "\n",
    "Rselec_diag_2deg = (Rselec_metacal_2deg[0,0,:,:]+Rselec_metacal_2deg[1,1,:,:])/2\n",
    "Rselec_off_diag_2deg = (Rselec_metacal_2deg[0,1,:,:]+Rselec_metacal_2deg[1,0,:,:])/2\n",
    "\n",
    "Rtot_diag_2deg = (Rtot_metacal_2deg[0,0,:,:]+Rtot_metacal_2deg[1,1,:,:])/2\n",
    "Rtot_off_diag_2deg = (Rtot_metacal_2deg[0,1,:,:]+Rtot_metacal_2deg[1,0,:,:])/2\n",
    "\n",
    "Rshear_diag_4deg = (Rshear_metacal_4deg[0,0,:,:]+Rshear_metacal_4deg[1,1,:,:])/2\n",
    "Rshear_off_diag_4deg = (Rshear_metacal_4deg[0,1,:,:]+Rshear_metacal_4deg[1,0,:,:])/2\n",
    "\n",
    "Rselec_diag_4deg = (Rselec_metacal_4deg[0,0,:,:]+Rselec_metacal_4deg[1,1,:,:])/2\n",
    "Rselec_off_diag_4deg = (Rselec_metacal_4deg[0,1,:,:]+Rselec_metacal_4deg[1,0,:,:])/2\n",
    "\n",
    "Rtot_diag_4deg = (Rtot_metacal_4deg[0,0,:,:]+Rtot_metacal_4deg[1,1,:,:])/2\n",
    "Rtot_off_diag_4deg = (Rtot_metacal_4deg[0,1,:,:]+Rtot_metacal_4deg[1,0,:,:])/2"
   ]
  },
  {
   "cell_type": "code",
   "execution_count": null,
   "metadata": {},
   "outputs": [],
   "source": [
    "# Find area where low number of galaxy\n",
    "a = np.where(ngaltot > (np.mean(ngaltot))/2)"
   ]
  },
  {
   "cell_type": "code",
   "execution_count": null,
   "metadata": {},
   "outputs": [],
   "source": [
    "data = {'n gal': np.ravel(ngaltot[a]),\n",
    "        'kappa_E': np.ravel(kappaE_cal[a]),\n",
    "        'kappa_E smooth': np.ravel(kappa_noisy_smoothed_cal[a]),\n",
    "        'kappa_B': np.ravel(kappaB_cal[a]),\n",
    "        'kappa_B smooth': np.ravel(kappa_noisy_smoothedB[a]),\n",
    "        'kappa_E 05 deg': np.ravel(kappaE_05deg[a]),\n",
    "        'kappa_B 05 deg': np.ravel(kappaB_05deg[a]),\n",
    "        'kappa_E 1 deg': np.ravel(kappaE_1deg[a]),\n",
    "        'kappa_B 1 deg': np.ravel(kappaB_1deg[a]),\n",
    "        'kappa_E 2 deg': np.ravel(kappaE_2deg[a]),\n",
    "        'kappa_B 2 deg': np.ravel(kappaB_2deg[a]),\n",
    "        'kappa_E 4 deg': np.ravel(kappaE_4deg[a]),\n",
    "        'kappa_B 4 deg': np.ravel(kappaB_4deg[a]),\n",
    "        'R_11 shear 05 deg': np.ravel(Rshear_metacal_05deg[0,0,:,:][a]),\n",
    "        'R_22 shear 05 deg': np.ravel(Rshear_metacal_05deg[1,1,:,:][a]),\n",
    "        'R_12 shear 05 deg': np.ravel(Rshear_metacal_05deg[0,1,:,:][a]),\n",
    "        'R_21 shear 05 deg': np.ravel(Rshear_metacal_05deg[1,0,:,:][a]),\n",
    "        'R_11 selec 05 deg': np.ravel(Rselec_metacal_05deg[0,0,:,:][a]),\n",
    "        'R_22 selec 05 deg': np.ravel(Rselec_metacal_05deg[1,1,:,:][a]),\n",
    "        'R_12 selec 05 deg': np.ravel(Rselec_metacal_05deg[0,1,:,:][a]),\n",
    "        'R_21 selec 05 deg': np.ravel(Rselec_metacal_05deg[1,0,:,:][a]),\n",
    "        'R_11 tot 05 deg': np.ravel(Rtot_metacal_05deg[0,0,:,:][a]),\n",
    "        'R_22 tot 05 deg': np.ravel(Rtot_metacal_05deg[1,1,:,:][a]),\n",
    "        'R_12 tot 05 deg': np.ravel(Rtot_metacal_05deg[0,1,:,:][a]),\n",
    "        'R_21 tot 05 deg': np.ravel(Rtot_metacal_05deg[1,0,:,:][a]),\n",
    "        'R_11 shear 1 deg': np.ravel(Rshear_metacal_1deg[0,0,:,:][a]),\n",
    "        'R_22 shear 1 deg': np.ravel(Rshear_metacal_1deg[1,1,:,:][a]),\n",
    "        'R_12 shear 1 deg': np.ravel(Rshear_metacal_1deg[0,1,:,:][a]),\n",
    "        'R_21 shear 1 deg': np.ravel(Rshear_metacal_1deg[1,0,:,:][a]),\n",
    "        'R_11 selec 1 deg': np.ravel(Rselec_metacal_1deg[0,0,:,:][a]),\n",
    "        'R_22 selec 1 deg': np.ravel(Rselec_metacal_1deg[1,1,:,:][a]),\n",
    "        'R_12 selec 1 deg': np.ravel(Rselec_metacal_1deg[0,1,:,:][a]),\n",
    "        'R_21 selec 1 deg': np.ravel(Rselec_metacal_1deg[1,0,:,:][a]),\n",
    "        'R_11 tot 1 deg': np.ravel(Rtot_metacal_1deg[0,0,:,:][a]),\n",
    "        'R_22 tot 1 deg': np.ravel(Rtot_metacal_1deg[1,1,:,:][a]),\n",
    "        'R_12 tot 1 deg': np.ravel(Rtot_metacal_1deg[0,1,:,:][a]),\n",
    "        'R_21 tot 1 deg': np.ravel(Rtot_metacal_1deg[1,0,:,:][a]),\n",
    "        'R_11 shear 2 deg': np.ravel(Rshear_metacal_2deg[0,0,:,:][a]),\n",
    "        'R_22 shear 2 deg': np.ravel(Rshear_metacal_2deg[1,1,:,:][a]),\n",
    "        'R_12 shear 2 deg': np.ravel(Rshear_metacal_2deg[0,1,:,:][a]),\n",
    "        'R_21 shear 2 deg': np.ravel(Rshear_metacal_2deg[1,0,:,:][a]),\n",
    "        'R_11 selec 2 deg': np.ravel(Rselec_metacal_2deg[0,0,:,:][a]),\n",
    "        'R_22 selec 2 deg': np.ravel(Rselec_metacal_2deg[1,1,:,:][a]),\n",
    "        'R_12 selec 2 deg': np.ravel(Rselec_metacal_2deg[0,1,:,:][a]),\n",
    "        'R_21 selec 2 deg': np.ravel(Rselec_metacal_2deg[1,0,:,:][a]),\n",
    "        'R_11 tot 2 deg': np.ravel(Rtot_metacal_2deg[0,0,:,:][a]),\n",
    "        'R_22 tot 2 deg': np.ravel(Rtot_metacal_2deg[1,1,:,:][a]),\n",
    "        'R_12 tot 2 deg': np.ravel(Rtot_metacal_2deg[0,1,:,:][a]),\n",
    "        'R_21 tot 2 deg': np.ravel(Rtot_metacal_2deg[1,0,:,:][a]),\n",
    "        'R_11 shear 4 deg': np.ravel(Rshear_metacal_4deg[0,0,:,:][a]),\n",
    "        'R_22 shear 4 deg': np.ravel(Rshear_metacal_4deg[1,1,:,:][a]),\n",
    "        'R_12 shear 4 deg': np.ravel(Rshear_metacal_4deg[0,1,:,:][a]),\n",
    "        'R_21 shear 4 deg': np.ravel(Rshear_metacal_4deg[1,0,:,:][a]),\n",
    "        'R_11 selec 4 deg': np.ravel(Rselec_metacal_4deg[0,0,:,:][a]),\n",
    "        'R_22 selec 4 deg': np.ravel(Rselec_metacal_4deg[1,1,:,:][a]),\n",
    "        'R_12 selec 4 deg': np.ravel(Rselec_metacal_4deg[0,1,:,:][a]),\n",
    "        'R_21 selec 4 deg': np.ravel(Rselec_metacal_4deg[1,0,:,:][a]),\n",
    "        'R_11 tot 4 deg': np.ravel(Rtot_metacal_4deg[0,0,:,:][a]),\n",
    "        'R_22 tot 4 deg': np.ravel(Rtot_metacal_4deg[1,1,:,:][a]),\n",
    "        'R_12 tot 4 deg': np.ravel(Rtot_metacal_4deg[0,1,:,:][a]),\n",
    "        'R_21 tot 4 deg': np.ravel(Rtot_metacal_4deg[1,0,:,:][a]),\n",
    "        'psf 1': np.ravel(psf1map[a]),\n",
    "        'psf 2': np.ravel(psf2map[a]),\n",
    "        'module psf': np.ravel(module_psf_map[a]),\n",
    "        'size gal': np.ravel(size_gal_map[a]),\n",
    "        'n epoch': np.ravel(nepoch_map[a]),\n",
    "        'mag': np.ravel(mag_map[a]),\n",
    "        'snr': np.ravel(snr_map[a]),\n",
    "        'snr ngmix': np.ravel(snr_ngmix_map[a]),\n",
    "        'size psf': np.ravel(tpsf_map[a]),\n",
    "        'weight gal': np.ravel(w_ngmix_map[a]),\n",
    "        'R diag shear 05 deg': np.ravel(Rshear_diag_05deg[a]),\n",
    "        'R off diag shear 05 deg': np.ravel(Rshear_off_diag_05deg[a]),\n",
    "        'R diag selec 05 deg': np.ravel(Rselec_diag_05deg[a]),\n",
    "        'R off diag selec 05 deg': np.ravel(Rselec_off_diag_05deg[a]),\n",
    "        'R diag tot 05 deg': np.ravel(Rtot_diag_05deg[a]),\n",
    "        'R off diag tot 05 deg': np.ravel(Rtot_off_diag_05deg[a]),\n",
    "        'R diag shear 1 deg': np.ravel(Rshear_diag_1deg[a]),\n",
    "        'R off diag shear 1 deg': np.ravel(Rshear_off_diag_1deg[a]),\n",
    "        'R diag selec 1 deg': np.ravel(Rselec_diag_1deg[a]),\n",
    "        'R off diag selec 1 deg': np.ravel(Rselec_off_diag_1deg[a]),\n",
    "        'R diag tot 1 deg': np.ravel(Rtot_diag_1deg[a]),\n",
    "        'R off diag tot 1 deg': np.ravel(Rtot_off_diag_1deg[a]),\n",
    "        'R diag shear 2 deg': np.ravel(Rshear_diag_2deg[a]),\n",
    "        'R off diag shear 2 deg': np.ravel(Rshear_off_diag_2deg[a]),\n",
    "        'R diag selec 2 deg': np.ravel(Rselec_diag_2deg[a]),\n",
    "        'R off diag selec 2 deg': np.ravel(Rselec_off_diag_2deg[a]),\n",
    "        'R diag tot 2 deg': np.ravel(Rtot_diag_2deg[a]),\n",
    "        'R off diag tot 2 deg': np.ravel(Rtot_off_diag_2deg[a]),\n",
    "        'R diag shear 4 deg': np.ravel(Rshear_diag_4deg[a]),\n",
    "        'R off diag shear 4 deg': np.ravel(Rshear_off_diag_4deg[a]),\n",
    "        'R diag selec 4 deg': np.ravel(Rselec_diag_4deg[a]),\n",
    "        'R off diag selec 4 deg': np.ravel(Rselec_off_diag_4deg[a]),\n",
    "        'R diag tot 4 deg': np.ravel(Rtot_diag_4deg[a]),\n",
    "        'R off diag tot 4 deg': np.ravel(Rtot_off_diag_4deg[a]),\n",
    "        'peaks': np.ravel(pos_peaks[a]),\n",
    "        'c1 05 deg': np.ravel(c1_ngmix_metacal_05deg[a]),\n",
    "        'c2 05 deg': np.ravel(c2_ngmix_metacal_05deg[a]),\n",
    "        'c1 1 deg': np.ravel(c1_ngmix_metacal_1deg[a]),\n",
    "        'c2 1 deg': np.ravel(c2_ngmix_metacal_1deg[a]),\n",
    "        'c1 2 deg': np.ravel(c1_ngmix_metacal_2deg[a]),\n",
    "        'c2 2 deg': np.ravel(c2_ngmix_metacal_2deg[a]),\n",
    "        'c1 4 deg': np.ravel(c1_ngmix_metacal_4deg[a]),\n",
    "        'c2 4 deg': np.ravel(c2_ngmix_metacal_4deg[a])\n",
    "        }"
   ]
  },
  {
   "cell_type": "code",
   "execution_count": null,
   "metadata": {},
   "outputs": [],
   "source": [
    "df_all = pd.DataFrame(data)\n",
    "df_all.to_csv('./P3X/all_data.csv',index=False)"
   ]
  },
  {
   "cell_type": "code",
   "execution_count": null,
   "metadata": {},
   "outputs": [],
   "source": [
    "# For random forest\n",
    "#Rsh_diag_05deg = (R_shear_05deg[0,0,:,:]+R_shear_05deg[1,1,:,:])/2\n",
    "#Rse_diag_05deg = (R_selec_05deg[0,0,:,:]+R_selec_05deg[1,1,:,:])/2\n",
    "\n",
    "#Rsh_diag_1deg = (R_shear_1deg[0,0,:,:]+R_shear_1deg[1,1,:,:])/2\n",
    "#Rse_diag_1deg = (R_selec_1deg[0,0,:,:]+R_selec_1deg[1,1,:,:])/2\n",
    "\n",
    "#Rsh_diag_2deg = (R_shear_2deg[0,0,:,:]+R_shear_2deg[1,1,:,:])/2\n",
    "#Rse_diag_2deg = (R_selec_2deg[0,0,:,:]+R_selec_2deg[1,1,:,:])/2\n",
    "\n",
    "#Rsh_diag_4deg = (R_shear_4deg[0,0,:,:]+R_shear_4deg[1,1,:,:])/2\n",
    "#Rse_diag_4deg = (R_selec_4deg[0,0,:,:]+R_selec_4deg[1,1,:,:])/2\n",
    "\n",
    "#data_rf = {'n gal 05 deg': np.ravel(ngal_05deg),\n",
    "#        'gmap1 05 deg' : np.ravel(gmap_05deg_comp1),\n",
    "#        'gmap2 05 deg' : np.ravel(gmap_05deg_comp2),\n",
    "#        'snr 05 deg': np.ravel(snr_small_05deg),\n",
    "#        'module psf 05 deg': np.ravel(module_psf_map_05deg),\n",
    "#        'size gal 05 deg': np.ravel(size_gal_map_05deg),\n",
    "#        'n epoch 05 deg': np.ravel(nepoch_map_05deg),\n",
    "#        'mag 05 deg': np.ravel(mag_map_05deg),\n",
    "#        'snr 05 deg': np.ravel(snr_map_05deg),\n",
    "#        'c1 05 deg': np.ravel(c1_ngmix_05deg),\n",
    "#        'c2 05 deg': np.ravel(c2_ngmix_05deg),\n",
    "#        'pos peak 05 deg': np.ravel(pos_peaks_small_05deg),\n",
    "#        'R diag shear 05 deg': np.ravel(Rsh_diag_05deg),\n",
    "#        'R diag selec 05 deg': np.ravel(Rse_diag_05deg)\n",
    "#        }\n",
    "\n",
    "#df_rf = pd.DataFrame(data_rf)\n",
    "#df_rf.to_csv('./P3X/random_forest/data_for_random_forest_05deg_new.csv',index=False)"
   ]
  },
  {
   "cell_type": "code",
   "execution_count": null,
   "metadata": {},
   "outputs": [],
   "source": [
    "cmap = sns.diverging_palette(250, 20, as_cmap=True,n=200)"
   ]
  },
  {
   "cell_type": "code",
   "execution_count": null,
   "metadata": {},
   "outputs": [],
   "source": [
    "def discrete_cmap(N, base_cmap=None):\n",
    "    \"\"\"Create an N-bin discrete colormap from the specified input map\"\"\"\n",
    "\n",
    "    # Note that if base_cmap is a string or None, you can simply do\n",
    "    #    return plt.cm.get_cmap(base_cmap, N)\n",
    "    # The following works for string, None, or a colormap instance:\n",
    "\n",
    "    base = plt.cm.get_cmap(base_cmap)\n",
    "    color_list = base(np.linspace(0, 1, N))\n",
    "    cmap_name = base.name + str(N)\n",
    "    return base.from_list(cmap_name, color_list, N)"
   ]
  },
  {
   "cell_type": "code",
   "execution_count": null,
   "metadata": {},
   "outputs": [],
   "source": [
    "new_cmap=discrete_cmap(10,'RdBu')"
   ]
  },
  {
   "cell_type": "code",
   "execution_count": null,
   "metadata": {},
   "outputs": [],
   "source": [
    "df = pd.DataFrame(data,columns=['n gal','kappa_E','kappa_E smooth','kappa_B','kappa_B smooth','kappa_E 1 deg',\n",
    "                                'kappa_B 1 deg','R_11 shear 1 deg','R_22 shear 1 deg','R_12 shear 1 deg',\n",
    "                                'R_21 shear 1 deg','R_11 selec 1 deg','R_22 selec 1 deg', 'R_12 selec 1 deg',\n",
    "                                'R_21 selec 1 deg','R_11 tot 1 deg','R_22 tot 1 deg','R_12 tot 1 deg',\n",
    "                                'R_21 tot 1 deg','psf 1','psf 2','module psf','size gal','n epoch','mag','size psf',\n",
    "                                'snr','weight gal','peaks','c1 1 deg','c2 1 deg'])\n",
    "\n",
    "df2 = pd.DataFrame(data,columns=['n gal','kappa_E 1 deg','kappa_B 1 deg','R diag shear 1 deg','R off diag shear 1 deg',\n",
    "                                 'R diag selec 1 deg','R off diag selec 1 deg','R diag tot 1 deg',\n",
    "                                 'R off diag tot 1 deg','module psf','c1 1 deg','c2 1 deg'])"
   ]
  },
  {
   "cell_type": "code",
   "execution_count": null,
   "metadata": {},
   "outputs": [],
   "source": [
    "corrMatrix = df.corr()\n",
    "plt.figure(figsize=(15,15))\n",
    "plt.yticks(fontsize=14)\n",
    "plt.xticks(fontsize=14)\n",
    "sns.heatmap(corrMatrix, cmap=new_cmap, annot=False, annot_kws={\"fontsize\":8},vmin=-1,vmax=1.,linewidth=0.2)\n",
    "plt.savefig('./P3X/matrix_corr.png')\n",
    "plt.show()"
   ]
  },
  {
   "cell_type": "code",
   "execution_count": null,
   "metadata": {},
   "outputs": [],
   "source": [
    "from scipy import stats"
   ]
  },
  {
   "cell_type": "code",
   "execution_count": null,
   "metadata": {},
   "outputs": [],
   "source": [
    "stats.pearsonr(psf1map[a],c1_ngmix_metacal_1deg[a])"
   ]
  },
  {
   "cell_type": "code",
   "execution_count": null,
   "metadata": {},
   "outputs": [],
   "source": [
    "corrMatrix = df2.corr()\n",
    "plt.figure(figsize=(12,12))\n",
    "plt.yticks(fontsize=14)\n",
    "plt.xticks(fontsize=14)\n",
    "sns.heatmap(corrMatrix, cmap=new_cmap, annot=True, annot_kws={\"fontsize\":9},vmin=-1,vmax=1.)\n",
    "plt.savefig('./P3X/matrix_corr_reduite.png',bbox_inches=\"tight\")\n",
    "plt.show()"
   ]
  },
  {
   "cell_type": "code",
   "execution_count": null,
   "metadata": {},
   "outputs": [],
   "source": [
    "df_2deg = pd.DataFrame(data,columns=['n gal','kappa_E','kappa_E smooth','kappa_B','kappa_B smooth','kappa_E 2 deg',\n",
    "                                'kappa_B 2 deg','R_11 shear 2 deg','R_22 shear 2 deg','R_12 shear 2 deg','R_21 shear 2 deg',\n",
    "                                'R_11 selec 2 deg','R_22 selec 2 deg','R_12 selec 2 deg','R_21 selec 2 deg','R_11 tot 2 deg',\n",
    "                                'R_22 tot 2 deg','R_12 tot 2 deg','R_21 tot 2 deg','psf 1','psf 2','module psf','size gal',\n",
    "                                'n epoch','mag','size psf','snr','weight gal','peaks','c1 2 deg','c2 2 deg'])\n",
    "\n",
    "df2_2deg = pd.DataFrame(data,columns=['n gal','kappa_E 2 deg','kappa_B 2 deg','R diag shear 2 deg','R off diag shear 2 deg',\n",
    "                                 'R diag selec 2 deg','R off diag selec 2 deg','R diag tot 2 deg','R off diag tot 2 deg',\n",
    "                                'module psf','c1 2 deg','c2 2 deg'])"
   ]
  },
  {
   "cell_type": "code",
   "execution_count": null,
   "metadata": {},
   "outputs": [],
   "source": [
    "corrMatrix = df_2deg.corr()\n",
    "plt.figure(figsize=(15,15))\n",
    "plt.yticks(fontsize=14)\n",
    "plt.xticks(fontsize=14)\n",
    "sns.heatmap(corrMatrix, cmap=new_cmap, annot=False, annot_kws={\"fontsize\":8},vmin=-1,vmax=1.,linewidth=0.2)\n",
    "plt.savefig('./P3X/matrix_corr_2deg.png')\n",
    "plt.show()"
   ]
  },
  {
   "cell_type": "code",
   "execution_count": null,
   "metadata": {},
   "outputs": [],
   "source": [
    "corrMatrix = df2_2deg.corr()\n",
    "plt.figure(figsize=(12,12))\n",
    "plt.yticks(fontsize=14)\n",
    "plt.xticks(fontsize=14)\n",
    "sns.heatmap(corrMatrix, cmap=new_cmap, annot=True, annot_kws={\"fontsize\":9},vmin=-1,vmax=1.)\n",
    "plt.savefig('./P3X/matrix_corr_reduite_2deg.png',bbox_inches=\"tight\")\n",
    "plt.show()"
   ]
  },
  {
   "cell_type": "code",
   "execution_count": null,
   "metadata": {},
   "outputs": [],
   "source": [
    "df_4deg = pd.DataFrame(data,columns=['n gal','kappa_E','kappa_E smooth','kappa_B','kappa_B smooth','kappa_E 4 deg',\n",
    "                                'kappa_B 4 deg','R_11 shear 4 deg','R_22 shear 4 deg','R_12 shear 4 deg','R_21 shear 4 deg',\n",
    "                                'R_11 selec 4 deg','R_22 selec 4 deg','R_12 selec 4 deg','R_21 selec 4 deg','R_11 tot 4 deg',\n",
    "                                'R_22 tot 4 deg','R_12 tot 4 deg','R_21 tot 4 deg','psf 1','psf 2','module psf','size gal',\n",
    "                                'n epoch','mag','size psf','snr','weight gal','peaks','c1 4 deg','c2 4 deg'])\n",
    "\n",
    "df2_4deg = pd.DataFrame(data,columns=['n gal','kappa_E 4 deg','kappa_B 4 deg','R diag shear 4 deg','R off diag shear 4 deg',\n",
    "                                 'R diag selec 4 deg','R off diag selec 4 deg','R diag tot 4 deg','R off diag tot 4 deg',\n",
    "                                'module psf','c1 4 deg','c2 4 deg'])"
   ]
  },
  {
   "cell_type": "code",
   "execution_count": null,
   "metadata": {},
   "outputs": [],
   "source": [
    "corrMatrix = df_4deg.corr()\n",
    "plt.figure(figsize=(15,15))\n",
    "plt.yticks(fontsize=14)\n",
    "plt.xticks(fontsize=14)\n",
    "sns.heatmap(corrMatrix, cmap=new_cmap, annot=False, annot_kws={\"fontsize\":8},vmin=-1,vmax=1.,linewidth=0.2)\n",
    "plt.savefig('./P3X/matrix_corr_4deg.png')\n",
    "plt.show()"
   ]
  },
  {
   "cell_type": "code",
   "execution_count": null,
   "metadata": {},
   "outputs": [],
   "source": [
    "corrMatrix = df2_4deg.corr()\n",
    "plt.figure(figsize=(12,12))\n",
    "plt.yticks(fontsize=14)\n",
    "plt.xticks(fontsize=14)\n",
    "sns.heatmap(corrMatrix, cmap=new_cmap, annot=True, annot_kws={\"fontsize\":9},vmin=-1,vmax=1.)\n",
    "plt.savefig('./P3X/matrix_corr_reduite_4deg.png',bbox_inches=\"tight\")\n",
    "plt.show()"
   ]
  },
  {
   "cell_type": "code",
   "execution_count": null,
   "metadata": {},
   "outputs": [],
   "source": [
    "df_05deg = pd.DataFrame(data,columns=['n gal','kappa_E','kappa_E smooth','kappa_B','kappa_B smooth','kappa_E 05 deg',\n",
    "                                'kappa_B 05 deg','R_11 shear 05 deg','R_22 shear 05 deg','R_12 shear 05 deg','R_21 shear 05 deg',\n",
    "                                'R_11 selec 05 deg','R_22 selec 05 deg','R_12 selec 05 deg','R_21 selec 05 deg','R_11 tot 05 deg',\n",
    "                                'R_22 tot 05 deg','R_12 tot 05 deg','R_21 tot 05 deg','psf 1','psf 2','module psf','size gal',\n",
    "                                'n epoch','mag','size psf','snr','weight gal','peaks','c1 05 deg','c2 05 deg'])\n",
    "\n",
    "df2_05deg = pd.DataFrame(data,columns=['n gal','kappa_E 05 deg','kappa_B 05 deg','R diag shear 05 deg','R off diag shear 05 deg',\n",
    "                                 'R diag selec 05 deg','R off diag selec 05 deg','R diag tot 05 deg','R off diag tot 05 deg',\n",
    "                                'module psf','c1 05 deg','c2 05 deg'])"
   ]
  },
  {
   "cell_type": "code",
   "execution_count": null,
   "metadata": {},
   "outputs": [],
   "source": [
    "corrMatrix = df_05deg.corr()\n",
    "plt.figure(figsize=(15,15))\n",
    "plt.yticks(fontsize=14)\n",
    "plt.xticks(fontsize=14)\n",
    "sns.heatmap(corrMatrix, cmap=new_cmap, annot=False, annot_kws={\"fontsize\":8},vmin=-1,vmax=1.,linewidth=0.2)\n",
    "plt.savefig('./P3X/matrix_corr_05deg.png')\n",
    "plt.show()"
   ]
  },
  {
   "cell_type": "code",
   "execution_count": null,
   "metadata": {},
   "outputs": [],
   "source": [
    "corrMatrix = df2_05deg.corr()\n",
    "plt.figure(figsize=(12,12))\n",
    "plt.yticks(fontsize=14)\n",
    "plt.xticks(fontsize=14)\n",
    "sns.heatmap(corrMatrix, cmap=new_cmap, annot=True, annot_kws={\"fontsize\":9},vmin=-1,vmax=1.)\n",
    "plt.savefig('./P3X/matrix_corr_reduite_05deg.png',bbox_inches=\"tight\")\n",
    "plt.show()"
   ]
  },
  {
   "cell_type": "code",
   "execution_count": null,
   "metadata": {},
   "outputs": [],
   "source": [
    "psf_e_corr2(np.ravel(ngaltot[a]),np.ravel(Rshear_diag_1deg[a]),\n",
    "            'ngal_Rshear','R shear','ngal', weights=None,n_bin=50,save_plot=False)"
   ]
  },
  {
   "cell_type": "code",
   "execution_count": null,
   "metadata": {},
   "outputs": [],
   "source": [
    "stats.pearsonr(ngaltot[a],Rshear_diag_1deg[a])"
   ]
  },
  {
   "cell_type": "code",
   "execution_count": null,
   "metadata": {},
   "outputs": [],
   "source": [
    "psf_e_corr2(np.ravel(ngaltot[a]),np.ravel(tpsf_map[a]),\n",
    "            'psf','psf','ngal', weights=None,n_bin=100,save_plot=False)"
   ]
  },
  {
   "cell_type": "code",
   "execution_count": null,
   "metadata": {},
   "outputs": [],
   "source": [
    "from scipy import stats\n",
    "stats.pearsonr(ngaltot[a],tpsf_map[a])"
   ]
  },
  {
   "cell_type": "code",
   "execution_count": null,
   "metadata": {},
   "outputs": [],
   "source": [
    "psf_e_corr2(np.ravel(ngaltot[a]),np.ravel(Rshear_diag_2deg[a]),\n",
    "            'ngal_Rshear','R shear','ngal', weights=None,n_bin=50,save_plot=False)"
   ]
  },
  {
   "cell_type": "code",
   "execution_count": null,
   "metadata": {},
   "outputs": [],
   "source": [
    "stats.pearsonr(ngaltot[a],Rshear_diag_2deg[a])"
   ]
  },
  {
   "cell_type": "code",
   "execution_count": null,
   "metadata": {},
   "outputs": [],
   "source": [
    "psf_e_corr2(np.ravel(ngaltot[a]),np.ravel(Rshear_diag_4deg[a]),\n",
    "            'ngal_Rshear','R shear','ngal', weights=None,n_bin=50,save_plot=False)"
   ]
  },
  {
   "cell_type": "code",
   "execution_count": null,
   "metadata": {},
   "outputs": [],
   "source": [
    "stats.pearsonr(ngaltot[a],Rshear_diag_4deg[a])"
   ]
  },
  {
   "cell_type": "code",
   "execution_count": null,
   "metadata": {},
   "outputs": [],
   "source": [
    "psf_e_corr2(np.ravel(ngaltot[a]),np.ravel(Rselec_diag_1deg[a]),\n",
    "            'ngal_Rselec','R selec','ngal', weights=None,n_bin=50,save_plot=False)"
   ]
  },
  {
   "cell_type": "code",
   "execution_count": null,
   "metadata": {},
   "outputs": [],
   "source": [
    "stats.pearsonr(ngaltot[a],Rselec_diag_1deg[a])"
   ]
  },
  {
   "cell_type": "code",
   "execution_count": null,
   "metadata": {},
   "outputs": [],
   "source": [
    "psf_e_corr2(np.ravel(ngaltot[a]),np.ravel(Rselec_diag_2deg[a]),\n",
    "            'ngal_Rselec','R selec','ngal', weights=None,n_bin=50,save_plot=False)"
   ]
  },
  {
   "cell_type": "code",
   "execution_count": null,
   "metadata": {},
   "outputs": [],
   "source": [
    "psf_e_corr2(np.ravel(ngaltot[a]),np.ravel(Rselec_diag_4deg[a]),\n",
    "            'ngal_Rselec','R selec','ngal', weights=None,n_bin=50,save_plot=False)"
   ]
  },
  {
   "cell_type": "code",
   "execution_count": null,
   "metadata": {},
   "outputs": [],
   "source": [
    "psf_e_corr2(np.ravel(ngaltot[a]),np.ravel(Rtot_diag_1deg[a]),\n",
    "            'ngal_Rtot','R tot','ngal', weights=None,n_bin=50,save_plot=False)"
   ]
  },
  {
   "cell_type": "code",
   "execution_count": null,
   "metadata": {},
   "outputs": [],
   "source": [
    "psf_e_corr2(np.ravel(ngaltot[a]),np.ravel(Rtot_diag_2deg[a]),\n",
    "            'ngal_Rtot','R tot','ngal', weights=None,n_bin=50,save_plot=False)"
   ]
  },
  {
   "cell_type": "code",
   "execution_count": null,
   "metadata": {},
   "outputs": [],
   "source": [
    "psf_e_corr2(np.ravel(ngaltot[a]),np.ravel(Rtot_diag_4deg[a]),\n",
    "            'ngal_Rtot','R tot','ngal', weights=None,n_bin=50,save_plot=False)"
   ]
  },
  {
   "cell_type": "markdown",
   "metadata": {},
   "source": [
    "End of local calib"
   ]
  },
  {
   "cell_type": "code",
   "execution_count": null,
   "metadata": {},
   "outputs": [],
   "source": [
    "n_gal_ngmix = len(g_ngmix[0])\n",
    "d_gal_ngmix = n_gal_ngmix / area_amin2\n",
    "print(\"Final number of galaxies : {}\\nGalaxy density : {:.2f} gal/arcmin2\".format(n_gal_ngmix, d_gal_ngmix))\n",
    "stat_file.write(\"Final number of galaxies : {}\\nGalaxy density : {:.2f} gal/arcmin2\\n\".format(n_gal_ngmix, d_gal_ngmix))"
   ]
  },
  {
   "cell_type": "code",
   "execution_count": null,
   "metadata": {},
   "outputs": [],
   "source": [
    "plt.figure(figsize=(30, 30))\n",
    "plt.hexbin(ra_ngmix, dec_ngmix, gridsize=1000)\n",
    "cbar = plt.colorbar()\n",
    "cbar.set_label('Number count', rotation=270)\n",
    "plt.title(\"Galaxy number count\")\n",
    "plt.xlabel(\"Ra (Deg)\")\n",
    "plt.ylabel(\"Dec (Deg)\")\n",
    "plt.savefig(plot_dir + 'galaxy_number_count_ngmix.png')"
   ]
  },
  {
   "cell_type": "code",
   "execution_count": null,
   "metadata": {},
   "outputs": [],
   "source": [
    "ra_all = dd['XWIN_WORLD']\n",
    "dec_all = dd['YWIN_WORLD']\n",
    "plt.figure(figsize=(30, 30))\n",
    "plt.hexbin(ra_all, dec_all, gridsize=100)\n",
    "cbar = plt.colorbar()\n",
    "cbar.set_label('Number count', rotation=270)\n",
    "plt.title(\"All objects\")\n",
    "plt.xlabel(\"Ra (Deg)\")\n",
    "dummy = plt.ylabel(\"Dec (Deg)\")"
   ]
  },
  {
   "cell_type": "markdown",
   "metadata": {},
   "source": [
    "#### Galsim"
   ]
  },
  {
   "cell_type": "code",
   "execution_count": null,
   "metadata": {},
   "outputs": [],
   "source": [
    "plt.figure(figsize=(30,20))\n",
    "plt.hist(dd['NGMIX_FLUX_NOSHEAR'][m_gal_ngmix]/dd['NGMIX_FLUX_ERR_NOSHEAR'][m_gal_ngmix], 500, range=(0,200), histtype='step', density=True, label='flux snr ngmix')\n",
    "plt.hist(dd['SNR_WIN'][m_gal_ngmix], 500, range=(0,200), histtype='step', density=True, label='SEx snr ngmix')\n",
    "plt.vlines(x=10, ymax=plt.ylim()[1], ymin=0, linestyles='--', colors='k', label='cut : 10')\n",
    "plt.legend()\n",
    "plt.xlabel('SNR')\n",
    "plt.ylabel('frequency')\n",
    "plt.title('SNR cut')"
   ]
  },
  {
   "cell_type": "code",
   "execution_count": null,
   "metadata": {},
   "outputs": [],
   "source": [
    "plt.figure(figsize=(30,20))\n",
    "plt.hist(dd['SNR_WIN'][m_gal_galsim], 500, range=(0,200), histtype='step', density=True, label='SEx snr galsim')\n",
    "plt.vlines(x=10, ymax=plt.ylim()[1], ymin=0, linestyles='--', colors='k', label='cut : 10')\n",
    "plt.legend()\n",
    "plt.xlabel('SNR')\n",
    "plt.ylabel('frequency')\n",
    "dummy = plt.title('SNR cut')"
   ]
  },
  {
   "cell_type": "code",
   "execution_count": null,
   "metadata": {},
   "outputs": [],
   "source": [
    "gal_metacal_galsim = metacal(dd, m_gal_galsim, prefix='GALSIM')"
   ]
  },
  {
   "cell_type": "code",
   "execution_count": null,
   "metadata": {},
   "outputs": [],
   "source": [
    "g_galsim = np.array([gal_metacal_galsim.ns['g1'][gal_metacal_galsim.mask_dict['ns']], gal_metacal_galsim.ns['g2'][gal_metacal_galsim.mask_dict['ns']]])\n",
    "g_corr_galsim = np.linalg.inv(gal_metacal_galsim.R).dot(g_galsim)\n",
    "w_galsim = gal_metacal_galsim.ns['w'][gal_metacal_galsim.mask_dict['ns']]\n",
    "ra_galsim = dd['XWIN_WORLD'][m_gal_galsim][gal_metacal_galsim.mask_dict['ns']]\n",
    "dec_galsim = dd['YWIN_WORLD'][m_gal_galsim][gal_metacal_galsim.mask_dict['ns']]\n",
    "mag_galsim = dd['MAG_AUTO'][m_gal_galsim][gal_metacal_galsim.mask_dict['ns']]\n",
    "#snr_galsim = dd['NGMIX_FLUX_NOSHEAR'][m_gal_galsim][gal_metacal_galsim.mask_dict['ns']]/dd['NGMIX_FLUX_ERR_NOSHEAR'][m_gal_galsim][gal_metacal_galsim.mask_dict['ns']]"
   ]
  },
  {
   "cell_type": "code",
   "execution_count": null,
   "metadata": {},
   "outputs": [],
   "source": [
    "n_gal_galsim = len(g_galsim[0])\n",
    "n_tiles = 214 #len(list(set(dd['TILE_ID'])))\n",
    "area_tiles = 0.25\n",
    "area_deg = n_tiles*area_tiles\n",
    "tot_area = area_deg*3600\n",
    "d_gal_galsim = n_gal_galsim / tot_area\n",
    "print(\"Final number of galaxies : {}\\nGalaxy density : {:.2f} gal/arcmin2\".format(n_gal_galsim, d_gal_galsim))\n",
    "stat_file.write(\"Final number of galaxies : {}\\nGalaxy density : {:.2f} gal/arcmin2\\n\".format(n_gal_galsim, d_gal_galsim))"
   ]
  },
  {
   "cell_type": "code",
   "execution_count": null,
   "metadata": {},
   "outputs": [],
   "source": [
    "plt.figure(figsize=(30, 30))\n",
    "plt.hexbin(ra_galsim, dec_galsim, gridsize=1000)\n",
    "cbar = plt.colorbar()\n",
    "cbar.set_label('Number count', rotation=270)\n",
    "plt.title(\"Galaxy number count\")\n",
    "plt.xlabel(\"Ra (Deg)\")\n",
    "plt.ylabel(\"Dec (Deg)\")\n",
    "plt.savefig(plot_dir + 'galaxy_number_count_galsim.png')"
   ]
  },
  {
   "cell_type": "markdown",
   "metadata": {},
   "source": [
    "### Compile metacal for stars   \n",
    "Masking : Flags == 0   &   SNR > 10   &   SNR < 500"
   ]
  },
  {
   "cell_type": "markdown",
   "metadata": {},
   "source": [
    "#### Ngmix"
   ]
  },
  {
   "cell_type": "code",
   "execution_count": null,
   "metadata": {},
   "outputs": [],
   "source": [
    "star_metacal_ngmix = metacal(dd[ind_star], m_star_ngmix, masking_type='star')"
   ]
  },
  {
   "cell_type": "code",
   "execution_count": null,
   "metadata": {},
   "outputs": [],
   "source": [
    "n_star = len(star_metacal_ngmix.ns['g1'][star_metacal_ngmix.mask_dict['ns']])\n",
    "tot_area = area_deg*3600\n",
    "d_star = n_star / tot_area\n",
    "print(\"Final number of stars : {}\\nStar density : {:.2f}    star/arcmin^2\\n               {:.2f} star/deg^2\".format(n_star, d_star, d_star*3600))\n",
    "dummy = stat_file.write(\"Final number of stars : {}\\nStar density : {:.2f}    star/arcmin^2\\n               {:.2f} star/deg^2\\n\".format(n_star, d_star, d_star*3600))"
   ]
  },
  {
   "cell_type": "markdown",
   "metadata": {},
   "source": [
    "#### Galsim"
   ]
  },
  {
   "cell_type": "code",
   "execution_count": null,
   "metadata": {},
   "outputs": [],
   "source": [
    "star_metacal_galsim = metacal(dd[ind_star], m_star_galsim, masking_type='star')"
   ]
  },
  {
   "cell_type": "code",
   "execution_count": null,
   "metadata": {},
   "outputs": [],
   "source": [
    "n_star = len(star_metacal_galsim.ns['g1'][star_metacal_galsim.mask_dict['ns']])\n",
    "tot_area = area_deg*3600\n",
    "d_star = n_star / tot_area\n",
    "print(\"Final number of stars : {}\\nStar density : {:.2f}    star/arcmin^2\\n               {:.2f} star/deg^2\".format(n_star, d_star, d_star*3600))\n",
    "stat_file.write(\"Final number of stars : {}\\nStar density : {:.2f}    star/arcmin^2\\n               {:.2f} star/deg^2\\n\".format(n_star, d_star, d_star*3600))"
   ]
  },
  {
   "cell_type": "code",
   "execution_count": null,
   "metadata": {},
   "outputs": [],
   "source": [
    "plt.figure(figsize=(30,20))\n",
    "plt.hist(gal_metacal_ngmix.R_shear[0,0], 500, range=(-3,3), histtype='step', density=True, linestyle=\"-\", linewidth=2, color='blue', label='$R11_{gal}$')\n",
    "plt.hist(gal_metacal_ngmix.R_shear[1,1], 500, range=(-3,3), histtype='step', density=True, linestyle=\"-\", linewidth=2, color='red', label='$R22_{gal}$')\n",
    "plt.hist(star_metacal_ngmix.R_shear[0,0,:], 500, histtype='step', range=(-3,3), density=True, linestyle=\":\", linewidth=2, color='blue', label='$R11_{star}$')\n",
    "plt.hist(star_metacal_ngmix.R_shear[1,1,:], 500, histtype='step', range=(-3,3), density=True, linestyle=\":\", linewidth=2, color='red', label='$R22_{star}$')\n",
    "plt.legend()\n",
    "plt.xlabel('$R_{ii}$')\n",
    "plt.ylabel('Nb')\n",
    "plt.title('Response matrix ngmix')\n",
    "plt.savefig(plot_dir + 'response_matrix_ngmix.png')"
   ]
  },
  {
   "cell_type": "code",
   "execution_count": null,
   "metadata": {},
   "outputs": [],
   "source": [
    "plt.figure(figsize=(30,20))\n",
    "plt.hist(gal_metacal_galsim.R_shear[0,0], 500, range=(-3,3), histtype='step', density=True, linestyle=\"-\", linewidth=2, color='blue', label='$R11_{gal}$')\n",
    "plt.hist(gal_metacal_galsim.R_shear[1,1], 500, range=(-3,3), histtype='step', density=True, linestyle=\"-\", linewidth=2, color='red', label='$R22_{gal}$')\n",
    "plt.hist(star_metacal_galsim.R_shear[0,0,:], 500, histtype='step', range=(-3,3), density=True, linestyle=\":\", linewidth=2, color='blue', label='$R11_{star}$')\n",
    "plt.hist(star_metacal_galsim.R_shear[1,1,:], 500, histtype='step', range=(-3,3), density=True, linestyle=\":\", linewidth=2, color='red', label='$R22_{star}$')\n",
    "plt.legend()\n",
    "plt.xlabel('$R_{ii}$')\n",
    "plt.ylabel('Nb')\n",
    "plt.title('Response matrix galsim')\n",
    "plt.savefig(plot_dir + 'response_matrix_galsim.png')"
   ]
  },
  {
   "cell_type": "markdown",
   "metadata": {},
   "source": [
    "### Galaxy response"
   ]
  },
  {
   "cell_type": "markdown",
   "metadata": {},
   "source": [
    "#### Ngmix"
   ]
  },
  {
   "cell_type": "code",
   "execution_count": null,
   "metadata": {},
   "outputs": [],
   "source": [
    "print('Galaxy total response matrix ngmix : [[{:.2f}    {:.2e}]\\n                                [{:.2e}    {:.2f}]]'.format(gal_metacal_ngmix.R[0,0], gal_metacal_ngmix.R[0,1], gal_metacal_ngmix.R[1,0], gal_metacal_ngmix.R[1,1]))\n",
    "dummy = stat_file.write('Galaxy total response matrix ngmix : [[{:.2f}    {:.2e}]\\n                                [{:.2e}    {:.2f}]]\\n'.format(gal_metacal_ngmix.R[0,0], gal_metacal_ngmix.R[0,1], gal_metacal_ngmix.R[1,0], gal_metacal_ngmix.R[1,1]))"
   ]
  },
  {
   "cell_type": "code",
   "execution_count": null,
   "metadata": {},
   "outputs": [],
   "source": [
    "print('Galaxy selection response matrix ngmix : [[{:.3f}    {:.2e}]\\n                                    [{:.2e}    {:.3f}]]'.format(gal_metacal_ngmix.R_selection[0,0], gal_metacal_ngmix.R_selection[0,1], gal_metacal_ngmix.R_selection[1,0], gal_metacal_ngmix.R_selection[1,1]))\n",
    "dummy = stat_file.write('Galaxy selection response matrix ngmix : [[{:.3f}    {:.2e}]\\n                                    [{:.2e}    {:.3f}]]\\n'.format(gal_metacal_ngmix.R_selection[0,0], gal_metacal_ngmix.R_selection[0,1], gal_metacal_ngmix.R_selection[1,0], gal_metacal_ngmix.R_selection[1,1]))"
   ]
  },
  {
   "cell_type": "code",
   "execution_count": null,
   "metadata": {},
   "outputs": [],
   "source": [
    "R_shear = np.mean(gal_metacal_ngmix.R_shear, 2)\n",
    "print(R_shear)\n",
    "print(gal_metacal_ngmix.R_selection)\n",
    "R_sum = R_shear + gal_metacal_ngmix.R_selection\n",
    "print(R_sum)"
   ]
  },
  {
   "cell_type": "code",
   "execution_count": null,
   "metadata": {},
   "outputs": [],
   "source": [
    "print(np.shape(gal_metacal_ngmix.R_selection))"
   ]
  },
  {
   "cell_type": "markdown",
   "metadata": {},
   "source": [
    "#### Galsim"
   ]
  },
  {
   "cell_type": "code",
   "execution_count": null,
   "metadata": {},
   "outputs": [],
   "source": [
    "print('Galaxy total response matrix galsim : [[{:.2f}    {:.2e}]\\n                                [{:.2e}    {:.2f}]]'.format(gal_metacal_galsim.R[0,0], gal_metacal_galsim.R[0,1], gal_metacal_galsim.R[1,0], gal_metacal_galsim.R[1,1]))\n",
    "stat_file.write('Galaxy total response matrix galsim : [[{:.2f}    {:.2e}]\\n                                [{:.2e}    {:.2f}]]\\n'.format(gal_metacal_galsim.R[0,0], gal_metacal_galsim.R[0,1], gal_metacal_galsim.R[1,0], gal_metacal_galsim.R[1,1]))"
   ]
  },
  {
   "cell_type": "code",
   "execution_count": null,
   "metadata": {},
   "outputs": [],
   "source": [
    "print('Galaxy selection response matrix galsim : [[{:.3f}    {:.2e}]\\n                                    [{:.2e}    {:.3f}]]'.format(gal_metacal_galsim.R_selection[0,0], gal_metacal_galsim.R_selection[0,1], gal_metacal_galsim.R_selection[1,0], gal_metacal_galsim.R_selection[1,1]))\n",
    "stat_file.write('Galaxy selection response matrix galsim : [[{:.3f}    {:.2e}]\\n                                    [{:.2e}    {:.3f}]]\\n'.format(gal_metacal_galsim.R_selection[0,0], gal_metacal_galsim.R_selection[0,1], gal_metacal_galsim.R_selection[1,0], gal_metacal_galsim.R_selection[1,1]))"
   ]
  },
  {
   "cell_type": "markdown",
   "metadata": {},
   "source": [
    "### Star response"
   ]
  },
  {
   "cell_type": "code",
   "execution_count": null,
   "metadata": {},
   "outputs": [],
   "source": [
    "print('Star total response matrix ngmix : [[{:.2f}     {:.2e}]\\n                              [{:.2e}    {:.2f}]]'.format(star_metacal_ngmix.R[0,0], star_metacal_ngmix.R[0,1], star_metacal_ngmix.R[1,0], star_metacal_ngmix.R[1,1]))\n",
    "stat_file.write('Star total response matrix ngmix : [[{:.2f}     {:.2e}]\\n                              [{:.2e}    {:.2f}]]\\n'.format(star_metacal_ngmix.R[0,0], star_metacal_ngmix.R[0,1], star_metacal_ngmix.R[1,0], star_metacal_ngmix.R[1,1]))"
   ]
  },
  {
   "cell_type": "code",
   "execution_count": null,
   "metadata": {},
   "outputs": [],
   "source": [
    "print('Star total response matrix galsim : [[{:.2f}     {:.2e}]\\n                              [{:.2e}    {:.2f}]]'.format(star_metacal_galsim.R[0,0], star_metacal_galsim.R[0,1], star_metacal_galsim.R[1,0], star_metacal_galsim.R[1,1]))\n",
    "stat_file.write('Star total response matrix galsim : [[{:.2f}     {:.2e}]\\n                              [{:.2e}    {:.2f}]]\\n'.format(star_metacal_galsim.R[0,0], star_metacal_galsim.R[0,1], star_metacal_galsim.R[1,0], star_metacal_galsim.R[1,1]))"
   ]
  },
  {
   "cell_type": "code",
   "execution_count": null,
   "metadata": {},
   "outputs": [],
   "source": [
    "# The following creates an eror, star_response not found\n",
    "#print('Star selection response matrix : [[{:.2e}    {:.2e}]\\n                                  [{:.2e}    {:.2e}]]'.format(star_metacal.R_selection[0,0], star_metacal.R_selection[0,1], star_metacal.R_selection[1,0], star_metacal.R_selection[1,1]))\n",
    "#stat_file.write('Star selection response matrix : [[{:.2e}    {:.2e}]\\n                                  [{:.2e}    {:.2e}]]\\n'.format(star_metacal.R_selection[0,0], star_metacal.R_selection[0,1], star_metacal.R_selection[1,0], star_metacal.R_selection[1,1]))"
   ]
  },
  {
   "cell_type": "code",
   "execution_count": null,
   "metadata": {
    "scrolled": false
   },
   "outputs": [],
   "source": [
    "plt.figure(figsize=(30,20))\n",
    "plt.hist(g_corr_ngmix[0], 500, weights=w_ngmix, histtype='step', density=True, label=\"$e_{1}$\")\n",
    "plt.hist(g_corr_ngmix[1], 500, weights=w_ngmix, histtype='step', density=True, label=\"$e_{2}$\")\n",
    "plt.legend()\n",
    "plt.xlabel('$e_{i}$')\n",
    "plt.ylabel('Nb')\n",
    "plt.title(\"$e_{\\\\rm gal}$ distribution ngmix\")\n",
    "plt.savefig(plot_dir + 'e_gal_distribution_ngmix.png')"
   ]
  },
  {
   "cell_type": "code",
   "execution_count": null,
   "metadata": {},
   "outputs": [],
   "source": [
    "plt.figure(figsize=(30,20))\n",
    "plt.hist(g_corr_galsim[0], 500, weights=w_galsim, histtype='step', density=True, label=\"$e_{1}$\")\n",
    "plt.hist(g_corr_galsim[1], 500, weights=w_galsim, histtype='step', density=True, label=\"$e_{2}$\")\n",
    "plt.legend()\n",
    "plt.xlabel('$e_{i}$')\n",
    "plt.ylabel('Nb')\n",
    "plt.title(\"$e_{\\\\rm gal}$ distribution galsim\")\n",
    "plt.savefig(plot_dir + 'e_gal_distribution.png')"
   ]
  },
  {
   "cell_type": "code",
   "execution_count": null,
   "metadata": {},
   "outputs": [],
   "source": [
    "plt.figure(figsize=(30,20))\n",
    "plt.hist(star_metacal_ngmix.ns['g1'][star_metacal_ngmix.mask_dict['ns']], 500, weights=star_metacal_ngmix.ns['w'][star_metacal_ngmix.mask_dict['ns']], histtype='step', density=True, label=\"$e_{1}$\")\n",
    "plt.hist(star_metacal_ngmix.ns['g2'][star_metacal_ngmix.mask_dict['ns']], 500, weights=star_metacal_ngmix.ns['w'][star_metacal_ngmix.mask_dict['ns']], histtype='step', density=True, label=\"$e_{2}$\")\n",
    "plt.legend()\n",
    "plt.xlabel('$e_{i}$')\n",
    "plt.ylabel('Nb')\n",
    "plt.title(\"$e_{star}$ distribution\")\n",
    "plt.savefig(plot_dir + 'e_star_distribution.png')"
   ]
  },
  {
   "cell_type": "code",
   "execution_count": null,
   "metadata": {},
   "outputs": [],
   "source": [
    "plt.figure(figsize=(30,20))\n",
    "plt.hist(star_metacal_galsim.ns['g1'][star_metacal_galsim.mask_dict['ns']], 500, weights=star_metacal_galsim.ns['w'][star_metacal_galsim.mask_dict['ns']], histtype='step', density=True, label=\"$e_{1}$\")\n",
    "plt.hist(star_metacal_galsim.ns['g2'][star_metacal_galsim.mask_dict['ns']], 500, weights=star_metacal_galsim.ns['w'][star_metacal_galsim.mask_dict['ns']], histtype='step', density=True, label=\"$e_{2}$\")\n",
    "plt.legend()\n",
    "plt.xlabel('$e_{i}$')\n",
    "plt.ylabel('Nb')\n",
    "plt.title(\"$e_{star}$ distribution\")\n",
    "plt.savefig(plot_dir + 'e_star_distribution_galsim.png')"
   ]
  },
  {
   "cell_type": "code",
   "execution_count": null,
   "metadata": {
    "scrolled": false
   },
   "outputs": [],
   "source": [
    "plt.figure(figsize=(30,20))\n",
    "plt.hist(dd['MAG_AUTO'][m_gal_ngmix][gal_metacal_ngmix.mask_dict['ns']], 500)\n",
    "plt.xlabel('Mag')\n",
    "plt.ylabel('Nb')\n",
    "plt.title('Magnitude distribution')\n",
    "plt.savefig(plot_dir + 'gal_mag_distribution_ngmix.png')"
   ]
  },
  {
   "cell_type": "code",
   "execution_count": null,
   "metadata": {
    "scrolled": false
   },
   "outputs": [],
   "source": [
    "plt.figure(figsize=(30,20))\n",
    "plt.hist(dd['MAG_AUTO'][m_gal_galsim][gal_metacal_galsim.mask_dict['ns']], 500)\n",
    "plt.xlabel('Mag')\n",
    "plt.ylabel('Nb')\n",
    "plt.title('Magnitude distribution')\n",
    "plt.savefig(plot_dir + 'gal_mag_distribution_galsim.png')"
   ]
  },
  {
   "cell_type": "code",
   "execution_count": null,
   "metadata": {
    "scrolled": false
   },
   "outputs": [],
   "source": [
    "plt.figure(figsize=(30,20))\n",
    "plt.hist(dd['MAG_AUTO'][m_gal_ngmix][gal_metacal_ngmix.mask_dict['ns']], 500, weights=w_ngmix, histtype='step', density=True)\n",
    "plt.hist(dd['MAG_AUTO'][m_gal_galsim][gal_metacal_galsim.mask_dict['ns']], 500, histtype='step', density=True)\n",
    "plt.xlabel('Mag')\n",
    "plt.ylabel('Nb')\n",
    "plt.title('Magnitude distribution')\n",
    "plt.savefig(plot_dir + 'gal_mag_distribution_both.png')"
   ]
  },
  {
   "cell_type": "markdown",
   "metadata": {},
   "source": [
    "## Additive bias"
   ]
  },
  {
   "cell_type": "markdown",
   "metadata": {},
   "source": [
    "#### Ngmix"
   ]
  },
  {
   "cell_type": "code",
   "execution_count": null,
   "metadata": {},
   "outputs": [],
   "source": [
    "c1_ngmix, err_c1_ngmix = jackknif_weighted_average(g_corr_ngmix[0], w_ngmix, remove_size=0.05, n_realization=500)\n",
    "print('Additive bias c1 : {:.3e} +/- {:.3e}'.format(c1_ngmix, err_c1_ngmix))\n",
    "stat_file.write('Additive bias c1 : {:.3e} +/- {:.3e}\\n'.format(c1_ngmix, err_c1_ngmix))"
   ]
  },
  {
   "cell_type": "code",
   "execution_count": null,
   "metadata": {},
   "outputs": [],
   "source": [
    "c2_ngmix, err_c2_ngmix = jackknif_weighted_average(g_corr_ngmix[1], w_ngmix, remove_size=0.05, n_realization=500)\n",
    "print('Additive bias c2 : {:.3e} +/- {:.3e}'.format(c2_ngmix, err_c2_ngmix))\n",
    "stat_file.write('Additive bias c2 : {:.3e} +/- {:.3e}\\n'.format(c2_ngmix, err_c2_ngmix))"
   ]
  },
  {
   "cell_type": "markdown",
   "metadata": {},
   "source": [
    "#### Galsim"
   ]
  },
  {
   "cell_type": "code",
   "execution_count": null,
   "metadata": {},
   "outputs": [],
   "source": [
    "c1_galsim, err_c1_galsim = jackknif_weighted_average(g_corr_galsim[0], np.ones_like(w_galsim), remove_size=0.05, n_realization=500)\n",
    "print('Additive bias c1 : {:.3e} +/- {:.3e}'.format(c1_galsim, err_c1_galsim))\n",
    "stat_file.write('Additive bias c1 : {:.3e} +/- {:.3e}\\n'.format(c1_galsim, err_c1_galsim))"
   ]
  },
  {
   "cell_type": "code",
   "execution_count": null,
   "metadata": {},
   "outputs": [],
   "source": [
    "c2_galsim, err_c2_galsim = jackknif_weighted_average(g_corr_galsim[1], np.ones_like(w_galsim), remove_size=0.05, n_realization=500)\n",
    "print('Additive bias c2 : {:.3e} +/- {:.3e}'.format(c2_galsim, err_c2_galsim))\n",
    "stat_file.write('Additive bias c2 : {:.3e} +/- {:.3e}\\n'.format(c2_galsim, err_c2_galsim))"
   ]
  },
  {
   "cell_type": "code",
   "execution_count": null,
   "metadata": {},
   "outputs": [],
   "source": [
    "sig_eps = np.sqrt(np.var(g_corr_ngmix[0]) + np.var(g_corr_ngmix[1]))\n",
    "print('Ellipticity dispersion (complex; mean per component): {:.3f}; {:.3f}'.format(sig_eps, sig_eps /  np.sqrt(2)))"
   ]
  },
  {
   "cell_type": "markdown",
   "metadata": {},
   "source": [
    "## PSF leakage"
   ]
  },
  {
   "cell_type": "markdown",
   "metadata": {},
   "source": [
    "### Binning leakage\n",
    "\n",
    "Use PSF ellipticity at galaxy positions."
   ]
  },
  {
   "cell_type": "markdown",
   "metadata": {},
   "source": [
    "#### Ngmix"
   ]
  },
  {
   "cell_type": "code",
   "execution_count": null,
   "metadata": {
    "scrolled": false
   },
   "outputs": [],
   "source": [
    "psf_e_corr(g_corr_ngmix[0]-c1_ngmix, \n",
    "           g_corr_ngmix[1]-c2_ngmix,\n",
    "           dd['NGMIX_ELL_PSFo_NOSHEAR'][:,0][m_gal_ngmix][gal_metacal_ngmix.mask_dict['ns']], \n",
    "           dd['NGMIX_ELL_PSFo_NOSHEAR'][:,1][m_gal_ngmix][gal_metacal_ngmix.mask_dict['ns']], \n",
    "           dd['NGMIX_T_PSFo_NOSHEAR'][m_gal_ngmix][gal_metacal_ngmix.mask_dict['ns']]/1.17741*2.355, \n",
    "           weights=w_ngmix, \n",
    "           n_bin=30,\n",
    "           save_plot=True,\n",
    "           plot_dir=plot_dir + '/psf_leak_ngmix/')"
   ]
  },
  {
   "cell_type": "code",
   "execution_count": null,
   "metadata": {
    "scrolled": false
   },
   "outputs": [],
   "source": [
    "psf_e_corr(g_corr_galsim[0]-c1_galsim, \n",
    "           g_corr_galsim[1]-c2_galsim,\n",
    "           dd['GALSIM_PSF_ELL_ORIGINAL_PSF'][:,0][m_gal_galsim][gal_metacal_galsim.mask_dict['ns']], \n",
    "           dd['GALSIM_PSF_ELL_ORIGINAL_PSF'][:,1][m_gal_galsim][gal_metacal_galsim.mask_dict['ns']], \n",
    "           dd['GALSIM_PSF_SIGMA_ORIGINAL_PSF'][m_gal_galsim][gal_metacal_galsim.mask_dict['ns']]*2.355*0.187, \n",
    "           weights=np.ones_like(w_galsim), \n",
    "           n_bin=30,\n",
    "           save_plot=True,\n",
    "           plot_dir=plot_dir + '/psf_leak_galsim/')"
   ]
  },
  {
   "cell_type": "markdown",
   "metadata": {},
   "source": [
    "### Alpha leakage\n",
    "\n",
    "Use PSF ellipticity at star positions."
   ]
  },
  {
   "cell_type": "markdown",
   "metadata": {},
   "source": [
    "Equation alpha leakage :\n",
    "$\n",
    "    \\alpha = \\frac{\\xi_{+}^{gp} - \\langle e_{gal} \\rangle^{*} \\langle e_{PSF} \\rangle}{\\xi_{+}^{pp} - |\\langle e_{PSF} \\rangle|^{2}}\n",
    "$    \n",
    "With $g$: galaxy and $p$: PSF."
   ]
  },
  {
   "cell_type": "markdown",
   "metadata": {},
   "source": [
    "#### Ngmix"
   ]
  },
  {
   "cell_type": "code",
   "execution_count": null,
   "metadata": {},
   "outputs": [],
   "source": [
    "r_corr_gp_ngmix = xi_star_gal_tc(ra_ngmix, dec_ngmix, g_corr_ngmix[0]-c1_ngmix, g_corr_ngmix[1]-c2_ngmix, w_ngmix, ra_star_ngmix, dec_star_ngmix, g_star_psf_ngmix[0], g_star_psf_ngmix[1])\n",
    "r_corr_pp_ngmix = xi_star_gal_tc(ra_star_ngmix, dec_star_ngmix, g_star_psf_ngmix[0], g_star_psf_ngmix[1], np.ones_like(g_star_psf_ngmix[0]), ra_star_ngmix, dec_star_ngmix, g_star_psf_ngmix[0], g_star_psf_ngmix[1])"
   ]
  },
  {
   "cell_type": "code",
   "execution_count": null,
   "metadata": {},
   "outputs": [],
   "source": [
    "complex_gal_ngmix = np.average(g_corr_ngmix[0]-c1_ngmix, weights=w_ngmix) + np.average(g_corr_ngmix[1]-c2_ngmix, weights=w_ngmix)*1j\n",
    "complex_psf_ngmix = np.mean(g_star_psf_ngmix[0]) + np.mean(g_star_psf_ngmix[1])*1j"
   ]
  },
  {
   "cell_type": "code",
   "execution_count": null,
   "metadata": {},
   "outputs": [],
   "source": [
    "alpha_leak_ngmix = (r_corr_gp_ngmix.xip - np.real(np.conj(complex_gal_ngmix)*complex_psf_ngmix))/(r_corr_pp_ngmix.xip - np.abs(complex_psf_ngmix)**2.)"
   ]
  },
  {
   "cell_type": "code",
   "execution_count": null,
   "metadata": {},
   "outputs": [],
   "source": [
    "sig_alpha_leak_ngmix = np.abs(alpha_leak_ngmix)*np.sqrt((np.sqrt(r_corr_gp_ngmix.varxip)/r_corr_gp_ngmix.xip)**2. + (np.sqrt(r_corr_pp_ngmix.varxip)/r_corr_pp_ngmix.xip)**2.)"
   ]
  },
  {
   "cell_type": "code",
   "execution_count": null,
   "metadata": {},
   "outputs": [],
   "source": [
    "alpha_leak_mean_ngmix = np.average(alpha_leak_ngmix, weights=1/sig_alpha_leak_ngmix**2.)\n",
    "print('All sales weitghed average alpha : {}'.format(alpha_leak_mean_ngmix))\n",
    "stat_file.write('All scales weitghed average alpha : {}\\n'.format(alpha_leak_mean_ngmix))"
   ]
  },
  {
   "cell_type": "code",
   "execution_count": null,
   "metadata": {},
   "outputs": [],
   "source": [
    "mpl.rcParams['lines.linewidth'] = 3\n",
    "mpl.rcParams['lines.markersize'] = 10\n",
    "mpl.rcParams['font.size'] = 35\n",
    "mpl.rcParams['xtick.minor.size'] = 7\n",
    "mpl.rcParams['ytick.minor.size'] = 7\n",
    "mpl.rcParams['xtick.major.size'] = 10\n",
    "mpl.rcParams['ytick.major.size'] = 10\n",
    "mpl.rcParams['xtick.major.width'] = 3\n",
    "mpl.rcParams['ytick.major.width'] = 3\n",
    "mpl.rcParams['boxplot.boxprops.linewidth'] = 2.\n",
    "mpl.rcParams['boxplot.medianprops.linewidth'] = 2.\n",
    "mpl.rcParams['boxplot.flierprops.markersize'] = 12\n",
    "mpl.rcParams['boxplot.whiskerprops.linewidth'] = 2.\n",
    "mpl.rcParams['boxplot.capprops.linewidth'] = 2.\n",
    "\n",
    "\n",
    "mpl.rcParams['axes.xmargin'] = mpl.rcParamsDefault['axes.xmargin']\n",
    "\n",
    "plt.figure(figsize=(30,20))\n",
    "\n",
    "plt.errorbar(r_corr_gp_ngmix.meanr, alpha_leak_ngmix, yerr=sig_alpha_leak_ngmix, label=r'$\\alpha$')\n",
    "plt.hlines(y=0, xmin=plt.xlim()[0], xmax=plt.xlim()[1], linestyles='dashed')\n",
    "\n",
    "plt.xscale('log')\n",
    "#plt.yscale('log')\n",
    "plt.xlim(plt.xlim()[0]+0.5,plt.xlim()[1]-30)\n",
    "#plt.ylim(-0.5,0.5)\n",
    "plt.xticks([2, 10, 200], labels=['2', '10', '200'])\n",
    "plt.xlabel(r'$\\theta$ (arcmin)')\n",
    "plt.ylabel(r'$\\alpha$')\n",
    "#plt.ticklabel_format(style='sci', axis='y', scilimits=(0,0))\n",
    "plt.legend()\n",
    "plt.savefig(plot_dir + 'alpha_leakage_ngmix.png')"
   ]
  },
  {
   "cell_type": "markdown",
   "metadata": {},
   "source": [
    "## $\\xi^{sys}$\n",
    "\n",
    "Use PSF ellipticity at star positions."
   ]
  },
  {
   "cell_type": "markdown",
   "metadata": {},
   "source": [
    "Equation alpha leakage :\n",
    "$\n",
    "\\xi^{sys} = \\frac{\\xi_{\\pm}^{gp^{2}}}{\\xi_{\\pm}^{pp}}\n",
    "$    \n",
    "With $g$: galaxy and $p$: PSF."
   ]
  },
  {
   "cell_type": "code",
   "execution_count": null,
   "metadata": {},
   "outputs": [],
   "source": [
    "C_sys_p_ngmix = r_corr_gp_ngmix.xip**2/r_corr_pp_ngmix.xip\n",
    "C_sys_m_ngmix = r_corr_gp_ngmix.xim**2/r_corr_pp_ngmix.xim\n",
    "#C_sys_var = np.sqrt(r_corr_gp.varxi**2./r_corr_pp.varxi)\n",
    "C_sys_std_p_ngmix = np.abs(C_sys_p_ngmix) * np.sqrt((((2*r_corr_gp_ngmix.xip**2.*np.sqrt(r_corr_gp_ngmix.varxip))/r_corr_gp_ngmix.xip)/r_corr_gp_ngmix.xip**2.)**2. + (np.sqrt(r_corr_pp_ngmix.varxip)/r_corr_pp_ngmix.xip)**2.)\n",
    "C_sys_std_m_ngmix = np.abs(C_sys_m_ngmix) * np.sqrt((((2*r_corr_gp_ngmix.xim**2.*np.sqrt(r_corr_gp_ngmix.varxim))/r_corr_gp_ngmix.xim)/r_corr_gp_ngmix.xim**2.)**2. + (np.sqrt(r_corr_pp_ngmix.varxim)/r_corr_pp_ngmix.xim)**2.)"
   ]
  },
  {
   "cell_type": "markdown",
   "metadata": {},
   "source": [
    "## Redshift distribution"
   ]
  },
  {
   "cell_type": "code",
   "execution_count": null,
   "metadata": {},
   "outputs": [],
   "source": [
    "nz_base = 'nz.CFHTLenSmatched.W3'\n",
    "nz_ext = 'txt'\n",
    "nz_date = '202012'\n",
    "nz_version = 'v1'\n",
    "nz_name = '{}_{}_{}.{}'.format(nz_base, nz_date, nz_version, nz_ext)\n",
    "source = 'vos:cfis/cosmostat/cosmology/redshifts/{}'.format(nz_name)\n",
    "\n",
    "download(source, nz_name, verbose=True)"
   ]
  },
  {
   "cell_type": "code",
   "execution_count": null,
   "metadata": {},
   "outputs": [],
   "source": [
    "z, nz = np.loadtxt(nz_name, unpack=True)\n",
    "\n",
    "#theta = np.logspace(np.log10(2), np.log10(2e2), 20)\n",
    "\n",
    "Om = 0.3153\n",
    "sig8 = 0.8111\n",
    "ns = 0.9649\n",
    "Ob = 0.0493\n",
    "h = 0.6736\n",
    "xi_p_planck, xi_m_planck = get_theo_xi(r_corr_gp_ngmix.meanr, z, nz, Omega_m=Om, h=h, Omega_b=Ob, sig8=sig8, ns=ns)"
   ]
  },
  {
   "cell_type": "code",
   "execution_count": null,
   "metadata": {
    "scrolled": false
   },
   "outputs": [],
   "source": [
    "#mpl.rcParams['lines.linewidth'] = 3\n",
    "#mpl.rcParams['lines.markersize'] = 10\n",
    "#mpl.rcParams['font.size'] = 35\n",
    "#mpl.rcParams['xtick.minor.size'] = 7\n",
    "#mpl.rcParams['ytick.minor.size'] = 7\n",
    "#mpl.rcParams['xtick.major.size'] = 10\n",
    "#mpl.rcParams['ytick.major.size'] = 10\n",
    "#mpl.rcParams['xtick.major.width'] = 3\n",
    "#mpl.rcParams['ytick.major.width'] = 3\n",
    "#mpl.rcParams['boxplot.boxprops.linewidth'] = 2.\n",
    "#mpl.rcParams['boxplot.medianprops.linewidth'] = 2.\n",
    "#mpl.rcParams['boxplot.flierprops.markersize'] = 12\n",
    "#mpl.rcParams['boxplot.whiskerprops.linewidth'] = 2.\n",
    "#mpl.rcParams['boxplot.capprops.linewidth'] = 2.\n",
    "#mpl.rcParams['axes.xmargin'] = mpl.rcParamsDefault['axes.xmargin']\n",
    "\n",
    "color = plt.rcParams['axes.prop_cycle'].by_key()['color']\n",
    "\n",
    "plt.figure(figsize=(30,20))\n",
    "plt.errorbar(r_corr_gp_ngmix.meanr, C_sys_p_ngmix, yerr=C_sys_std_p_ngmix, label=r'$\\xi_{+}^{sys}$')\n",
    "plt.plot(r_corr_gp_ngmix.meanr, xi_p_planck, ':', color=color[0], label=r'$\\xi_{+}^{\\Lambda\\mathrm{CDM}}$')\n",
    "plt.plot(r_corr_gp_ngmix.meanr, xi_m_planck, ':', color=color[1], label=r'$\\xi_{-}^{\\Lambda\\mathrm{CDM}}$')\n",
    "\n",
    "#ind_neg = np.where(C_sys_m <= 0)[0]\n",
    "#ind_pos = np.where(C_sys_m > 0)[0]\n",
    "#plt.errorbar(res.meanr[ind_neg]+0.05*res.meanr[ind_neg], np.abs(C_sys_m[ind_neg]), yerr=C_sys_std_m[ind_neg], linestyle='--', color=color[1], label=r'$\\xi_{-}^{sys}$')\n",
    "#plt.errorbar(res.meanr[[ind_neg[-1], ind_pos[0]]]+0.05*res.meanr[[ind_neg[-1], ind_pos[0]]], np.abs(C_sys_m[[ind_neg[-1], ind_pos[0]]]), yerr=C_sys_std_m[[ind_neg[-1], ind_pos[0]]], linestyle='--', color=color[1])\n",
    "#plt.errorbar(res.meanr[ind_pos]+0.05*res.meanr[ind_pos], C_sys_m[ind_pos], yerr=C_sys_std_m[ind_pos], color=color[1], linestyle='-')\n",
    "plt.errorbar(r_corr_gp_ngmix.meanr*(1.02), C_sys_m_ngmix, yerr=C_sys_std_m_ngmix, label=r'$\\xi_{-}^{sys}$')\n",
    "\n",
    "plt.xscale('log')\n",
    "plt.yscale('log')\n",
    "plt.xlim(plt.xlim()[0]+0.,plt.xlim()[1]-30)\n",
    "\n",
    "plt.xticks([2, 10, 200], labels=['2', '10', '200'])\n",
    "plt.xlabel(r'$\\theta$ (arcmin)')\n",
    "plt.ylabel(r'$\\xi_{\\pm}$')\n",
    "#plt.ticklabel_format(style='sci', axis='y', scilimits=(0,0))\n",
    "#plt.gca().yaxis.set_major_formatter(mpl.ticker.FuncFormatter(lambda v,_: (\"$10^{%d}$\" % math.log(v,10)) ))\n",
    "plt.legend()\n",
    "plt.savefig(plot_dir + 'xi_sys_ngmix.png')"
   ]
  },
  {
   "cell_type": "code",
   "execution_count": null,
   "metadata": {
    "scrolled": false
   },
   "outputs": [],
   "source": [
    "#mpl.rcParams['lines.linewidth'] = 3\n",
    "#mpl.rcParams['lines.markersize'] = 10\n",
    "#mpl.rcParams['font.size'] = 35\n",
    "#mpl.rcParams['xtick.minor.size'] = 7\n",
    "#mpl.rcParams['ytick.minor.size'] = 7\n",
    "#mpl.rcParams['xtick.major.size'] = 10\n",
    "#mpl.rcParams['ytick.major.size'] = 10\n",
    "#mpl.rcParams['xtick.major.width'] = 3\n",
    "#mpl.rcParams['ytick.major.width'] = 3\n",
    "#mpl.rcParams['boxplot.boxprops.linewidth'] = 2.\n",
    "#mpl.rcParams['boxplot.medianprops.linewidth'] = 2.\n",
    "#mpl.rcParams['boxplot.flierprops.markersize'] = 12\n",
    "#mpl.rcParams['boxplot.whiskerprops.linewidth'] = 2.\n",
    "#mpl.rcParams['boxplot.capprops.linewidth'] = 2.\n",
    "#mpl.rcParams['axes.xmargin'] = mpl.rcParamsDefault['axes.xmargin']\n",
    "\n",
    "color = plt.rcParams['axes.prop_cycle'].by_key()['color']\n",
    "\n",
    "plt.figure(figsize=(30,20))\n",
    "#plt.errorbar(r_corr_gp.meanr, C_sys_p, yerr=C_sys_std_p, label=r'$\\xi_{+}^{sys}$')\n",
    "#plt.plot(r_corr_gp.meanr, f_theo_p_p(r_corr_gp.meanr), ':', color=color[0], label=r'$\\xi_{+}^{\\Lambda\\mathrm{CDM}}$')\n",
    "#plt.plot(r_corr_gp.meanr, f_theo_m_p(r_corr_gp.meanr), ':', color=color[1], label=r'$\\xi_{-}^{\\Lambda\\mathrm{CDM}}$')\n",
    "plt.plot(r_corr_gp_ngmix.meanr, C_sys_p_ngmix/xi_p_planck, color=color[0], label=r'$\\xi_{\\pm}/\\xi_{+}^{\\Lambda\\mathrm{CDM}}$')\n",
    "\n",
    "#ind_neg = np.where(C_sys_m <= 0)[0]\n",
    "#ind_pos = np.where(C_sys_m > 0)[0]\n",
    "#plt.errorbar(res.meanr[ind_neg]+0.05*res.meanr[ind_neg], np.abs(C_sys_m[ind_neg]), yerr=C_sys_std_m[ind_neg], linestyle='--', color=color[1], label=r'$\\xi_{-}^{sys}$')\n",
    "#plt.errorbar(res.meanr[[ind_neg[-1], ind_pos[0]]]+0.05*res.meanr[[ind_neg[-1], ind_pos[0]]], np.abs(C_sys_m[[ind_neg[-1], ind_pos[0]]]), yerr=C_sys_std_m[[ind_neg[-1], ind_pos[0]]], linestyle='--', color=color[1])\n",
    "#plt.errorbar(res.meanr[ind_pos]+0.05*res.meanr[ind_pos], C_sys_m[ind_pos], yerr=C_sys_std_m[ind_pos], color=color[1], linestyle='-')\n",
    "#plt.errorbar(r_corr_gp.meanr*(1.02), C_sys_m, yerr=C_sys_std_m, label=r'$\\xi_{-}^{sys}$')\n",
    "\n",
    "plt.xscale('log')\n",
    "#plt.yscale('log')\n",
    "plt.xlim(plt.xlim()[0]+0.,plt.xlim()[1]-30)\n",
    "\n",
    "plt.xticks([2, 10, 200], labels=['2', '10', '200'])\n",
    "plt.xlabel(r'$\\theta$ (arcmin)')\n",
    "plt.ylabel(r'$\\xi_{\\pm}/\\xi_{+}^{\\Lambda\\mathrm{CDM}}$')\n",
    "#plt.ticklabel_format(style='sci', axis='y', scilimits=(0,0))\n",
    "#plt.gca().yaxis.set_major_formatter(mpl.ticker.FuncFormatter(lambda v,_: (\"$10^{%d}$\" % math.log(v,10)) ))\n",
    "plt.legend()\n",
    "plt.savefig(plot_dir + 'xi_sys_ratio_ngmix.png')"
   ]
  },
  {
   "cell_type": "markdown",
   "metadata": {},
   "source": [
    "#### Galsim"
   ]
  },
  {
   "cell_type": "code",
   "execution_count": null,
   "metadata": {},
   "outputs": [],
   "source": [
    "r_corr_gp_galsim = xi_star_gal_tc(ra_galsim, dec_galsim, g_corr_galsim[0]-c1_galsim, g_corr_galsim[1]-c2_galsim, np.ones_like(w_galsim), ra_star_galsim, dec_star_galsim, g_star_psf_galsim[0], g_star_psf_galsim[1])\n",
    "r_corr_pp_galsim = xi_star_gal_tc(ra_star_galsim, dec_star_galsim, g_star_psf_galsim[0], g_star_psf_galsim[1], np.ones_like(g_star_psf_galsim[0]), ra_star_galsim, dec_star_galsim, g_star_psf_galsim[0], g_star_psf_galsim[1])"
   ]
  },
  {
   "cell_type": "code",
   "execution_count": null,
   "metadata": {},
   "outputs": [],
   "source": [
    "complex_gal_galsim = np.average(g_corr_galsim[0]-c1_galsim, weights=np.ones_like(w_galsim)) + np.average(g_corr_galsim[1]-c2_galsim, weights=np.ones_like(w_galsim))*1j\n",
    "complex_psf_galsim = np.mean(g_star_psf_galsim[0]) + np.mean(g_star_psf_galsim[1])*1j"
   ]
  },
  {
   "cell_type": "code",
   "execution_count": null,
   "metadata": {},
   "outputs": [],
   "source": [
    "alpha_leak_galsim = (r_corr_gp_galsim.xip - np.real(np.conj(complex_gal_galsim)*complex_psf_galsim))/(r_corr_pp_galsim.xip - np.abs(complex_psf_galsim)**2.)"
   ]
  },
  {
   "cell_type": "code",
   "execution_count": null,
   "metadata": {},
   "outputs": [],
   "source": [
    "sig_alpha_leak_galsim = np.abs(alpha_leak_galsim)*np.sqrt((np.sqrt(r_corr_gp_galsim.varxip)/r_corr_gp_galsim.xip)**2. + (np.sqrt(r_corr_pp_galsim.varxip)/r_corr_pp_galsim.xip)**2.)"
   ]
  },
  {
   "cell_type": "code",
   "execution_count": null,
   "metadata": {},
   "outputs": [],
   "source": [
    "alpha_leak_mean_galsim = np.average(alpha_leak_galsim, weights=1/sig_alpha_leak_galsim**2.)\n",
    "print('All sales weitghed average alpha : {}'.format(alpha_leak_mean_galsim))\n",
    "stat_file.write('All sales weitghed average alpha : {}\\n'.format(alpha_leak_mean_galsim))"
   ]
  },
  {
   "cell_type": "code",
   "execution_count": null,
   "metadata": {},
   "outputs": [],
   "source": [
    "mpl.rcParams['lines.linewidth'] = 3\n",
    "mpl.rcParams['lines.markersize'] = 10\n",
    "mpl.rcParams['font.size'] = 35\n",
    "mpl.rcParams['xtick.minor.size'] = 7\n",
    "mpl.rcParams['ytick.minor.size'] = 7\n",
    "mpl.rcParams['xtick.major.size'] = 10\n",
    "mpl.rcParams['ytick.major.size'] = 10\n",
    "mpl.rcParams['xtick.major.width'] = 3\n",
    "mpl.rcParams['ytick.major.width'] = 3\n",
    "mpl.rcParams['boxplot.boxprops.linewidth'] = 2.\n",
    "mpl.rcParams['boxplot.medianprops.linewidth'] = 2.\n",
    "mpl.rcParams['boxplot.flierprops.markersize'] = 12\n",
    "mpl.rcParams['boxplot.whiskerprops.linewidth'] = 2.\n",
    "mpl.rcParams['boxplot.capprops.linewidth'] = 2.\n",
    "\n",
    "\n",
    "mpl.rcParams['axes.xmargin'] = mpl.rcParamsDefault['axes.xmargin']\n",
    "\n",
    "plt.figure(figsize=(30,20))\n",
    "\n",
    "plt.errorbar(r_corr_gp_galsim.meanr, alpha_leak_galsim, yerr=sig_alpha_leak_galsim, label=r'$\\alpha$')\n",
    "plt.hlines(y=0, xmin=plt.xlim()[0], xmax=plt.xlim()[1], linestyles='dashed')\n",
    "\n",
    "plt.xscale('log')\n",
    "#plt.yscale('log')\n",
    "plt.xlim(plt.xlim()[0]+0.5,plt.xlim()[1]-30)\n",
    "#plt.ylim(-0.5,0.5)\n",
    "plt.xticks([2, 10, 200], labels=['2', '10', '200'])\n",
    "plt.xlabel(r'$\\theta$ (arcmin)')\n",
    "plt.ylabel(r'$\\alpha$')\n",
    "#plt.ticklabel_format(style='sci', axis='y', scilimits=(0,0))\n",
    "plt.legend()\n",
    "plt.savefig(plot_dir + 'alpha_leakage_galsim.png')"
   ]
  },
  {
   "cell_type": "code",
   "execution_count": null,
   "metadata": {},
   "outputs": [],
   "source": [
    "C_sys_p_galsim = r_corr_gp_galsim.xip**2/r_corr_pp_galsim.xip\n",
    "C_sys_m_galsim = r_corr_gp_galsim.xim**2/r_corr_pp_galsim.xim\n",
    "#C_sys_var = np.sqrt(r_corr_gp.varxi**2./r_corr_pp.varxi)\n",
    "C_sys_std_p_galsim = np.abs(C_sys_p_galsim) * np.sqrt((((2*r_corr_gp_galsim.xip**2.*np.sqrt(r_corr_gp_galsim.varxip))/r_corr_gp_galsim.xip)/r_corr_gp_galsim.xip**2.)**2. + (np.sqrt(r_corr_pp_galsim.varxip)/r_corr_pp_galsim.xip)**2.)\n",
    "C_sys_std_m_galsim = np.abs(C_sys_m_galsim) * np.sqrt((((2*r_corr_gp_galsim.xim**2.*np.sqrt(r_corr_gp_galsim.varxim))/r_corr_gp_galsim.xim)/r_corr_gp_galsim.xim**2.)**2. + (np.sqrt(r_corr_pp_galsim.varxim)/r_corr_pp_galsim.xim)**2.)"
   ]
  },
  {
   "cell_type": "code",
   "execution_count": null,
   "metadata": {
    "scrolled": false
   },
   "outputs": [],
   "source": [
    "#mpl.rcParams['lines.linewidth'] = 3\n",
    "#mpl.rcParams['lines.markersize'] = 10\n",
    "#mpl.rcParams['font.size'] = 35\n",
    "#mpl.rcParams['xtick.minor.size'] = 7\n",
    "#mpl.rcParams['ytick.minor.size'] = 7\n",
    "#mpl.rcParams['xtick.major.size'] = 10\n",
    "#mpl.rcParams['ytick.major.size'] = 10\n",
    "#mpl.rcParams['xtick.major.width'] = 3\n",
    "#mpl.rcParams['ytick.major.width'] = 3\n",
    "#mpl.rcParams['boxplot.boxprops.linewidth'] = 2.\n",
    "#mpl.rcParams['boxplot.medianprops.linewidth'] = 2.\n",
    "#mpl.rcParams['boxplot.flierprops.markersize'] = 12\n",
    "#mpl.rcParams['boxplot.whiskerprops.linewidth'] = 2.\n",
    "#mpl.rcParams['boxplot.capprops.linewidth'] = 2.\n",
    "#mpl.rcParams['axes.xmargin'] = mpl.rcParamsDefault['axes.xmargin']\n",
    "\n",
    "color = plt.rcParams['axes.prop_cycle'].by_key()['color']\n",
    "\n",
    "plt.figure(figsize=(30,20))\n",
    "plt.errorbar(r_corr_gp_galsim.meanr, C_sys_p_galsim, yerr=C_sys_std_p_galsim, label=r'$\\xi_{+}^{sys}$')\n",
    "plt.plot(r_corr_gp_galsim.meanr, xi_p_planck, ':', color=color[0], label=r'$\\xi_{+}^{\\Lambda\\mathrm{CDM}}$')\n",
    "plt.plot(r_corr_gp_galsim.meanr, xi_m_planck, ':', color=color[1], label=r'$\\xi_{-}^{\\Lambda\\mathrm{CDM}}$')\n",
    "\n",
    "#ind_neg = np.where(C_sys_m <= 0)[0]\n",
    "#ind_pos = np.where(C_sys_m > 0)[0]\n",
    "#plt.errorbar(res.meanr[ind_neg]+0.05*res.meanr[ind_neg], np.abs(C_sys_m[ind_neg]), yerr=C_sys_std_m[ind_neg], linestyle='--', color=color[1], label=r'$\\xi_{-}^{sys}$')\n",
    "#plt.errorbar(res.meanr[[ind_neg[-1], ind_pos[0]]]+0.05*res.meanr[[ind_neg[-1], ind_pos[0]]], np.abs(C_sys_m[[ind_neg[-1], ind_pos[0]]]), yerr=C_sys_std_m[[ind_neg[-1], ind_pos[0]]], linestyle='--', color=color[1])\n",
    "#plt.errorbar(res.meanr[ind_pos]+0.05*res.meanr[ind_pos], C_sys_m[ind_pos], yerr=C_sys_std_m[ind_pos], color=color[1], linestyle='-')\n",
    "plt.errorbar(r_corr_gp_galsim.meanr*(1.02), C_sys_m_galsim, yerr=C_sys_std_m_galsim, label=r'$\\xi_{-}^{sys}$')\n",
    "\n",
    "plt.xscale('log')\n",
    "plt.yscale('log')\n",
    "plt.xlim(plt.xlim()[0]+0.,plt.xlim()[1]-30)\n",
    "\n",
    "plt.xticks([2, 10, 200], labels=['2', '10', '200'])\n",
    "plt.xlabel(r'$\\theta$ (arcmin)')\n",
    "plt.ylabel(r'$\\xi_{\\pm}$')\n",
    "#plt.ticklabel_format(style='sci', axis='y', scilimits=(0,0))\n",
    "#plt.gca().yaxis.set_major_formatter(mpl.ticker.FuncFormatter(lambda v,_: (\"$10^{%d}$\" % math.log(v,10)) ))\n",
    "plt.legend()\n",
    "plt.savefig(plot_dir + 'xi_sys_galsim.png')"
   ]
  },
  {
   "cell_type": "code",
   "execution_count": null,
   "metadata": {
    "scrolled": false
   },
   "outputs": [],
   "source": [
    "#mpl.rcParams['lines.linewidth'] = 3\n",
    "#mpl.rcParams['lines.markersize'] = 10\n",
    "#mpl.rcParams['font.size'] = 35\n",
    "#mpl.rcParams['xtick.minor.size'] = 7\n",
    "#mpl.rcParams['ytick.minor.size'] = 7\n",
    "#mpl.rcParams['xtick.major.size'] = 10\n",
    "#mpl.rcParams['ytick.major.size'] = 10\n",
    "#mpl.rcParams['xtick.major.width'] = 3\n",
    "#mpl.rcParams['ytick.major.width'] = 3\n",
    "#mpl.rcParams['boxplot.boxprops.linewidth'] = 2.\n",
    "#mpl.rcParams['boxplot.medianprops.linewidth'] = 2.\n",
    "#mpl.rcParams['boxplot.flierprops.markersize'] = 12\n",
    "#mpl.rcParams['boxplot.whiskerprops.linewidth'] = 2.\n",
    "#mpl.rcParams['boxplot.capprops.linewidth'] = 2.\n",
    "#mpl.rcParams['axes.xmargin'] = mpl.rcParamsDefault['axes.xmargin']\n",
    "\n",
    "color = plt.rcParams['axes.prop_cycle'].by_key()['color']\n",
    "\n",
    "plt.figure(figsize=(30,20))\n",
    "#plt.errorbar(r_corr_gp.meanr, C_sys_p, yerr=C_sys_std_p, label=r'$\\xi_{+}^{sys}$')\n",
    "#plt.plot(r_corr_gp.meanr, f_theo_p_p(r_corr_gp.meanr), ':', color=color[0], label=r'$\\xi_{+}^{\\Lambda\\mathrm{CDM}}$')\n",
    "#plt.plot(r_corr_gp.meanr, f_theo_m_p(r_corr_gp.meanr), ':', color=color[1], label=r'$\\xi_{-}^{\\Lambda\\mathrm{CDM}}$')\n",
    "plt.plot(r_corr_gp_galsim.meanr, C_sys_p_galsim/xi_p_planck, color=color[0], label=r'$\\xi_{\\pm}/\\xi_{+}^{\\Lambda\\mathrm{CDM}}$')\n",
    "\n",
    "#ind_neg = np.where(C_sys_m <= 0)[0]\n",
    "#ind_pos = np.where(C_sys_m > 0)[0]\n",
    "#plt.errorbar(res.meanr[ind_neg]+0.05*res.meanr[ind_neg], np.abs(C_sys_m[ind_neg]), yerr=C_sys_std_m[ind_neg], linestyle='--', color=color[1], label=r'$\\xi_{-}^{sys}$')\n",
    "#plt.errorbar(res.meanr[[ind_neg[-1], ind_pos[0]]]+0.05*res.meanr[[ind_neg[-1], ind_pos[0]]], np.abs(C_sys_m[[ind_neg[-1], ind_pos[0]]]), yerr=C_sys_std_m[[ind_neg[-1], ind_pos[0]]], linestyle='--', color=color[1])\n",
    "#plt.errorbar(res.meanr[ind_pos]+0.05*res.meanr[ind_pos], C_sys_m[ind_pos], yerr=C_sys_std_m[ind_pos], color=color[1], linestyle='-')\n",
    "#plt.errorbar(r_corr_gp.meanr*(1.02), C_sys_m, yerr=C_sys_std_m, label=r'$\\xi_{-}^{sys}$')\n",
    "\n",
    "plt.xscale('log')\n",
    "#plt.yscale('log')\n",
    "plt.xlim(plt.xlim()[0]+0.,plt.xlim()[1]-30)\n",
    "\n",
    "plt.xticks([2, 10, 200], labels=['2', '10', '200'])\n",
    "plt.xlabel(r'$\\theta$ (arcmin)')\n",
    "plt.ylabel(r'$\\xi_{\\pm}/\\xi_{+}^{\\Lambda\\mathrm{CDM}}$')\n",
    "#plt.ticklabel_format(style='sci', axis='y', scilimits=(0,0))\n",
    "#plt.gca().yaxis.set_major_formatter(mpl.ticker.FuncFormatter(lambda v,_: (\"$10^{%d}$\" % math.log(v,10)) ))\n",
    "plt.legend()\n",
    "plt.savefig(plot_dir + 'xi_sys_ratio_galsim.png')"
   ]
  },
  {
   "cell_type": "markdown",
   "metadata": {},
   "source": [
    "## Write catalog"
   ]
  },
  {
   "cell_type": "code",
   "execution_count": null,
   "metadata": {},
   "outputs": [],
   "source": [
    "# TODO: move this function to the python script.\n",
    "\n",
    "def write_catalog_bias(output_path, ra, dec, g1, g2, w, mag, snr,\n",
    "                       R, R_select, c1, c2, c1_err, c2_err, alpha_leak,\n",
    "                       g1_uncal=None, g2_uncal=None, R_11=None,\n",
    "                       R_22=None, R_12=None, R_21=None):\n",
    "    \"\"\"\n",
    "    \"\"\"\n",
    "\n",
    "    # Data HDU\n",
    "    c_ra = fits.Column(name='ra', array=ra, format='D', unit='deg')\n",
    "    c_dec = fits.Column(name='dec', array=dec, format='D', unit='deg')\n",
    "    c_g1 = fits.Column(name='g1', array=g1, format='D')\n",
    "    c_g2 = fits.Column(name='g2', array=g2, format='D')\n",
    "    c_w = fits.Column(name='w', array=w, format='D')\n",
    "    c_mag = fits.Column(name='mag', array=mag, format='D')\n",
    "    c_snr = fits.Column(name='snr', array=snr, format='D')\n",
    "    cols = [c_ra, c_dec, c_g1, c_g2, c_w, c_mag, c_snr]\n",
    "\n",
    "    for x, name in zip([g1_uncal, g2_uncal, R_11, R_22, R_12, R_21],\n",
    "                       ['g1_uncal', 'g2_uncal', 'R_11', 'R_22', 'R_12', 'R_21']):\n",
    "        if x is not None:\n",
    "            cols.append(fits.Column(name=name, array=x, format='D'))\n",
    "\n",
    "    table_hdu = fits.BinTableHDU.from_columns(cols)\n",
    "\n",
    "    table_hdu.header['TTYPE3'] = ('g1', 'Reduced shear (a-b)/(a+b)')\n",
    "    table_hdu.header['TTYPE4'] = ('g2', 'Reduced shear (a-b)/(a+b)')\n",
    "    table_hdu.header['TTYPE5'] = ('w', 'Ellipticity weight')\n",
    "    table_hdu.header['TTYPE6'] = ('mag', 'From SExtractor: MAG_AUTO')\n",
    "    table_hdu.header['TTYPE7'] = ('snr', 'SNR computed on metacal noshear: flux/flux_std')\n",
    "    \n",
    "    ntype =  8\n",
    "    for x in ([g1_uncal, g2_uncal], ['g1_uncal', 'g2_uncal']):\n",
    "        if x is not None:\n",
    "            table_hdu.header['TTYPE{}'.format(ntype)] = (name, 'uncalibrated reduced shear')\n",
    "            ntype += 1\n",
    "    for x, name in zip([R_11, R_22, R_12, R_21], ['R_11', 'R_22', 'R_12', 'R_21']):\n",
    "        if x is not None:\n",
    "            table_hdu.header['TTYPE{}'.format(ntype)] = (name, f'full response matrix {name}')\n",
    "            ntype += 1\n",
    "\n",
    "    # Primary HDU with information in header\n",
    "    primary_header = fits.Header()\n",
    "\n",
    "    primary_header['R'] = (r'<R>', r'Full response: <R> = <R_shear> + <R_select>')\n",
    "\n",
    "    primary_header['R1_1'] = (R[0,0], 'Full response matrix')\n",
    "    primary_header['R1_2'] = (R[0,1], 'Full response matrix')\n",
    "    primary_header['R2_1'] = (R[1,0], 'Full response matrix')\n",
    "    primary_header['R2_2'] = (R[1,1], 'Full response matrix')\n",
    "\n",
    "    primary_header['RS'] = (r'<RS>', r'Selection response matrix: <R_select>')\n",
    "    primary_header['RS1_1'] = (R_select[0,0], 'Selection response matrix')\n",
    "    primary_header['RS1_2'] = (R_select[0,1], 'Selection response matrix')\n",
    "    primary_header['RS2_1'] = (R_select[1,0], 'Selection response matrix')\n",
    "    primary_header['RS2_2'] = (R_select[1,1], 'Selection response matrix')\n",
    "\n",
    "    primary_header['g_corr'] = ('Apply correction', r'g_corr = R**(-1).g')\n",
    "\n",
    "    primary_header['c'] = ('', 'Additive bias computed with JackKnife')\n",
    "    primary_header['c1'] = (c1, 'Additive bias for g1')\n",
    "    primary_header['c1_err'] = (c1_err, 'Standard deviation for c1')\n",
    "    primary_header['c2'] = (c2, 'Additive bias for g2')\n",
    "    primary_header['c2_err'] = (c2_err, 'Standard deviation for c2')\n",
    "\n",
    "    primary_header['w'] = ('Ellipticity weight', r'1 / (2*sig_SN**2 + g1_var + g2_var)')\n",
    "    primary_header['sig_SN'] = (0.34, 'Sigma_shape_noise')\n",
    "\n",
    "    primary_header['alpha'] = (alpha_leak, 'PSF leakage alpha')\n",
    "\n",
    "    primary_hdu = fits.PrimaryHDU(header=primary_header)\n",
    "\n",
    "    # Final file\n",
    "    hdu_list = fits.HDUList([primary_hdu, table_hdu])\n",
    "\n",
    "    hdu_list.writeto(output_path, overwrite=True)\n"
   ]
  },
  {
   "cell_type": "code",
   "execution_count": null,
   "metadata": {},
   "outputs": [],
   "source": [
    "out_name = 'shape_catalog_W3_MCCD_20210326.fits'\n",
    "\n",
    "R = np.zeros_like(gal_metacal_ngmix.R_shear)\n",
    "for i in (0,1):\n",
    "    for j in (0, 1):\n",
    "        R[i, j] = gal_metacal_ngmix.R_shear[i, j] + gal_metacal_ngmix.R_selection[i, j]\n",
    "\n",
    "# Debug\n",
    "alpha_leaka_mean_ngmix = 0\n",
    "        \n",
    "write_catalog_bias(out_name,\n",
    "                   ra_ngmix, dec_ngmix,\n",
    "                   g_corr_ngmix[0], g_corr_ngmix[1], w_ngmix,\n",
    "                   mag_ngmix, snr_ngmix, \n",
    "                   gal_metacal_ngmix.R, gal_metacal_ngmix.R_selection,\n",
    "                   c1_ngmix, c2_ngmix, err_c1_ngmix, err_c2_ngmix,\n",
    "                   alpha_leaka_mean_ngmix,\n",
    "                   g1_uncal=g_ngmix[0],g2_uncal=g_ngmix[1], \n",
    "                   R_11=R[0, 0], R_12=R[0, 1], R_21=R[1, 0], R_22=R[1, 1])"
   ]
  },
  {
   "cell_type": "markdown",
   "metadata": {},
   "source": [
    "## Some cosmological calculations"
   ]
  },
  {
   "cell_type": "markdown",
   "metadata": {},
   "source": [
    "### Ngmix"
   ]
  },
  {
   "cell_type": "markdown",
   "metadata": {},
   "source": [
    "### Shear-Shear"
   ]
  },
  {
   "cell_type": "code",
   "execution_count": null,
   "metadata": {},
   "outputs": [],
   "source": [
    "res_g_ngmix = xi_gal_gal_tc(ra_ngmix, dec_ngmix, g_corr_ngmix[0]-c1_ngmix, g_corr_ngmix[1]-c2_ngmix, w_ngmix, ra_ngmix, dec_ngmix, g_corr_ngmix[0]-c1_ngmix, g_corr_ngmix[1]-c2_ngmix, w_ngmix)"
   ]
  },
  {
   "cell_type": "markdown",
   "metadata": {},
   "source": [
    "##### Cosmo planck"
   ]
  },
  {
   "cell_type": "code",
   "execution_count": null,
   "metadata": {},
   "outputs": [],
   "source": [
    "z, nz = np.loadtxt(nz_name, unpack=True)\n",
    "\n",
    "Om = 0.3153\n",
    "sig8 = 0.8111\n",
    "ns = 0.9649\n",
    "Ob = 0.0493\n",
    "h = 0.6736\n",
    "xi_p_planck, xi_m_planck = get_theo_xi(res_g_ngmix.meanr, z, nz, Omega_m=Om, h=h, Omega_b=Ob, sig8=sig8, ns=ns)"
   ]
  },
  {
   "cell_type": "markdown",
   "metadata": {},
   "source": [
    "##### Cosmo DES"
   ]
  },
  {
   "cell_type": "code",
   "execution_count": null,
   "metadata": {},
   "outputs": [],
   "source": [
    "Om = 0.295\n",
    "S8 = 0.768\n",
    "sig8 = S8 / ((Om/0.3)**0.5)\n",
    "#sig8 = 0.8111\n",
    "ns = 1.044\n",
    "Ob = 0.0516\n",
    "h = 0.672\n",
    "xi_p_des, xi_m_des = get_theo_xi(res_g_ngmix.meanr, z, nz, Omega_m=Om, h=h, Omega_b=Ob, sig8=sig8, ns=ns)"
   ]
  },
  {
   "cell_type": "code",
   "execution_count": null,
   "metadata": {
    "scrolled": false
   },
   "outputs": [],
   "source": [
    "pos_ind_gg = res_g_ngmix.xip >= 0\n",
    "neg_ind_gg = res_g_ngmix.xip < 0\n",
    "\n",
    "plt.figure(figsize=(15,10))\n",
    "\n",
    "eb1 = plt.errorbar(res_g_ngmix.meanr[pos_ind_gg], res_g_ngmix.xip[pos_ind_gg], yerr=np.sqrt(res_g_ngmix.varxip[pos_ind_gg]), linestyle='', color=color[0], marker='x', capsize=4, label=r'$\\xi_{+}$')\n",
    "eb1[-1][0].set_linestyle('-')\n",
    "\n",
    "eb2 = plt.errorbar(res_g_ngmix.meanr[neg_ind_gg], np.abs(res_g_ngmix.xip[neg_ind_gg]), yerr=np.sqrt(res_g_ngmix.varxip[neg_ind_gg]), linestyle='', color=color[0], marker='x', capsize=4)#, label=r'$\\xi_{+}$')\n",
    "eb2[-1][0].set_linestyle(':')\n",
    "\n",
    "plt.plot(res_g_ngmix.meanr, xi_p_planck, 'k:', label=r'$\\xi_{+}^{\\Lambda\\mathrm{CDM}}$ planck')\n",
    "plt.plot(res_g_ngmix.meanr, xi_p_des, 'k--', label=r'$\\xi_{+}^{\\Lambda\\mathrm{CDM}}$ DESY1')\n",
    "\n",
    "plt.xscale('log')\n",
    "plt.yscale('log')\n",
    "plt.xlim(plt.xlim()[0]+0.3,plt.xlim()[1]-0)\n",
    "\n",
    "plt.xticks([2, 10, 100], labels=['2', '10', '100'])\n",
    "plt.xlabel(r'$\\theta$ (arcmin)')\n",
    "plt.ylabel(r'$\\xi_{+}$')\n",
    "#plt.ticklabel_format(style='sci', axis='y', scilimits=(0,0))\n",
    "#plt.gca().yaxis.set_major_formatter(mpl.ticker.FuncFormatter(lambda v,_: (\"$10^{%d}$\" % math.log(v,10)) ))\n",
    "plt.legend()\n",
    "plt.savefig(plot_dir + 'xi_+_shear_shear_ngmix.png')"
   ]
  },
  {
   "cell_type": "code",
   "execution_count": null,
   "metadata": {},
   "outputs": [],
   "source": [
    "pos_ind_gg = res_g_ngmix.xim >= 0\n",
    "neg_ind_gg = res_g_ngmix.xim < 0\n",
    "\n",
    "plt.figure(figsize=(15,10))\n",
    "\n",
    "eb1 = plt.errorbar(res_g_ngmix.meanr[pos_ind_gg], res_g_ngmix.xim[pos_ind_gg], yerr=np.sqrt(res_g_ngmix.varxim[pos_ind_gg]), linestyle='', color=color[1], marker='o', markerfacecolor='none', capsize=4, label=r'$\\xi_{-}$')\n",
    "eb1[-1][0].set_linestyle('-')\n",
    "\n",
    "eb2 = plt.errorbar(res_g_ngmix.meanr[neg_ind_gg], np.abs(res_g_ngmix.xim[neg_ind_gg]), yerr=np.sqrt(res_g_ngmix.varxim[neg_ind_gg]), linestyle='', color=color[1], marker='o', markerfacecolor='none', capsize=4)#, label=r'$\\xi_{-}$')\n",
    "eb2[-1][0].set_linestyle(':')\n",
    "\n",
    "plt.plot(res_g_ngmix.meanr, xi_m_planck, 'k:', label=r'$\\xi_{-}^{\\Lambda\\mathrm{CDM}}$ planck')\n",
    "plt.plot(res_g_ngmix.meanr, xi_m_des, 'k--', label=r'$\\xi_{-}^{\\Lambda\\mathrm{CDM}}$ DESY1')\n",
    "\n",
    "plt.xscale('log')\n",
    "plt.yscale('log')\n",
    "plt.xlim(plt.xlim()[0]+0.,plt.xlim()[1])\n",
    "\n",
    "plt.xticks([2, 10, 100], labels=['2', '10', '100'])\n",
    "plt.xlabel(r'$\\theta$ (arcmin)')\n",
    "plt.ylabel(r'$\\xi_{-}$')\n",
    "#plt.ticklabel_format(style='sci', axis='y', scilimits=(0,0))\n",
    "#plt.gca().yaxis.set_major_formatter(mpl.ticker.FuncFormatter(lambda v,_: (\"$10^{%d}$\" % math.log(v,10)) ))\n",
    "plt.legend()\n",
    "plt.savefig(plot_dir + 'xi_-_shear_shear_ngmix.png')"
   ]
  },
  {
   "cell_type": "markdown",
   "metadata": {},
   "source": [
    "### Galsim"
   ]
  },
  {
   "cell_type": "code",
   "execution_count": null,
   "metadata": {},
   "outputs": [],
   "source": [
    "res_g_galsim = xi_gal_gal_tc(ra_galsim, dec_galsim, g_corr_galsim[0]-c1_galsim, g_corr_galsim[1]-c2_galsim, np.ones_like(w_galsim), ra_galsim, dec_galsim, g_corr_galsim[0]-c1_galsim, g_corr_galsim[1]-c2_galsim, np.ones_like(w_galsim))"
   ]
  },
  {
   "cell_type": "code",
   "execution_count": null,
   "metadata": {
    "scrolled": false
   },
   "outputs": [],
   "source": [
    "pos_ind_gg = res_g_galsim.xip >= 0\n",
    "neg_ind_gg = res_g_galsim.xip < 0\n",
    "\n",
    "plt.figure(figsize=(15,10))\n",
    "\n",
    "eb1 = plt.errorbar(res_g_galsim.meanr[pos_ind_gg], res_g_galsim.xip[pos_ind_gg], yerr=np.sqrt(res_g_galsim.varxip[pos_ind_gg]), linestyle='', color=color[0], marker='x', capsize=4, label=r'$\\xi_{+}$')\n",
    "eb1[-1][0].set_linestyle('-')\n",
    "\n",
    "eb2 = plt.errorbar(res_g_galsim.meanr[neg_ind_gg], np.abs(res_g_galsim.xip[neg_ind_gg]), yerr=np.sqrt(res_g_galsim.varxip[neg_ind_gg]), linestyle='', color=color[0], marker='x', capsize=4)#, label=r'$\\xi_{+}$')\n",
    "eb2[-1][0].set_linestyle(':')\n",
    "\n",
    "plt.plot(res_g_galsim.meanr, xi_p_planck, 'k:', label=r'$\\xi_{+}^{\\Lambda\\mathrm{CDM}}$ planck')\n",
    "plt.plot(res_g_galsim.meanr, xi_p_des, 'k--', label=r'$\\xi_{+}^{\\Lambda\\mathrm{CDM}}$ DESY1')\n",
    "\n",
    "plt.xscale('log')\n",
    "plt.yscale('log')\n",
    "plt.xlim(plt.xlim()[0]+0.,plt.xlim()[1]-0)\n",
    "\n",
    "plt.xticks([2, 10, 200], labels=['2', '10', '200'])\n",
    "plt.xlabel(r'$\\theta$ (arcmin)')\n",
    "plt.ylabel(r'$\\xi_{+}$')\n",
    "#plt.ticklabel_format(style='sci', axis='y', scilimits=(0,0))\n",
    "#plt.gca().yaxis.set_major_formatter(mpl.ticker.FuncFormatter(lambda v,_: (\"$10^{%d}$\" % math.log(v,10)) ))\n",
    "plt.legend()\n",
    "plt.savefig(plot_dir + 'xi_+_shear_shear_galsim.png')"
   ]
  },
  {
   "cell_type": "code",
   "execution_count": null,
   "metadata": {},
   "outputs": [],
   "source": [
    "pos_ind_gg = res_g_galsim.xim >= 0\n",
    "neg_ind_gg = res_g_galsim.xim < 0\n",
    "\n",
    "plt.figure(figsize=(15,10))\n",
    "\n",
    "eb1 = plt.errorbar(res_g_galsim.meanr[pos_ind_gg], res_g_galsim.xim[pos_ind_gg], yerr=np.sqrt(res_g_galsim.varxim[pos_ind_gg]), linestyle='', color=color[1], marker='o', markerfacecolor='none', capsize=4, label=r'$\\xi_{-}$')\n",
    "eb1[-1][0].set_linestyle('-')\n",
    "\n",
    "eb2 = plt.errorbar(res_g_galsim.meanr[neg_ind_gg], np.abs(res_g_galsim.xim[neg_ind_gg]), yerr=np.sqrt(res_g_galsim.varxim[neg_ind_gg]), linestyle='', color=color[1], marker='o', markerfacecolor='none', capsize=4)#, label=r'$\\xi_{-}$')\n",
    "eb2[-1][0].set_linestyle(':')\n",
    "\n",
    "plt.plot(res_g_galsim.meanr, xi_m_planck, 'k:', label=r'$\\xi_{-}^{\\Lambda\\mathrm{CDM}}$ planck')\n",
    "plt.plot(res_g_galsim.meanr, xi_m_des, 'k--', label=r'$\\xi_{-}^{\\Lambda\\mathrm{CDM}}$ DESY1')\n",
    "\n",
    "plt.xscale('log')\n",
    "plt.yscale('log')\n",
    "plt.xlim(plt.xlim()[0]+0.,plt.xlim()[1])\n",
    "\n",
    "plt.xticks([2, 10, 200], labels=['2', '10', '200'])\n",
    "plt.xlabel(r'$\\theta$ (arcmin)')\n",
    "plt.ylabel(r'$\\xi_{-}$')\n",
    "#plt.ticklabel_format(style='sci', axis='y', scilimits=(0,0))\n",
    "#plt.gca().yaxis.set_major_formatter(mpl.ticker.FuncFormatter(lambda v,_: (\"$10^{%d}$\" % math.log(v,10)) ))\n",
    "plt.legend()\n",
    "plt.savefig(plot_dir + 'xi_-_shear_shear_galsim.png')"
   ]
  },
  {
   "cell_type": "markdown",
   "metadata": {},
   "source": [
    "### Cluster lensing"
   ]
  },
  {
   "cell_type": "markdown",
   "metadata": {},
   "source": [
    "#### Load Planck cluster catalog"
   ]
  },
  {
   "cell_type": "code",
   "execution_count": null,
   "metadata": {},
   "outputs": [],
   "source": [
    "cluster_cat_name = 'HFI_PCCS_SZ-union_R2.08.fits.gz'\n",
    "source = 'vos:cfis/cosmostat/cosmology/external/Planck/{}'.format(cluster_cat_name)\n",
    "download(source, cluster_cat_name, verbose=True)"
   ]
  },
  {
   "cell_type": "code",
   "execution_count": null,
   "metadata": {},
   "outputs": [],
   "source": [
    "cluster_cat = fits.getdata(cluster_cat_name)\n",
    "m_good_cluster = (cluster_cat['MSZ'] != 0) & (cluster_cat['COSMO'] == True)\n",
    "m_cluster_foot = get_mask_footprint_P3(cluster_cat['RA'][m_good_cluster], cluster_cat['DEC'][m_good_cluster])\n",
    "sdss_cluster_cut = {'ra': cluster_cat['RA'][m_good_cluster][m_cluster_foot], 'dec':cluster_cat['DEC'][m_good_cluster][m_cluster_foot], 'z':cluster_cat['REDSHIFT'][m_good_cluster][m_cluster_foot], 'M':cluster_cat['MSZ'][m_good_cluster][m_cluster_foot]*1e14}\n",
    "#sdss_cluster_cut = {'ra': cluster_cat['RA'][m_good_cluster][m_cluster_foot][1:2], 'dec':cluster_cat['DEC'][m_good_cluster][m_cluster_foot][1:2], 'z':cluster_cat['REDSHIFT'][m_good_cluster][m_cluster_foot][1:2], 'M':cluster_cat['MSZ'][m_good_cluster][m_cluster_foot][1:2]*1e14}"
   ]
  },
  {
   "cell_type": "code",
   "execution_count": null,
   "metadata": {},
   "outputs": [],
   "source": [
    "plt.figure(figsize=(15,15))\n",
    "plt.plot(ra_ngmix, dec_ngmix, '+')\n",
    "plt.plot(sdss_cluster_cut['ra'], sdss_cluster_cut['dec'], '*')\n",
    "for i in range(len(sdss_cluster_cut['ra'])):\n",
    "    plt.text(sdss_cluster_cut['ra'][i], sdss_cluster_cut['dec'][i]+ 0.02 * (plt.ylim()[0] - plt.ylim()[1]), i, color='k', fontsize=10, ha='center', va='center')"
   ]
  },
  {
   "cell_type": "code",
   "execution_count": null,
   "metadata": {},
   "outputs": [],
   "source": [
    "ind_cluster_keep = [2,4,5,6,7,8,9,10,11,13,14,15]\n",
    "for key in sdss_cluster_cut.keys():\n",
    "    sdss_cluster_cut[key] = sdss_cluster_cut[key][ind_cluster_keep]"
   ]
  },
  {
   "cell_type": "code",
   "execution_count": null,
   "metadata": {},
   "outputs": [],
   "source": [
    "print('Number of clusters : {}'.format(len(sdss_cluster_cut['z'])))\n",
    "stat_file.write('Number of clusters : {}\\n'.format(len(sdss_cluster_cut['z'])))"
   ]
  },
  {
   "cell_type": "code",
   "execution_count": null,
   "metadata": {},
   "outputs": [],
   "source": [
    "R_p, logR_p, gamT_p, gamX_p, gam_sig_p = gamma_T_tc(sdss_cluster_cut['ra'], sdss_cluster_cut['dec'], ra_ngmix, dec_ngmix, g_corr_ngmix[0]-c1_ngmix, g_corr_ngmix[1]-c2_ngmix, w_ngmix)"
   ]
  },
  {
   "cell_type": "code",
   "execution_count": null,
   "metadata": {},
   "outputs": [],
   "source": [
    "gamT_p"
   ]
  },
  {
   "cell_type": "code",
   "execution_count": null,
   "metadata": {
    "scrolled": false
   },
   "outputs": [],
   "source": [
    "\n",
    "\n",
    "plt.figure(figsize=(30,20))\n",
    "# plt.errorbar(logR_p, gamT_p, yerr=gam_sig_p, capsize = 3, label='gamma_T')\n",
    "# plt.boxplot(res[:,2,:], positions=logR_p, widths=0.2)\n",
    "\n",
    "errplot = plt.errorbar(logR_p, gamT_p, yerr=gam_sig_p, capsize = 3, label=r'$\\gamma_{t}$ known clusters')\n",
    "#plt.boxplot(res[:,2,:], positions=logR_p, widths=0.2)\n",
    "plt.hlines(y=0, xmin=np.min(logR_p), xmax=np.max(logR_p), linestyles='dashed')\n",
    "# plt.xscale('log')\n",
    "plt.title(r'Lensing by clusters')\n",
    "plt.ylabel(r'$\\gamma$')\n",
    "plt.xlabel(r'$log(\\theta$) (arcmin)')\n",
    "#plt.xticks(fontsize=20)\n",
    "#plt.yticks(fontsize=20)\n",
    "\n",
    "plt.gca().xaxis.set_major_locator(mpl.ticker.MultipleLocator(0.5))\n",
    "plt.gca().xaxis.set_major_formatter(ScalarFormatter())\n",
    "\n",
    "plt.xlim(plt.xlim()[0]+0.3,plt.xlim()[1]-0.3)\n",
    "\n",
    "plt.legend([errplot, Patch(facecolor='w', edgecolor='k')], [r'$\\gamma_{t}$ known clusters', r'random positions'])\n",
    "#plt.savefig('new_cat/cluster_profile_bp.png')"
   ]
  },
  {
   "cell_type": "code",
   "execution_count": null,
   "metadata": {
    "scrolled": false
   },
   "outputs": [],
   "source": [
    "stacked_gammaT_theo = np.zeros(15)\n",
    "for m_clust, z_clust in tqdm(zip(sdss_cluster_cut['M'], sdss_cluster_cut['z']), total=len(sdss_cluster_cut['M'])):\n",
    "    stacked_gammaT_theo += get_theo_gamT(m_clust, z_clust, z_source=0.68, theta=R_p, meanbin_z=z, nz=nz)"
   ]
  },
  {
   "cell_type": "code",
   "execution_count": null,
   "metadata": {
    "scrolled": false
   },
   "outputs": [],
   "source": [
    "plt.figure(figsize=(30,20))\n",
    "# plt.errorbar(logR_p, gamT_p, yerr=gam_sig_p, capsize = 3, label='gamma_T')\n",
    "# plt.boxplot(res[:,2,:], positions=logR_p, widths=0.2)\n",
    "\n",
    "plt.errorbar(R_p, gamT_p, yerr=gam_sig_p, capsize = 3, label=r'Data')\n",
    "plt.plot(R_p, stacked_gammaT_theo/len(sdss_cluster_cut['M']), label=r'Theoretical NFW profile')\n",
    "plt.xscale('log')\n",
    "plt.hlines(y=0, xmin=plt.xlim()[0], xmax=plt.xlim()[1], linestyles='dashed')\n",
    "plt.xlim(plt.xlim()[0]+0.13,plt.xlim()[1]-17)\n",
    "plt.xlabel(r'$\\theta$ (arcmin)')\n",
    "plt.ylabel(r'$\\gamma_{t}$')\n",
    "plt.legend()\n",
    "plt.title('Stacked cluster profiles')\n",
    "plt.savefig(plot_dir + 'all_clusters_profile.png')"
   ]
  },
  {
   "cell_type": "code",
   "execution_count": null,
   "metadata": {},
   "outputs": [],
   "source": [
    "R_m, logR_m, gamT_m, gamX_m, gam_sig_m = gamma_T_tc(sdss_cluster_cut['ra'], sdss_cluster_cut['dec'], ra_ngmix, dec_ngmix, g_corr_ngmix[0]-c1_ngmix, g_corr_ngmix[1]-c2_ngmix, w_ngmix)"
   ]
  },
  {
   "cell_type": "code",
   "execution_count": null,
   "metadata": {
    "scrolled": false
   },
   "outputs": [],
   "source": [
    "mean_z_clust = np.mean(sdss_cluster_cut['z'])\n",
    "m_est, fitted_profile = get_theo_mass(mean_z_clust, R_m, gamT_m, gam_sig_m, 0.98, meanbin_z=z, nz=nz)"
   ]
  },
  {
   "cell_type": "code",
   "execution_count": null,
   "metadata": {},
   "outputs": [],
   "source": [
    "print(\"Cluster mean redshift : {}\".format(mean_z_clust))\n",
    "print(\"Estimated mass : {:.3E}\".format(m_est))\n",
    "print('\"True\" mass : {:.3E}'.format(np.mean(sdss_cluster_cut['M'])*0.7))\n",
    "stat_file.write(\"Cluster mean redshift : {}\\n\".format(mean_z_clust))\n",
    "stat_file.write(\"Estimated mass : {:.3E}\\n\".format(m_est))\n",
    "stat_file.write('\"True\" mass : {:.3E}\\n'.format(np.mean(sdss_cluster_cut['M'])*0.7))"
   ]
  },
  {
   "cell_type": "code",
   "execution_count": null,
   "metadata": {
    "scrolled": false
   },
   "outputs": [],
   "source": [
    "plt.figure(figsize=(30,20))\n",
    "plt.errorbar(R_m, gamT_m, yerr=gam_sig_m, label=r'Data')\n",
    "plt.plot(R_m, fitted_profile, label=r'Best fit NFW profile')\n",
    "plt.hlines(y=0, xmin=np.min(R_m), xmax=np.max(R_m), linestyles='dashed')\n",
    "plt.xscale('log')\n",
    "plt.xlabel(r'$\\theta$ (arcmin)')\n",
    "plt.ylabel(r'$\\gamma_{t}$')\n",
    "plt.legend()\n",
    "plt.title('Mass recovery (best fit)')"
   ]
  },
  {
   "cell_type": "markdown",
   "metadata": {},
   "source": [
    "### Mass maps"
   ]
  },
  {
   "cell_type": "markdown",
   "metadata": {},
   "source": [
    "#### Full mass map"
   ]
  },
  {
   "cell_type": "code",
   "execution_count": null,
   "metadata": {},
   "outputs": [],
   "source": [
    "#from lenspack.utils import bin2d\n",
    "#from lenspack.geometry.projections.gnom import radec2xy"
   ]
  },
  {
   "cell_type": "code",
   "execution_count": null,
   "metadata": {},
   "outputs": [],
   "source": [
    "xx, yy = radec2xy(np.mean(ra_ngmix), np.mean(dec_ngmix), ra_ngmix, dec_ngmix)"
   ]
  },
  {
   "cell_type": "code",
   "execution_count": null,
   "metadata": {},
   "outputs": [],
   "source": [
    "help(radec2xy)"
   ]
  },
  {
   "cell_type": "code",
   "execution_count": null,
   "metadata": {},
   "outputs": [],
   "source": [
    "#e1map, e2map = bin2d(correct_ra2(ra[m_test], dec[m_test]), dec[m_test], v=(g_corr[0][m_test]-c1, g_corr[1][m_test]-c2), w=w[m_test], npix=2048, verbose=True)"
   ]
  },
  {
   "cell_type": "code",
   "execution_count": null,
   "metadata": {},
   "outputs": [],
   "source": [
    "e1map, e2map = bin2d(xx, yy, v=(g_corr_ngmix[0]-c1_ngmix, g_corr_ngmix[1]-c2_ngmix), w=w_ngmix, npix=4096, verbose=True)"
   ]
  },
  {
   "cell_type": "code",
   "execution_count": null,
   "metadata": {},
   "outputs": [],
   "source": [
    "kappaE, kappaB = ks93(e1map, -e2map)"
   ]
  },
  {
   "cell_type": "code",
   "execution_count": null,
   "metadata": {},
   "outputs": [],
   "source": [
    "from scipy.ndimage.filters import gaussian_filter as gf"
   ]
  },
  {
   "cell_type": "code",
   "execution_count": null,
   "metadata": {},
   "outputs": [],
   "source": [
    "xx_cluster, yy_cluster = radec2xy(np.mean(ra_ngmix), np.mean(dec_ngmix), sdss_cluster_cut['ra'], sdss_cluster_cut['dec'])\n",
    "plt.figure(figsize=(20,20))\n",
    "plt.imshow(gf(kappaE, 16))\n",
    "vminE, vmaxE = plt.gci().get_clim()\n",
    "x_cluster = (xx_cluster - -0.24970972516329504) / 0.00011016574322916806\n",
    "y_cluster = (yy_cluster - -0.12938850035423424) / 7.312034604994855e-05\n",
    "dy = 0.02\n",
    "plt.plot(x_cluster, y_cluster, 'k+')\n",
    "for i in range(len(sdss_cluster_cut['z'])):\n",
    "    plt.text(x_cluster[i], y_cluster[i] + dy * (plt.ylim()[0] - plt.ylim()[1]), round(sdss_cluster_cut['z'][i],3), color='k', fontsize=10, ha='center', va='center')\n",
    "    plt.text(x_cluster[i], y_cluster[i] - dy * (plt.ylim()[0] - plt.ylim()[1]), round(sdss_cluster_cut['M'][i]/1e14, 2), color='k', fontsize=10, ha='center', va='center')\n",
    "plt.colorbar()\n",
    "\n",
    "loc, labels = plt.xticks()\n",
    "plt.xticks(loc[1:-1], labels=np.round(np.arange(ra_ngmix.min(), ra_ngmix.max(), step=(ra_ngmix.max()-ra_ngmix.min())/len(loc[1:-1])), 1))\n",
    "loc, labels = plt.yticks()\n",
    "plt.yticks(loc[1:-1], labels=np.round(np.arange(dec_ngmix.min(), dec_ngmix.max(), step=(dec_ngmix.max()-dec_ngmix.min())/len(loc[1:-1])), 1))\n",
    "plt.gca().invert_yaxis()\n",
    "plt.gca().invert_xaxis()\n",
    "plt.xlabel('Ra (deg)')\n",
    "plt.ylabel('Dec (deg)')\n",
    "plt.title('$\\kappa_{E}$')\n",
    "plt.savefig(plot_dir + 'mass_map_planck_cluster_E.png')"
   ]
  },
  {
   "cell_type": "code",
   "execution_count": null,
   "metadata": {},
   "outputs": [],
   "source": [
    "xx_cluster, yy_cluster = radec2xy(np.mean(ra_ngmix), np.mean(dec_ngmix), sdss_cluster_cut['ra'], sdss_cluster_cut['dec'])\n",
    "plt.figure(figsize=(20,20))\n",
    "plt.imshow(gf(kappaB, 16), vmin=vminE, vmax=vmaxE)\n",
    "x_cluster = (xx_cluster - -0.24970972516329504) / 0.00011016574322916806\n",
    "y_cluster = (yy_cluster - -0.12938850035423424) / 7.312034604994855e-05\n",
    "dy = 0.02\n",
    "plt.plot(x_cluster, y_cluster, 'k+')\n",
    "for i in range(len(sdss_cluster_cut['z'])):\n",
    "    plt.text(x_cluster[i], y_cluster[i] + dy * (plt.ylim()[0] - plt.ylim()[1]), round(sdss_cluster_cut['z'][i],3), color='k', fontsize=10, ha='center', va='center')\n",
    "    plt.text(x_cluster[i], y_cluster[i] - dy * (plt.ylim()[0] - plt.ylim()[1]), round(sdss_cluster_cut['M'][i]/1e14, 2), color='k', fontsize=10, ha='center', va='center')\n",
    "plt.colorbar()\n",
    "\n",
    "loc, labels = plt.xticks()\n",
    "plt.xticks(loc[1:-1], labels=np.round(np.arange(ra_ngmix.min(), ra_ngmix.max(), step=(ra_ngmix.max()-ra_ngmix.min())/len(loc[1:-1])), 1))\n",
    "loc, labels = plt.yticks()\n",
    "plt.yticks(loc[1:-1], labels=np.round(np.arange(dec_ngmix.min(), dec_ngmix.max(), step=(dec_ngmix.max()-dec_ngmix.min())/len(loc[1:-1])), 1))\n",
    "plt.gca().invert_yaxis()\n",
    "plt.gca().invert_xaxis()\n",
    "plt.xlabel('Ra (deg)')\n",
    "plt.ylabel('Dec (deg)')\n",
    "plt.title('$\\kappa_{B}$')\n",
    "plt.savefig(plot_dir + 'mass_map_planck_cluster_B.png')"
   ]
  },
  {
   "cell_type": "markdown",
   "metadata": {},
   "source": [
    "#### Stacked mass map"
   ]
  },
  {
   "cell_type": "code",
   "execution_count": null,
   "metadata": {},
   "outputs": [],
   "source": [
    "radius = 5"
   ]
  },
  {
   "cell_type": "code",
   "execution_count": null,
   "metadata": {
    "scrolled": true
   },
   "outputs": [],
   "source": [
    "res_stack_mm = stack_mm3(ra_ngmix, dec_ngmix, g_corr_ngmix[0]-c1_ngmix, g_corr_ngmix[1]-c2_ngmix, w_ngmix, sdss_cluster_cut['ra'], sdss_cluster_cut['dec'], sdss_cluster_cut['z'], radius=radius, n_match=1000000)"
   ]
  },
  {
   "cell_type": "code",
   "execution_count": null,
   "metadata": {},
   "outputs": [],
   "source": [
    "len(res_stack_mm[0])"
   ]
  },
  {
   "cell_type": "code",
   "execution_count": null,
   "metadata": {},
   "outputs": [],
   "source": [
    "plt.figure(figsize=(20,20))\n",
    "plt.hexbin(res_stack_mm[0], res_stack_mm[1], gridsize=100, cmap='gist_stern')\n",
    "cbar = plt.colorbar()\n",
    "cbar.set_label('Number count', rotation=270)\n",
    "plt.title('Density plot')"
   ]
  },
  {
   "cell_type": "code",
   "execution_count": null,
   "metadata": {},
   "outputs": [],
   "source": [
    "#e1map, e2map = bin2d(correct_ra2(res_stack_mm[0], res_stack_mm[1]), res_stack_mm[1], v=(res_stack_mm[2], res_stack_mm[2]), w=res_stack_mm[4], npix=1024, verbose=True)\n",
    "e1map_stack, e2map_stack = bin2d(res_stack_mm[0], res_stack_mm[1], v=(res_stack_mm[2], -res_stack_mm[3]), w=res_stack_mm[4], npix=2048, verbose=True)"
   ]
  },
  {
   "cell_type": "code",
   "execution_count": null,
   "metadata": {},
   "outputs": [],
   "source": [
    "kappaE_stack, kappaB_stack = ks93(e1map_stack, e2map_stack)"
   ]
  },
  {
   "cell_type": "code",
   "execution_count": null,
   "metadata": {
    "scrolled": false
   },
   "outputs": [],
   "source": [
    "plt.figure(figsize=(20,20))\n",
    "plt.imshow(gf(kappaE_stack, 32))\n",
    "vminEs, vmaxEs = plt.gci().get_clim()\n",
    "plt.plot(1023, 1023, '+')\n",
    "n_ticks = 4\n",
    "plt.xticks(np.arange(0, 2048+2048/n_ticks, step=2048/n_ticks), labels=np.round(np.arange(-radius, radius+radius*2/n_ticks, step=radius*2/n_ticks), 1))\n",
    "plt.yticks(np.arange(0, 2048+2048/n_ticks, step=2048/n_ticks), labels=np.round(np.arange(-radius, radius+radius*2/n_ticks, step=radius*2/n_ticks), 1))\n",
    "cbar = plt.colorbar()\n",
    "cbar.set_label('$\\kappa_{E}$')\n",
    "plt.xlabel('Mpc')\n",
    "plt.ylabel('Mpc')\n",
    "plt.title(r'$\\kappa_{E}$ map')\n",
    "plt.savefig(plot_dir + 'cluster_mass_map_E.png')"
   ]
  },
  {
   "cell_type": "code",
   "execution_count": null,
   "metadata": {},
   "outputs": [],
   "source": [
    "plt.figure(figsize=(20,20))\n",
    "plt.imshow(gf(kappaB_stack, 32), vmin=vminEs, vmax=vmaxEs)\n",
    "plt.plot(1023, 1023, '+')\n",
    "n_ticks = 4\n",
    "plt.xticks(np.arange(0, 2048+2048/n_ticks, step=2048/n_ticks), labels=np.round(np.arange(-radius, radius+radius*2/n_ticks, step=radius*2/n_ticks), 1))\n",
    "plt.yticks(np.arange(0, 2048+2048/n_ticks, step=2048/n_ticks), labels=np.round(np.arange(-radius, radius+radius*2/n_ticks, step=radius*2/n_ticks), 1))\n",
    "cbar = plt.colorbar()\n",
    "cbar.set_label('$\\kappa_{B}$')\n",
    "plt.xlabel('Mpc')\n",
    "plt.ylabel('Mpc')\n",
    "plt.title(r'$\\kappa_{B}$ map')\n",
    "plt.savefig(plot_dir + 'cluster_mass_map_B.png')"
   ]
  },
  {
   "cell_type": "markdown",
   "metadata": {},
   "source": [
    "#### Close stat file"
   ]
  },
  {
   "cell_type": "code",
   "execution_count": null,
   "metadata": {},
   "outputs": [],
   "source": [
    "stat_file.close()"
   ]
  }
 ],
 "metadata": {
  "kernelspec": {
   "display_name": "Python 3 (ipykernel)",
   "language": "python",
   "name": "python3"
  },
  "language_info": {
   "codemirror_mode": {
    "name": "ipython",
    "version": 3
   },
   "file_extension": ".py",
   "mimetype": "text/x-python",
   "name": "python",
   "nbconvert_exporter": "python",
   "pygments_lexer": "ipython3",
   "version": "3.9.7"
  }
 },
 "nbformat": 4,
 "nbformat_minor": 2
}
