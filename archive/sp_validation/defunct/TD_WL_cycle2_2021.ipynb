{
 "cells": [
  {
   "cell_type": "code",
   "execution_count": null,
   "id": "995a9cad",
   "metadata": {},
   "outputs": [],
   "source": [
    "# Load some libraries\n",
    "import sys\n",
    "import os\n",
    "import numpy as np\n",
    "from astropy.io import fits\n",
    "import matplotlib.pylab as plt\n",
    "from scipy.ndimage.filters import gaussian_filter\n",
    "from scipy.optimize import curve_fit\n",
    "\n",
    "from lenspack.utils import bin2d\n",
    "from lenspack.image.inversion import ks93\n",
    "from lenspack.geometry.projections.gnom import radec2xy\n",
    "\n",
    "from sp_validation import basic\n",
    "from sp_validation import plots\n",
    "from sp_validation import cosmology\n",
    "\n",
    "%matplotlib inline"
   ]
  },
  {
   "cell_type": "code",
   "execution_count": null,
   "id": "df54d6e9",
   "metadata": {},
   "outputs": [],
   "source": [
    "# Load parameter file, containing useful variables (e.g. file paths)\n",
    "%run params.py"
   ]
  },
  {
   "cell_type": "code",
   "execution_count": null,
   "id": "36cc1edc",
   "metadata": {},
   "outputs": [],
   "source": [
    "# Load catalogue with all objects (detected on stacks/tiles)\n",
    "dd = np.load(galaxy_cat_path, mmap_mode=mmap_mode)"
   ]
  },
  {
   "cell_type": "code",
   "execution_count": null,
   "id": "a2d76afe",
   "metadata": {},
   "outputs": [],
   "source": [
    "# Print the column names\n",
    "print(dd.dtype.names)"
   ]
  },
  {
   "cell_type": "code",
   "execution_count": null,
   "id": "37fb0282",
   "metadata": {},
   "outputs": [],
   "source": [
    "dd.shape"
   ]
  },
  {
   "cell_type": "code",
   "execution_count": null,
   "id": "1a99688a",
   "metadata": {},
   "outputs": [],
   "source": [
    "# Plot 2D distribution of all objects\n",
    "# use XWIN_WORLD YWIN_WORLD\n",
    "plt.figure(figsize=(15, 15))\n",
    "plt.hexbin(dd['XWIN_WORLD'], dd['YWIN_WORLD'], gridsize=1000)"
   ]
  },
  {
   "cell_type": "code",
   "execution_count": null,
   "id": "b6cd0dda",
   "metadata": {},
   "outputs": [],
   "source": [
    "# Plot magnitude histogram\n",
    "# MAG_AUTO"
   ]
  },
  {
   "cell_type": "code",
   "execution_count": null,
   "id": "5772a507",
   "metadata": {},
   "outputs": [],
   "source": [
    "# Select galaxies\n",
    "## Spread model, including error. Only use objects above some threshold\n",
    "sm_classif = dd['SPREAD_MODEL'] + 2 * dd['SPREADERR_MODEL']\n",
    "\n",
    "# Also cut on spread model directly, select magnitude range, remove flagged objects\n",
    "cut_common = \\\n",
    "    (sm_classif > 0.0035) \\\n",
    "    & (dd['SPREAD_MODEL'] > 0) \\\n",
    "    & (dd['SPREAD_MODEL'] < 0.03) \\\n",
    "    & (dd['MAG_AUTO'] < 26) \\\n",
    "    & (dd['MAG_AUTO'] > 20) \\\n",
    "    & (dd['FLAGS'] == 0) \\\n",
    "    & (dd['IMAFLAGS_ISO'] == 0) \\\n",
    "    & (dd['N_EPOCH'] > 0)\n",
    "\n",
    "# Add cut on relative size compared to PSF\n",
    "cut_size = (\n",
    "    dd['NGMIX_T_NOSHEAR'] / dd['NGMIX_Tpsf_NOSHEAR'] > 0.5\n",
    ")\n",
    "\n",
    "# Duplicate objects due to tile overlaps\n",
    "cut_overlap = (\n",
    "    dd['FLAG_TILING'] == 1\n",
    ")\n",
    "\n",
    "#    & cut_overlap\n",
    "# Add ngmix-specific cuts. Create mask\n",
    "m_gal_ngmix = (\n",
    "    cut_common\n",
    "    & cut_size\n",
    "    & (dd['NGMIX_MCAL_FLAGS'] == 0)\n",
    "    & (dd['NGMIX_ELL_PSFo_NOSHEAR'][:,0] != -10)\n",
    "    & (dd['NGMIX_MOM_FAIL'] == 0)\n",
    "    & (dd['NGMIX_N_EPOCH'] > 0)\n",
    ")"
   ]
  },
  {
   "cell_type": "code",
   "execution_count": null,
   "id": "566b48a5",
   "metadata": {},
   "outputs": [],
   "source": [
    "# Plot sky area of unflagged galaxies# Load some libraries\n",
    "plt.figure(figsize=(15, 15))\n",
    "plt.hexbin(dd['XWIN_WORLD'][m_gal_ngmix], dd['YWIN_WORLD'][m_gal_ngmix], gridsize=1000)"
   ]
  },
  {
   "cell_type": "code",
   "execution_count": null,
   "id": "37d17dc1",
   "metadata": {},
   "outputs": [],
   "source": [
    "_ = plt.hist(dd['MAG_AUTO'], range=[17,27], bins=100, density=True,\n",
    "             histtype='step', label='all')\n",
    "_ = plt.hist(dd['MAG_AUTO'][m_gal_ngmix], range=[17,27], bins=100,\n",
    "             density=True, histtype='step', label='galaxies')\n",
    "plt.xlabel('$r$')\n",
    "plt.ylabel('frequency')\n",
    "plt.legend()"
   ]
  },
  {
   "cell_type": "code",
   "execution_count": null,
   "id": "5f6d22f0",
   "metadata": {},
   "outputs": [],
   "source": [
    "print(dd['NGMIX_ELL_1P'][m_gal_ngmix][:,0])\n",
    "print(dd['NGMIX_ELL_1M'][m_gal_ngmix][:,0])"
   ]
  },
  {
   "cell_type": "code",
   "execution_count": null,
   "id": "c0c08108",
   "metadata": {},
   "outputs": [],
   "source": [
    "R11 = (dd['NGMIX_ELL_1P'][m_gal_ngmix][:,0] - dd['NGMIX_ELL_1M'][m_gal_ngmix][:,0]) / 0.02\n",
    "R22 = (dd['NGMIX_ELL_2P'][m_gal_ngmix][:,1] - dd['NGMIX_ELL_2M'][m_gal_ngmix][:,1]) / 0.02\n",
    "R12 = (dd['NGMIX_ELL_1P'][m_gal_ngmix][:,1] - dd['NGMIX_ELL_1M'][m_gal_ngmix][:,1]) / 0.02\n",
    "R21 = (dd['NGMIX_ELL_2P'][m_gal_ngmix][:,0] - dd['NGMIX_ELL_2M'][m_gal_ngmix][:,0]) / 0.02"
   ]
  },
  {
   "cell_type": "code",
   "execution_count": null,
   "id": "fa9f9ccb",
   "metadata": {},
   "outputs": [],
   "source": [
    "# Create shear response matrix\n",
    "m = np.mean\n",
    "R = np.array([[m(R11), m(R12)], [m(R21), m(R22)]])\n",
    "print(R)"
   ]
  },
  {
   "cell_type": "code",
   "execution_count": null,
   "id": "6f463737",
   "metadata": {},
   "outputs": [],
   "source": [
    "_ = plt.hist(R11, range=[-2, 2], bins=100, histtype='step', density=True)\n",
    "_ = plt.hist(R12, range=[-2, 2], bins=100, histtype='step', density=True)\n",
    "plt.vlines(x=np.mean(R11), ymin=0, ymax=1)"
   ]
  },
  {
   "cell_type": "code",
   "execution_count": null,
   "id": "9523023a",
   "metadata": {},
   "outputs": [],
   "source": [
    "g_uncorr = dd['NGMIX_ELL_NOSHEAR'][m_gal_ngmix].transpose()"
   ]
  },
  {
   "cell_type": "code",
   "execution_count": null,
   "id": "a6e3d6cf",
   "metadata": {},
   "outputs": [],
   "source": [
    "# Corrected (= calibrated by multiplicative bias) ellipticities\n",
    "g_corr = np.linalg.inv(R).dot(g_uncorr)"
   ]
  },
  {
   "cell_type": "code",
   "execution_count": null,
   "id": "73873941",
   "metadata": {},
   "outputs": [],
   "source": [
    "g_uncorr"
   ]
  },
  {
   "cell_type": "code",
   "execution_count": null,
   "id": "b1b80f18",
   "metadata": {},
   "outputs": [],
   "source": [
    "g_corr.shape"
   ]
  },
  {
   "cell_type": "code",
   "execution_count": null,
   "id": "ba05ff1e",
   "metadata": {},
   "outputs": [],
   "source": [
    "c1 = np.mean(g_corr[0,:])\n",
    "c2 = np.mean(g_corr[1,:])\n",
    "print(c1, c2)"
   ]
  },
  {
   "cell_type": "code",
   "execution_count": null,
   "id": "245eedd0",
   "metadata": {},
   "outputs": [],
   "source": [
    "# Store shear estimate calibrated of m and c\n",
    "g_cal = np.zeros_like(g_corr)\n",
    "g_cal[0] = g_corr[0,:] - c1\n",
    "g_cal[1] = g_corr[1,:] - c2"
   ]
  },
  {
   "cell_type": "code",
   "execution_count": null,
   "id": "485e6008",
   "metadata": {},
   "outputs": [],
   "source": [
    "w = np.where(dd['NGMIX_ELL_PSFo_NOSHEAR'][:,0] != -10)\n",
    "print(\n",
    "    np.mean(dd['NGMIX_ELL_NOSHEAR'][w][:,0]),\n",
    "    np.mean(dd['NGMIX_ELL_NOSHEAR'][w][:,1])\n",
    ")"
   ]
  },
  {
   "cell_type": "code",
   "execution_count": null,
   "id": "42a1d70a",
   "metadata": {},
   "outputs": [],
   "source": [
    "# Mass maps\n",
    "\n",
    "ra_ngmix = dd['XWIN_WORLD'][m_gal_ngmix]\n",
    "dec_ngmix = dd['YWIN_WORLD'][m_gal_ngmix]\n",
    "ra_ngmix_mean = np.mean(ra_ngmix)\n",
    "dec_ngmix_mean = np.mean(dec_ngmix)\n",
    "\n",
    "# Projection all objects from spherical to Cartesian coordinates\n",
    "x, y =  radec2xy(ra_ngmix_mean, dec_ngmix_mean, ra_ngmix, dec_ngmix)\n",
    "\n",
    "min_x = np.min(x)\n",
    "max_x = np.max(x)\n",
    "min_y = np.min(y)\n",
    "max_y = np.max(y)\n",
    "\n",
    "size_x = max_x - min_x\n",
    "size_y = max_y - min_y\n",
    "size_x_deg = np.rad2deg(size_x)\n",
    "size_y_deg = np.rad2deg(size_y)\n",
    "\n",
    "print(f'Field size in projected coordinates is (x, y) = ({size_x_deg:.2f}, {size_y_deg:.2f}) deg')"
   ]
  },
  {
   "cell_type": "code",
   "execution_count": null,
   "id": "90afbe4b",
   "metadata": {},
   "outputs": [],
   "source": [
    "_ = plt.plot(x, y, '.')"
   ]
  },
  {
   "cell_type": "code",
   "execution_count": null,
   "id": "fde962bf",
   "metadata": {},
   "outputs": [],
   "source": [
    "pixel_size_emap_amin"
   ]
  },
  {
   "cell_type": "code",
   "execution_count": null,
   "id": "9ccaaa8f",
   "metadata": {},
   "outputs": [],
   "source": [
    "# Compute number of pixels\n",
    "Nx = int(size_x_deg / pixel_size_emap_amin * 60)\n",
    "Ny = int(size_y_deg / pixel_size_emap_amin * 60)\n",
    "print(f'Numbers of elipticity pixels for KS93 = ({Nx}, {Ny})')"
   ]
  },
  {
   "cell_type": "code",
   "execution_count": null,
   "id": "a18c37b4",
   "metadata": {},
   "outputs": [],
   "source": [
    "# Bin in 2D\n",
    "g1_tmp, g2_tmp = bin2d(\n",
    "    x,\n",
    "    y,\n",
    "    npix=(Nx, Ny), \n",
    "    v=(g_cal[0], g_cal[1]),\n",
    "    extent=(min_x, max_x, min_y, max_y)\n",
    ")\n",
    "\n",
    "g_corr_mc_ngmix_map = np.array([g1_tmp, g2_tmp])"
   ]
  },
  {
   "cell_type": "code",
   "execution_count": null,
   "id": "96b86c77",
   "metadata": {},
   "outputs": [],
   "source": []
  },
  {
   "cell_type": "code",
   "execution_count": null,
   "id": "bc501137",
   "metadata": {},
   "outputs": [],
   "source": [
    "kappaE, kappaB = ks93(g_corr_mc_ngmix_map[0], -g_corr_mc_ngmix_map[1])"
   ]
  },
  {
   "cell_type": "code",
   "execution_count": null,
   "id": "4c7e9ec3",
   "metadata": {},
   "outputs": [],
   "source": [
    "plt.imshow(kappaE)"
   ]
  },
  {
   "cell_type": "code",
   "execution_count": null,
   "id": "590f252d",
   "metadata": {},
   "outputs": [],
   "source": [
    "smoothing_scale_pix"
   ]
  },
  {
   "cell_type": "code",
   "execution_count": null,
   "id": "db8e61a3",
   "metadata": {},
   "outputs": [],
   "source": [
    "# Smooth with Gaussian filter\n",
    "kappaE_sm = gaussian_filter(kappaE, smoothing_scale_pix)\n",
    "kappaB_sm = gaussian_filter(kappaB, smoothing_scale_pix)"
   ]
  },
  {
   "cell_type": "code",
   "execution_count": null,
   "id": "6544e4f1",
   "metadata": {},
   "outputs": [],
   "source": [
    "plt.imshow(kappaE_sm)\n",
    "plt.colorbar()\n",
    "plt.gci().set_clim([-0.02, 0.02])"
   ]
  },
  {
   "cell_type": "code",
   "execution_count": null,
   "id": "73ac3834",
   "metadata": {},
   "outputs": [],
   "source": [
    "plt.imshow(kappaB_sm)\n",
    "plt.colorbar()\n",
    "plt.gci().set_clim([-0.02, 0.02])"
   ]
  },
  {
   "cell_type": "code",
   "execution_count": null,
   "id": "354f8283",
   "metadata": {},
   "outputs": [],
   "source": [
    "# Get Planck clusters\n",
    "\n",
    "cluster_cat_name = f'{data_dir}/HFI_PCCS_SZ-union_R2.08.fits.gz'\n",
    "cluster_cat = fits.getdata(cluster_cat_name)\n",
    "\n",
    "# Use clusters ok for cosmology\n",
    "m_good_cluster = (cluster_cat['MSZ'] != 0) & (cluster_cat['COSMO'] == True)\n",
    "\n",
    "# Get footprint masking function\n",
    "get_mask = getattr(basic, 'get_mask_footprint_{}'.format(name))\n",
    "\n",
    "# Find clusters in W3\n",
    "m_cluster_foot = get_mask(cluster_cat['RA'][m_good_cluster], cluster_cat['DEC'][m_good_cluster])\n",
    "clusters = {\n",
    "    'ra': cluster_cat['RA'][m_good_cluster][m_cluster_foot],\n",
    "    'dec': cluster_cat['DEC'][m_good_cluster][m_cluster_foot],\n",
    "    'z': cluster_cat['REDSHIFT'][m_good_cluster][m_cluster_foot],\n",
    "    'M': cluster_cat['MSZ'][m_good_cluster][m_cluster_foot] * 1e14,\n",
    "}"
   ]
  },
  {
   "cell_type": "code",
   "execution_count": null,
   "id": "d5aa6bb6",
   "metadata": {},
   "outputs": [],
   "source": [
    "# Project and add x, y, to clusters dictionary\n",
    "x_cluster, y_cluster =  radec2xy(ra_ngmix_mean, dec_ngmix_mean, clusters['ra'], clusters['dec'])\n",
    "clusters['x'] = x_cluster\n",
    "clusters['y'] = y_cluster"
   ]
  },
  {
   "cell_type": "code",
   "execution_count": null,
   "id": "13439283",
   "metadata": {},
   "outputs": [],
   "source": [
    "clusters"
   ]
  },
  {
   "cell_type": "code",
   "execution_count": null,
   "id": "be6c6002",
   "metadata": {},
   "outputs": [],
   "source": [
    "# Joint plot\n",
    "title = 'E-mode'\n",
    "out_path = 'kappaE.png'\n",
    "vlim = plots.plot_map(kappaE_sm, ra_ngmix, dec_ngmix, min_x, max_x, min_y, max_y, Nx, Ny, title, out_path, clusters=clusters)"
   ]
  },
  {
   "cell_type": "code",
   "execution_count": null,
   "id": "4a364504",
   "metadata": {},
   "outputs": [],
   "source": [
    "# Joint plot\n",
    "title = 'B-mode'\n",
    "out_path = 'kappaB.png'\n",
    "plots.plot_map(kappaB_sm, ra_ngmix, dec_ngmix, min_x, max_x, min_y, max_y, Nx, Ny, title, out_path, clusters=clusters, vlim=vlim)"
   ]
  },
  {
   "cell_type": "code",
   "execution_count": null,
   "id": "9c5d3e51",
   "metadata": {},
   "outputs": [],
   "source": [
    "# Comoving separation around cluster centers, at cluster redshift, in [Mpc]\n",
    "radius = 5\n",
    "\n",
    "# Stack galaxies\n",
    "res_stack_mm = cosmology.stack_mm3(\n",
    "    ra_ngmix,\n",
    "    dec_ngmix,\n",
    "    g_cal[0],\n",
    "    g_cal[1],\n",
    "    np.ones_like(ra_ngmix),\n",
    "    clusters['ra'],\n",
    "    clusters['dec'],\n",
    "    clusters['z'],\n",
    "    radius=radius, n_match=1000000\n",
    ")"
   ]
  },
  {
   "cell_type": "code",
   "execution_count": null,
   "id": "24c273c0",
   "metadata": {},
   "outputs": [],
   "source": [
    "# Plot stacked galaxy density, to check how uniform distribution is. Sometimes at the edges the number\n",
    "# of galaxies drops visibly\n",
    "\n",
    "plt.figure(figsize=(10, 10))\n",
    "plt.hexbin(res_stack_mm[0], res_stack_mm[1], gridsize=100, cmap='gist_stern')\n",
    "cbar = plt.colorbar()\n",
    "cbar.set_label('Number count', rotation=270)\n",
    "plt.title('Density plot')"
   ]
  },
  {
   "cell_type": "code",
   "execution_count": null,
   "id": "c2cd667c",
   "metadata": {},
   "outputs": [],
   "source": [
    "# Bin stacked ellipticities\n",
    "\n",
    "npix = 2048\n",
    "e1map_stack, e2map_stack = bin2d(\n",
    "    res_stack_mm[0],\n",
    "    res_stack_mm[1],\n",
    "    v=(res_stack_mm[2], -res_stack_mm[3]),\n",
    "    w=res_stack_mm[4], \n",
    "    npix=npix\n",
    ")"
   ]
  },
  {
   "cell_type": "code",
   "execution_count": null,
   "id": "3a5d7c8b",
   "metadata": {},
   "outputs": [],
   "source": [
    "# transform to gamma -> kappa via the aisers & Squires (1993) algorithm\n",
    "kappaE_stack, kappaB_stack = ks93(e1map_stack, e2map_stack)\n",
    "\n",
    "# Smooth\n",
    "kappaE_stack_sm = gaussian_filter(kappaE_stack, smoothing_scale_pix)\n",
    "kappaB_stack_sm = gaussian_filter(kappaB_stack, smoothing_scale_pix)"
   ]
  },
  {
   "cell_type": "code",
   "execution_count": null,
   "id": "97e92e1d",
   "metadata": {},
   "outputs": [],
   "source": [
    "plt.imshow(kappaE_stack_sm)\n",
    "plt.colorbar()\n",
    "plt.gci().set_clim([-0.008, 0.008])"
   ]
  },
  {
   "cell_type": "code",
   "execution_count": null,
   "id": "0776f999",
   "metadata": {},
   "outputs": [],
   "source": [
    "plt.imshow(kappaB_stack_sm)\n",
    "plt.colorbar()\n",
    "plt.gci().set_clim([-0.008, 0.008])"
   ]
  },
  {
   "cell_type": "code",
   "execution_count": null,
   "id": "74aede08",
   "metadata": {},
   "outputs": [],
   "source": [
    "# PSF leakage\n",
    "\n",
    "x = dd['NGMIX_ELL_PSFo_NOSHEAR'][:,0][m_gal_ngmix]\n",
    "#y = g_cal[0]\n",
    "y = g_corr[0]\n",
    "\n",
    "def lin(x, a, b):\n",
    "    return a * x + b\n",
    "\n",
    "# Bin x and y\n",
    "n_bin = 30\n",
    "x_bin = []\n",
    "y_bin = []\n",
    "\n",
    "# objects per bin\n",
    "size_bin = int(len(y) / n_bin)\n",
    "diff_size = len(y) - size_bin\n",
    "\n",
    "# Sort x\n",
    "x_arg_sort = np.argsort(x)\n",
    "\n",
    "for i in range(n_bin):\n",
    "    if i < diff_size:\n",
    "        bin_size_tmp = size_bin + 1\n",
    "        starter = 0\n",
    "    else:\n",
    "        bin_size_tmp = size_bin\n",
    "        starter = diff_size\n",
    "    ind = x_arg_sort[starter + i * bin_size_tmp : starter + (i + 1) * bin_size_tmp]\n",
    "    x_bin.append(np.mean(x[ind]))\n",
    "    y_bin.append(np.mean(y[ind]))\n",
    "   \n",
    "x_bin = np.array(x_bin)\n",
    "y_bin = np.array(y_bin)"
   ]
  },
  {
   "cell_type": "code",
   "execution_count": null,
   "id": "47782aff",
   "metadata": {},
   "outputs": [],
   "source": [
    "plt.plot(x_bin, y_bin, '.')"
   ]
  },
  {
   "cell_type": "code",
   "execution_count": null,
   "id": "c286ad3e",
   "metadata": {},
   "outputs": [],
   "source": [
    "res = curve_fit(lin, x, y)"
   ]
  },
  {
   "cell_type": "code",
   "execution_count": null,
   "id": "1fdfefab",
   "metadata": {},
   "outputs": [],
   "source": [
    "res"
   ]
  },
  {
   "cell_type": "code",
   "execution_count": null,
   "id": "4799cf95",
   "metadata": {},
   "outputs": [],
   "source": [
    "plt.plot(x_bin, y_bin, '.')\n",
    "plt.plot(x_bin, lin(x_bin, *res[0]))"
   ]
  },
  {
   "cell_type": "code",
   "execution_count": null,
   "id": "0cff5e73",
   "metadata": {},
   "outputs": [],
   "source": []
  }
 ],
 "metadata": {
  "kernelspec": {
   "display_name": "Python 3 (ipykernel)",
   "language": "python",
   "name": "python3"
  },
  "language_info": {
   "codemirror_mode": {
    "name": "ipython",
    "version": 3
   },
   "file_extension": ".py",
   "mimetype": "text/x-python",
   "name": "python",
   "nbconvert_exporter": "python",
   "pygments_lexer": "ipython3",
   "version": "3.9.7"
  }
 },
 "nbformat": 4,
 "nbformat_minor": 5
}
