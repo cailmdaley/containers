{
 "cells": [
  {
   "cell_type": "markdown",
   "metadata": {},
   "source": [
    "## $S_8$ Whisker Plot\n",
    "\n",
    "This notebook creates a whisker plot of $S_8$ values for different test cases and external datasets."
   ]
  },
  {
   "cell_type": "code",
   "execution_count": 17,
   "metadata": {},
   "outputs": [],
   "source": [
    "import matplotlib\n",
    "from astropy.io import fits\n",
    "import matplotlib.pyplot as plt\n",
    "import uncertainties\n",
    "import yaml\n",
    "import os\n",
    "import numpy as np\n",
    "\n",
    "plt.rcParams.update({\"text.usetex\": True})\n",
    "plt.rcParams.update({'font.size': 25})\n",
    "plt.rc('mathtext', fontset='stix')\n",
    "plt.rc('font', family='serif')\n",
    "\n",
    "chains_dir = f\"/n23data1/n06data/lgoh/scratch/UNIONS/chains\"\n",
    "num_test_cases = 1\n"
   ]
  },
  {
   "cell_type": "code",
   "execution_count": 18,
   "metadata": {},
   "outputs": [],
   "source": [
    "# Read in text file with s8 values for the different test cases and external experiments \n",
    "# (have had to run getdist to analyse the chains first)\n",
    "\n",
    "s8s = np.loadtxt(f\"{chains_dir}/S8_means.txt\",dtype={'names': ('Expt', 's8_mean', 's8_low', 's8_high'), 'formats': ('U40', 'U20', 'U20', 'U20')}, skiprows=1, delimiter=',')\n",
    "expt = s8s['Exp']\n",
    "s8s_mean = s8s['s8_mean'].astype(np.float64)\n",
    "s8s_low = s8s['s8_low'].astype(np.float64)\n",
    "s8s_high = s8s['s8_high'].astype(np.float64)"
   ]
  },
  {
   "cell_type": "code",
   "execution_count": null,
   "metadata": {},
   "outputs": [],
   "source": [
    "\n",
    "fig, axs = plt.subplots(1, 1, sharey=True, figsize=[7,1.5*len(expt)])\n",
    "axs.yaxis.set_visible(False)\n",
    "\n",
    "y = np.arange(0,len(expt))\n",
    "\n",
    "for i in y:\n",
    "    if i > len(expt)-num_test_cases-1:\n",
    "        axs.errorbar(s8s_mean[i], i+1, xerr=np.vstack((s8s_low[i],s8s_high[i])), fmt='o', c = 'darkblue',lw = 2, capsize=5,capthick=2)\n",
    "    else:\n",
    "        axs.errorbar(s8s_mean[i], i+1, xerr=np.vstack((s8s_low[i],s8s_high[i])), fmt='o', c = 'darkgreen',lw = 2, capsize=5,capthick=2)\n",
    "        \n",
    "    if i == 0:        # Plot the band for \"Planck\"\n",
    "        axs.axvspan(s8s_mean[i]-s8s_low[i], s8s_mean[i]+s8s_high[i], alpha=0.2, color='cyan')\n",
    "    if i == len(expt)-1:        # Plot the band for \"this work\"\n",
    "        axs.axvspan(s8s_mean[i]-s8s_low[i], s8s_mean[i]+s8s_high[i], alpha=0.2, color='lightpink')\n",
    "    if i == len(expt)-num_test_cases-1: # Make a distinction between this work (and all its test cases) with external datasets\n",
    "        axs.axhline(i+1.5, ls='dashed',c='k')\n",
    "    \n",
    "    \n",
    "    axs.set_xlabel(r'$S_8=\\sigma_8\\sqrt{\\Omega_{\\rm m}/0.3}$')    \n",
    "    axs.text(0.62, i+1, rf\"{expt[i]}\")\n",
    "\n",
    "plt.ylim([0,i+2])\n",
    "# plt.savefig('plots/s8_whisker.pdf',bbox_inches=\"tight\")"
   ]
  },
  {
   "cell_type": "code",
   "execution_count": null,
   "metadata": {},
   "outputs": [],
   "source": []
  }
 ],
 "metadata": {
  "kernelspec": {
   "display_name": "sp-validation",
   "language": "python",
   "name": "python3"
  },
  "language_info": {
   "codemirror_mode": {
    "name": "ipython",
    "version": 3
   },
   "file_extension": ".py",
   "mimetype": "text/x-python",
   "name": "python",
   "nbconvert_exporter": "python",
   "pygments_lexer": "ipython3",
   "version": "3.9.21"
  }
 },
 "nbformat": 4,
 "nbformat_minor": 2
}
