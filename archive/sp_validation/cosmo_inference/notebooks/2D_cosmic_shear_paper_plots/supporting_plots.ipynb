{
 "cells": [
  {
   "cell_type": "markdown",
   "metadata": {},
   "source": [
    "## SUPPORTING PLOTS\n",
    "\n",
    "This notebook plots all other supporting plots in the paper: the covariance matrix, and the redshift distributions."
   ]
  },
  {
   "cell_type": "code",
   "execution_count": 14,
   "metadata": {},
   "outputs": [],
   "source": [
    "import matplotlib\n",
    "from astropy.io import fits\n",
    "import matplotlib.pyplot as plt\n",
    "import uncertainties\n",
    "import yaml\n",
    "import os\n",
    "import numpy as np\n",
    "\n",
    "plt.rcParams.update({'font.size': 25,'figure.figsize':[12,7]})\n",
    "plt.rcParams.update({\"text.usetex\": True})\n",
    "plt.rc('mathtext', fontset='stix')\n",
    "plt.rc('font', family='serif')\n",
    "\n",
    "# Define path to data files  (NOTE: YOU MUST HAVE RAN THE INFERENCE PIPELINE!)\n",
    "data_dir = \"/n17data/mkilbing/astro/data/\"\n",
    "ver = \"SP_v1.4.5_A\"\n",
    "nz_file = data_dir + \"CFIS/v1.0/nz/blind_nz_cfis_shapepipe_2022v1.fits\"\n",
    "covmat_file = f\"/n23data1/n06data/lgoh/scratch/UNIONS/cosmo_inference/data/{ver}/covs/cov_{ver}.txt\"\n"
   ]
  },
  {
   "cell_type": "markdown",
   "metadata": {},
   "source": [
    "### Plot the redshift distribution $n(z)$"
   ]
  },
  {
   "cell_type": "code",
   "execution_count": null,
   "metadata": {},
   "outputs": [],
   "source": [
    "nz_hdu = fits.open(nz_file)\n",
    "nz = nz_hdu[1].data\n",
    "blind = 'A'\n",
    "\n",
    "z = nz_hdu[1].data['Z_%s'%blind]\n",
    "bins=np.linspace(0,3,50)\n",
    "\n",
    "ax1 = plt.subplot(111)\n",
    "ax1.tick_params(axis='both', which='both', direction='in', length=6, width=1,\n",
    "                top=True, bottom=True, left=True, right=True)\n",
    "\n",
    "y,edges = np.histogram(z, bins,density=True,weights=nz['som_w'])\n",
    "centers = 0.5*(edges[1:]+ edges[:-1])\n",
    "ax1.plot(centers,y,'-',lw = 2.5, alpha=0.7)\n",
    "\n",
    "ax1.set_xlabel(r'$z$')\n",
    "ax1.set_ylabel(r'$n(z)$')\n",
    "ax1.set_ylim([0,1.5])\n",
    "# plt.savefig('plots/nz.pdf',bbox_inches='tight')\n",
    "plt.show()\n"
   ]
  },
  {
   "cell_type": "markdown",
   "metadata": {},
   "source": [
    "### Plot the covariance matrix"
   ]
  },
  {
   "cell_type": "code",
   "execution_count": 15,
   "metadata": {},
   "outputs": [],
   "source": [
    "cov = np.loadtxt(covmat_file)\n",
    "ndata = len(cov[0])\n",
    "cmap = 'seismic'"
   ]
  },
  {
   "cell_type": "code",
   "execution_count": null,
   "metadata": {},
   "outputs": [],
   "source": [
    "pp_norm = np.zeros((ndata,ndata))\n",
    "for i in range(ndata):\n",
    "    for j in range(ndata):\n",
    "        pp_norm[i][j] = cov[i][j]/ np.sqrt(cov[i][i]*cov[j][j])\n",
    "\n",
    "fig = plt.figure()\n",
    "ax = fig.add_subplot(1, 1, 1) \n",
    "extent = (0, ndata, ndata, 0)\n",
    "im3 = ax.imshow(pp_norm, cmap=cmap, vmin=-1, vmax=1, extent=extent)\n",
    "\n",
    "plt.axvline(x=int(ndata/2),color='black',linewidth=1.0)\n",
    "plt.axhline(y=int(ndata/2),color='black',linewidth=1.0)\n",
    "\n",
    "fig.colorbar(im3, orientation='vertical')\n",
    "ticks = np.arange(0,ndata+10,10)\n",
    "tick_labels = np.array([0,10,0,10,20])\n",
    "ax.set_xticks(ticks,labels= tick_labels)\n",
    "ax.set_yticks(ticks,labels= tick_labels)\n",
    "\n",
    "\n",
    "ax.text(int(ndata/4), ndata+5, r'$\\xi_+(\\theta)$')\n",
    "ax.text(3*int(ndata/4), ndata+5, r'$\\xi_-(\\theta)$')\n",
    "ax.text(-9, int(ndata/4), r'$\\xi_+(\\theta)$')\n",
    "ax.text(-9, 3*int(ndata/4), r'$\\xi_-(\\theta)$')\n",
    "\n",
    "# plt.savefig(\"plots/covmat.pdf\", bbox_inches='tight')\n",
    "plt.show()"
   ]
  },
  {
   "cell_type": "code",
   "execution_count": null,
   "metadata": {},
   "outputs": [],
   "source": []
  }
 ],
 "metadata": {
  "kernelspec": {
   "display_name": "sp-validation",
   "language": "python",
   "name": "python3"
  },
  "language_info": {
   "codemirror_mode": {
    "name": "ipython",
    "version": 3
   },
   "file_extension": ".py",
   "mimetype": "text/x-python",
   "name": "python",
   "nbconvert_exporter": "python",
   "pygments_lexer": "ipython3",
   "version": "3.9.21"
  }
 },
 "nbformat": 4,
 "nbformat_minor": 2
}
