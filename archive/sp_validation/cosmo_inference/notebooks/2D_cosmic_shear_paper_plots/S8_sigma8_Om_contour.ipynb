{
 "cells": [
  {
   "cell_type": "markdown",
   "id": "510c4e0b",
   "metadata": {},
   "source": [
    "## $S_8 - \\Omega_m$ and $\\sigma_8-\\Omega_m$ Contour Plot\n",
    "\n",
    "This notebook creates a 2D marginalised contour plot of the $S_8$ and $\\Omega_m$ parameters, comparing this work with fiducial results from DES Y3, HSC and KiDS-Legacy (no chains yet so maybe just KiDS-1000?). Also the same for a plot of $\\sigma_8-\\Omega_m$.\n",
    "\n",
    "This notebook also reds the chains and derives the posterior values of $S_8$, subsequently writing them intoa file to be read in and plotted as a whisker plot in S8_whisker.ipynb."
   ]
  },
  {
   "cell_type": "code",
   "execution_count": 13,
   "id": "5e65319a-63f3-47d7-90cd-7b7db06174e9",
   "metadata": {},
   "outputs": [],
   "source": [
    "from getdist import plots, loadMCSamples\n",
    "import numpy as np\n",
    "import matplotlib.pyplot as plt\n",
    "import uncertainties\n",
    "import os\n",
    "\n",
    "plt.rcParams.update({\"text.usetex\": True})\n",
    "\n",
    "g = plots.get_subplot_plotter(width_inch=12)\n",
    "g.settings.axes_fontsize=30\n",
    "g.settings.axes_labelsize=40\n",
    "g.settings.alpha_filled_add = 0.7\n",
    "g.settings.legend_fontsize = 20\n",
    "\n",
    "%matplotlib inline\n",
    "\n",
    "#SPECIFY DATA DIRECTORY AND DESIRED CHAINS TO ANALYSE\n",
    "root_dir='/n23data1/n06data/lgoh/scratch/UNIONS/chains/ext_data'\n",
    "roots = [\n",
    "    'DES_Y3',\n",
    "    'HSC_Y3',\n",
    "    'DES+KiDS',\n",
    "    'KiDS-1000',\n",
    "    'Planck18'\n",
    "    ]\n",
    "\n",
    "root_label = [\n",
    "    r'DES Y3 ($\\xi_\\pm$)',\n",
    "    r'HSC Y3 ($\\xi_\\pm$)',\n",
    "    r'DES+KiDS ($\\xi_\\pm$)',\n",
    "    r'KiDS-1000 ($\\xi_\\pm$)',\n",
    "    r'Planck18 TT+TE+EE+lowE'\n",
    "    ]\n"
   ]
  },
  {
   "cell_type": "code",
   "execution_count": 2,
   "id": "ba84564b",
   "metadata": {},
   "outputs": [],
   "source": [
    "# Create the .paramnames file needed by getdist (take the parameter names from the first line of the output file)\n",
    "for root in roots:\n",
    "    if os.path.isfile(f\"{root_dir}/{root}/getdist_{root}.paramnames\")==False:\n",
    "        \n",
    "        with open(f\"{root_dir}/{root}/{root}.txt\", \"r\") as file:\n",
    "            params = file.readline()[1:].split('\\t')[:-4]\n",
    "            file.close()\n",
    "    \n",
    "        with open(f\"{root_dir}/{root}/getdist_{root}.paramnames\", \"w\") as file:\n",
    "            for i in range(len(params)):\n",
    "                if len(params[i].split('--')) > 1:\n",
    "                    file.write(params[i].split('--')[1] + '\\n')\n",
    "                else:\n",
    "                    file.write(params[i].split('--')[0] + '\\n')\n",
    "            file.close()\n",
    "        print(params)"
   ]
  },
  {
   "cell_type": "markdown",
   "id": "70549903-a160-4a3e-a202-bd5a9d6b45eb",
   "metadata": {},
   "source": [
    "## Retrieve the chains"
   ]
  },
  {
   "cell_type": "code",
   "execution_count": 14,
   "id": "4795888c-ce6f-4fe2-bbd4-fe17b5e57f02",
   "metadata": {},
   "outputs": [],
   "source": [
    "#READ CHAIN\n",
    "\n",
    "chains=[]\n",
    "\n",
    "for root in roots:\n",
    "    if os.path.isfile(f\"{root_dir}/{root}/getdist_{root}.paramnames\")==False:\n",
    "        samples = np.loadtxt(f\"{root_dir}/{root}/{root}.txt\")\n",
    "        samples = np.column_stack((samples[:,-1],samples[:,-3],samples[:,0:-4]))\n",
    "        np.savetxt(f\"{root_dir}/{root}/getdist_{root}.txt\", samples)\n",
    "    \n",
    "    chain = g.samples_for_root(f\"{root_dir}/{root}/getdist_{root}\",\n",
    "                               cache=False,\n",
    "                               settings={'ignore_rows':0,\n",
    "                                        #  'smooth_scale_2D':0.7,\n",
    "                                        #  'smooth_scale_1D':0.7\n",
    "                                         })\n",
    "    p = chain.getParams()\n",
    "    chain.addDerived(p.omega_m, name='OMEGA_M', label=r'$\\Omega_m$')\n",
    "    chain.addDerived(p.SIGMA_8, name='sigma_8', label=r'$\\sigma_8$')\n",
    "    if hasattr(p,'S_8')==False:\n",
    "        chain.addDerived(p.SIGMA_8*(np.sqrt(p.omega_m/0.3)), name='S_8', label=r'S_8')\n",
    "\n",
    "    chains.append(chain)"
   ]
  },
  {
   "cell_type": "markdown",
   "id": "09ff24ef-6e8c-4ddd-96de-eeaf63b6982d",
   "metadata": {},
   "source": [
    "## Plot the chain"
   ]
  },
  {
   "cell_type": "code",
   "execution_count": null,
   "id": "9080b714-810e-4a9d-b59d-54299752e35f",
   "metadata": {},
   "outputs": [],
   "source": [
    "%matplotlib inline\n",
    "g.plot_2d(chains,\n",
    "        ['OMEGA_M','S_8'],\n",
    "        # contour_colors=['#0072B2', '#009E73', '#D55E00', '#CC79A7'],\n",
    "        filled=True)\n",
    "g.add_legend(root_label, legend_loc='upper left')\n",
    "# g.export('contour_plot_s8_om_fid.pdf')"
   ]
  },
  {
   "cell_type": "code",
   "execution_count": null,
   "id": "6d627a76",
   "metadata": {},
   "outputs": [],
   "source": [
    "%matplotlib inline\n",
    "g.plot_2d(chains,\n",
    "        ['OMEGA_M','sigma_8'],\n",
    "        # contour_colors=['#0072B2', '#009E73', '#D55E00', '#CC79A7'],\n",
    "        filled=True)\n",
    "g.add_legend(root_label, legend_loc='upper left')\n",
    "# g.export('contour_plot_sigma8_om_fid.pdf')"
   ]
  },
  {
   "cell_type": "markdown",
   "id": "d386da94-c165-488f-8604-ec2109935e07",
   "metadata": {
    "jp-MarkdownHeadingCollapsed": true,
    "tags": []
   },
   "source": [
    "### Output bestfit and sigma values of parameters"
   ]
  },
  {
   "cell_type": "code",
   "execution_count": null,
   "id": "1ab5f45e-9f92-422a-89ef-1453b0b1c153",
   "metadata": {},
   "outputs": [],
   "source": [
    "#########BESTFIT AND SIGMA VALS##########\n",
    "params = ['OMEGA_M','S_8']\n",
    "latex_params = [r'$\\Omega_{m}$',r'$S_8$']\n",
    "\n",
    "chains = chains[::-1]\n",
    "for chain in chains:\n",
    "\n",
    "    margestats = chain.getMargeStats()\n",
    "    likestats = chain.getLikeStats()\n",
    "    p=chain.getParams()\n",
    "\n",
    "    for no in range(len(latex_params)):\n",
    "        if hasattr(p,params[no]):\n",
    "            param_stats = margestats.parWithName(params[no])\n",
    "            a = np.array([param_stats.mean,param_stats.mean-param_stats.limits[0].lower, param_stats.limits[0].upper-param_stats.mean])\n",
    "            if '%.2g' %a[1] == '%.2g' %a[2]:\n",
    "                latex_params[no] += '&$%.3g\\pm%.2g$'%(a[0],a[1])\n",
    "            else:\n",
    "                latex_params[no] += '&$%.3g_{-%.2g}^{+%.2g}$'%(a[0],a[1],a[2])\n",
    "        else:\n",
    "            latex_params[no] += '&$-$'\n",
    "\n",
    "        \n",
    "for param in latex_params:\n",
    "    param += r'\\\\'\n",
    "    print(param)   \n"
   ]
  },
  {
   "cell_type": "markdown",
   "id": "bbf09de1",
   "metadata": {},
   "source": [
    "### Save values of $S_8$"
   ]
  },
  {
   "cell_type": "code",
   "execution_count": null,
   "id": "6cab7bbb-8ce2-4e8c-8a2d-721442d14a6f",
   "metadata": {},
   "outputs": [],
   "source": [
    "s8_values = np.array([\"# Expt\", \"Mean\", \"S8_low\", \"S8_high\"])\n",
    "for i, chain in enumerate(chains):\n",
    "\n",
    "    margestats = chain.getMargeStats()\n",
    "    likestats = chain.getLikeStats()\n",
    "\n",
    "    param_stats = margestats.parWithName('S_8')\n",
    "    \n",
    "    s8_values = np.vstack((s8_values,[root_label[i], param_stats.mean, param_stats.mean-param_stats.limits[0].lower, param_stats.limits[0].upper-param_stats.mean]))\n",
    "print(s8_values)\n",
    "np.savetxt(f\"{root_dir}/S8_means.txt\", s8_values, fmt=['%s','%s','%s','%s'], delimiter=',')"
   ]
  },
  {
   "cell_type": "code",
   "execution_count": null,
   "id": "47e60452",
   "metadata": {},
   "outputs": [],
   "source": []
  }
 ],
 "metadata": {
  "kernelspec": {
   "display_name": "sp-validation",
   "language": "python",
   "name": "python3"
  },
  "language_info": {
   "codemirror_mode": {
    "name": "ipython",
    "version": 3
   },
   "file_extension": ".py",
   "mimetype": "text/x-python",
   "name": "python",
   "nbconvert_exporter": "python",
   "pygments_lexer": "ipython3",
   "version": "3.9.21"
  }
 },
 "nbformat": 4,
 "nbformat_minor": 5
}
