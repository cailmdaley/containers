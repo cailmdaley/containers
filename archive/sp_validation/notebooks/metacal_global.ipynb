{
 "cells": [
  {
   "attachments": {},
   "cell_type": "markdown",
   "id": "2656a6ac",
   "metadata": {},
   "source": [
    "# Weak-lensing galaxy shape catalogue validation\n",
    "\n",
    "## Global metacalibration\n",
    "\n",
    "Contents.\n",
    "- Metacalibration (global)\n",
    "- Additive bias, ellipticity, magnitude distributions"
   ]
  },
  {
   "attachments": {},
   "cell_type": "markdown",
   "id": "c72f905b",
   "metadata": {},
   "source": [
    "> **_NOTE:_** Before running this notebook, set kernel to `main_set.ipynb'"
   ]
  },
  {
   "cell_type": "code",
   "execution_count": null,
   "id": "292c660f",
   "metadata": {
    "tags": []
   },
   "outputs": [],
   "source": [
    "import os\n",
    "from uncertainties import ufloat\n",
    "\n",
    "from lenspack.geometry.projections.gnom import radec2xy\n",
    "\n",
    "from cs_util.plots import plot_histograms"
   ]
  },
  {
   "cell_type": "code",
   "execution_count": null,
   "id": "f9218b1b",
   "metadata": {
    "tags": []
   },
   "outputs": [],
   "source": [
    "from sp_validation.survey import *\n",
    "from sp_validation.basic import *\n",
    "from sp_validation.util import *\n",
    "from sp_validation.basic import *\n",
    "from sp_validation.plots import *\n",
    "from sp_validation.plot_style import *\n",
    "from sp_validation.calibration import *\n",
    "from sp_validation import cat as spv_cat"
   ]
  },
  {
   "attachments": {},
   "cell_type": "markdown",
   "id": "f6a94bef",
   "metadata": {},
   "source": [
    "## metacalibration for galaxies"
   ]
  },
  {
   "cell_type": "code",
   "execution_count": null,
   "id": "2fce03fc",
   "metadata": {},
   "outputs": [],
   "source": [
    "gal_metacal = {}\n",
    "\n",
    "for sh in shapes:\n",
    "    print(f'{sh}:')\n",
    "    gal_metacal[sh] = metacal(\n",
    "        dd,\n",
    "        m_gal[sh],\n",
    "        prefix=sh.upper(),\n",
    "        snr_min=gal_snr_min,\n",
    "        snr_max=gal_snr_max,\n",
    "        rel_size_min=gal_rel_size_min,\n",
    "        rel_size_max=gal_rel_size_max,\n",
    "        size_corr_ell=gal_size_corr_ell,\n",
    "        sigma_eps=sigma_eps_prior,\n",
    "        verbose=verbose\n",
    "    )\n",
    "\n",
    "    print_stats(\n",
    "        f\"Number of objects on metal input = {gal_metacal[sh]._n_input}\",\n",
    "        stats_file,\n",
    "        verbose=verbose,\n",
    "    )\n",
    "    print_stats(\n",
    "        f\"Number of objects after galaxy selection masking = {gal_metacal[sh]._n_after_gal_mask}\",\n",
    "        stats_file,\n",
    "        verbose=verbose,\n",
    "    )\n"
   ]
  },
  {
   "attachments": {},
   "cell_type": "markdown",
   "id": "2340b3a9",
   "metadata": {},
   "source": [
    "#### Extract quantities after calibration and cuts (in metacal)"
   ]
  },
  {
   "cell_type": "code",
   "execution_count": null,
   "id": "a00e1cbe",
   "metadata": {
    "tags": []
   },
   "outputs": [],
   "source": [
    "g_corr = {}\n",
    "g_uncorr = {}\n",
    "w = {}\n",
    "mask = {}\n",
    "ra = {}\n",
    "ra_wrap = {}\n",
    "dec = {}\n",
    "ra_mean = {}\n",
    "dec_mean = {}\n",
    "mag = {}\n",
    "snr = {}\n",
    "tile_ID = {}\n",
    "\n",
    "for sh in shapes:\n",
    "    \n",
    "    g_corr[sh], g_uncorr[sh], w[sh], mask[sh] = (\n",
    "        get_calibrated_quantities(gal_metacal[sh])\n",
    "    )\n",
    "\n",
    "    n_before_cuts = len(gal_metacal[sh].ns['g1'])\n",
    "    n_after_cuts = len(w[sh])\n",
    "    print_stats(\n",
    "        f\"Number of objects before cuts = {n_before_cuts}\",\n",
    "        stats_file,\n",
    "        verbose=verbose\n",
    "    )\n",
    "    print_stats(\n",
    "        f\"Number of objects after cuts = {n_after_cuts}\",\n",
    "        stats_file,\n",
    "        verbose=verbose\n",
    "    )\n",
    "    \n",
    "    # coordinates\n",
    "    #ra[sh] = dd['XWIN_WORLD'][m_gal[sh]][mask[sh]]\n",
    "    ra[sh] = spv_cat.get_col(dd, col_name_ra, m_gal[sh], mask[sh]) \n",
    "    \n",
    "    # Modify R.A. for plots if R.A. = 0 in area\n",
    "    if wrap_ra != 0:\n",
    "        ra_wrap[sh] = (ra[sh] + wrap_ra) % 360 - wrap_ra + 360\n",
    "    else:\n",
    "        ra_wrap[sh] = ra[sh]\n",
    "    dec[sh] = spv_cat.get_col(dd, col_name_dec, m_gal[sh], mask[sh])\n",
    "\n",
    "    ra_mean[sh] = np.mean(ra_wrap[sh])\n",
    "    dec_mean[sh] = np.mean(dec[sh])\n",
    "    \n",
    "    print_stats(\n",
    "        f'{sh}: Mean coordinates (ra, dec) ='\n",
    "        + f' ({ra_mean[sh]:.3f}, {dec_mean[sh]:.3f}) deg,'\n",
    "        + f' wrap_ra={wrap_ra} deg',\n",
    "        stats_file,\n",
    "        verbose=verbose\n",
    "    )\n",
    "\n",
    "    # magnitude, from SExtractor\n",
    "    mag[sh] = spv_cat.get_col(dd, \"MAG_AUTO\", m_gal[sh], mask[sh])\n",
    "    \n",
    "    # Keep tile ID if external mask\n",
    "    if mask_external_path:\n",
    "        tile_ID[sh] = spv_cat.get_col(dd, \"TILE_ID\", m_gal[sh], mask[sh])\n",
    "\n",
    "    snr[sh] = spv_cat.get_snr(sh, dd, m_gal[sh], mask[sh])"
   ]
  },
  {
   "cell_type": "code",
   "execution_count": null,
   "id": "5a4c1f45",
   "metadata": {},
   "outputs": [],
   "source": [
    "# Add additional columns with metacal mask\n",
    "\n",
    "add_cols_data = {}\n",
    "\n",
    "for sh in shapes:\n",
    "    \n",
    "    if add_cols:\n",
    "        add_cols_data[sh] = {}\n",
    "        for key in add_cols:\n",
    "            add_cols_data[sh][key] = dd[key][m_gal[sh]][mask[sh]]\n",
    "    else:\n",
    "        add_cols_data[sh] = None                               "
   ]
  },
  {
   "cell_type": "code",
   "execution_count": null,
   "id": "22c32778",
   "metadata": {},
   "outputs": [],
   "source": [
    "#### Compute coordinates for projection and spatial binning (needed later)"
   ]
  },
  {
   "cell_type": "code",
   "execution_count": null,
   "id": "f4396552",
   "metadata": {},
   "outputs": [],
   "source": [
    "x = {}\n",
    "y = {}\n",
    "\n",
    "for sh in shapes:\n",
    "    # Project all objects from spherical to Cartesian coordinates\n",
    "    x[sh], y[sh] =  radec2xy(ra_mean[sh], dec_mean[sh], ra_wrap[sh], dec[sh])"
   ]
  },
  {
   "attachments": {},
   "cell_type": "markdown",
   "id": "5993d8be",
   "metadata": {},
   "source": [
    "#### Compute field size"
   ]
  },
  {
   "cell_type": "code",
   "execution_count": null,
   "id": "40d2839e",
   "metadata": {},
   "outputs": [],
   "source": [
    "min_x = {}\n",
    "max_x = {}\n",
    "min_y = {}\n",
    "max_y = {}\n",
    "size_x_deg = {}\n",
    "size_y_deg = {}\n",
    "\n",
    "for sh in shapes:\n",
    "    # Define mix, max and size\n",
    "    min_x[sh] = np.min(x[sh])\n",
    "    max_x[sh] = np.max(x[sh])\n",
    "    min_y[sh] = np.min(y[sh])\n",
    "    max_y[sh] = np.max(y[sh])\n",
    "\n",
    "    size_x_deg[sh] = np.rad2deg(max_x[sh] - min_x[sh])\n",
    "    size_y_deg[sh] = np.rad2deg(max_y[sh] - min_y[sh])\n",
    "\n",
    "    print_stats(\n",
    "        f'{sh}: Field size in projected coordinates is (x, y) '\n",
    "        + f'= ({size_x_deg[sh]:.2f}, {size_y_deg[sh]:.2f}) deg',\n",
    "        stats_file,\n",
    "        verbose=verbose\n",
    "    )"
   ]
  },
  {
   "cell_type": "code",
   "execution_count": null,
   "id": "fe7078fe",
   "metadata": {},
   "outputs": [],
   "source": [
    "# Get coordinates for all objects\n",
    "ra[\"all\"] = spv_cat.get_col(dd, col_name_ra)\n",
    "if wrap_ra:\n",
    "    ra_wrap['all'] = (ra['all'] + wrap_ra) % 360 - wrap_ra + 360\n",
    "else:\n",
    "    ra_wrap['all'] = ra['all']\n",
    "dec[\"all\"] = spv_cat.get_col(dd, col_name_dec)\n",
    "\n",
    "shapes_all = []\n",
    "for sh in shapes:\n",
    "    shapes_all.append(sh)\n",
    "shapes_all.append('all')"
   ]
  },
  {
   "cell_type": "code",
   "execution_count": null,
   "id": "58755aaf",
   "metadata": {},
   "outputs": [],
   "source": [
    "# Number density\n",
    "n_gal = {}\n",
    "n_gal_sm = {}\n",
    "\n",
    "for sh in shapes:\n",
    "    n_gal[sh] = len(w[sh])\n",
    "    n_gal_sm[sh] = len(np.where(m_gal[sh])[0])\n",
    "\n",
    "    print_stats(sh, stats_file, verbose=verbose)\n",
    "    print_stats(\n",
    "        f'Number of galaxies after metacal = {n_gal[sh]}/{n_gal_sm[sh]} '\n",
    "        + f'= {n_gal[sh] / n_gal_sm[sh] * 100:.1f}%',\n",
    "        stats_file,\n",
    "        verbose=verbose\n",
    "    )\n",
    "    print_stats(\n",
    "        f'Galaxy density (ignoring masks+overlaps)= {n_gal[sh] / area_amin2:.2f} gal/arcmin2',\n",
    "        stats_file,\n",
    "        verbose=verbose\n",
    "    )"
   ]
  },
  {
   "cell_type": "code",
   "execution_count": null,
   "id": "fbf9acf0-1a85-402a-b5af-63eeb7496e3f",
   "metadata": {},
   "outputs": [],
   "source": [
    "# Write number of galaxies for each tile to file\n",
    "for sh in shapes:\n",
    "    fname = f'{output_dir}/tile_id_gal_counts_{sh}.txt'\n",
    "    detection_IDs = dd['TILE_ID']\n",
    "    galaxy_IDs = detection_IDs[m_gal[sh]]\n",
    "    shape_IDs = galaxy_IDs[mask[sh]]\n",
    "    write_tile_id_gal_counts(detection_IDs, galaxy_IDs, shape_IDs, fname) "
   ]
  },
  {
   "cell_type": "code",
   "execution_count": null,
   "id": "1dfa5452",
   "metadata": {},
   "outputs": [],
   "source": [
    "# Add all weights (for combining weighted averages of subpatches)\n",
    "\n",
    "w_tot = {}\n",
    "\n",
    "for sh in shapes:\n",
    "\n",
    "    w_tot[sh] = np.sum(w[sh])\n",
    "    \n",
    "    print_stats(sh, stats_file, verbose=verbose)\n",
    "    print_stats(f'Sum of weights = {w_tot[sh]:.1f}', stats_file, verbose=verbose)"
   ]
  },
  {
   "cell_type": "code",
   "execution_count": null,
   "id": "af0a5d77",
   "metadata": {},
   "outputs": [],
   "source": [
    "# Effective sample size ESS = 1/sum(w_n^2)\n",
    "# The inverse sum over squared normalised weights\n",
    "# Range [1; N]\n",
    "\n",
    "for sh in shapes:\n",
    "    \n",
    "    # normalised weights\n",
    "    wn = w[sh] / w_tot[sh]\n",
    "    s = np.sum(wn**2)\n",
    "    ess = 1/s\n",
    "    \n",
    "    print_stats(sh, stats_file, verbose=verbose)\n",
    "    print_stats(f'effective sample size, ESS/N = {ess:.1f}/{n_gal[sh]} = {ess/n_gal[sh]:.3g}',\n",
    "                stats_file, verbose=verbose)"
   ]
  },
  {
   "attachments": {},
   "cell_type": "markdown",
   "id": "f08b90fd",
   "metadata": {},
   "source": [
    "#### Plot spatial distribution of objects"
   ]
  },
  {
   "cell_type": "code",
   "execution_count": null,
   "id": "6ad7574a",
   "metadata": {
    "tags": []
   },
   "outputs": [],
   "source": [
    "x_label = 'R.A. [deg]'\n",
    "y_label = 'DEC [deg]'\n",
    "cbar_label_base = 'Density [$A_{\\\\rm pix}^{-1}$]'"
   ]
  },
  {
   "cell_type": "code",
   "execution_count": null,
   "id": "dbb989ed",
   "metadata": {},
   "outputs": [],
   "source": [
    "# Galaxies\n",
    "Apix = 1 # [arcmin^2]\n",
    "cbar_label = '{}, $A_{{\\\\rm pix}} \\\\approx {:.1g}$ arcmin$^2$'.format(cbar_label_base, Apix)\n",
    "n_grid = int(np.sqrt(area_amin2) / Apix)\n",
    "if verbose:\n",
    "    print('Number of pixels = {}^2'.format(n_grid))\n",
    "\n",
    "for sh in shapes_all:\n",
    "    title = f'Galaxies ({sh})'\n",
    "    out_path = f'{plot_dir}/galaxy_number_count_{sh}'\n",
    "    plot_spatial_density(\n",
    "        ra_wrap[sh],\n",
    "        dec[sh],\n",
    "        title,\n",
    "        x_label,\n",
    "        y_label,\n",
    "        cbar_label,\n",
    "        out_path,\n",
    "        n_grid=n_grid,\n",
    "        verbose=verbose\n",
    "    )\n",
    "\n",
    "# All objects without overlap, useful for position-only\n",
    "# setting (no shapes)\n",
    "sh = 'all'\n",
    "title = f'Galaxies ({sh}, no overlap)'\n",
    "out_path = f'{plot_dir}/galaxy_number_count_{sh}_nooverlap'\n",
    "plot_spatial_density(\n",
    "    ra_wrap[sh][cut_overlap],\n",
    "    dec[sh][cut_overlap],\n",
    "    title,\n",
    "    x_label,\n",
    "    y_label,\n",
    "    cbar_label,\n",
    "    out_path,\n",
    "    n_grid=n_grid,\n",
    "    verbose=verbose\n",
    ")   "
   ]
  },
  {
   "attachments": {},
   "cell_type": "markdown",
   "id": "2af89456",
   "metadata": {},
   "source": [
    "#### Plot galaxy signal-to-noise distribution"
   ]
  },
  {
   "cell_type": "code",
   "execution_count": null,
   "id": "23d75ff7",
   "metadata": {},
   "outputs": [],
   "source": [
    "x_label = 'SNR'\n",
    "y_label = 'Frequency'\n",
    "density = True\n",
    "x_range = (0, 200)\n",
    "n_bin = 500\n",
    "x_cut = gal_snr_min\n",
    "\n",
    "for sh in shapes:\n",
    "    print_stats(sh, stats_file, verbose=verbose)\n",
    "\n",
    "    labels = []\n",
    "    if sh == 'ngmix':\n",
    "    # Do not apply `mask_ns`, so use all galaxies\n",
    "        xs = [\n",
    "            dd['NGMIX_FLUX_NOSHEAR'][m_gal[sh]] / dd['NGMIX_FLUX_ERR_NOSHEAR'][m_gal[sh]],\n",
    "            dd['SNR_WIN'][m_gal[sh]]\n",
    "        ]\n",
    "        labels.append([f'{sh} $F/\\\\sigma(F)$'])\n",
    "\n",
    "    elif sh == 'galsim':\n",
    "        xs = [\n",
    "            dd['SNR_WIN'][m_gal[sh]]\n",
    "        ]\n",
    "  \n",
    "    labels.append(f'{sh} SExtractor SNR')\n",
    "\n",
    "    title = f'Galaxies ({sh})'\n",
    "\n",
    "    out_name = f'hist_SNR_{sh}.pdf'\n",
    "    out_path = os.path.join(plot_dir, out_name)\n",
    "\n",
    "    plot_histograms(\n",
    "        xs,\n",
    "        labels,\n",
    "        title,\n",
    "        x_label,\n",
    "        y_label,\n",
    "        x_range,\n",
    "        n_bin,\n",
    "        out_path,\n",
    "        vline_x=[x_cut],\n",
    "        vline_lab=[f'SNR = {x_cut}']\n",
    "    )"
   ]
  },
  {
   "attachments": {},
   "cell_type": "markdown",
   "id": "7f601599",
   "metadata": {},
   "source": [
    "### Plot galaxy relative size distribution"
   ]
  },
  {
   "cell_type": "code",
   "execution_count": null,
   "id": "ba3bbfa7",
   "metadata": {},
   "outputs": [],
   "source": [
    "x_label = r'$R^2_{\\rm gal} / R^2_{\\rm PSF}$'\n",
    "y_label = 'Frequency'\n",
    "density = True\n",
    "x_range = (0, 1.5)\n",
    "n_bin = 500\n",
    "x_cut = gal_rel_size_min\n",
    "\n",
    "for sh in shapes:\n",
    "    print_stats(sh, stats_file, verbose=verbose)\n",
    "\n",
    "    labels = []\n",
    "    if sh == 'ngmix':\n",
    "    # Do not apply `mask_ns`, so use all galaxies\n",
    "        xs = [\n",
    "            dd['NGMIX_T_NOSHEAR'][m_gal[sh]] / dd['NGMIX_Tpsf_NOSHEAR'][m_gal[sh]]\n",
    "        ]\n",
    "        labels.append(f'size ratio')\n",
    "\n",
    "    elif sh == 'galsim':\n",
    "        xs = [\n",
    "            dd['GALSIM_GAL_SIGMA_NOSHEAR'][m_gal[sh]] / dd['GALSIM_PSF_SIGMA_NOSHEAR'][m_gal[sh]]\n",
    "        ]\n",
    "  \n",
    "    title = f'Galaxies ({sh})'\n",
    "\n",
    "    out_name = f'hist_rel_size_{sh}.pdf'\n",
    "    out_path = os.path.join(plot_dir, out_name)\n",
    "\n",
    "    plot_histograms(\n",
    "        xs,\n",
    "        labels,\n",
    "        title,\n",
    "        x_label,\n",
    "        y_label,\n",
    "        x_range,\n",
    "        n_bin,\n",
    "        out_path,\n",
    "        vline_x=[x_cut],\n",
    "        vline_lab=[f'rel_size = {x_cut}']\n",
    "    )"
   ]
  },
  {
   "attachments": {},
   "cell_type": "markdown",
   "id": "a75bee6f",
   "metadata": {},
   "source": [
    "## Metacalibration for stars"
   ]
  },
  {
   "cell_type": "code",
   "execution_count": null,
   "id": "2cc332ee",
   "metadata": {
    "tags": []
   },
   "outputs": [],
   "source": [
    "star_metacal = {}\n",
    "for sh in shapes:\n",
    "    star_metacal[sh] = metacal(\n",
    "        dd[ind_star],\n",
    "        m_star[sh],\n",
    "        masking_type='star',\n",
    "        verbose=verbose\n",
    "    )"
   ]
  },
  {
   "attachments": {},
   "cell_type": "markdown",
   "id": "bcf56360",
   "metadata": {},
   "source": [
    "#### Number density"
   ]
  },
  {
   "cell_type": "code",
   "execution_count": null,
   "id": "82e00b35",
   "metadata": {},
   "outputs": [],
   "source": [
    "# mask for 'no shear' images\n",
    "mask_ns_stars = {}\n",
    "n_star = {}\n",
    "\n",
    "for sh in shapes:\n",
    "    mask_ns_stars[sh] = star_metacal[sh].mask_dict['ns']\n",
    "    n_star[sh] = len(star_metacal[sh].ns['g1'][mask_ns_stars[sh]])\n",
    "\n",
    "    print_stats(f'{sh}:', stats_file, verbose=verbose)\n",
    "    print_stats(f'Number of stars = {n_star[sh]}', stats_file, verbose=verbose)\n",
    "    print_stats('Star density = {:.2f} stars/deg2'.format(n_star[sh] / area_deg2), stats_file, verbose=verbose)"
   ]
  },
  {
   "attachments": {},
   "cell_type": "markdown",
   "id": "57465d77",
   "metadata": {
    "tags": []
   },
   "source": [
    "## Additive bias\n",
    "Use raw, uncorrected ellipticities."
   ]
  },
  {
   "cell_type": "code",
   "execution_count": null,
   "id": "49726f03",
   "metadata": {},
   "outputs": [],
   "source": [
    "print_stats('additive bias', stats_file, verbose=verbose)"
   ]
  },
  {
   "cell_type": "code",
   "execution_count": null,
   "id": "cc7b65e9",
   "metadata": {},
   "outputs": [],
   "source": [
    "# Compute mean, weighted mean, and (Poisson) error\n",
    "\n",
    "c = {}\n",
    "c_err = {}\n",
    "cw = {}\n",
    "cw_err = {}\n",
    "\n",
    "for sh in shapes:\n",
    "    print_stats(f'{sh}:', stats_file, verbose=verbose)\n",
    "    \n",
    "    c[sh] = np.zeros(2)\n",
    "    c_err[sh] = np.zeros(2)\n",
    "    cw[sh] = np.zeros(2)\n",
    "    cw_err[sh] = np.zeros(2)\n",
    "\n",
    "    for comp in (0, 1):\n",
    "        c[sh][comp] = np.average(g_uncorr[sh][comp])\n",
    "        c_err[sh][comp] = np.std(g_uncorr[sh][comp])\n",
    "        \n",
    "        cw[sh][comp] = np.average(g_uncorr[sh][comp], weights=w[sh])\n",
    "        variance = np.average((g_uncorr[sh][comp] - cw[sh][comp])**2, weights=w[sh])\n",
    "        cw_err[sh][comp] = np.sqrt(variance)\n",
    "\n",
    "    for comp in (0, 1):\n",
    "        print_stats(f'c_{comp+1} = {c[sh][comp]:.3g}', stats_file, verbose=verbose)        \n",
    "        print_stats(f'cw_{comp+1} = {cw[sh][comp]:.3g}', stats_file, verbose=verbose)\n",
    "    for comp in (0, 1):\n",
    "        print_stats(f'dc_{comp+1} = {c_err[sh][comp]:.3g}', stats_file, verbose=verbose)        \n",
    "        print_stats(f'dcw_{comp+1} = {cw_err[sh][comp]:.3g}', stats_file, verbose=verbose)\n",
    "\n",
    "    # Error of mean: divide by sqrt(N) (TBC whether this is correct)\n",
    "    for comp in (0, 1):\n",
    "            print_stats(f'dmc_{comp+1} = {c_err[sh][comp]/np.sqrt(n_gal[sh]):.3e}', stats_file, verbose=verbose)\n",
    "            print_stats(\n",
    "                f'dmcw_{comp+1} = {cw_err[sh][comp]/np.sqrt(n_gal[sh]):.3e}',\n",
    "                stats_file,\n",
    "                verbose=verbose\n",
    "            )"
   ]
  },
  {
   "cell_type": "code",
   "execution_count": null,
   "id": "ff8b3ebb",
   "metadata": {},
   "outputs": [],
   "source": [
    "# Compute jackknife mean and errors\n",
    "\n",
    "remove_size = 0.05\n",
    "\n",
    "cjk = {}\n",
    "cjk_err = {}\n",
    "    \n",
    "for sh in shapes:\n",
    "    print_stats(f'{sh}:', stats_file, verbose=verbose)\n",
    "    \n",
    "    cjk[sh] = np.zeros(2) * -1\n",
    "    cjk_err[sh] = np.zeros(2) * -1\n",
    "\n",
    "    for comp in (0, 1):\n",
    "        if n_jack > 0:\n",
    "            cjk[sh][comp], cjk_err[sh][comp] = jackknif_weighted_average(\n",
    "                g_uncorr[sh][comp],\n",
    "                w[sh],\n",
    "                remove_size=remove_size,\n",
    "                n_realization=n_jack\n",
    "            )           \n",
    "        cjk_dc = ufloat(cjk[sh][comp], cjk_err[sh][comp])\n",
    "        print_stats(f'cjk_{comp+1} = {cjk_dc:.3eP}', stats_file, verbose=verbose)"
   ]
  },
  {
   "attachments": {},
   "cell_type": "markdown",
   "id": "4ee7a175",
   "metadata": {},
   "source": [
    "## Get quantities calibrated for both multiplicative and additive bias"
   ]
  },
  {
   "cell_type": "code",
   "execution_count": null,
   "id": "09a7df75",
   "metadata": {},
   "outputs": [],
   "source": [
    "g_corr_mc = {}\n",
    "c_corr = {}\n",
    "\n",
    "for sh in shapes:\n",
    "    g_corr_mc[sh] = np.zeros_like(g_corr[sh])\n",
    "    c_corr[sh] = np.linalg.inv(gal_metacal[sh].R).dot(c[sh])\n",
    "    for comp in (0, 1):\n",
    "        g_corr_mc[sh][comp] = g_corr[sh][comp] - c_corr[sh][comp]"
   ]
  },
  {
   "attachments": {},
   "cell_type": "markdown",
   "id": "bf4456e3",
   "metadata": {},
   "source": [
    "## Response matrix"
   ]
  },
  {
   "attachments": {},
   "cell_type": "markdown",
   "id": "590df7a5",
   "metadata": {},
   "source": [
    "### Mean"
   ]
  },
  {
   "cell_type": "code",
   "execution_count": null,
   "id": "56f2dc7c",
   "metadata": {},
   "outputs": [],
   "source": [
    "R_shear = {}\n",
    "\n",
    "for sh in shapes:\n",
    "    print_stats(f'{sh} galaxies:', stats_file, verbose=verbose)\n",
    "\n",
    "    print_stats('total response matrix:', stats_file, verbose=verbose)\n",
    "    rs = np.array2string(gal_metacal[sh].R)\n",
    "    print_stats(rs, stats_file, verbose=verbose)\n",
    "\n",
    "    print_stats('shear response matrix:', stats_file, verbose=verbose)\n",
    "    R_shear[sh] = np.mean(gal_metacal[sh].R_shear, 2)\n",
    "    rs = np.array2string(R_shear[sh])\n",
    "    print_stats(rs, stats_file, verbose=verbose)\n",
    "\n",
    "    print_stats('selection response matrix:', stats_file, verbose=verbose)\n",
    "    rs = np.array2string(gal_metacal[sh].R_selection)\n",
    "    print_stats(rs, stats_file, verbose=verbose)"
   ]
  },
  {
   "cell_type": "code",
   "execution_count": null,
   "id": "37e550fb",
   "metadata": {},
   "outputs": [],
   "source": [
    "R_shear_stars = {}\n",
    "\n",
    "for sh in shapes:\n",
    "    print_stats(f'{sh} stars:', stats_file, verbose=verbose)\n",
    "\n",
    "    print_stats('total response matrix:', stats_file, verbose=verbose)\n",
    "    rs = np.array2string(star_metacal[sh].R)\n",
    "    print_stats(rs, stats_file, verbose=verbose)\n",
    "\n",
    "    print_stats('shear response matrix:', stats_file, verbose=verbose)\n",
    "    R_shear_stars[sh] = np.mean(star_metacal[sh].R_shear, 2)\n",
    "    rs = np.array2string(R_shear_stars[sh])\n",
    "    print_stats(rs, stats_file, verbose=verbose)\n",
    "\n",
    "    print_stats('selection response matrix:', stats_file, verbose=verbose)\n",
    "    rs = np.array2string(star_metacal[sh].R_selection)\n",
    "    print_stats(rs, stats_file, verbose=verbose)"
   ]
  },
  {
   "attachments": {},
   "cell_type": "markdown",
   "id": "33c4b47f",
   "metadata": {},
   "source": [
    "### Plot distribution of response matrix elements"
   ]
  },
  {
   "cell_type": "code",
   "execution_count": null,
   "id": "ef8903b0",
   "metadata": {
    "tags": []
   },
   "outputs": [],
   "source": [
    "x_label = 'response matrix element'\n",
    "y_label = 'Frequency'\n",
    "x_range = (-3, 3)\n",
    "n_bin = 500"
   ]
  },
  {
   "cell_type": "code",
   "execution_count": null,
   "id": "f0a7a87d",
   "metadata": {
    "tags": []
   },
   "outputs": [],
   "source": [
    "colors = ['blue', 'red','blue', 'red']\n",
    "linestyles = ['-', '-', ':', ':']"
   ]
  },
  {
   "cell_type": "code",
   "execution_count": null,
   "id": "4dc8810a",
   "metadata": {},
   "outputs": [],
   "source": [
    "labels = [\n",
    "    '$R_{11}$ galaxies',\n",
    "    '$R_{22}$ galaxies',\n",
    "    '$R_{11}$ stars',\n",
    "    '$R_{22}$ stars'\n",
    "]\n",
    "\n",
    "for sh in shapes:\n",
    "\n",
    "    xs = [\n",
    "        gal_metacal[sh].R_shear[0,0],\n",
    "        gal_metacal[sh].R_shear[1,1],\n",
    "        star_metacal[sh].R_shear[0,0],\n",
    "        star_metacal[sh].R_shear[1,1]\n",
    "    ]\n",
    "    title = sh\n",
    "    \n",
    "    out_name = f'R_{sh}_diag.pdf'\n",
    "    out_path = os.path.join(plot_dir, out_name)\n",
    "    \n",
    "    plot_histograms(\n",
    "        xs,\n",
    "        labels,\n",
    "        title,\n",
    "        x_label,\n",
    "        y_label,\n",
    "        x_range,\n",
    "        n_bin,\n",
    "        out_path,\n",
    "        colors=colors,\n",
    "        linestyles=linestyles\n",
    "    )"
   ]
  },
  {
   "cell_type": "code",
   "execution_count": null,
   "id": "ac9c1221",
   "metadata": {},
   "outputs": [],
   "source": [
    "labels = [\n",
    "    '$R_{12}$ galaxies',\n",
    "    '$R_{21}$ galaxies',\n",
    "    '$R_{12}$ stars',\n",
    "    '$R_{21}$ stars'\n",
    "]\n",
    "\n",
    "for sh in shapes:\n",
    "\n",
    "    xs = [gal_metacal[sh].R_shear[0,1],\n",
    "          gal_metacal[sh].R_shear[1,0],\n",
    "          star_metacal[sh].R_shear[0,1],\n",
    "          star_metacal[sh].R_shear[1,0]\n",
    "         ]\n",
    "    title = sh\n",
    "    out_name = f'R_{sh}_offdiag.pdf'\n",
    "    out_path = os.path.join(plot_dir, out_name)\n",
    "\n",
    "    plot_histograms(\n",
    "        xs,\n",
    "        labels,\n",
    "        title,\n",
    "        x_label,\n",
    "        y_label,\n",
    "        x_range, \n",
    "        n_bin,\n",
    "        out_path,\n",
    "        colors=colors,\n",
    "        linestyles=linestyles\n",
    "    )"
   ]
  },
  {
   "attachments": {},
   "cell_type": "markdown",
   "id": "3c3d9523",
   "metadata": {},
   "source": [
    "## Ellipticities"
   ]
  },
  {
   "cell_type": "code",
   "execution_count": null,
   "id": "78275bd8",
   "metadata": {
    "tags": []
   },
   "outputs": [],
   "source": [
    "x_label = 'ellipticity'\n",
    "y_label = 'Frequency'\n",
    "x_range = (-1, 1)\n",
    "n_bin = 500\n",
    "\n",
    "labels = ['$e_1$', '$e_2$']\n",
    "colors = ['blue', 'red']\n",
    "linestyles = ['-', '-'] "
   ]
  },
  {
   "cell_type": "code",
   "execution_count": null,
   "id": "2abfcf6f",
   "metadata": {},
   "outputs": [],
   "source": [
    "for sh in shapes:\n",
    "\n",
    "    xs = [g_corr[sh][0], g_corr[sh][1]]\n",
    "    weights = [w[sh]] * 2\n",
    "\n",
    "    title = f'{sh} galaxies'\n",
    "    out_name = f'ell_gal_{sh}.pdf'\n",
    "    out_path = os.path.join(plot_dir, out_name)\n",
    "\n",
    "    plot_histograms(\n",
    "        xs, \n",
    "        labels, \n",
    "        title, \n",
    "        x_label, \n",
    "        y_label, \n",
    "        x_range, \n",
    "        n_bin,\n",
    "        out_path,\n",
    "        weights=weights, \n",
    "        colors=colors, \n",
    "        linestyles=linestyles\n",
    "    )"
   ]
  },
  {
   "cell_type": "code",
   "execution_count": null,
   "id": "66007382",
   "metadata": {},
   "outputs": [],
   "source": [
    "for sh in shapes:\n",
    "\n",
    "    xs = [star_metacal[sh].ns['g1'][mask_ns_stars[sh]], star_metacal[sh].ns['g2'][mask_ns_stars[sh]]]\n",
    "    weights = [star_metacal[sh].ns['w'][mask_ns_stars[sh]]] * 2\n",
    "\n",
    "    title = f'{sh} stars'\n",
    "    out_name = f'ell_stars_{sh}.pdf'\n",
    "    out_path = os.path.join(plot_dir, out_name)\n",
    "\n",
    "    plot_histograms(\n",
    "        xs, \n",
    "        labels, \n",
    "        title, \n",
    "        x_label, \n",
    "        y_label, \n",
    "        x_range, \n",
    "        n_bin, \n",
    "        out_path,\n",
    "        weights=weights, \n",
    "        colors=colors, \n",
    "        linestyles=linestyles\n",
    "    )"
   ]
  },
  {
   "cell_type": "code",
   "execution_count": null,
   "id": "f2fa666e",
   "metadata": {
    "tags": []
   },
   "outputs": [],
   "source": [
    "x_range = (-0.15, 0.15)\n",
    "n_bin = 250"
   ]
  },
  {
   "cell_type": "code",
   "execution_count": null,
   "id": "8899725e",
   "metadata": {},
   "outputs": [],
   "source": [
    "for sh in shapes:\n",
    "\n",
    "    key = key_PSF_ell[sh]\n",
    "    xs = [\n",
    "        dd[key][:,0][mask_ns_stars[sh]],\n",
    "        dd[key][:,1][mask_ns_stars[sh]]\n",
    "    ]\n",
    "    title = f'{sh} PSF'\n",
    "    out_name = f'ell_PSF_{sh}.pdf'\n",
    "    out_path = os.path.join(plot_dir, out_name)\n",
    "\n",
    "    plot_histograms(\n",
    "        xs, \n",
    "        labels, \n",
    "        title, \n",
    "        x_label, \n",
    "        y_label, \n",
    "        x_range, \n",
    "        n_bin, \n",
    "        out_path,      \n",
    "        colors=colors, \n",
    "        linestyles=linestyles\n",
    "    )"
   ]
  },
  {
   "attachments": {},
   "cell_type": "markdown",
   "id": "8febe75a",
   "metadata": {},
   "source": [
    "## Magnitudes"
   ]
  },
  {
   "cell_type": "code",
   "execution_count": null,
   "id": "5cf23d1e",
   "metadata": {
    "tags": []
   },
   "outputs": [],
   "source": [
    "x_label = '$r$-band magnitude'\n",
    "y_label = 'Frequency'\n",
    "x_range = (gal_mag_bright + 1, gal_mag_faint - 1)\n",
    "n_bin = 500\n",
    "\n",
    "colors = ['blue', 'red']\n",
    "linestyles = ['-', '-']\n",
    "\n",
    "title = 'galaxies'\n",
    "out_name = 'mag_gal.pdf'\n",
    "out_path = os.path.join(plot_dir, out_name)"
   ]
  },
  {
   "cell_type": "code",
   "execution_count": null,
   "id": "424f4f82",
   "metadata": {},
   "outputs": [],
   "source": [
    "labels = []\n",
    "xs = []\n",
    "\n",
    "for sh in shapes:\n",
    "    labels.append(sh)\n",
    "    xs.append(dd['MAG_AUTO'][m_gal[sh]][mask[sh]])\n",
    "\n",
    "if len(xs) > 0:\n",
    "    plot_histograms(\n",
    "        xs, \n",
    "        labels, \n",
    "        title, \n",
    "        x_label, \n",
    "        y_label, \n",
    "        x_range, \n",
    "        n_bin, \n",
    "        out_path,             \n",
    "        colors=colors, \n",
    "        linestyles=linestyles\n",
    "    )"
   ]
  },
  {
   "attachments": {},
   "cell_type": "markdown",
   "id": "49113915",
   "metadata": {},
   "source": [
    "## Ellipticity dispersion"
   ]
  },
  {
   "cell_type": "code",
   "execution_count": null,
   "id": "3bcd0fee",
   "metadata": {},
   "outputs": [],
   "source": [
    "for sh in shapes:\n",
    "    print_stats(f'{sh}', stats_file, verbose=verbose)\n",
    "\n",
    "    sig_eps = np.sqrt(np.var(g_corr[sh][0]) + np.var(g_corr[sh][1]))\n",
    "    print_stats('Dispersion of complex ellipticity = {:.3f}' \\\n",
    "                ''.format(sig_eps), stats_file, verbose=verbose)\n",
    "    print_stats('Dispersion of (average) single-component ellipticity = {:.3f} = {:.3f} / sqrt(2)' \\\n",
    "                ''.format(sig_eps /  np.sqrt(2), sig_eps), stats_file, verbose=verbose)"
   ]
  }
 ],
 "metadata": {
  "kernelspec": {
   "display_name": "sp_validation",
   "language": "python",
   "name": "sp_validation"
  },
  "language_info": {
   "codemirror_mode": {
    "name": "ipython",
    "version": 3
   },
   "file_extension": ".py",
   "mimetype": "text/x-python",
   "name": "python",
   "nbconvert_exporter": "python",
   "pygments_lexer": "ipython3",
   "version": "3.9.19"
  }
 },
 "nbformat": 4,
 "nbformat_minor": 5
}
