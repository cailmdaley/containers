{
 "cells": [
  {
   "cell_type": "markdown",
   "id": "67a8d55f",
   "metadata": {},
   "source": [
    "# Weak-lensing galaxy shape catalogue validation\n",
    "\n",
    "## Maps\n",
    "\n",
    "Contents\n",
    "- Create convergence maps"
   ]
  },
  {
   "cell_type": "markdown",
   "id": "e4b2c901",
   "metadata": {},
   "source": [
    "> **_NOTE:_** Before running this notebook, set kernel to `main_set.ipynb'"
   ]
  },
  {
   "cell_type": "code",
   "execution_count": null,
   "id": "208025ef",
   "metadata": {},
   "outputs": [],
   "source": [
    "from scipy.ndimage import gaussian_filter\n",
    "\n",
    "from lenspack.utils import bin2d\n",
    "from lenspack.image.inversion import ks93"
   ]
  },
  {
   "cell_type": "code",
   "execution_count": null,
   "id": "596f8224",
   "metadata": {},
   "outputs": [],
   "source": [
    "from sp_validation.survey import *\n",
    "from sp_validation.util import *\n",
    "from sp_validation.basic import *\n",
    "from sp_validation.plots import *\n",
    "from sp_validation.cosmology import *"
   ]
  },
  {
   "cell_type": "markdown",
   "id": "8525cf69",
   "metadata": {},
   "source": [
    "# Pixelise ellipticities"
   ]
  },
  {
   "cell_type": "code",
   "execution_count": null,
   "id": "9d3487bf",
   "metadata": {},
   "outputs": [],
   "source": [
    "# Compute number of pixels\n",
    "Nx = {}\n",
    "Ny = {}\n",
    "for sh in shapes:\n",
    "    Nx[sh] = int(size_x_deg[sh] / pixel_size_emap_amin * 60)\n",
    "    Ny[sh] = int(size_y_deg[sh] / pixel_size_emap_amin * 60)\n",
    "    print_stats(f'{sh}:', stats_file, verbose=verbose)\n",
    "    print_stats(\n",
    "        f'Numbers of ellipticity pixels for KS93 = ({Nx[sh]}, {Ny[sh]})',\n",
    "        stats_file,\n",
    "        verbose=verbose\n",
    "    )"
   ]
  },
  {
   "cell_type": "code",
   "execution_count": null,
   "id": "f49b007d",
   "metadata": {},
   "outputs": [],
   "source": [
    "# Bin in 2D\n",
    "\n",
    "g_corr_mc_map = {}\n",
    "\n",
    "for sh in shapes:\n",
    "    g1_tmp, g2_tmp = bin2d(\n",
    "        x[sh],\n",
    "        y[sh],\n",
    "        npix=(Nx[sh], Ny[sh]), \n",
    "        v=(g_corr_mc[sh][0], g_corr_mc[sh][1]),\n",
    "        extent=(min_x[sh], max_x[sh], min_y[sh], max_y[sh])\n",
    "    )\n",
    "\n",
    "    g_corr_mc_map[sh] = np.array([g1_tmp, g2_tmp])"
   ]
  },
  {
   "cell_type": "markdown",
   "id": "419ba267",
   "metadata": {},
   "source": [
    "# Create convergence maps"
   ]
  },
  {
   "cell_type": "code",
   "execution_count": null,
   "id": "d4d55c1d",
   "metadata": {},
   "outputs": [],
   "source": [
    "# Transform gamma -> kappa using the Kaiser-Squires (1993) algorithm\n",
    "\n",
    "kappaE = {}\n",
    "kappaB = {}\n",
    "\n",
    "for sh in shapes:\n",
    "    kappaE[sh], kappaB[sh] = ks93(\n",
    "        g1_sign * g_corr_mc_map[sh][0],\n",
    "        g2_sign * g_corr_mc_map[sh][1]\n",
    "    )"
   ]
  },
  {
   "cell_type": "code",
   "execution_count": null,
   "id": "aba978b2",
   "metadata": {},
   "outputs": [],
   "source": [
    "# Smooth with Gaussian filter\n",
    "\n",
    "kappaE_sm = {}\n",
    "kappaB_sm = {}\n",
    "\n",
    "for sh in shapes:\n",
    "    kappaE_sm[sh] = gaussian_filter(kappaE[sh], smoothing_scale_pix)\n",
    "    kappaB_sm[sh] = gaussian_filter(kappaB[sh], smoothing_scale_pix)"
   ]
  },
  {
   "cell_type": "raw",
   "id": "b38b2497",
   "metadata": {},
   "source": [
    "# Get known cluster positions"
   ]
  },
  {
   "cell_type": "code",
   "execution_count": null,
   "id": "9a03adfa",
   "metadata": {},
   "outputs": [],
   "source": [
    "# Get cluster information\n",
    "cluster_cat_name = 'HFI_PCCS_SZ-union_R2.08.fits.gz'\n",
    "vos_dir = 'vos:cfis/cosmostat/cosmology/external/Planck'\n",
    "\n",
    "clusters = get_clusters(cluster_cat_name, vos_dir, data_dir, name, verbose=verbose)\n",
    "\n",
    "print_stats(\n",
    "    f\"{len(clusters['ra'])} clusters found in {name} footprint\",\n",
    "    stats_file,\n",
    "    verbose=verbose\n",
    ")"
   ]
  },
  {
   "cell_type": "code",
   "execution_count": null,
   "id": "4a84f3d7",
   "metadata": {},
   "outputs": [],
   "source": [
    "# Project cluster positions\n",
    "\n",
    "# Get first shape method, use the same for all projections\n",
    "for sh in shapes:\n",
    "    sh0 = sh\n",
    "    break\n",
    "\n",
    "if wrap_ra != 0:\n",
    "    clusters['ra_wrap'] = (clusters['ra'] + wrap_ra) % 360 - wrap_ra + 360\n",
    "else:\n",
    "    clusters['ra_wrap'] = clusters['ra']\n",
    "\n",
    "x_cluster, y_cluster =  radec2xy(\n",
    "    ra_mean[sh0],\n",
    "    dec_mean[sh0],\n",
    "    clusters['ra_wrap'],\n",
    "    clusters['dec']\n",
    ")\n",
    "clusters['x'] = x_cluster\n",
    "clusters['y'] = y_cluster"
   ]
  },
  {
   "cell_type": "markdown",
   "id": "99074669",
   "metadata": {},
   "source": [
    "# Plot maps"
   ]
  },
  {
   "cell_type": "markdown",
   "id": "20d64c74",
   "metadata": {},
   "source": [
    "## Convergence maps"
   ]
  },
  {
   "cell_type": "markdown",
   "id": "8a561bcc",
   "metadata": {},
   "source": [
    "### With Planck clusters and grid"
   ]
  },
  {
   "cell_type": "code",
   "execution_count": null,
   "id": "fb8a2f38",
   "metadata": {},
   "outputs": [],
   "source": [
    "vlim = {}\n",
    "\n",
    "for sh in shapes:\n",
    "\n",
    "    title = f'{sh} $\\kappa_{{\\\\rm E}}$'\n",
    "    out_path = f'{plot_dir}/kappa_E_{sh}+clusters.png'\n",
    "\n",
    "    vlim[sh] = plot_map(\n",
    "        kappaE_sm[sh],\n",
    "        ra_wrap[sh],\n",
    "        dec[sh],\n",
    "        min_x[sh],\n",
    "        max_x[sh],\n",
    "        min_y[sh],\n",
    "        max_y[sh],\n",
    "        Nx[sh],\n",
    "        Ny[sh],\n",
    "        title,\n",
    "        out_path,\n",
    "        clusters=clusters\n",
    "    )"
   ]
  },
  {
   "cell_type": "code",
   "execution_count": null,
   "id": "663dda2c",
   "metadata": {},
   "outputs": [],
   "source": [
    "for sh in shapes:\n",
    "    \n",
    "    title = f'{sh} $\\kappa_{{\\\\rm B}}$'\n",
    "    out_path = f'{plot_dir}/kappa_B_{sh}+clusters.png'\n",
    "\n",
    "    plot_map(\n",
    "        kappaB_sm[sh],\n",
    "        ra_wrap[sh],\n",
    "        dec[sh],\n",
    "        min_x[sh],\n",
    "        max_x[sh],\n",
    "        min_y[sh],\n",
    "        max_y[sh],\n",
    "        Nx[sh],\n",
    "        Ny[sh],\n",
    "        title,\n",
    "        out_path,\n",
    "        vlim=vlim[sh],\n",
    "        clusters=clusters\n",
    "    )"
   ]
  },
  {
   "cell_type": "code",
   "execution_count": null,
   "id": "72e6244d",
   "metadata": {},
   "outputs": [],
   "source": [
    "### Without grid lines"
   ]
  },
  {
   "cell_type": "code",
   "execution_count": null,
   "id": "c5f0bf16",
   "metadata": {},
   "outputs": [],
   "source": [
    "vlim = {}\n",
    "\n",
    "for sh in shapes:\n",
    "\n",
    "    title = f'{sh} $\\kappa_{{\\\\rm E}}$'\n",
    "    out_path = f'{plot_dir}/kappa_E_{sh}_nogrid.png'\n",
    "\n",
    "    vlim[sh] = plot_map(\n",
    "        kappaE_sm[sh],\n",
    "        ra_wrap[sh],\n",
    "        dec[sh],\n",
    "        min_x[sh],\n",
    "        max_x[sh],\n",
    "        min_y[sh],\n",
    "        max_y[sh],\n",
    "        Nx[sh],\n",
    "        Ny[sh],\n",
    "        title,\n",
    "        out_path,\n",
    "        grid=False\n",
    "    )"
   ]
  },
  {
   "cell_type": "code",
   "execution_count": null,
   "id": "850183fc",
   "metadata": {},
   "outputs": [],
   "source": [
    "for sh in shapes:\n",
    "    \n",
    "    title = f'{sh} $\\kappa_{{\\\\rm B}}$'\n",
    "    out_path = f'{plot_dir}/kappa_B_{sh}_nogrid.png'\n",
    "\n",
    "    plot_map(\n",
    "        kappaB_sm[sh],\n",
    "        ra_wrap[sh],\n",
    "        dec[sh],\n",
    "        min_x[sh],\n",
    "        max_x[sh],\n",
    "        min_y[sh],\n",
    "        max_y[sh],\n",
    "        Nx[sh],\n",
    "        Ny[sh],\n",
    "        title,\n",
    "        out_path,\n",
    "        vlim=vlim[sh],\n",
    "        grid=False\n",
    "    )"
   ]
  },
  {
   "cell_type": "markdown",
   "id": "a1c50e06",
   "metadata": {},
   "source": [
    "### At cut-out coordinates"
   ]
  },
  {
   "cell_type": "code",
   "execution_count": null,
   "id": "e396fc43",
   "metadata": {},
   "outputs": [],
   "source": [
    "if map_cut_coords:\n",
    "    for sh in shapes:\n",
    "    \n",
    "        title = ''\n",
    "        out_path = f'{plot_dir}/kappa_E_{sh}_nogrid_cutout.png'\n",
    "\n",
    "        plot_map(\n",
    "            kappaE_sm[sh],\n",
    "            ra_wrap[sh],\n",
    "            dec[sh],\n",
    "            min_x[sh],\n",
    "            max_x[sh],\n",
    "            min_y[sh],\n",
    "            max_y[sh],\n",
    "            Nx[sh],\n",
    "            Ny[sh],\n",
    "            title,\n",
    "            out_path,\n",
    "            vlim=vlim[sh],\n",
    "            grid=False,\n",
    "            map_cut_coords=map_cut_coords,\n",
    "            dpi=600,\n",
    "            colorbar=False\n",
    "        )"
   ]
  },
  {
   "cell_type": "markdown",
   "id": "9b290507",
   "metadata": {},
   "source": [
    "## Stacked convergence maps"
   ]
  },
  {
   "cell_type": "code",
   "execution_count": null,
   "id": "efb63a8f",
   "metadata": {},
   "outputs": [],
   "source": [
    "if len(clusters['ra']) > 1:\n",
    "\n",
    "    # Comoving separation around cluster centers, at cluster redshift, in [Mpc]\n",
    "    radius = 5\n",
    "\n",
    "    res_stack_mm = {}\n",
    "\n",
    "    # Stack galaxies\n",
    "    for sh in shapes:\n",
    "        res_stack_mm[sh] = stack_mm3(\n",
    "            ra_wrap[sh],\n",
    "            dec[sh],\n",
    "            g_corr_mc[sh][0],\n",
    "            g_corr_mc[sh][1],\n",
    "            w[sh],\n",
    "            clusters['ra_wrap'],\n",
    "            clusters['dec'],\n",
    "            clusters['z'],\n",
    "            radius=radius,\n",
    "            n_match=1000000\n",
    "        )"
   ]
  },
  {
   "cell_type": "code",
   "execution_count": null,
   "id": "2fdfa83c",
   "metadata": {},
   "outputs": [],
   "source": [
    "# Plot stacked galaxy density, to check how uniform distribution is. Sometimes at the edges the number\n",
    "# of galaxies drops visibly\n",
    "\n",
    "if len(clusters['ra']) > 1:\n",
    "\n",
    "    for sh in shapes:\n",
    "        plt.figure(figsize=(10, 10))\n",
    "        plt.hexbin(\n",
    "            res_stack_mm[sh][0],\n",
    "            res_stack_mm[sh][1],\n",
    "            gridsize=100,\n",
    "            cmap='gist_stern'\n",
    "        )\n",
    "        cbar = plt.colorbar()\n",
    "        cbar.set_label('Number count', rotation=270)\n",
    "        plt.title(f'{sh} stacked galaxy density plot')"
   ]
  },
  {
   "cell_type": "code",
   "execution_count": null,
   "id": "750c713b",
   "metadata": {},
   "outputs": [],
   "source": [
    "# Bin stacked ellipticities\n",
    "\n",
    "if len(clusters['ra']) > 1:\n",
    "\n",
    "    e1map_stack = {}\n",
    "    e2map_stack = {}\n",
    "    npix = 2048\n",
    "\n",
    "    for sh in shapes:\n",
    "        e1map_stack[sh], e2map_stack[sh] = bin2d(\n",
    "            res_stack_mm[sh][0],\n",
    "            res_stack_mm[sh][1],\n",
    "            v=(res_stack_mm[sh][2], -res_stack_mm[sh][3]),\n",
    "            w=res_stack_mm[sh][4], \n",
    "            npix=npix\n",
    "    )"
   ]
  },
  {
   "cell_type": "code",
   "execution_count": null,
   "id": "95a2e4af",
   "metadata": {},
   "outputs": [],
   "source": [
    "if len(clusters['ra']) > 1:\n",
    "\n",
    "    kappaE_stack = {}\n",
    "    kappaB_stack = {}\n",
    "    kappaE_stack_sm = {}\n",
    "    kappaB_stack_sm = {}\n",
    " \n",
    "    for sh in shapes:\n",
    "        # transform to gamma -> kappa via the aisers & Squires (1993) algorithm\n",
    "        kappaE_stack[sh], kappaB_stack[sh] = ks93(e1map_stack[sh], e2map_stack[sh])\n",
    "    \n",
    "        # Smooth\n",
    "        kappaE_stack_sm[sh] = gaussian_filter(kappaE_stack[sh], smoothing_scale_pix)\n",
    "        kappaB_stack_sm[sh] = gaussian_filter(kappaB_stack[sh], smoothing_scale_pix)"
   ]
  },
  {
   "cell_type": "code",
   "execution_count": null,
   "id": "3644db14",
   "metadata": {},
   "outputs": [],
   "source": [
    "if len(clusters['ra']) > 1:\n",
    "\n",
    "    for sh in shapes:\n",
    "        title = f'{sh} kappa_E'\n",
    "        output_path = f'{plot_dir}/kappaE_stacked_{sh}.png'\n",
    "\n",
    "        vlim[sh] = plot_map_stacked(kappaE_stack_sm[sh], title, radius, output_path)"
   ]
  },
  {
   "cell_type": "code",
   "execution_count": null,
   "id": "a715ef9f",
   "metadata": {},
   "outputs": [],
   "source": [
    "if len(clusters['ra']) > 1:\n",
    "\n",
    "    for sh in shapes:\n",
    "        title = f'{sh} kappa_B'\n",
    "        output_path = f'{plot_dir}/kappaB_stacked_{sh}.png'\n",
    "\n",
    "        plot_map_stacked(kappaB_stack_sm[sh], title, radius, output_path, vlim=vlim[sh])"
   ]
  },
  {
   "cell_type": "code",
   "execution_count": null,
   "id": "2813a481",
   "metadata": {},
   "outputs": [],
   "source": []
  }
 ],
 "metadata": {
  "kernelspec": {
   "display_name": "Python 3 (ipykernel)",
   "language": "python",
   "name": "python3"
  },
  "language_info": {
   "codemirror_mode": {
    "name": "ipython",
    "version": 3
   },
   "file_extension": ".py",
   "mimetype": "text/x-python",
   "name": "python",
   "nbconvert_exporter": "python",
   "pygments_lexer": "ipython3",
   "version": "3.11.9"
  }
 },
 "nbformat": 4,
 "nbformat_minor": 5
}
