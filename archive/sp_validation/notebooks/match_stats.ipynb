{
 "cells": [
  {
   "cell_type": "markdown",
   "id": "398e73f0",
   "metadata": {},
   "source": [
    "# Weak-lensing galaxy shape and multi-band catalogue validation\n",
    "\n",
    "## Matching statistics"
   ]
  },
  {
   "cell_type": "markdown",
   "id": "b32f5ddf",
   "metadata": {},
   "source": [
    "> **_NOTE:_** Before running this notebook, set kernel to `main_set.ipynb'"
   ]
  },
  {
   "cell_type": "code",
   "execution_count": 2,
   "id": "1c8ba6bc",
   "metadata": {},
   "outputs": [],
   "source": [
    "import os\n",
    "\n",
    "import astropy.coordinates as coords\n",
    "\n",
    "from uncertainties import ufloat\n",
    "import pandas as pd\n",
    "\n",
    "from fast_histogram import histogram2d\n",
    "import colorcet as cc\n",
    "import matplotlib.colors as colors\n",
    "\n",
    "from cs_util.plots import plot_histograms\n",
    "\n",
    "from sp_validation.plots import *"
   ]
  },
  {
   "cell_type": "markdown",
   "id": "30e6e304",
   "metadata": {},
   "source": [
    "## Number of matches"
   ]
  },
  {
   "cell_type": "code",
   "execution_count": null,
   "id": "8bac458e",
   "metadata": {},
   "outputs": [],
   "source": [
    "fname = 'matched_total.txt'\n",
    "if os.path.exists(fname):\n",
    "    dat = np.loadtxt(fname)\n",
    "\n",
    "    ratio = dat[:,0] / dat[:,1]\n",
    "    \n",
    "    xs = [ratio]\n",
    "    labels = ['all']\n",
    "    title = 'Matched objects ShapePipe - Gwyn'\n",
    "    x_label = 'fraction of matches per tile'\n",
    "    y_label = 'frequency'\n",
    "    x_range = (0, 1)\n",
    "    n_bin = 100\n",
    "    out_path = f'{plot_dir}/hist_matched_tile_fraction.pdf'\n",
    "\n",
    "    plot_histograms(\n",
    "        xs,\n",
    "        labels,\n",
    "        title,\n",
    "        x_label,\n",
    "        y_label,\n",
    "        x_range,\n",
    "        n_bin,\n",
    "        out_path,\n",
    "        density=False,\n",
    "    )\n",
    "    \n",
    "    xs = [dat[:,0], dat[:,1]]\n",
    "    labels = ['matches', 'all SP detections']\n",
    "    title = 'Matched objects ShapePipe - Gwyn'\n",
    "    x_label = 'objects per tile'\n",
    "    y_label = 'frequency'\n",
    "    x_range = (0, 50000)\n",
    "    n_bin = 100\n",
    "    out_path = f'{plot_dir}/hist_matched_tile_numbers.pdf'\n",
    "\n",
    "    plot_histograms(\n",
    "        xs,\n",
    "        labels,\n",
    "        title,\n",
    "        x_label,\n",
    "        y_label,\n",
    "        x_range,\n",
    "        n_bin,\n",
    "        out_path,\n",
    "        weights=None,\n",
    "        colors=None,\n",
    "        linestyles=None,\n",
    "        density=False,\n",
    "    )"
   ]
  },
  {
   "cell_type": "markdown",
   "id": "736ec509",
   "metadata": {},
   "source": [
    "## Compute distances between matched objects"
   ]
  },
  {
   "cell_type": "markdown",
   "id": "92c03112",
   "metadata": {},
   "source": [
    "### All objects"
   ]
  },
  {
   "cell_type": "code",
   "execution_count": null,
   "id": "437da0f0",
   "metadata": {},
   "outputs": [],
   "source": [
    "ra_sp = coords.Angle(dd['XWIN_WORLD'], unit='deg')\n",
    "dec_sp = coords.Angle(dd['YWIN_WORLD'], unit='deg')\n",
    "ra_ext = coords.Angle(dd['RA'], unit='deg')\n",
    "dec_ext = coords.Angle(dd['Dec'], unit='deg')"
   ]
  },
  {
   "cell_type": "code",
   "execution_count": null,
   "id": "04c767c6",
   "metadata": {},
   "outputs": [],
   "source": [
    "# Haversine distance, better than standard formula for small distances,\n",
    "# avoiding cosine calls\n",
    "# https://en.wikipedia.org/wiki/Great-circle_distance\n",
    "delta_ra_half = (ra_sp - ra_ext) / 2\n",
    "delta_dec_half = (dec_sp - dec_ext) / 2\n",
    "sum_dec_half = (dec_sp + dec_ext) / 2\n",
    "tmp = np.sin(delta_dec_half)**2 + ( 1 - np.sin(delta_dec_half)**2  - np.sin(sum_dec_half)**2 ) * np.sin(delta_ra_half)**2\n",
    "dist_hav = 2 * np.arcsin( np.sqrt(tmp) ).to('arcsec').value"
   ]
  },
  {
   "cell_type": "markdown",
   "id": "d4103412",
   "metadata": {},
   "source": [
    "### Galaxies"
   ]
  },
  {
   "cell_type": "code",
   "execution_count": null,
   "id": "48be33bf",
   "metadata": {},
   "outputs": [],
   "source": [
    "# Mask for valid magnitude\n",
    "mval = (np.abs(dd['MAG_AUTO']) < 99)\n",
    "\n",
    "# Combine ngmix galaxy mask with valid magnitudes\n",
    "mask_match = m_gal['ngmix'] & mval"
   ]
  },
  {
   "cell_type": "code",
   "execution_count": null,
   "id": "790c5564",
   "metadata": {},
   "outputs": [],
   "source": [
    "ra_sp_gal = coords.Angle(dd['XWIN_WORLD'][mask_match], unit='deg')\n",
    "dec_sp_gal = coords.Angle(dd['YWIN_WORLD'][mask_match], unit='deg')\n",
    "ra_ext_gal = coords.Angle(dd['RA'][mask_match], unit='deg')\n",
    "dec_ext_gal = coords.Angle(dd['Dec'][mask_match], unit='deg')"
   ]
  },
  {
   "cell_type": "code",
   "execution_count": null,
   "id": "5b40baeb",
   "metadata": {},
   "outputs": [],
   "source": [
    "delta_ra_half_gal = (ra_sp_gal - ra_ext_gal) / 2\n",
    "delta_dec_half_gal = (dec_sp_gal - dec_ext_gal) / 2\n",
    "sum_dec_half_gal = (dec_sp_gal + dec_ext_gal) / 2\n",
    "tmp = np.sin(delta_dec_half_gal)**2 + ( 1 - np.sin(delta_dec_half_gal)**2  - np.sin(sum_dec_half_gal)**2 ) * np.sin(delta_ra_half_gal)**2\n",
    "dist_hav_gal = 2 * np.arcsin( np.sqrt(tmp) ).to('arcsec').value"
   ]
  },
  {
   "cell_type": "markdown",
   "id": "9aca6709",
   "metadata": {},
   "source": [
    "### Plots"
   ]
  },
  {
   "cell_type": "code",
   "execution_count": null,
   "id": "df54b23e",
   "metadata": {},
   "outputs": [],
   "source": [
    "# Plot histogram of distances\n",
    "xs = [dist_hav, dist_hav_gal]\n",
    "labels = ['all', 'SP gal + $|r|$ < 99']\n",
    "title = 'Matched objects ShapePipe - Gwyn'\n",
    "x_label = 'distance [arcsec]'\n",
    "y_label = 'frequency'\n",
    "x_range = (0, 0.32)\n",
    "n_bin = 400\n",
    "out_path = f'{plot_dir}/hist_matched_dist.pdf'\n",
    "\n",
    "plot_histograms(\n",
    "    xs,\n",
    "    labels,\n",
    "    title,\n",
    "    x_label,\n",
    "    y_label,\n",
    "    x_range,\n",
    "    n_bin,\n",
    "    out_path,\n",
    "    weights=None,\n",
    "    colors=None,\n",
    "    linestyles=None,\n",
    "    vline_x=None,\n",
    "    vline_lab=None,\n",
    "    density=False,\n",
    ")"
   ]
  },
  {
   "cell_type": "code",
   "execution_count": null,
   "id": "0a3ffe7e",
   "metadata": {},
   "outputs": [],
   "source": [
    "xs = [dist_hav, dist_hav_gal]\n",
    "labels = ['all', 'SP galaxies']\n",
    "title = 'Matched objects ShapePipe - Gwyn'\n",
    "x_label = 'distance [arcsec]'\n",
    "y_label = 'frequency'\n",
    "x_range = (0.3, 1)\n",
    "n_bin = 400\n",
    "out_path = f'{plot_dir}/hist_matched_dist_large.pdf'\n",
    "\n",
    "plot_histograms(\n",
    "    xs,\n",
    "    labels,\n",
    "    title,\n",
    "    x_label,\n",
    "    y_label,\n",
    "    x_range,\n",
    "    n_bin,\n",
    "    out_path,\n",
    "    weights=None,\n",
    "    colors=None,\n",
    "    linestyles=None,\n",
    "    vline_x=None,\n",
    "    vline_lab=None,\n",
    "    density=False,\n",
    ")"
   ]
  }
 ],
 "metadata": {
  "kernelspec": {
   "display_name": "Python 3 (ipykernel)",
   "language": "python",
   "name": "python3"
  },
  "language_info": {
   "codemirror_mode": {
    "name": "ipython",
    "version": 3
   },
   "file_extension": ".py",
   "mimetype": "text/x-python",
   "name": "python",
   "nbconvert_exporter": "python",
   "pygments_lexer": "ipython3",
   "version": "3.8.0"
  }
 },
 "nbformat": 4,
 "nbformat_minor": 5
}
