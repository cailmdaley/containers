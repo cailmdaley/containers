{
 "cells": [
  {
   "cell_type": "markdown",
   "id": "7765a266",
   "metadata": {},
   "source": [
    "# Weak-lensing galaxy shape catalogue validation 1\n",
    "\n",
    "## PSF leakage\n",
    "\n",
    "Contents\n",
    "- Linear fit PSF leakage\n",
    "- Scale-dependent PSF leakage alpha\n",
    "- Cross-correlation function xi_sys"
   ]
  },
  {
   "cell_type": "markdown",
   "id": "a53e53fd",
   "metadata": {},
   "source": [
    "> **_NOTE:_** Before running this notebook, set kernel to `main_set.ipynb'"
   ]
  },
  {
   "cell_type": "code",
   "execution_count": 120,
   "id": "35bc23a5",
   "metadata": {
    "execution": {
     "iopub.execute_input": "2025-01-27T14:55:22.304812Z",
     "iopub.status.busy": "2025-01-27T14:55:22.304500Z",
     "iopub.status.idle": "2025-01-27T14:55:23.135275Z",
     "shell.execute_reply": "2025-01-27T14:55:23.134437Z",
     "shell.execute_reply.started": "2025-01-27T14:55:22.304770Z"
    }
   },
   "outputs": [],
   "source": [
    "import os\n",
    "from uncertainties import ufloat"
   ]
  },
  {
   "cell_type": "code",
   "execution_count": 121,
   "id": "bdeed0dc-7871-4833-b735-3d21f0e39b2e",
   "metadata": {
    "execution": {
     "iopub.execute_input": "2025-01-27T14:55:27.071494Z",
     "iopub.status.busy": "2025-01-27T14:55:27.071149Z",
     "iopub.status.idle": "2025-01-27T14:55:27.688748Z",
     "shell.execute_reply": "2025-01-27T14:55:27.687905Z",
     "shell.execute_reply.started": "2025-01-27T14:55:27.071449Z"
    }
   },
   "outputs": [],
   "source": [
    "from cs_util.plots import plot_data_1d"
   ]
  },
  {
   "cell_type": "code",
   "execution_count": 122,
   "id": "13ceb1df",
   "metadata": {
    "execution": {
     "iopub.execute_input": "2025-01-27T14:55:27.690842Z",
     "iopub.status.busy": "2025-01-27T14:55:27.690528Z",
     "iopub.status.idle": "2025-01-27T14:55:31.964607Z",
     "shell.execute_reply": "2025-01-27T14:55:31.963715Z",
     "shell.execute_reply.started": "2025-01-27T14:55:27.690796Z"
    }
   },
   "outputs": [],
   "source": [
    "from cs_util import canfar\n",
    "from cs_util import calc\n",
    "\n",
    "from sp_validation.survey import *\n",
    "from sp_validation.util import *\n",
    "from sp_validation.basic import *\n",
    "from sp_validation.plots import *\n",
    "from sp_validation.galaxy import *\n",
    "from sp_validation.cat import *\n",
    "from sp_validation.cosmology import *\n",
    "\n",
    "from shear_psf_leakage import leakage\n",
    "from shear_psf_leakage import correlation"
   ]
  },
  {
   "cell_type": "markdown",
   "id": "37771707",
   "metadata": {},
   "source": [
    "### Linear fit\n",
    "Fit galaxy ellipticity as function of (binned) PSF ellipticity."
   ]
  },
  {
   "cell_type": "code",
   "execution_count": 123,
   "id": "462a654d",
   "metadata": {
    "execution": {
     "iopub.execute_input": "2025-01-27T14:55:38.612918Z",
     "iopub.status.busy": "2025-01-27T14:55:38.612287Z",
     "iopub.status.idle": "2025-01-27T14:55:39.409596Z",
     "shell.execute_reply": "2025-01-27T14:55:39.406848Z",
     "shell.execute_reply.started": "2025-01-27T14:55:38.612872Z"
    }
   },
   "outputs": [],
   "source": [
    "n_bin = 30\n",
    "\n",
    "colors = ['b', 'r']\n",
    "ylabel = r'$e_{1,2}^{\\rm gal}$'\n",
    "mlabel = ['m_1', 'm_2']\n",
    "\n",
    "xlabel_arr = [\n",
    "    r'$e_{1}^{\\rm PSF}$',\n",
    "    r'$e_{2}^{\\rm PSF}$',\n",
    "    r'$\\mathrm{FWHM}^{\\rm PSF}$ [arcsec]'\n",
    "]"
   ]
  },
  {
   "cell_type": "code",
   "execution_count": 124,
   "id": "c9ae1e58",
   "metadata": {
    "execution": {
     "iopub.execute_input": "2025-01-27T14:55:39.411097Z",
     "iopub.status.busy": "2025-01-27T14:55:39.410782Z",
     "iopub.status.idle": "2025-01-27T14:55:43.627796Z",
     "shell.execute_reply": "2025-01-27T14:55:43.626744Z",
     "shell.execute_reply.started": "2025-01-27T14:55:39.411052Z"
    }
   },
   "outputs": [
    {
     "name": "stdout",
     "output_type": "stream",
     "text": [
      "ngmix:\n",
      "$e_{1}^{\\rm PSF}$: m_1=0.167±0.075\n",
      "$e_{1}^{\\rm PSF}$: m_2=0.043±0.076\n",
      "$e_{2}^{\\rm PSF}$: m_1=-0.044±0.090\n",
      "$e_{2}^{\\rm PSF}$: m_2=-0.069±0.091\n",
      "$\\mathrm{FWHM}^{\\rm PSF}$ [arcsec]: m_1=-0.005±0.023\n",
      "$\\mathrm{FWHM}^{\\rm PSF}$ [arcsec]: m_2=-0.004±0.024\n"
     ]
    }
   ],
   "source": [
    "for sh in shapes:\n",
    "    plot_dir_leakage = f'{plot_dir}/psf_leak_{sh}'\n",
    "    print_stats(f'{sh}:', stats_file, verbose=verbose)\n",
    "    \n",
    "    e1 = g_uncorr[sh][0]\n",
    "    e2 = g_uncorr[sh][1]\n",
    "    e = [e1, e2]\n",
    "    weights = w[sh]\n",
    "\n",
    "    x_arr = [\n",
    "        dd[key_PSF_ell[sh]][:,0][m_gal[sh]][mask[sh]],\n",
    "        dd[key_PSF_ell[sh]][:,1][m_gal[sh]][mask[sh]],\n",
    "        size_to_fwhm[sh](dd[key_PSF_size[sh]][m_gal[sh]][mask[sh]])\n",
    "    ]\n",
    "    out_name_arr = [\n",
    "        'PSF_e1_vs_e_gal',\n",
    "        'PSF_e2_vs_e_gal',\n",
    "        'PSF_size_vs_e_gal'\n",
    "    ]\n",
    "    out_path_arr = [f'{plot_dir_leakage}/{name}' for name in out_name_arr]\n",
    "    leakage.affine_corr_n(\n",
    "        x_arr,\n",
    "        e,\n",
    "        xlabel_arr,\n",
    "        ylabel,\n",
    "        mlabel=mlabel,\n",
    "        title=sh,\n",
    "        weights=weights,\n",
    "        n_bin=n_bin,\n",
    "        out_path_arr=out_path_arr,\n",
    "        colors=colors,\n",
    "        stats_file=stats_file,\n",
    "        verbose=True\n",
    "    )"
   ]
  },
  {
   "cell_type": "markdown",
   "id": "321b0d02",
   "metadata": {},
   "source": [
    "### Scale-dependent leakage\n",
    "Compute scale-dependent leakage $\\alpha(\\theta)$ from cross-correlations betwen galaxy and PSF ellipticities,\n",
    "$$\n",
    "    \\alpha(\\theta) = \\frac{\\xi_{+}^{\\rm gp}(\\theta) - \\langle e_{\\rm gal} \\rangle^{*} \\langle e_{\\rm PSF} \\rangle}{\\xi_{+}^{\\rm pp}(\\theta) - |\\langle e_{\\rm PSF} \\rangle|^{2}}\n",
    "$$\n",
    "With g = galaxy and p = PSF."
   ]
  },
  {
   "cell_type": "code",
   "execution_count": 125,
   "id": "f76b7339",
   "metadata": {
    "execution": {
     "iopub.execute_input": "2025-01-27T14:55:43.629276Z",
     "iopub.status.busy": "2025-01-27T14:55:43.628932Z",
     "iopub.status.idle": "2025-01-27T14:55:54.035086Z",
     "shell.execute_reply": "2025-01-27T14:55:53.942080Z",
     "shell.execute_reply.started": "2025-01-27T14:55:43.629221Z"
    }
   },
   "outputs": [],
   "source": [
    "r_corr_gp = {}\n",
    "r_corr_pp = {}\n",
    "alpha_leak = {}\n",
    "sig_alpha_leak = {}\n",
    "\n",
    "# Scale-dependent leakage using PSF information in galaxy catalogue\n",
    "# matched to star catalogue\n",
    "for sh in shapes:\n",
    "\n",
    "    e1_gal = g_corr_mc[sh][0]\n",
    "    e2_gal = g_corr_mc[sh][1]\n",
    "    weights = w[sh]\n",
    "    e1_star = g_star_psf[sh][0]\n",
    "    e2_star = g_star_psf[sh][1]\n",
    "\n",
    "    # Correlation functions\n",
    "    r_corr_gp[sh], r_corr_pp[sh] = correlation.correlation_ab_bb(\n",
    "        ra[sh],\n",
    "        dec[sh],\n",
    "        e1_gal,\n",
    "        e2_gal, \n",
    "        weights,\n",
    "        ra_star[sh],\n",
    "        dec_star[sh],\n",
    "        e1_star,\n",
    "        e2_star,\n",
    "        theta_min_amin=theta_min_amin,\n",
    "        theta_max_amin=theta_max_amin,\n",
    "        n_theta=n_theta\n",
    "    )\n",
    "\n",
    "    # Leakage\n",
    "    alpha_leak[sh], sig_alpha_leak[sh] = correlation.alpha(\n",
    "        r_corr_gp[sh],\n",
    "        r_corr_pp[sh],\n",
    "        e1_gal,\n",
    "        e2_gal,\n",
    "        weights,\n",
    "        e1_star,\n",
    "        e2_star\n",
    "    )"
   ]
  },
  {
   "cell_type": "code",
   "execution_count": 126,
   "id": "687ae9da",
   "metadata": {
    "execution": {
     "iopub.execute_input": "2025-01-27T14:55:54.036946Z",
     "iopub.status.busy": "2025-01-27T14:55:54.036591Z",
     "iopub.status.idle": "2025-01-27T14:55:54.887867Z",
     "shell.execute_reply": "2025-01-27T14:55:54.886881Z",
     "shell.execute_reply.started": "2025-01-27T14:55:54.036901Z"
    }
   },
   "outputs": [
    {
     "name": "stdout",
     "output_type": "stream",
     "text": [
      "ngmix: Weighted average alpha = 0.0609\n"
     ]
    }
   ],
   "source": [
    "alpha_leak_mean = {}\n",
    "\n",
    "for sh in shapes:\n",
    "    alpha_leak_mean[sh] = calc.transform_nan(\n",
    "        np.average(alpha_leak[sh],\n",
    "                   weights=1/sig_alpha_leak[sh]**2)\n",
    "    )\n",
    "    print_stats(\n",
    "        f'{sh}: Weighted average alpha = {alpha_leak_mean[sh]:.3g}',\n",
    "        stats_file,\n",
    "        verbose=verbose\n",
    "    )"
   ]
  },
  {
   "cell_type": "code",
   "execution_count": 127,
   "id": "f5c64dce",
   "metadata": {
    "execution": {
     "iopub.execute_input": "2025-01-27T14:55:54.889559Z",
     "iopub.status.busy": "2025-01-27T14:55:54.889195Z",
     "iopub.status.idle": "2025-01-27T14:55:56.096225Z",
     "shell.execute_reply": "2025-01-27T14:55:56.095378Z",
     "shell.execute_reply.started": "2025-01-27T14:55:54.889511Z"
    }
   },
   "outputs": [],
   "source": [
    "for sh in shapes:\n",
    "    plot_dir_leakage = f'{plot_dir}/psf_leak_{sh}'\n",
    "\n",
    "    theta = [r_corr_gp[sh].meanr]\n",
    "    alpha_theta = [alpha_leak[sh]]\n",
    "    yerr = [sig_alpha_leak[sh]]\n",
    "    xlabel = r'$\\theta$ [arcmin]'\n",
    "    ylabel = r'$\\alpha(\\theta)$'\n",
    "    title = sh\n",
    "    out_path = f'{plot_dir_leakage}/alpha_leakage_{sh}.png'\n",
    "    try:\n",
    "        ylim  = leakage_alpha_ylim\n",
    "    except:\n",
    "        ylim = None\n",
    "\n",
    "    plot_data_1d(\n",
    "        theta,\n",
    "        alpha_theta,\n",
    "        yerr,\n",
    "        title,\n",
    "        xlabel,\n",
    "        ylabel,\n",
    "        out_path,\n",
    "        xlog=True,\n",
    "        xlim=[theta_min_amin, theta_max_amin],\n",
    "        ylim=ylim\n",
    "    )"
   ]
  },
  {
   "cell_type": "code",
   "execution_count": 128,
   "id": "27331f73",
   "metadata": {
    "execution": {
     "iopub.execute_input": "2025-01-27T14:55:56.097537Z",
     "iopub.status.busy": "2025-01-27T14:55:56.097192Z",
     "iopub.status.idle": "2025-01-27T14:56:10.045244Z",
     "shell.execute_reply": "2025-01-27T14:56:10.044188Z",
     "shell.execute_reply.started": "2025-01-27T14:55:56.097492Z"
    }
   },
   "outputs": [],
   "source": [
    "# Scale-dependent leakage using the star catalogue\n",
    "if star_cat_path:\n",
    "    \n",
    "    e1_star = d_star['E1_PSF_HSM']\n",
    "    e2_star = d_star['E2_PSF_HSM']\n",
    "        \n",
    "    r_corr_gp = {}\n",
    "    r_corr_pp = {}\n",
    "    alpha_leak = {}\n",
    "    sig_alpha_leak = {}\n",
    "\n",
    "    for sh in shapes:\n",
    "\n",
    "        e1_gal = g_corr_mc[sh][0]\n",
    "        e2_gal = g_corr_mc[sh][1]\n",
    "        weights = w[sh]\n",
    "\n",
    "        # Correlation functions\n",
    "        r_corr_gp[sh], r_corr_pp[sh] = correlation.correlation_ab_bb(\n",
    "            ra[sh],\n",
    "            dec[sh],\n",
    "            e1_gal,\n",
    "            e2_gal, \n",
    "            weights,\n",
    "            d_star['RA'],\n",
    "            d_star['DEC'],\n",
    "            e1_star,\n",
    "            e2_star,\n",
    "            theta_min_amin=theta_min_amin,\n",
    "            theta_max_amin=theta_max_amin,\n",
    "            n_theta=n_theta\n",
    "        )\n",
    "\n",
    "        # Leakage\n",
    "        alpha_leak[sh], sig_alpha_leak[sh] = correlation.alpha(\n",
    "            r_corr_gp[sh],\n",
    "            r_corr_pp[sh],\n",
    "            e1_gal,\n",
    "            e2_gal,\n",
    "            weights,\n",
    "            e1_star,\n",
    "            e2_star\n",
    "        )"
   ]
  },
  {
   "cell_type": "code",
   "execution_count": 129,
   "id": "0c148a08",
   "metadata": {
    "execution": {
     "iopub.execute_input": "2025-01-27T14:56:10.135611Z",
     "iopub.status.busy": "2025-01-27T14:56:10.046380Z",
     "iopub.status.idle": "2025-01-27T14:56:11.053643Z",
     "shell.execute_reply": "2025-01-27T14:56:11.052385Z",
     "shell.execute_reply.started": "2025-01-27T14:56:10.135549Z"
    }
   },
   "outputs": [
    {
     "name": "stdout",
     "output_type": "stream",
     "text": [
      "ngmix: Weighted average alpha using star cat = -0.00735\n"
     ]
    }
   ],
   "source": [
    "if star_cat_path:\n",
    "    alpha_leak_mean = {}\n",
    "\n",
    "    for sh in shapes:\n",
    "        alpha_leak_mean[sh] = calc.transform_nan(\n",
    "            np.average(alpha_leak[sh],\n",
    "                       weights=1/sig_alpha_leak[sh]**2)\n",
    "        )\n",
    "        print_stats(\n",
    "            f'{sh}: Weighted average alpha using star cat = {alpha_leak_mean[sh]:.3g}',\n",
    "            stats_file,\n",
    "            verbose=verbose\n",
    "        )"
   ]
  },
  {
   "cell_type": "code",
   "execution_count": 130,
   "id": "a28b5f26",
   "metadata": {
    "execution": {
     "iopub.execute_input": "2025-01-27T14:56:11.055388Z",
     "iopub.status.busy": "2025-01-27T14:56:11.055016Z",
     "iopub.status.idle": "2025-01-27T14:56:12.382111Z",
     "shell.execute_reply": "2025-01-27T14:56:12.380999Z",
     "shell.execute_reply.started": "2025-01-27T14:56:11.055340Z"
    }
   },
   "outputs": [],
   "source": [
    "if star_cat_path:\n",
    "    for sh in shapes:\n",
    "        plot_dir_leakage = f'{plot_dir}/psf_leak_{sh}'\n",
    "\n",
    "        theta = [r_corr_gp[sh].meanr]\n",
    "        alpha_theta = [alpha_leak[sh]]\n",
    "        yerr = [sig_alpha_leak[sh]]\n",
    "        xlabel = r'$\\theta$ [arcmin]'\n",
    "        ylabel = r'$\\alpha(\\theta)$'\n",
    "        title = sh\n",
    "        out_path = f'{plot_dir_leakage}/alpha_leakage_{sh}_star_cat.png'\n",
    "        try:\n",
    "            ylim  = leakage_alpha_ylim\n",
    "        except:\n",
    "            ylim = None\n",
    "\n",
    "        plot_data_1d(\n",
    "            theta,\n",
    "            alpha_theta,\n",
    "            yerr,\n",
    "            title,\n",
    "            xlabel,\n",
    "            ylabel,\n",
    "            out_path,\n",
    "            xlog=True,\n",
    "            xlim=[theta_min_amin, theta_max_amin],\n",
    "            ylim=ylim\n",
    "        )"
   ]
  },
  {
   "cell_type": "markdown",
   "id": "4a6fc22a",
   "metadata": {},
   "source": [
    "### Cross-correlation PSF leakage\n",
    "Compute $\\xi^{\\rm sys}$, the normalised cross-correlation function of galaxy and star ellipticities:\n",
    "$$\n",
    "\\xi^{\\rm sys}_\\pm(\\theta) = \\frac{\\left( \\xi_{\\pm}^{\\rm gp}(\\theta) \\right)^2}{\\xi_{\\pm}^{\\rm pp}(\\theta)}\n",
    "$$   \n",
    "With $g$: galaxy and $p$: PSF."
   ]
  },
  {
   "cell_type": "code",
   "execution_count": 131,
   "id": "d68f5607",
   "metadata": {
    "execution": {
     "iopub.execute_input": "2025-01-27T14:56:12.383666Z",
     "iopub.status.busy": "2025-01-27T14:56:12.383280Z",
     "iopub.status.idle": "2025-01-27T14:56:13.174662Z",
     "shell.execute_reply": "2025-01-27T14:56:13.173316Z",
     "shell.execute_reply.started": "2025-01-27T14:56:12.383618Z"
    }
   },
   "outputs": [],
   "source": [
    "C_sys_p = {}\n",
    "C_sys_m = {}\n",
    "C_sys_std_p = {}\n",
    "C_sys_std_m = {}\n",
    "\n",
    "for sh in shapes:\n",
    "    C_sys_p[sh] = r_corr_gp[sh].xip**2 / r_corr_pp[sh].xip\n",
    "    C_sys_m[sh] = r_corr_gp[sh].xim**2 / r_corr_pp[sh].xim\n",
    "\n",
    "    C_sys_std_p[sh] = (\n",
    "        np.abs(C_sys_p[sh])\n",
    "        * np.sqrt(\n",
    "            (((2*r_corr_gp[sh].xip**2 * np.sqrt(r_corr_gp[sh].varxip)) \\\n",
    "              / r_corr_gp[sh].xip)/r_corr_gp[sh].xip**2)**2\n",
    "            + (np.sqrt(r_corr_pp[sh].varxip)/r_corr_pp[sh].xip)**2\n",
    "        )\n",
    "    )\n",
    "    \n",
    "    C_sys_std_m[sh] = (\n",
    "        np.abs(C_sys_m[sh])\n",
    "        * np.sqrt(\n",
    "            (((2*r_corr_gp[sh].xim**2 * np.sqrt(r_corr_gp[sh].varxim)) \\\n",
    "              / r_corr_gp[sh].xim)/r_corr_gp[sh].xim**2)**2\n",
    "            + (np.sqrt(r_corr_pp[sh].varxim)/r_corr_pp[sh].xim)**2\n",
    "        )\n",
    "    )"
   ]
  },
  {
   "cell_type": "markdown",
   "id": "c9996460",
   "metadata": {},
   "source": [
    "#### Theoretical prediction"
   ]
  },
  {
   "cell_type": "code",
   "execution_count": 132,
   "id": "f2f14815",
   "metadata": {
    "execution": {
     "iopub.execute_input": "2025-01-27T14:56:16.861989Z",
     "iopub.status.busy": "2025-01-27T14:56:16.861653Z",
     "iopub.status.idle": "2025-01-27T14:56:18.987376Z",
     "shell.execute_reply": "2025-01-27T14:56:18.986396Z",
     "shell.execute_reply.started": "2025-01-27T14:56:16.861944Z"
    }
   },
   "outputs": [
    {
     "name": "stdout",
     "output_type": "stream",
     "text": [
      "Downloading file vos:cfis/cosmostat/cosmology/redshifts/nz.CFHTLenSmatched.W3_202012_v1.txt to ./nz.CFHTLenSmatched.W3_202012_v1.txt...\n"
     ]
    },
    {
     "name": "stderr",
     "output_type": "stream",
     "text": [
      "WARNING: Current version vos 3.6.1.1. A newer version, 3.6.2, is available on PyPI\n"
     ]
    },
    {
     "name": "stdout",
     "output_type": "stream",
     "text": [
      "Download finished.\n"
     ]
    }
   ],
   "source": [
    "# Redshift distribution\n",
    "\n",
    "nz_base = 'nz.CFHTLenSmatched.W3'\n",
    "nz_ext = 'txt'\n",
    "nz_date = '202012'\n",
    "nz_version = 'v1'\n",
    "nz_name = '{}_{}_{}.{}'.format(nz_base, nz_date, nz_version, nz_ext)\n",
    "source = f'vos:cfis/cosmostat/cosmology/redshifts/{nz_name}'\n",
    "target = f'{data_dir}/{nz_name}'\n",
    "\n",
    "canfar.download(source, target, verbose=True)\n",
    "\n",
    "z, nz = np.loadtxt(target, unpack=True)"
   ]
  },
  {
   "cell_type": "code",
   "execution_count": 133,
   "id": "2aa72d9f",
   "metadata": {
    "execution": {
     "iopub.execute_input": "2025-01-27T14:56:21.682179Z",
     "iopub.status.busy": "2025-01-27T14:56:21.681869Z",
     "iopub.status.idle": "2025-01-27T14:56:22.482871Z",
     "shell.execute_reply": "2025-01-27T14:56:22.481614Z",
     "shell.execute_reply.started": "2025-01-27T14:56:21.682134Z"
    }
   },
   "outputs": [
    {
     "name": "stdout",
     "output_type": "stream",
     "text": [
      "Computation of theoretical prediction failed\n"
     ]
    }
   ],
   "source": [
    "for sh in shapes:\n",
    "    try:\n",
    "        xi_p_planck, xi_m_planck = get_theo_xi(\n",
    "            r_corr_gp[sh].meanr, \n",
    "            z,\n",
    "            nz,\n",
    "            Omega_m=Om,\n",
    "            h=h,\n",
    "            Omega_b=Ob, \n",
    "            sig8=sig8,\n",
    "            ns=ns\n",
    "        )\n",
    "    except:\n",
    "        print('Computation of theoretical prediction failed')"
   ]
  },
  {
   "cell_type": "code",
   "execution_count": 134,
   "id": "8312c4af",
   "metadata": {
    "execution": {
     "iopub.execute_input": "2025-01-27T14:56:25.350707Z",
     "iopub.status.busy": "2025-01-27T14:56:25.350084Z",
     "iopub.status.idle": "2025-01-27T14:56:28.252753Z",
     "shell.execute_reply": "2025-01-27T14:56:28.251828Z",
     "shell.execute_reply.started": "2025-01-27T14:56:25.350660Z"
    }
   },
   "outputs": [
    {
     "name": "stdout",
     "output_type": "stream",
     "text": [
      "ngmix: <|xi_sys_+|> = 3.913104457799062e-06\n",
      "ngmix: <|xi_sys_-|> = 0.00025281181828650277\n"
     ]
    }
   ],
   "source": [
    "labels = ['$\\\\xi^{\\\\rm sys}_+$', '$\\\\xi^{\\\\rm sys}_-$']\n",
    "\n",
    "title = 'Cross-correlation leakage'\n",
    "xlabel = '$\\\\theta$ [arcmin]'\n",
    "ylabel = 'Correlation function'\n",
    "\n",
    "for sh in shapes:\n",
    "    plot_dir_leakage = f'{plot_dir}/psf_leak_{sh}'\n",
    "\n",
    "    theta = [r_corr_gp[sh].meanr] * 2\n",
    "    xi = [C_sys_p[sh], C_sys_m[sh]]\n",
    "    yerr = [C_sys_std_p[sh], C_sys_std_m[sh]]\n",
    "    \n",
    "    comp_arr = [0, 1]\n",
    "    symb_arr = ['+', '-']\n",
    "    for comp, symb in zip(comp_arr, symb_arr):\n",
    "        mean = np.mean(np.abs(xi[comp]))\n",
    "        msg = f'{sh}: <|xi_sys_{symb}|> = {mean}'\n",
    "        print_stats(msg, stats_file, verbose=verbose)\n",
    "\n",
    "    try:\n",
    "        ylim = leakage_xi_sys_ylim\n",
    "    except:\n",
    "        ylim = None\n",
    "    out_path = f'{plot_dir}/xi_sys_{sh}.pdf'\n",
    "    \n",
    "    plot_data_1d(\n",
    "        theta,\n",
    "        xi,\n",
    "        yerr,\n",
    "        title,\n",
    "        xlabel,\n",
    "        ylabel,\n",
    "        out_path,\n",
    "        xlog=True,\n",
    "        ylim=ylim,\n",
    "        labels=labels\n",
    "    )\n",
    "\n",
    "    try:\n",
    "        ylim = leakage_xi_sys_log_ylim\n",
    "    except:\n",
    "        ylim = None\n",
    "    out_path = f'{plot_dir}/xi_sys_log_{sh}.pdf'\n",
    "    plot_data_1d(\n",
    "        theta,\n",
    "        xi,\n",
    "        yerr,\n",
    "        title,\n",
    "        xlabel,\n",
    "        ylabel,\n",
    "        out_path,\n",
    "        xlog=True, \n",
    "        ylog=True,\n",
    "        ylim=ylim,\n",
    "        labels=labels\n",
    "    )"
   ]
  },
  {
   "cell_type": "code",
   "execution_count": null,
   "id": "9cb124e0-2384-4476-b101-43051e51071a",
   "metadata": {},
   "outputs": [],
   "source": []
  },
  {
   "cell_type": "code",
   "execution_count": null,
   "id": "c64a0f7f-925b-4537-98af-f2d2643d4629",
   "metadata": {},
   "outputs": [],
   "source": []
  }
 ],
 "metadata": {
  "kernelspec": {
   "display_name": "sp_validation",
   "language": "python",
   "name": "sp_validation"
  },
  "language_info": {
   "codemirror_mode": {
    "name": "ipython",
    "version": 3
   },
   "file_extension": ".py",
   "mimetype": "text/x-python",
   "name": "python",
   "nbconvert_exporter": "python",
   "pygments_lexer": "ipython3",
   "version": "3.9.19"
  }
 },
 "nbformat": 4,
 "nbformat_minor": 5
}
