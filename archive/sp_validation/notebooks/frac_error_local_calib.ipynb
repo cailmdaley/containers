{
 "cells": [
  {
   "cell_type": "code",
   "execution_count": null,
   "id": "66b0c808",
   "metadata": {},
   "outputs": [],
   "source": [
    "import numpy as np\n",
    "from scipy import ndimage as ndi\n",
    "from scipy import signal\n",
    "from lenspack import peaks\n",
    "from lenspack.peaks import find_peaks2d\n",
    "from mpl_toolkits.axes_grid1 import make_axes_locatable\n",
    "import seaborn as sns\n",
    "import pandas as pd\n",
    "import sys\n",
    "import os"
   ]
  },
  {
   "cell_type": "code",
   "execution_count": null,
   "id": "336cb045",
   "metadata": {},
   "outputs": [],
   "source": [
    "sp_val = '{}/sp_validation/sp_validation'.format(os.environ['HOME'])\n",
    "\n",
    "for sc in ['survey', 'params', 'io','basic']:\n",
    "    script = os.path.join(sp_val, sc)\n",
    "    %run $script"
   ]
  },
  {
   "cell_type": "markdown",
   "id": "0e4054c2",
   "metadata": {},
   "source": [
    "# Define the data we need"
   ]
  },
  {
   "cell_type": "code",
   "execution_count": null,
   "id": "7f65ef0b",
   "metadata": {},
   "outputs": [],
   "source": [
    "# Load the R matrix obtain on the different size of calibration\n",
    "# R selection\n",
    "R_selec_1deg = np.load('./P3X/var_save/dm_0_013/R_selec_1deg.npy')\n",
    "R_selec_2deg = np.load('./P3X/var_save/dm_0_013/R_selec_2deg.npy')\n",
    "R_selec_4deg = np.load('./P3X/var_save/dm_0_013/R_selec_4deg.npy')\n",
    "R_selec_05deg = np.load('./P3X/var_save/dm_0_013/R_selec_05deg.npy')\n",
    "R_selec_025deg = np.load('./P3X/var_save/dm_0_013/R_selec_025deg.npy')\n",
    "\n",
    "# Rshear\n",
    "R_shear_1deg = np.load('./P3X/var_save/dm_0_013/R_shear_1deg.npy')\n",
    "R_shear_2deg = np.load('./P3X/var_save/dm_0_013/R_shear_2deg.npy')\n",
    "R_shear_4deg = np.load('./P3X/var_save/dm_0_013/R_shear_4deg.npy')\n",
    "R_shear_05deg = np.load('./P3X/var_save/dm_0_013/R_shear_05deg.npy')\n",
    "R_shear_025deg = np.load('./P3X/var_save/dm_0_013/R_shear_025deg.npy')"
   ]
  },
  {
   "cell_type": "code",
   "execution_count": null,
   "id": "5a04366f",
   "metadata": {},
   "outputs": [],
   "source": [
    "# Size in degree of the P3 catalogue\n",
    "size_deg_x = 36\n",
    "size_deg_y = 20"
   ]
  },
  {
   "cell_type": "code",
   "execution_count": null,
   "id": "6f2e7c98",
   "metadata": {},
   "outputs": [],
   "source": [
    "def compute_R_real_std(npix_x,npix_y,factor,R):\n",
    "    # Compute std of R with jackknife spatial\n",
    "    \n",
    "    R_real_std = np.zeros((2,2,npix_y,npix_x))\n",
    "\n",
    "    for i in range(npix_y):\n",
    "        for j in range(npix_x):\n",
    "            if (np.sum(R[0,0,factor*i:factor*(i+1),factor*j:factor*(j+1)])!=0):\n",
    "                R_real_std[0,0,i,j] = jackknif_weighted_average(np.ravel(R[0,0,factor*i:factor*(i+1),factor*j:factor*(j+1)]), np.ones_like(np.ravel(R[0,0,factor*i:factor*(i+1),factor*j:factor*(j+1)])))[1]\n",
    "            else:\n",
    "                R_real_std[0,0,i,j] = np.nan\n",
    "                \n",
    "            if (np.sum(R[1,1,factor*i:factor*(i+1),factor*j:factor*(j+1)])!=0):\n",
    "                R_real_std[1,1,i,j] = jackknif_weighted_average(np.ravel(R[1,1,factor*i:factor*(i+1),factor*j:factor*(j+1)]), np.ones_like(np.ravel(R[1,1,factor*i:factor*(i+1),factor*j:factor*(j+1)])))[1]\n",
    "            else:\n",
    "                R_real_std[1,1,i,j] = np.nan\n",
    "                \n",
    "            if (np.sum(R[0,1,factor*i:factor*(i+1),factor*j:factor*(j+1)])!=0):\n",
    "                R_real_std[0,1,i,j] = jackknif_weighted_average(np.ravel(R[0,1,factor*i:factor*(i+1),factor*j:factor*(j+1)]), np.ones_like(np.ravel(R[0,1,factor*i:factor*(i+1),factor*j:factor*(j+1)])))[1]\n",
    "            else:\n",
    "                R_real_std[0,1,i,j] = np.nan\n",
    "                \n",
    "            if (np.sum(R[1,0,factor*i:factor*(i+1),factor*j:factor*(j+1)])!=0):\n",
    "                R_real_std[1,0,i,j] = jackknif_weighted_average(np.ravel(R[1,0,factor*i:factor*(i+1),factor*j:factor*(j+1)]), np.ones_like(np.ravel(R[1,0,factor*i:factor*(i+1),factor*j:factor*(j+1)])))[1]\n",
    "            else:\n",
    "                R_real_std[1,0,i,j] = np.nan\n",
    "                \n",
    "    return R_real_std"
   ]
  },
  {
   "cell_type": "code",
   "execution_count": null,
   "id": "fd873e3c",
   "metadata": {},
   "outputs": [],
   "source": [
    "# Std of R shear from the map on 0.25 square degree\n",
    "R_shear_real_std_05deg = compute_R_real_std(size_deg_x*2,size_deg_y*2,2,R_shear_025deg)\n",
    "R_shear_real_std_1deg = compute_R_real_std(size_deg_x,size_deg_y,4,R_shear_025deg)\n",
    "R_shear_real_std_2deg = compute_R_real_std(int(size_deg_x/2),int(size_deg_y/2),8,R_shear_025deg)\n",
    "R_shear_real_std_4deg = compute_R_real_std(int(size_deg_x/4),int(size_deg_y/4),16,R_shear_025deg)"
   ]
  },
  {
   "cell_type": "code",
   "execution_count": null,
   "id": "4ae50028",
   "metadata": {},
   "outputs": [],
   "source": [
    "# Std of R shear from the map on 0.25 square degree\n",
    "R_selec_real_std_05deg = compute_R_real_std(size_deg_x*2,size_deg_y*2,2,R_selec_025deg)\n",
    "R_selec_real_std_1deg = compute_R_real_std(size_deg_x,size_deg_y,4,R_selec_025deg)\n",
    "R_selec_real_std_2deg = compute_R_real_std(int(size_deg_x/2),int(size_deg_y/2),8,R_selec_025deg)\n",
    "R_selec_real_std_4deg = compute_R_real_std(int(size_deg_x/4),int(size_deg_y/4),16,R_selec_025deg)"
   ]
  },
  {
   "cell_type": "code",
   "execution_count": null,
   "id": "eede0a92",
   "metadata": {},
   "outputs": [],
   "source": [
    "# Load the corresponding number of galaxy\n",
    "ngal_025deg = np.load('./P3X/var_save/ngal_025deg.npy')\n",
    "ngal_05deg = np.load('./P3X/var_save/ngal_05deg.npy')\n",
    "ngal_1deg = np.load('./P3X/var_save/ngal_1deg.npy')\n",
    "ngal_2deg = np.load('./P3X/var_save/ngal_2deg.npy')\n",
    "ngal_4deg = np.load('./P3X/var_save/ngal_4deg.npy')"
   ]
  },
  {
   "cell_type": "markdown",
   "id": "ef0a15c4",
   "metadata": {},
   "source": [
    "# Computation of the errors : < dR/R > or < dR >/< R >"
   ]
  },
  {
   "cell_type": "markdown",
   "id": "1d92c633",
   "metadata": {},
   "source": [
    "## R shear"
   ]
  },
  {
   "cell_type": "code",
   "execution_count": null,
   "id": "ba92992b",
   "metadata": {},
   "outputs": [],
   "source": [
    "# Component 11\n",
    "# 1st method : < dR/R >\n",
    "err_Rshear_05deg_moy = np.mean(R_shear_real_std_05deg[0,0,:,:]/R_shear_05deg[0,0,:,:])\n",
    "err_Rshear_1deg_moy = np.mean(R_shear_real_std_1deg[0,0,:,:]/R_shear_1deg[0,0,:,:])\n",
    "err_Rshear_2deg_moy = np.mean(R_shear_real_std_2deg[0,0,:,:]/R_shear_2deg[0,0,:,:])\n",
    "err_Rshear_4deg_moy = np.mean(R_shear_real_std_4deg[0,0,:,:]/R_shear_4deg[0,0,:,:])\n",
    "\n",
    "# 2nd method : < dR/R >\n",
    "err_Rshear_05deg = np.mean(R_shear_real_std_05deg[0,0,:,:])/np.mean(R_shear_05deg[0,0,:,:])\n",
    "err_Rshear_1deg = np.mean(R_shear_real_std_1deg[0,0,:,:])/np.mean(R_shear_1deg[0,0,:,:])\n",
    "err_Rshear_2deg = np.mean(R_shear_real_std_2deg[0,0,:,:])/np.mean(R_shear_2deg[0,0,:,:])\n",
    "err_Rshear_4deg = np.mean(R_shear_real_std_4deg[0,0,:,:])/np.mean(R_shear_4deg[0,0,:,:])"
   ]
  },
  {
   "cell_type": "code",
   "execution_count": null,
   "id": "ff87c46c",
   "metadata": {},
   "outputs": [],
   "source": [
    "# Component 22\n",
    "# 1st method : < dR/R >\n",
    "err_Rshear_05deg_moy22 = np.mean(R_shear_real_std_05deg[1,1,:,:]/R_shear_05deg[1,1,:,:])\n",
    "err_Rshear_1deg_moy22 = np.mean(R_shear_real_std_1deg[1,1,:,:]/R_shear_1deg[1,1,:,:])\n",
    "err_Rshear_2deg_moy22 = np.mean(R_shear_real_std_2deg[1,1,:,:]/R_shear_2deg[1,1,:,:])\n",
    "err_Rshear_4deg_moy22 = np.mean(R_shear_real_std_4deg[1,1,:,:]/R_shear_4deg[1,1,:,:])\n",
    "\n",
    "# 2nd method : < dR/R >\n",
    "err_Rshear_05deg22 = np.mean(R_shear_real_std_05deg[1,1,:,:])/np.mean(R_shear_05deg[1,1,:,:])\n",
    "err_Rshear_1deg22 = np.mean(R_shear_real_std_1deg[1,1,:,:])/np.mean(R_shear_1deg[1,1,:,:])\n",
    "err_Rshear_2deg22 = np.mean(R_shear_real_std_2deg[1,1,:,:])/np.mean(R_shear_2deg[1,1,:,:])\n",
    "err_Rshear_4deg22 = np.mean(R_shear_real_std_4deg[1,1,:,:])/np.mean(R_shear_4deg[1,1,:,:])"
   ]
  },
  {
   "cell_type": "code",
   "execution_count": null,
   "id": "b40e5d32",
   "metadata": {},
   "outputs": [],
   "source": [
    "# Definie the value to plot for R shear\n",
    "x_pos = [0.5,1,2,4]\n",
    "\n",
    "# Component 11\n",
    "moy_dr_r_Rshear = [err_Rshear_05deg_moy,err_Rshear_1deg_moy,err_Rshear_2deg_moy,err_Rshear_4deg_moy]\n",
    "dr_r_Rshear = [err_Rshear_05deg,err_Rshear_1deg,err_Rshear_2deg,err_Rshear_4deg]\n",
    "\n",
    "# Component 22\n",
    "moy_dr_r_Rshear22 = [err_Rshear_05deg_moy22,err_Rshear_1deg_moy22,err_Rshear_2deg_moy22,err_Rshear_4deg_moy22]\n",
    "dr_r_Rshear22 = [err_Rshear_05deg22,err_Rshear_1deg22,err_Rshear_2deg22,err_Rshear_4deg22]\n",
    "\n",
    "# Component 12 and 21\n",
    "moy_dr_r_Rshear21 = [np.mean(R_shear_real_std_05deg[1,0,:,:]),np.mean(R_shear_real_std_1deg[1,0,:,:]),np.mean(R_shear_real_std_2deg[1,0,:,:]),np.mean(R_shear_real_std_4deg[1,0,:,:])]\n",
    "moy_dr_r_Rshear12 = [np.mean(R_shear_real_std_05deg[0,1,:,:]),np.mean(R_shear_real_std_1deg[0,1,:,:]),np.mean(R_shear_real_std_2deg[0,1,:,:]),np.mean(R_shear_real_std_4deg[0,1,:,:])]"
   ]
  },
  {
   "cell_type": "code",
   "execution_count": null,
   "id": "4e73f128",
   "metadata": {},
   "outputs": [],
   "source": [
    "# Plot the 4 components and the 2 methods\n",
    "plt.figure(figsize=(14,6))\n",
    "plt.subplot(121)\n",
    "plt.plot(x_pos,moy_dr_r_Rshear,label='R_11')\n",
    "plt.plot(x_pos,moy_dr_r_Rshear22,label='R_22')\n",
    "plt.plot(x_pos,moy_dr_r_Rshear12,label='R_12')\n",
    "plt.plot(x_pos,moy_dr_r_Rshear21,label='R_21')\n",
    "plt.legend()\n",
    "plt.axhline(y=0,color='k')\n",
    "plt.xlabel('taille calib')\n",
    "plt.ylabel('< dR_shear/R_shear >')\n",
    "\n",
    "plt.subplot(122)\n",
    "plt.plot(x_pos,dr_r_Rshear,label='R_11')\n",
    "plt.plot(x_pos,dr_r_Rshear22,label='R_22')\n",
    "plt.plot(x_pos,moy_dr_r_Rshear12,label='R_12')\n",
    "plt.plot(x_pos,moy_dr_r_Rshear21,label='R_21')\n",
    "plt.legend()\n",
    "plt.axhline(y=0,color='k')\n",
    "plt.xlabel('taille calib')\n",
    "plt.ylabel('< dR_shear >/< R_shear >')\n",
    "plt.show()"
   ]
  },
  {
   "cell_type": "code",
   "execution_count": null,
   "id": "96abd06f",
   "metadata": {},
   "outputs": [],
   "source": [
    "# As R_11 ~ R_22 and R_12 ~ R_21, we keep the mean of the diagonal and the mean of the off-diagonal\n",
    "# The 2 methods are similar so I kepp < dR/R >\n",
    "moy_Rshear_diag = np.zeros(4)\n",
    "moy_Rshear_off_diag = np.zeros(4)\n",
    "\n",
    "for i in range(4):\n",
    "    moy_Rshear_diag[i] = (moy_dr_r_Rshear[i]+moy_dr_r_Rshear22[i])/2\n",
    "    moy_Rshear_off_diag[i] = (moy_dr_r_Rshear12[i]+moy_dr_r_Rshear21[i])/2"
   ]
  },
  {
   "cell_type": "code",
   "execution_count": null,
   "id": "b35da1c1",
   "metadata": {},
   "outputs": [],
   "source": [
    "plt.figure(figsize=(9,6))\n",
    "plt.plot(x_pos,moy_Rshear_diag,label=r'$\\langle dR_{ii}/R_{ii} \\rangle$')\n",
    "plt.plot(x_pos,moy_Rshear_off_diag,label=r'$R_{ij}$')\n",
    "plt.legend(fontsize=20)\n",
    "plt.axhline(y=0,color='k')\n",
    "plt.yticks(fontsize=15)\n",
    "plt.xticks(fontsize=15)\n",
    "plt.xlabel('calibration size (°)',fontsize=20)\n",
    "plt.ylabel(r'fractional error of $R_{shear}$',fontsize=20)\n",
    "plt.savefig('./dr_shear.png')\n",
    "plt.show()"
   ]
  },
  {
   "cell_type": "markdown",
   "id": "cf10109b",
   "metadata": {},
   "source": [
    "## R selection"
   ]
  },
  {
   "cell_type": "code",
   "execution_count": null,
   "id": "372a810f",
   "metadata": {},
   "outputs": [],
   "source": [
    "# Component 11\n",
    "# 1st method : < dR/R >\n",
    "err_Rselec_05deg_moy = abs(np.mean(R_selec_real_std_05deg[0,0,:,:]/R_selec_05deg[0,0,:,:]))\n",
    "err_Rselec_1deg_moy = abs(np.mean(R_selec_real_std_1deg[0,0,:,:]/R_selec_1deg[0,0,:,:]))\n",
    "err_Rselec_2deg_moy = abs(np.mean(R_selec_real_std_2deg[0,0,:,:]/R_selec_2deg[0,0,:,:]))\n",
    "err_Rselec_4deg_moy = abs(np.mean(R_selec_real_std_4deg[0,0,:,:]/R_selec_4deg[0,0,:,:]))\n",
    "\n",
    "# 2nd method : < dR/R >\n",
    "err_Rselec_05deg = abs(np.mean(R_selec_real_std_05deg[0,0,:,:])/np.mean(R_selec_05deg[0,0,:,:]))\n",
    "err_Rselec_1deg = abs(np.mean(R_selec_real_std_1deg[0,0,:,:])/np.mean(R_selec_1deg[0,0,:,:]))\n",
    "err_Rselec_2deg = abs(np.mean(R_selec_real_std_2deg[0,0,:,:])/np.mean(R_selec_2deg[0,0,:,:]))\n",
    "err_Rselec_4deg = abs(np.mean(R_selec_real_std_4deg[0,0,:,:])/np.mean(R_selec_4deg[0,0,:,:]))"
   ]
  },
  {
   "cell_type": "code",
   "execution_count": null,
   "id": "a2f32ef2",
   "metadata": {},
   "outputs": [],
   "source": [
    "# Component 22\n",
    "# 1st method : < dR/R >\n",
    "err_Rselec_05deg_moy22 = abs(np.mean(R_selec_real_std_05deg[1,1,:,:]/R_selec_05deg[1,1,:,:]))\n",
    "err_Rselec_1deg_moy22 = abs(np.mean(R_selec_real_std_1deg[1,1,:,:]/R_selec_1deg[1,1,:,:]))\n",
    "err_Rselec_2deg_moy22 = abs(np.mean(R_selec_real_std_2deg[1,1,:,:]/R_selec_2deg[1,1,:,:]))\n",
    "err_Rselec_4deg_moy22 = abs(np.mean(R_selec_real_std_4deg[1,1,:,:]/R_selec_4deg[1,1,:,:]))\n",
    "\n",
    "# 2nd method : < dR/R >\n",
    "err_Rselec_05deg22 = abs(np.mean(R_selec_real_std_05deg[1,1,:,:])/np.mean(R_selec_05deg[1,1,:,:]))\n",
    "err_Rselec_1deg22 = abs(np.mean(R_selec_real_std_1deg[1,1,:,:])/np.mean(R_selec_1deg[1,1,:,:]))\n",
    "err_Rselec_2deg22 = abs(np.mean(R_selec_real_std_2deg[1,1,:,:])/np.mean(R_selec_2deg[1,1,:,:]))\n",
    "err_Rselec_4deg22 = abs(np.mean(R_selec_real_std_4deg[1,1,:,:])/np.mean(R_selec_4deg[1,1,:,:]))"
   ]
  },
  {
   "cell_type": "code",
   "execution_count": null,
   "id": "f0b7b739",
   "metadata": {},
   "outputs": [],
   "source": [
    "# Define the value to plot for R selection\n",
    "# Component 11\n",
    "moy_dr_r_Rselec = [err_Rselec_05deg_moy,err_Rselec_1deg_moy,err_Rselec_2deg_moy,err_Rselec_4deg_moy]\n",
    "dr_r_Rselec = [err_Rselec_05deg,err_Rselec_1deg,err_Rselec_2deg,err_Rselec_4deg]\n",
    "\n",
    "# Component 22\n",
    "moy_dr_r_Rselec22 = [err_Rselec_05deg_moy22,err_Rselec_1deg_moy22,err_Rselec_2deg_moy22,err_Rselec_4deg_moy22]\n",
    "dr_r_Rselec22 = [err_Rselec_05deg22,err_Rselec_1deg22,err_Rselec_2deg22,err_Rselec_4deg22]\n",
    "\n",
    "# Component 12 and 21\n",
    "moy_dr_r_Rselec21 = [abs(np.mean(R_selec_real_std_05deg[1,0,:,:])),abs(np.mean(R_selec_real_std_1deg[1,0,:,:])),abs(np.mean(R_selec_real_std_2deg[1,0,:,:])),abs(np.mean(R_selec_real_std_4deg[1,0,:,:]))]\n",
    "moy_dr_r_Rselec12 = [abs(np.mean(R_selec_real_std_05deg[0,1,:,:])),abs(np.mean(R_selec_real_std_1deg[0,1,:,:])),abs(np.mean(R_selec_real_std_2deg[0,1,:,:])),abs(np.mean(R_selec_real_std_4deg[0,1,:,:]))]"
   ]
  },
  {
   "cell_type": "code",
   "execution_count": null,
   "id": "16042ade",
   "metadata": {},
   "outputs": [],
   "source": [
    "# As R_11 ~ R_22 and R_12 ~ R_21, we keep the mean of the diagonal and the mean of the off-diagonal\n",
    "# The 2 methods are similar so I kepp < dR/R >\n",
    "moy_Rselec_diag = np.zeros(4)\n",
    "moy_Rselec_off_diag = np.zeros(4)\n",
    "\n",
    "for i in range(4):\n",
    "    moy_Rselec_diag[i] = (moy_dr_r_Rselec[i]+moy_dr_r_Rselec22[i])/2\n",
    "    moy_Rselec_off_diag[i] = (moy_dr_r_Rselec12[i]+moy_dr_r_Rselec21[i])/2"
   ]
  },
  {
   "cell_type": "code",
   "execution_count": null,
   "id": "2b5f9c81",
   "metadata": {},
   "outputs": [],
   "source": [
    "# Plot the 4 components and the 2 methods\n",
    "plt.figure(figsize=(14,6))\n",
    "plt.subplot(121)\n",
    "plt.plot(x_pos,moy_dr_r_Rselec,label='R_11')\n",
    "plt.plot(x_pos,moy_dr_r_Rselec22,label='R_22')\n",
    "plt.plot(x_pos,moy_dr_r_Rselec12,label='R_12')\n",
    "plt.plot(x_pos,moy_dr_r_Rselec21,label='R_21')\n",
    "plt.legend()\n",
    "plt.axhline(y=0,color='k')\n",
    "plt.xlabel('taille calib')\n",
    "plt.ylabel('< dR_selec/R_selec >')\n",
    "\n",
    "plt.subplot(122)\n",
    "plt.plot(x_pos,dr_r_Rselec,label='R_11')\n",
    "plt.plot(x_pos,dr_r_Rselec22,label='R_22')\n",
    "plt.plot(x_pos,moy_dr_r_Rselec12,label='R_12')\n",
    "plt.plot(x_pos,moy_dr_r_Rselec21,label='R_21')\n",
    "plt.legend()\n",
    "plt.axhline(y=0,color='k')\n",
    "plt.xlabel('taille calib')\n",
    "plt.ylabel('< dR_selec >/< R_selec >')\n",
    "plt.show()"
   ]
  },
  {
   "cell_type": "code",
   "execution_count": null,
   "id": "e3650bb1",
   "metadata": {},
   "outputs": [],
   "source": [
    "plt.figure(figsize=(9,6))\n",
    "plt.plot(x_pos,moy_Rselec_diag,label=r'$\\langle dR_{ii}/R_{ii} \\rangle$')\n",
    "plt.plot(x_pos,moy_Rselec_off_diag,label=r'$R_{ij}$')\n",
    "plt.legend(fontsize=20)\n",
    "plt.axhline(y=0,color='k')\n",
    "plt.yticks(fontsize=15)\n",
    "plt.xticks(fontsize=15)\n",
    "plt.xlabel('calibration size (°)',fontsize=20)\n",
    "plt.ylabel(r'fractional error of $R_{selection}$',fontsize=20)\n",
    "plt.savefig('./dr_selec.png')\n",
    "plt.show()"
   ]
  },
  {
   "cell_type": "markdown",
   "id": "e31b4751",
   "metadata": {},
   "source": [
    "## Additive bias"
   ]
  },
  {
   "cell_type": "code",
   "execution_count": null,
   "id": "762fc060",
   "metadata": {},
   "outputs": [],
   "source": [
    "# Load the errors of the additive bias obtain on the different calibration size\n",
    "err_c1_ngmix_1deg = np.load('./P3X/var_save/dm_0_013/err_c1_ngmix_1deg.npy')\n",
    "err_c2_ngmix_1deg = np.load('./P3X/var_save/dm_0_013/err_c2_ngmix_1deg.npy')\n",
    "\n",
    "err_c1_ngmix_2deg = np.load('./P3X/var_save/dm_0_013/err_c1_ngmix_2deg.npy')\n",
    "err_c2_ngmix_2deg = np.load('./P3X/var_save/dm_0_013/err_c2_ngmix_2deg.npy')\n",
    "\n",
    "err_c1_ngmix_4deg = np.load('./P3X/var_save/dm_0_013/err_c1_ngmix_4deg.npy')\n",
    "err_c2_ngmix_4deg = np.load('./P3X/var_save/dm_0_013/err_c2_ngmix_4deg.npy')\n",
    "\n",
    "err_c1_ngmix_05deg = np.load('./P3X/var_save/dm_0_013/err_c1_ngmix_05deg.npy')\n",
    "err_c2_ngmix_05deg = np.load('./P3X/var_save/dm_0_013/err_c2_ngmix_05deg.npy')\n",
    "\n",
    "err_c1_ngmix_025deg = np.load('./P3X/var_save/dm_0_013/err_c1_ngmix_025deg.npy')\n",
    "err_c2_ngmix_025deg = np.load('./P3X/var_save/dm_0_013/err_c2_ngmix_025deg.npy')"
   ]
  },
  {
   "cell_type": "code",
   "execution_count": null,
   "id": "2b355a97",
   "metadata": {},
   "outputs": [],
   "source": [
    "# Method : < dc > because c1 ~ 0 and c2 ~ 0\n",
    "moyc1 = [abs(np.mean(err_c1_ngmix_025deg)),abs(np.mean(err_c1_ngmix_05deg)),abs(np.mean(err_c1_ngmix_1deg)),abs(np.mean(err_c1_ngmix_2deg)),abs(np.mean(err_c1_ngmix_4deg))]\n",
    "moyc2 = [np.mean(err_c2_ngmix_025deg),np.mean(err_c2_ngmix_05deg),np.mean(err_c2_ngmix_1deg),np.mean(err_c2_ngmix_2deg),np.mean(err_c2_ngmix_4deg)]"
   ]
  },
  {
   "cell_type": "code",
   "execution_count": null,
   "id": "50a05a05",
   "metadata": {},
   "outputs": [],
   "source": [
    "# Definie the position in x\n",
    "x_pos_c = [0.25,0.5,1,2,4]"
   ]
  },
  {
   "cell_type": "code",
   "execution_count": null,
   "id": "cebff69b",
   "metadata": {},
   "outputs": [],
   "source": [
    "plt.figure(figsize=(9,6))\n",
    "plt.plot(x_pos_c,moyc1,label=r'$\\langle dc_1 \\rangle$')\n",
    "plt.plot(x_pos_c,moyc2,label=r'$\\langle dc_2 \\rangle$')\n",
    "plt.axhline(y=0,color='k')\n",
    "plt.yticks(fontsize=15)\n",
    "plt.xticks(fontsize=15)\n",
    "plt.legend(fontsize=20)\n",
    "plt.xlabel('calibration size (°)',fontsize=20)\n",
    "plt.ylabel(r'fractional error c',fontsize=20)\n",
    "plt.savefig('./dr_c.png')\n",
    "plt.show()"
   ]
  },
  {
   "cell_type": "code",
   "execution_count": null,
   "id": "97212cec",
   "metadata": {},
   "outputs": [],
   "source": []
  }
 ],
 "metadata": {
  "kernelspec": {
   "display_name": "Python 3",
   "language": "python",
   "name": "python3"
  },
  "language_info": {
   "codemirror_mode": {
    "name": "ipython",
    "version": 3
   },
   "file_extension": ".py",
   "mimetype": "text/x-python",
   "name": "python",
   "nbconvert_exporter": "python",
   "pygments_lexer": "ipython3",
   "version": "3.7.10"
  }
 },
 "nbformat": 4,
 "nbformat_minor": 5
}
