{
 "cells": [
  {
   "cell_type": "markdown",
   "id": "0c2bd237",
   "metadata": {},
   "source": [
    "# Weak-lensing galaxy shape catalogue validation\n",
    "\n",
    "## Cosmology\n",
    "\n",
    "Contents\n",
    "- Shear-shear correlation function\n",
    "- Cluster lensing"
   ]
  },
  {
   "cell_type": "markdown",
   "id": "3ca3f26b",
   "metadata": {},
   "source": [
    "> **_NOTE:_** Before running this notebook, set kernel to `main_set.ipynb'"
   ]
  },
  {
   "cell_type": "code",
   "execution_count": null,
   "id": "7731397e",
   "metadata": {},
   "outputs": [],
   "source": [
    "import os\n",
    "\n",
    "from cs_util.plots import plot_data_1d"
   ]
  },
  {
   "cell_type": "code",
   "execution_count": null,
   "id": "813fd2b0",
   "metadata": {},
   "outputs": [],
   "source": [
    "from cs_util import canfar\n",
    "from sp_validation.util import *\n",
    "from sp_validation.cat import *\n",
    "from sp_validation.cosmology import *"
   ]
  },
  {
   "cell_type": "markdown",
   "id": "aeecad42",
   "metadata": {},
   "source": [
    "### Shear-shear correlation function"
   ]
  },
  {
   "cell_type": "code",
   "execution_count": null,
   "id": "86b4fb7c",
   "metadata": {},
   "outputs": [],
   "source": [
    "res_g = {}\n",
    "\n",
    "for sh in shapes:\n",
    "    res_g[sh]= xi_gal_gal_tc(\n",
    "        ra[sh],\n",
    "        dec[sh],\n",
    "        g_corr_mc[sh][0],\n",
    "        g_corr_mc[sh][1],\n",
    "        w[sh],\n",
    "        ra[sh],\n",
    "        dec[sh],\n",
    "        g_corr_mc[sh][0],\n",
    "        g_corr_mc[sh][1],\n",
    "        w[sh],\n",
    "        theta_min_amin=theta_min_amin,\n",
    "        theta_max_amin=theta_max_amin,\n",
    "        n_theta=n_theta\n",
    "    )"
   ]
  },
  {
   "cell_type": "code",
   "execution_count": null,
   "id": "04616c08",
   "metadata": {},
   "outputs": [],
   "source": [
    "# Redshift distribution\n",
    "\n",
    "nz_base = 'nz.CFHTLenSmatched.W3'\n",
    "nz_ext = 'txt'\n",
    "nz_date = '202012'\n",
    "nz_version = 'v1'\n",
    "nz_name = '{}_{}_{}.{}'.format(nz_base, nz_date, nz_version, nz_ext)\n",
    "source = 'vos:cfis/cosmostat/cosmology/redshifts/{}'.format(nz_name)\n",
    "target = f'{data_dir}/{nz_name}'\n",
    "\n",
    "canfar.download(source, target, verbose=True)\n",
    "\n",
    "z, nz = np.loadtxt(target, unpack=True)"
   ]
  },
  {
   "cell_type": "code",
   "execution_count": null,
   "id": "298373fb",
   "metadata": {},
   "outputs": [],
   "source": [
    "# Use common angular bins\n",
    "for sh in shapes:\n",
    "    r_planck = res_g[sh].meanr\n",
    "    break\n",
    "\n",
    "try:\n",
    "    import pyccl as ccl\n",
    "\n",
    "    xi_p_planck, xi_m_planck = get_theo_xi(\n",
    "        r_planck,\n",
    "        z,\n",
    "        nz,\n",
    "        Omega_m=Om,\n",
    "        h=h,\n",
    "        Omega_b=Ob,\n",
    "        sig8=sig8,\n",
    "        ns=ns\n",
    "    )\n",
    "\n",
    "except:\n",
    "    print(\"Warning: Cannot impory pyccl\")\n",
    "    xi_p_planck = None\n",
    "    xi_m_planck = None\n"
   ]
  },
  {
   "cell_type": "code",
   "execution_count": null,
   "id": "94cf20f9",
   "metadata": {},
   "outputs": [],
   "source": [
    "labels = ['CFIS', '', 'Planck model']\n",
    "linestyles = ['', '', 'solid']\n",
    "eb_linestyles = ['-', ':', '']\n",
    "colors = ['b', 'b', 'b']\n",
    "xlabel = r'$\\theta$ [arcmin]'\n",
    "ylabel = r'$\\xi_+(\\theta)$'\n",
    "xlog = True\n",
    "ylog = True\n",
    "\n",
    "for sh in shapes:\n",
    "    pos_ind_gg = res_g[sh].xip >= 0\n",
    "    neg_ind_gg = res_g[sh].xip < 0\n",
    "\n",
    "    x = [\n",
    "        res_g[sh].meanr[pos_ind_gg],\n",
    "        res_g[sh].meanr[neg_ind_gg],\n",
    "    ]\n",
    "    y = [\n",
    "        res_g[sh].xip[pos_ind_gg],\n",
    "        -res_g[sh].xip[neg_ind_gg],\n",
    "    ]\n",
    "    yerr = [\n",
    "        np.sqrt(res_g[sh].varxip[pos_ind_gg]),\n",
    "        np.sqrt(res_g[sh].varxip[neg_ind_gg]),\n",
    "    ]\n",
    "\n",
    "    if xi_p_planck is not None:\n",
    "        x.append(r_planck)\n",
    "        y.append(xi_p_planck)\n",
    "        yerr.append(xi_p_planck * np.nan)\n",
    "\n",
    "    title = fr'{sh} Shear-shear correlation function $\\xi_+$'\n",
    "    out_path = f'{plot_dir}/xi_+_shear_shear_{sh}.pdf'\n",
    "\n",
    "    plot_data_1d(\n",
    "        x,\n",
    "        y,\n",
    "        yerr,\n",
    "        title,\n",
    "        xlabel,\n",
    "        ylabel,\n",
    "        out_path,\n",
    "        xlog=xlog,\n",
    "        ylog=ylog,\n",
    "        labels=labels,\n",
    "        colors=colors,\n",
    "        linestyles=linestyles,\n",
    "        eb_linestyles=eb_linestyles\n",
    "    )"
   ]
  },
  {
   "cell_type": "code",
   "execution_count": null,
   "id": "410503ed",
   "metadata": {},
   "outputs": [],
   "source": [
    "colors = ['g', 'g', 'g']\n",
    "ylabel = r'$\\xi_-(\\theta)$'\n",
    "\n",
    "for sh in shapes:\n",
    "    pos_ind_gg = res_g[sh].xim >= 0\n",
    "    neg_ind_gg = res_g[sh].xim < 0\n",
    "\n",
    "    x = [\n",
    "        res_g[sh].meanr[pos_ind_gg],\n",
    "        res_g[sh].meanr[neg_ind_gg],\n",
    "    ]\n",
    "    y = [\n",
    "        res_g[sh].xim[pos_ind_gg],\n",
    "        -res_g[sh].xim[neg_ind_gg],\n",
    "    ]\n",
    "    yerr = [\n",
    "        np.sqrt(res_g[sh].varxim[pos_ind_gg]),\n",
    "        np.sqrt(res_g[sh].varxim[neg_ind_gg]),\n",
    "    ]\n",
    "    title = f'{sh} Shear-shear correlation function $\\\\xi_-$'\n",
    "    out_path = f'{plot_dir}/xi_-_shear_shear_{sh}.pdf'\n",
    "\n",
    "    if xi_m_planck is not None:\n",
    "        x.append(r_planck)\n",
    "        y.append(xi_m_planck)\n",
    "        yerr.append(xi_m_planck * np.nan)\n",
    "        \n",
    "    plot_data_1d(\n",
    "        x,\n",
    "        y,\n",
    "        yerr,\n",
    "        title,\n",
    "        xlabel,\n",
    "        ylabel,\n",
    "        out_path,\n",
    "        xlog=xlog,\n",
    "        ylog=ylog,\n",
    "        labels=labels,\n",
    "        colors=colors,\n",
    "        linestyles=linestyles,\n",
    "        eb_linestyles=eb_linestyles\n",
    "    )"
   ]
  },
  {
   "cell_type": "raw",
   "id": "9f75fff1",
   "metadata": {},
   "source": [
    "labels = [r'$\\xi_+$', r'$\\xi_-$', r'${\\cal I}[\\xi_+]$', r'${\\cal I}[\\xi_-]$']\n",
    "linestyles = ['-', '-', ':', ':']\n",
    "eb_linestyles = ['-', '-', ':', ':']\n",
    "colors = ['b', 'r', 'b', 'r']\n",
    "ylabel = r'Correlation'\n",
    "xlog = True\n",
    "ylog = False\n",
    "\n",
    "for sh in shapes:\n",
    "    x = [res_g[sh].meanr] * 4\n",
    "    y = [res_g[sh].xip, res_g[sh].xim, res_g[sh].xip_im, res_g[sh].xim_im]\n",
    "    yerr = [np.sqrt(res_g[sh].varxip), np.sqrt(res_g[sh].varxim)] * 2\n",
    "    title = '{sh} Shear-shear correlation functions'\n",
    "\n",
    "    out_path = f'{plot_dir}/xi_pm_reim_shear_shear_{sh}.pdf'\n",
    "\n",
    "    plot_data_1d(\n",
    "        x,\n",
    "        y,\n",
    "        yerr,\n",
    "        title,\n",
    "        xlabel,\n",
    "        ylabel,\n",
    "        out_path,\n",
    "        xlog=xlog,\n",
    "        ylog=ylog,\n",
    "        labels=labels,\n",
    "        colors=colors,\n",
    "        linestyles=linestyles,\n",
    "        eb_linestyles=eb_linestyles\n",
    "    )"
   ]
  },
  {
   "cell_type": "markdown",
   "id": "3515efae",
   "metadata": {},
   "source": [
    "### Cluster lensing"
   ]
  },
  {
   "cell_type": "markdown",
   "id": "1b51f0d3",
   "metadata": {},
   "source": [
    "#### Prepare Planck cluster catalog"
   ]
  },
  {
   "cell_type": "code",
   "execution_count": null,
   "id": "bf2501a7",
   "metadata": {},
   "outputs": [],
   "source": [
    "cluster_cat_name = 'HFI_PCCS_SZ-union_R2.08.fits.gz'\n",
    "vos_dir = 'vos:cfis/cosmostat/cosmology/external/Planck'\n",
    "\n",
    "clusters = get_clusters(cluster_cat_name, vos_dir, data_dir, name)\n",
    "\n",
    "print_stats(\n",
    "    f\"{len(clusters['ra'])} clusters found in {name} footprint\",\n",
    "    stats_file,\n",
    "    verbose=verbose\n",
    ")"
   ]
  },
  {
   "cell_type": "code",
   "execution_count": null,
   "id": "6595cf95",
   "metadata": {},
   "outputs": [],
   "source": [
    "for sh in shapes:\n",
    "\n",
    "    plt.figure(figsize=(15,15))\n",
    "    plt.plot(ra[sh], dec[sh], '.')\n",
    "    plt.plot(clusters['ra'], clusters['dec'], '*')\n",
    "\n",
    "    dy = 0.02 * (plt.ylim()[0] - plt.ylim()[1])\n",
    "    for i in range(len(clusters['ra'])):\n",
    "        plt.text(\n",
    "            clusters['ra'][i],\n",
    "            clusters['dec'][i] + dy,\n",
    "            i,\n",
    "            color='k',\n",
    "            fontsize=10,\n",
    "            ha='center',\n",
    "            va='center'\n",
    "        )\n",
    "\n",
    "    plt.title(f'({sh}) clusters in {name} footprint')\n",
    "    plt.xlabel('R.A. [deg]')\n",
    "    plt.ylabel('DEC [deg]')"
   ]
  },
  {
   "cell_type": "code",
   "execution_count": null,
   "id": "9e5f9e43",
   "metadata": {},
   "outputs": [],
   "source": [
    "# TODO: Identify clusters within unmasked footprint."
   ]
  },
  {
   "cell_type": "code",
   "execution_count": null,
   "id": "486cadca",
   "metadata": {},
   "outputs": [],
   "source": [
    "ylabel = r'$\\gamma_{\\rm t}(\\theta)$'\n",
    "\n",
    "for sh in shapes:\n",
    " \n",
    "    R_p, logR_p, gamT_p, gamX_p, gam_sig_p = gamma_T_tc(\n",
    "        clusters['ra'],\n",
    "        clusters['dec'],\n",
    "        ra[sh],\n",
    "        dec[sh],\n",
    "        g_corr_mc[sh][0],\n",
    "        g_corr_mc[sh][1],\n",
    "        w[sh]\n",
    "    )\n",
    "\n",
    "    x = [R_p,R_p]\n",
    "    y = [gamT_p,gamX_p]\n",
    "    yerr = [gam_sig_p,gam_sig_p]\n",
    "    title = f'({sh}) tangential shear around clusters'\n",
    "    out_path = f'{plot_dir}/gamma_clusters_{sh}.pdf'\n",
    "    labels=[r'$\\gamma_{\\rm t}(\\theta)$',r'$\\gamma_{\\rm X}(\\theta)$']\n",
    "    \n",
    "    plot_data_1d(x, y, yerr, title, xlabel, ylabel, out_path, xlog=True, ylog=False,labels=labels)"
   ]
  },
  {
   "cell_type": "markdown",
   "id": "32fa6f33",
   "metadata": {},
   "source": [
    "## Wrap-up"
   ]
  },
  {
   "cell_type": "code",
   "execution_count": null,
   "id": "ecdd5947",
   "metadata": {},
   "outputs": [],
   "source": [
    "# Copy parameter file to output for save-guarding\n",
    "!cp params.py {output_dir}"
   ]
  }
 ],
 "metadata": {
  "kernelspec": {
   "display_name": "Python 3 (ipykernel)",
   "language": "python",
   "name": "python3"
  },
  "language_info": {
   "codemirror_mode": {
    "name": "ipython",
    "version": 3
   },
   "file_extension": ".py",
   "mimetype": "text/x-python",
   "name": "python",
   "nbconvert_exporter": "python",
   "pygments_lexer": "ipython3",
   "version": "3.11.9"
  }
 },
 "nbformat": 4,
 "nbformat_minor": 5
}
