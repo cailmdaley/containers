{
 "cells": [
  {
   "cell_type": "markdown",
   "metadata": {},
   "source": [
    "# Weak-lensing galaxy shape catalogue validation"
   ]
  },
  {
   "cell_type": "markdown",
   "metadata": {},
   "source": [
    "## Main notebook, set-up, catalogue preparation\n",
    "\n",
    "### Contents\n",
    "1. Set-up\n",
    "2. Load data\n",
    "3. Matching of stars\n",
    "4. Select galaxies"
   ]
  },
  {
   "cell_type": "code",
   "execution_count": 1,
   "metadata": {
    "execution": {
     "iopub.execute_input": "2025-02-11T13:27:17.061070Z",
     "iopub.status.busy": "2025-02-11T13:27:17.060921Z",
     "iopub.status.idle": "2025-02-11T13:27:17.101791Z",
     "shell.execute_reply": "2025-02-11T13:27:17.101155Z",
     "shell.execute_reply.started": "2025-02-11T13:27:17.061054Z"
    }
   },
   "outputs": [],
   "source": [
    "%reload_ext autoreload\n",
    "%autoreload 2"
   ]
  },
  {
   "cell_type": "code",
   "execution_count": null,
   "metadata": {},
   "outputs": [],
   "source": [
    "# General library imports\n",
    "import sys\n",
    "import os\n",
    "import numpy as np\n",
    "from astropy.io import fits"
   ]
  },
  {
   "cell_type": "code",
   "execution_count": null,
   "metadata": {
    "execution": {
     "iopub.status.busy": "2025-02-11T13:27:18.198398Z",
     "iopub.status.idle": "2025-02-11T13:27:18.198606Z",
     "shell.execute_reply": "2025-02-11T13:27:18.198506Z",
     "shell.execute_reply.started": "2025-02-11T13:27:18.198497Z"
    }
   },
   "outputs": [],
   "source": [
    "from cs_util import canfar\n",
    "from sp_validation.io import *\n",
    "from sp_validation.cat import *\n",
    "from sp_validation.survey import *\n",
    "from sp_validation.galaxy import *\n",
    "from sp_validation.calibration import *"
   ]
  },
  {
   "cell_type": "markdown",
   "metadata": {},
   "source": [
    "## 1. Set-up"
   ]
  },
  {
   "cell_type": "code",
   "execution_count": null,
   "metadata": {
    "execution": {
     "iopub.status.busy": "2025-02-11T13:27:18.199368Z",
     "iopub.status.idle": "2025-02-11T13:27:18.199556Z",
     "shell.execute_reply": "2025-02-11T13:27:18.199472Z",
     "shell.execute_reply.started": "2025-02-11T13:27:18.199463Z"
    }
   },
   "outputs": [],
   "source": [
    "# Load parameters\n",
    "%run params.py"
   ]
  },
  {
   "cell_type": "markdown",
   "metadata": {},
   "source": [
    "### Create and open output files and directories"
   ]
  },
  {
   "cell_type": "code",
   "execution_count": null,
   "metadata": {
    "execution": {
     "iopub.status.busy": "2025-02-11T13:27:18.200467Z",
     "iopub.status.idle": "2025-02-11T13:27:18.200992Z",
     "shell.execute_reply": "2025-02-11T13:27:18.200889Z",
     "shell.execute_reply.started": "2025-02-11T13:27:18.200878Z"
    }
   },
   "outputs": [],
   "source": [
    "make_out_dirs(output_dir, plot_dir, plot_subdirs, verbose=verbose)\n",
    "stats_file = open_stats_file(plot_dir, stats_file_name)"
   ]
  },
  {
   "cell_type": "markdown",
   "metadata": {},
   "source": [
    "## 2. Load data\n",
    "\n",
    "### Load merged (final) galaxy catalogue"
   ]
  },
  {
   "cell_type": "code",
   "execution_count": null,
   "metadata": {
    "execution": {
     "iopub.status.busy": "2025-02-11T13:27:18.201455Z",
     "iopub.status.idle": "2025-02-11T13:27:18.201655Z",
     "shell.execute_reply": "2025-02-11T13:27:18.201558Z",
     "shell.execute_reply.started": "2025-02-11T13:27:18.201549Z"
    }
   },
   "outputs": [],
   "source": [
    "extension = os.path.splitext(galaxy_cat_path)[1]\n",
    "if extension == \".fits\":\n",
    "    print(\"Loading galaxy .npy file...\")\n",
    "    dd = np.load(galaxy_cat_path, mmap_mode=mmap_mode)\n",
    "else:\n",
    "    print(\"Loading galaxy .hdf5 file...\")\n",
    "    dd = read_hdf5_file(galaxy_cat_path, name, stats_file, param_path=param_list_path)\n",
    "\n",
    "n_obj = len(dd)\n",
    "print_stats(f'Read {n_obj} objects from file {galaxy_cat_path}', stats_file, verbose=verbose)"
   ]
  },
  {
   "cell_type": "markdown",
   "metadata": {},
   "source": [
    "#### Print some quantities to check nothing obvious is wrong with catalogue"
   ]
  },
  {
   "cell_type": "code",
   "execution_count": null,
   "metadata": {
    "execution": {
     "iopub.status.busy": "2025-02-11T13:27:18.202131Z",
     "iopub.status.idle": "2025-02-11T13:27:18.202308Z",
     "shell.execute_reply": "2025-02-11T13:27:18.202227Z",
     "shell.execute_reply.started": "2025-02-11T13:27:18.202219Z"
    }
   },
   "outputs": [],
   "source": [
    "# Base name for ellipticity and size keys (column names)\n",
    "key_base = {\n",
    "    'ngmix': 'NGMIX',\n",
    "    'galsim': 'GALSIM_GAL'\n",
    "}\n",
    "\n",
    "# PSF keys\n",
    "key_PSF_ell = {}\n",
    "key_PSF_size = {}\n",
    "size_to_fwhm = {}\n",
    "\n",
    "key_PSF_ell['ngmix'] = 'NGMIX_ELL_PSFo_NOSHEAR'\n",
    "key_PSF_size['ngmix'] = 'NGMIX_T_PSFo_NOSHEAR'\n",
    "size_to_fwhm['ngmix'] = T_to_fwhm\n",
    "\n",
    "key_PSF_ell['galsim'] = 'GALSIM_PSF_ELL_ORIGINAL_PSF'\n",
    "key_PSF_size['galsim'] = 'GALSIM_PSF_SIGMA_ORIGINAL_PSF'\n",
    "size_to_fwhm['galsim'] = sigma_to_fwhm"
   ]
  },
  {
   "cell_type": "code",
   "execution_count": null,
   "metadata": {
    "execution": {
     "iopub.status.busy": "2025-02-11T13:27:18.203120Z",
     "iopub.status.idle": "2025-02-11T13:27:18.203317Z",
     "shell.execute_reply": "2025-02-11T13:27:18.203233Z",
     "shell.execute_reply.started": "2025-02-11T13:27:18.203224Z"
    }
   },
   "outputs": [],
   "source": [
    "print_stats('Galaxies:', stats_file, verbose=verbose)\n",
    "n_tot = print_some_quantities(dd, stats_file, verbose=verbose)\n",
    "for sh in shapes:\n",
    "    print_mean_ellipticity(\n",
    "        dd,\n",
    "        f'{key_base[sh]}_ELL_NOSHEAR',\n",
    "        2, \n",
    "        n_tot,\n",
    "        stats_file,\n",
    "        invalid=-10,\n",
    "        verbose=verbose\n",
    "    )"
   ]
  },
  {
   "cell_type": "markdown",
   "metadata": {},
   "source": [
    "#### Survey area and potential missing tiles\n",
    "The approximate observed area is the number of tiles $\\times$ 0.25 deg$^2$ (ignoring overlaps and masking)."
   ]
  },
  {
   "cell_type": "code",
   "execution_count": null,
   "metadata": {
    "execution": {
     "iopub.status.busy": "2025-02-11T13:27:18.203827Z",
     "iopub.status.idle": "2025-02-11T13:27:18.204043Z",
     "shell.execute_reply": "2025-02-11T13:27:18.203949Z",
     "shell.execute_reply.started": "2025-02-11T13:27:18.203941Z"
    }
   },
   "outputs": [],
   "source": [
    "area_deg2, area_amin2, tile_IDs = get_area(dd, area_tile, verbose=verbose)"
   ]
  },
  {
   "cell_type": "markdown",
   "metadata": {},
   "source": [
    "Identify missing tiles by comparing tile ID from catalogue to external input tile ID file."
   ]
  },
  {
   "cell_type": "code",
   "execution_count": null,
   "metadata": {
    "execution": {
     "iopub.status.busy": "2025-02-11T13:27:18.204434Z",
     "iopub.status.idle": "2025-02-11T13:27:18.204618Z",
     "shell.execute_reply": "2025-02-11T13:27:18.204529Z",
     "shell.execute_reply.started": "2025-02-11T13:27:18.204521Z"
    }
   },
   "outputs": [],
   "source": [
    "n_found, n_missing = missing_tiles(tile_IDs, path_tile_ID, path_found_ID, path_missing_ID, verbose=verbose)"
   ]
  },
  {
   "cell_type": "markdown",
   "metadata": {},
   "source": [
    "### Load star catalogue"
   ]
  },
  {
   "cell_type": "code",
   "execution_count": null,
   "metadata": {
    "execution": {
     "iopub.status.busy": "2025-02-11T13:27:18.205399Z",
     "iopub.status.idle": "2025-02-11T13:27:18.205581Z",
     "shell.execute_reply": "2025-02-11T13:27:18.205500Z",
     "shell.execute_reply.started": "2025-02-11T13:27:18.205492Z"
    }
   },
   "outputs": [],
   "source": [
    "if star_cat_path:\n",
    "    d_star = fits.getdata(star_cat_path, hdu_star_cat)"
   ]
  },
  {
   "cell_type": "code",
   "execution_count": null,
   "metadata": {
    "execution": {
     "iopub.status.busy": "2025-02-11T13:27:18.206293Z",
     "iopub.status.idle": "2025-02-11T13:27:18.206474Z",
     "shell.execute_reply": "2025-02-11T13:27:18.206392Z",
     "shell.execute_reply.started": "2025-02-11T13:27:18.206384Z"
    }
   },
   "outputs": [],
   "source": [
    "if star_cat_path:\n",
    "    print_stats('Stars:', stats_file, verbose=verbose)\n",
    "    n_tot = print_some_quantities(d_star, stats_file, verbose=verbose)\n",
    "    print_mean_ellipticity(\n",
    "        d_star, \n",
    "        ['E1_PSF_HSM', 'E2_PSF_HSM'],\n",
    "        1,\n",
    "        n_tot,\n",
    "        stats_file, \n",
    "        invalid=-10,\n",
    "        verbose=verbose\n",
    "    )"
   ]
  },
  {
   "cell_type": "markdown",
   "metadata": {},
   "source": [
    "### 3. Matching of stars"
   ]
  },
  {
   "cell_type": "markdown",
   "metadata": {},
   "source": [
    "### Matching of star catalogues\n",
    "Match the star catalogue `d_star` (selected on individual exposures using size-magnitude diagram) to catalogue from tile. Uses some simple criteria to select stars from tile catalogue such as SPREAD_CLASS.\n",
    "\n",
    "This is mainly for testing, this match will not be used later."
   ]
  },
  {
   "cell_type": "markdown",
   "metadata": {},
   "source": [
    "#### Match to all objects"
   ]
  },
  {
   "cell_type": "code",
   "execution_count": null,
   "metadata": {
    "execution": {
     "iopub.status.busy": "2025-02-11T13:27:18.207015Z",
     "iopub.status.idle": "2025-02-11T13:27:18.207209Z",
     "shell.execute_reply": "2025-02-11T13:27:18.207122Z",
     "shell.execute_reply.started": "2025-02-11T13:27:18.207113Z"
    }
   },
   "outputs": [],
   "source": [
    "if star_cat_path:\n",
    "    ind_star, mask_area_tiles, n_star_tot = check_matching(\n",
    "        d_star,\n",
    "        dd,\n",
    "        ['RA', 'DEC'],\n",
    "        [col_name_ra, col_name_dec],\n",
    "        thresh,\n",
    "        stats_file,\n",
    "        name=None,\n",
    "        verbose=verbose\n",
    "    )"
   ]
  },
  {
   "cell_type": "markdown",
   "metadata": {},
   "source": [
    "#### Refine: Match to valid, unflagged galaxy sample"
   ]
  },
  {
   "cell_type": "code",
   "execution_count": null,
   "metadata": {
    "execution": {
     "iopub.status.busy": "2025-02-11T13:27:18.207671Z",
     "iopub.status.idle": "2025-02-11T13:27:18.207846Z",
     "shell.execute_reply": "2025-02-11T13:27:18.207767Z",
     "shell.execute_reply.started": "2025-02-11T13:27:18.207758Z"
    }
   },
   "outputs": [],
   "source": [
    "# Flags to indicate valid star sample\n",
    "m_star = {}\n",
    "ra_star = {}\n",
    "dec_star = {}\n",
    "g_star_psf = {}\n",
    "\n",
    "if 'ngmix' in shapes:\n",
    "    m_star['ngmix'] = (\n",
    "        (dd['FLAGS'][ind_star] == 0)\n",
    "        & (dd['IMAFLAGS_ISO'][ind_star] == 0)\n",
    "        & (dd['NGMIX_MCAL_FLAGS'][ind_star] == 0)\n",
    "        & (dd['NGMIX_ELL_PSFo_NOSHEAR'][:,0][ind_star] != -10)\n",
    "    )\n",
    "\n",
    "    print_stats('ngmix:', stats_file, verbose=verbose)\n",
    "\n",
    "    ra_star['ngmix'], dec_star['ngmix'], g_star_psf['ngmix'] = match_subsample(\n",
    "        dd,\n",
    "        ind_star,\n",
    "        m_star['ngmix'],\n",
    "        [col_name_ra, col_name_dec],\n",
    "        'NGMIX_ELL_PSFo_NOSHEAR',\n",
    "        n_star_tot,\n",
    "        stats_file,\n",
    "        verbose=verbose\n",
    "    )\n",
    "\n",
    "if 'galsim' in shapes:\n",
    "    m_star['galsim'] = (\n",
    "        (dd['FLAGS'][ind_star] == 0)\n",
    "        & (dd['IMAFLAGS_ISO'][ind_star] == 0)\n",
    "        & (dd['GALSIM_PSF_ELL_ORIGINAL_PSF'][:,0][ind_star] != -10)\n",
    "    )\n",
    "\n",
    "    print_stats('galsim:', stats_file, verbose=verbose)\n",
    "\n",
    "    ra_star['galsim'], dec_star['galsim'], g_star_psf['galsim'] = match_subsample(\n",
    "        dd,\n",
    "        ind_star,\n",
    "        m_star['galsim'],\n",
    "        [col_name_ra, col_name_dec],\n",
    "        'GALSIM_PSF_ELL_ORIGINAL_PSF',\n",
    "        n_star_tot,\n",
    "        stats_file,\n",
    "        verbose=verbose\n",
    ")"
   ]
  },
  {
   "cell_type": "code",
   "execution_count": null,
   "metadata": {
    "execution": {
     "iopub.status.busy": "2025-02-11T13:27:18.208418Z",
     "iopub.status.idle": "2025-02-11T13:27:18.208617Z",
     "shell.execute_reply": "2025-02-11T13:27:18.208518Z",
     "shell.execute_reply.started": "2025-02-11T13:27:18.208509Z"
    }
   },
   "outputs": [],
   "source": [
    "#### Refine: Match to SPREAD_CLASS samples\n",
    "if \"SPREAD_CLASS\" in dd.dtype.names:\n",
    "    for sh in shapes:\n",
    "        print_stats(f'{sh}:', stats_file, verbose=verbose)\n",
    "        match_spread_class(dd, ind_star, m_star[sh], stats_file, len(ra_star[sh]), verbose=verbose)\n",
    "else:\n",
    "    print_stats(\"No SPREAD_CLASS in input, skipping star-gal matching\", stats_file, verbose=verbose)"
   ]
  },
  {
   "cell_type": "markdown",
   "metadata": {},
   "source": [
    "## Check for objects with invalid PSF"
   ]
  },
  {
   "cell_type": "code",
   "execution_count": null,
   "metadata": {
    "execution": {
     "iopub.status.busy": "2025-02-11T13:27:18.209210Z",
     "iopub.status.idle": "2025-02-11T13:27:18.209386Z",
     "shell.execute_reply": "2025-02-11T13:27:18.209305Z",
     "shell.execute_reply.started": "2025-02-11T13:27:18.209297Z"
    }
   },
   "outputs": [],
   "source": [
    "for sh in shapes:\n",
    "    print(f'{sh}:')\n",
    "    check_invalid(\n",
    "        dd,\n",
    "        [key_PSF_ell[sh], f'{key_base[sh]}_ELL_NOSHEAR'],\n",
    "        [0, 0],\n",
    "        [-10, -10],\n",
    "        stats_file,\n",
    "        name=['PSF', 'galaxy ellipticity'],\n",
    "        verbose=verbose\n",
    "    )"
   ]
  },
  {
   "cell_type": "markdown",
   "metadata": {},
   "source": [
    "## 4. Select galaxies"
   ]
  },
  {
   "cell_type": "markdown",
   "metadata": {
    "tags": []
   },
   "source": [
    "### 4.1 Using the spread model parameter\n",
    "This parameter quantifies the size of an object with respect to the local PSF. Objects with larger spread model are more likely to be galaxies."
   ]
  },
  {
   "cell_type": "markdown",
   "metadata": {
    "tags": []
   },
   "source": [
    "#### Common flags and cuts\n",
    "First, set cuts common to ngmix and galsim:\n",
    "  - spread model: select objects well larger than the PSF\n",
    "  - magnitude: cut galaxies that are too faint (= too noisy, likely to be\n",
    "    artefacts), and too bright (might be too large for postage stamp)\n",
    "  - flags: cut objects that were flagged as invalid or masked\n",
    "  - n_epoch: select objects observed on at leatst one epoch (for safety,\n",
    "    to avoid potential errors with empty data)"
   ]
  },
  {
   "cell_type": "code",
   "execution_count": null,
   "metadata": {
    "execution": {
     "iopub.status.busy": "2025-02-11T13:27:18.209826Z",
     "iopub.status.idle": "2025-02-11T13:27:18.210021Z",
     "shell.execute_reply": "2025-02-11T13:27:18.209941Z",
     "shell.execute_reply.started": "2025-02-11T13:27:18.209932Z"
    }
   },
   "outputs": [],
   "source": [
    "cut_overlap = classification_galaxy_overlap_ra_dec(\n",
    "    dd,\n",
    "    ra_key=col_name_ra,\n",
    "    dec_key=col_name_dec\n",
    ")\n",
    "\n",
    "n_ok = sum(cut_overlap)\n",
    "print_stats(f\"Non-overlapping objects: {n_ok:10d}, {n_ok/n_obj:10.2%}\", stats_file, verbose=verbose)\n",
    "\n",
    "m_gal = {}\n",
    "\n",
    "for sh in shapes:\n",
    "    # add method-specific cuts\n",
    "    #classification_method = getattr(galaxy, f'classification_galaxy_{sh}')\n",
    "    if sh == 'ngmix':\n",
    "        classification_method = classification_galaxy_ngmix\n",
    "    elif sh == 'galsim':\n",
    "        classification_method = classification_galaxy_galsim\n",
    "\n",
    "    cut_common = classification_galaxy_base(\n",
    "        dd,\n",
    "        cut_overlap,\n",
    "        gal_mag_bright=gal_mag_bright,\n",
    "        gal_mag_faint=gal_mag_faint,\n",
    "        flags_keep=flags_keep,\n",
    "        n_epoch_min=n_epoch_min,\n",
    "        do_spread_model=do_spread_model,\n",
    "    )\n",
    "    m_gal[sh] = classification_method(\n",
    "        dd,\n",
    "        cut_common,\n",
    "        stats_file,\n",
    "        verbose=verbose,\n",
    "    )\n",
    "\n",
    "    n_ok = sum(cut_common)\n",
    "    print_stats(f\"{sh}: objects after common cut: {n_ok:10d}, {n_ok/n_obj:10.2%}\", stats_file, verbose=verbose)\n",
    "\n",
    "    # MKDEBUG for debugging calibrate_comprehensive\n",
    "    n_ok = sum(m_gal[sh])\n",
    "    print_stats(f\"common & ngmix = galaxy selection: {n_ok:10d}, {n_ok/n_obj:10.2%}\", stats_file, verbose=verbose)\n",
    "\n",
    "\n"
   ]
  },
  {
   "cell_type": "code",
   "execution_count": null,
   "metadata": {},
   "outputs": [],
   "source": []
  }
 ],
 "metadata": {
  "kernelspec": {
   "display_name": "sp_validation",
   "language": "python",
   "name": "sp_validation"
  },
  "language_info": {
   "codemirror_mode": {
    "name": "ipython",
    "version": 3
   },
   "file_extension": ".py",
   "mimetype": "text/x-python",
   "name": "python",
   "nbconvert_exporter": "python",
   "pygments_lexer": "ipython3",
   "version": "3.9.19"
  }
 },
 "nbformat": 4,
 "nbformat_minor": 4
}
