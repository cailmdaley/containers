{
 "cells": [
  {
   "cell_type": "markdown",
   "id": "01464726-a33e-40d1-aba5-5de943e1fb6c",
   "metadata": {},
   "source": [
    "# Weak-lensing galaxy shape catalogue validation\n",
    "\n",
    "## Maps\n",
    "\n",
    "Contents\n",
    "- Create convergence maps with local calibration"
   ]
  },
  {
   "cell_type": "markdown",
   "id": "bc4a2b13-9ee9-43eb-8ce6-37041fffff05",
   "metadata": {},
   "source": [
    "> **_NOTE:_** Before running this notebook, set kernel to `main_set.ipynb'"
   ]
  },
  {
   "cell_type": "code",
   "execution_count": null,
   "id": "3095493f-3c56-424e-aacc-de21c747b017",
   "metadata": {},
   "outputs": [],
   "source": [
    "from scipy.ndimage.filters import gaussian_filter\n",
    "\n",
    "from lenspack.utils import bin2d\n",
    "from lenspack.image.inversion import ks93"
   ]
  },
  {
   "cell_type": "code",
   "execution_count": null,
   "id": "19f85aa6-9023-482b-bc81-3671cf706a4b",
   "metadata": {},
   "outputs": [],
   "source": [
    "from sp_validation.survey import *\n",
    "from sp_validation.util import *\n",
    "from sp_validation.basic import *\n",
    "from sp_validation.plots import *\n",
    "from sp_validation.cosmology import *"
   ]
  },
  {
   "cell_type": "markdown",
   "id": "8667fc8c-f9b2-4ca6-9b6f-60278f03b111",
   "metadata": {},
   "source": [
    "# Project to Cartesian coordinates"
   ]
  },
  {
   "cell_type": "code",
   "execution_count": null,
   "id": "be6f6da9-a040-4aab-a935-5e20b1feb579",
   "metadata": {},
   "outputs": [],
   "source": [
    "x_local = {}\n",
    "y_local = {}\n",
    "\n",
    "for sh in shapes:\n",
    "\n",
    "    x_local[sh] = {}\n",
    "    y_local[sh] = {}\n",
    "    \n",
    "    for cal_pix in cal_pix_size_deg:\n",
    "\n",
    "        ra_mean_local = np.mean(ra_local[sh][cal_pix])\n",
    "        dec_mean_local = np.mean(dec_local[sh][cal_pix])\n",
    "        x_local[sh][cal_pix], y_local[sh][cal_pix] = radec2xy(\n",
    "            ra_mean_local,\n",
    "            dec_mean_local,\n",
    "            ra_local[sh][cal_pix],\n",
    "            dec_local[sh][cal_pix]\n",
    "        )"
   ]
  },
  {
   "cell_type": "markdown",
   "id": "c7a72993-d22c-4f2a-9cb4-84c92ed5d35b",
   "metadata": {},
   "source": [
    "# Bin in 2D"
   ]
  },
  {
   "cell_type": "code",
   "execution_count": null,
   "id": "9c98f66d-8a54-4bfc-9423-c73ab82f06f3",
   "metadata": {},
   "outputs": [],
   "source": [
    "g_corr_local_m_global_c_map = {}\n",
    "\n",
    "for sh in shapes:\n",
    "\n",
    "    g_corr_local_m_global_c_map[sh] = {}\n",
    "    \n",
    "    for cal_pix in cal_pix_size_deg:\n",
    "        g1_tmp, g2_tmp = bin2d(\n",
    "            x_local[sh][cal_pix],\n",
    "            y_local[sh][cal_pix],\n",
    "            npix=(Nx[sh], Ny[sh]), \n",
    "            v=(\n",
    "                g_corr_local_m_global_c[sh][cal_pix][0],\n",
    "                g_corr_local_m_global_c[sh][cal_pix][1]\n",
    "            ),\n",
    "            extent=(min_x[sh], max_x_new[sh], min_y[sh], max_y_new[sh])\n",
    "        )\n",
    "\n",
    "        g_corr_local_m_global_c_map[sh][cal_pix] = np.array([g1_tmp, g2_tmp])"
   ]
  },
  {
   "cell_type": "markdown",
   "id": "3207258d-8b3e-4e11-b2f8-28a0cc99e334",
   "metadata": {},
   "source": [
    "# Create convergence maps"
   ]
  },
  {
   "cell_type": "code",
   "execution_count": null,
   "id": "1e00535e-920a-491a-858e-2c70526b14fc",
   "metadata": {},
   "outputs": [],
   "source": [
    "# Transform gamma -> kappa using the Kaiser-Squires (1993) algorithm\n",
    "\n",
    "kappaE_local = {}\n",
    "kappaB_local = {}\n",
    "\n",
    "for sh in shapes:\n",
    "    \n",
    "    kappaE_local[sh] = {}\n",
    "    kappaB_local[sh] = {}\n",
    "    \n",
    "    for cal_pix in cal_pix_size_deg:\n",
    "        \n",
    "        kappaE_local[sh][cal_pix], kappaB_local[sh][cal_pix] = ks93(\n",
    "            g1_sign * g_corr_local_m_global_c_map[sh][cal_pix][0],\n",
    "            g2_sign * g_corr_local_m_global_c_map[sh][cal_pix][1]\n",
    "        )"
   ]
  },
  {
   "cell_type": "code",
   "execution_count": null,
   "id": "2153b06f-3234-48cb-97f7-7ccaff1f7af0",
   "metadata": {},
   "outputs": [],
   "source": [
    "# Smooth with Gaussian filter\n",
    "\n",
    "kappaE_sm_local = {}\n",
    "kappaB_sm_local = {}\n",
    "\n",
    "for sh in shapes:\n",
    "    \n",
    "    kappaE_sm_local[sh] = {}\n",
    "    kappaB_sm_local[sh] = {}\n",
    "    \n",
    "    for cal_pix in cal_pix_size_deg:\n",
    "\n",
    "        kappaE_sm_local[sh][cal_pix] = gaussian_filter(kappaE_local[sh][cal_pix], smoothing_scale_pix)\n",
    "        kappaB_sm_local[sh][cal_pix] = gaussian_filter(kappaB_local[sh][cal_pix], smoothing_scale_pix)"
   ]
  },
  {
   "cell_type": "markdown",
   "id": "8fa14fd1-602a-482c-8e87-b50579b46bf1",
   "metadata": {},
   "source": [
    "## Get known cluster positions"
   ]
  },
  {
   "cell_type": "code",
   "execution_count": null,
   "id": "8e14bd85-b865-41fd-9e8f-304c641faedd",
   "metadata": {},
   "outputs": [],
   "source": [
    "# Get cluster information\n",
    "cluster_cat_name = 'HFI_PCCS_SZ-union_R2.08.fits.gz'\n",
    "vos_dir = 'vos:cfis/cosmostat/cosmology/external/Planck'\n",
    "\n",
    "clusters = get_clusters(cluster_cat_name, vos_dir, data_dir, name, verbose=verbose)\n",
    "\n",
    "print_stats(\n",
    "    f\"{len(clusters['ra'])} clusters found in {name} footprint\",\n",
    "    stats_file,\n",
    "    verbose=verbose\n",
    ")"
   ]
  },
  {
   "cell_type": "code",
   "execution_count": null,
   "id": "1a705057-760d-41a3-ba40-82b5a11ad6f0",
   "metadata": {},
   "outputs": [],
   "source": [
    "# Project cluster positions\n",
    "\n",
    "# Get first shape method, use the same for all projections\n",
    "for sh in shapes:\n",
    "    sh0 = sh\n",
    "    break\n",
    "\n",
    "x_cluster, y_cluster =  radec2xy(\n",
    "    ra_mean[sh0],\n",
    "    dec_mean[sh0],\n",
    "    clusters['ra'],\n",
    "    clusters['dec']\n",
    ")\n",
    "clusters['x'] = x_cluster\n",
    "clusters['y'] = y_cluster"
   ]
  },
  {
   "cell_type": "markdown",
   "id": "024de250-9b20-448d-aac6-9844bdb88aca",
   "metadata": {},
   "source": [
    "# Plot maps"
   ]
  },
  {
   "cell_type": "markdown",
   "id": "6ba1045a-fd3e-4885-acf4-3f745ccfee2a",
   "metadata": {},
   "source": [
    "## Stacked convergence maps"
   ]
  },
  {
   "cell_type": "code",
   "execution_count": null,
   "id": "4cd60598-6cf8-4e0a-a7f7-dd750f413184",
   "metadata": {},
   "outputs": [],
   "source": [
    "# Comoving separation around cluster centers, at cluster redshift, in [Mpc]\n",
    "radius = 5\n",
    "\n",
    "res_stack_mm_local = {}\n",
    "\n",
    "# Stack galaxies\n",
    "for sh in shapes:\n",
    "\n",
    "    res_stack_mm_local[sh] = {}\n",
    "\n",
    "    for cal_pix in cal_pix_size_deg:\n",
    "        \n",
    "        res_stack_mm_local[sh][cal_pix] = stack_mm3(\n",
    "            ra_local[sh][cal_pix],\n",
    "            dec_local[sh][cal_pix],\n",
    "            g_corr_local_m_global_c[sh][cal_pix][0],\n",
    "            g_corr_local_m_global_c[sh][cal_pix][1],\n",
    "            w[sh],\n",
    "            clusters['ra'],\n",
    "            clusters['dec'],\n",
    "            clusters['z'],\n",
    "            radius=radius,\n",
    "            n_match=1000000\n",
    "        )"
   ]
  },
  {
   "cell_type": "code",
   "execution_count": null,
   "id": "495fbcc4-d3fd-4cd7-afe2-4ef3410a2a92",
   "metadata": {},
   "outputs": [],
   "source": [
    "# Plot stacked galaxy density, to check how uniform distribution is. Sometimes at the edges the number\n",
    "# of galaxies drops visibly\n",
    "\n",
    "for sh in shapes:\n",
    "    \n",
    "    plt.figure(figsize=(10 * n_cal, 10))\n",
    "\n",
    "    for idx, cal_pix in enumerate(cal_pix_size_deg):\n",
    "\n",
    "        plt.subplot(1, n_cal, idx+1)\n",
    "        plt.hexbin(\n",
    "            res_stack_mm_local[sh][cal_pix][0],\n",
    "            res_stack_mm_local[sh][cal_pix][1],\n",
    "            gridsize=100,\n",
    "            cmap='gist_stern'\n",
    "        )\n",
    "        cbar = plt.colorbar()\n",
    "        cbar.set_label('Number count', rotation=270)\n",
    "        plt.title(f'{sh} stacked galaxy density plot {cal_pix}')"
   ]
  },
  {
   "cell_type": "code",
   "execution_count": null,
   "id": "f60d6b53-c087-4929-8646-a8daf76120de",
   "metadata": {},
   "outputs": [],
   "source": [
    "# Plot stacked galaxy density, to check how uniform distribution is. Sometimes at the edges the number\n",
    "# of galaxies drops visibly\n",
    "\n",
    "for sh in shapes:\n",
    "    \n",
    "    plt.figure(figsize=(10 * n_cal, 10))\n",
    "\n",
    "    for idx, cal_pix in enumerate(cal_pix_size_deg):\n",
    "\n",
    "        sub_plot(\n",
    "            1,\n",
    "            n_cal,\n",
    "            idx + 1,\n",
    "            res_stack_mm_local[sh][cal_pix],\n",
    "            rf'{sh}: galaxy density, local cal {cal_pix} deg'\n",
    "        )"
   ]
  },
  {
   "cell_type": "code",
   "execution_count": null,
   "id": "684ea674-9458-485c-9ce0-04c7bf9f03a8",
   "metadata": {},
   "outputs": [],
   "source": []
  }
 ],
 "metadata": {
  "kernelspec": {
   "display_name": "Python 3 (ipykernel)",
   "language": "python",
   "name": "python3"
  },
  "language_info": {
   "codemirror_mode": {
    "name": "ipython",
    "version": 3
   },
   "file_extension": ".py",
   "mimetype": "text/x-python",
   "name": "python",
   "nbconvert_exporter": "python",
   "pygments_lexer": "ipython3",
   "version": "3.9.7"
  }
 },
 "nbformat": 4,
 "nbformat_minor": 5
}
