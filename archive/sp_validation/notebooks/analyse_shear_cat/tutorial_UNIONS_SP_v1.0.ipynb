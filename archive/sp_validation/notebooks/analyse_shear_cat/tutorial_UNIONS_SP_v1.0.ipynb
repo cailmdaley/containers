{
 "cells": [
  {
   "cell_type": "markdown",
   "id": "ebd09c95",
   "metadata": {},
   "source": [
    "# Using the UNIONS/CFIS ShapePipe weak-lensing catalogues\n",
    "\n",
    "Tutorial for v1.0 (April 2022)\n",
    "\n",
    "See also `README_SP_v1.0.txt`.\n",
    "\n",
    "Author: Martin Kilbinger <martin.kilbinger@cea.fr>\n",
    "\n",
    "The ShapePipe core team:\n",
    "- Axel Guinot\n",
    "- Sam Farrens\n",
    "- Tobias Liaudat\n",
    "\n",
    "ShapePipe is publicly available at https://github.com/cosmostat/shapepipe .\n",
    "\n",
    "See https://arxiv.org/abs/2204.04798 for details of the analysis of a previous version of the ShapePipe catalogue. "
   ]
  },
  {
   "cell_type": "code",
   "execution_count": 3,
   "id": "5f6ad2d1",
   "metadata": {},
   "outputs": [],
   "source": [
    "# Required python libraries and settings\n",
    "\n",
    "import matplotlib\n",
    "%matplotlib inline\n",
    "\n",
    "import numpy as np\n",
    "from astropy.io import fits\n",
    "import matplotlib as mpl\n",
    "import matplotlib.pylab as plt\n",
    "\n",
    "plt.rcParams['font.size'] = 20"
   ]
  },
  {
   "cell_type": "code",
   "execution_count": 4,
   "id": "88691e71",
   "metadata": {},
   "outputs": [],
   "source": [
    "# Optional: To compute the example shear-shear correlation functions\n",
    "import treecorr"
   ]
  },
  {
   "cell_type": "code",
   "execution_count": 5,
   "id": "cd7f5443",
   "metadata": {},
   "outputs": [],
   "source": [
    "# Catalogue name base\n",
    "cat_base = 'unions_shapepipe'\n",
    "year = 2022\n",
    "\n",
    "# Version\n",
    "version = 'v1.0'"
   ]
  },
  {
   "cell_type": "markdown",
   "id": "b4c89bdf",
   "metadata": {},
   "source": [
    "## 1. Base calibrated weak-lensing catalogue\n",
    "This catalogue should be used *as is*.\n",
    "\n",
    "The shear estimates are calibrated for the entire catalogue. If you intend to apply selections or cuts that depend on galaxy properties, in particular to magnitude, the calibration should be redone. In that case we recommend to use the extended catalogue, see Section 2 below.\n",
    "\n",
    "So, if you want to use this (calibrated) shear catalogue:\n",
    "- do not match to another sample (e.g. spectroscopic galaxies, or LensFit catalogue)\n",
    "- do not apply cuts (e.g. in magnitude)\n",
    "\n",
    "It is fine to apply selections that do not correlate with galaxy properties, such as select spatial sub-areas, regions around clusters, etc."
   ]
  },
  {
   "cell_type": "markdown",
   "id": "05386e14",
   "metadata": {},
   "source": [
    "### Open FITS file"
   ]
  },
  {
   "cell_type": "code",
   "execution_count": 6,
   "id": "1f5ab9a0",
   "metadata": {},
   "outputs": [
    {
     "name": "stdout",
     "output_type": "stream",
     "text": [
      "Opening base catalogue unions_shapepipe_2022_v1.0.fits...\n"
     ]
    }
   ],
   "source": [
    "cat_name = f'{cat_base}_{year}_{version}.fits'\n",
    "print(f'Opening base catalogue {cat_name}...')\n",
    "hdu_list = fits.open(cat_name)\n",
    "data = hdu_list[1].data"
   ]
  },
  {
   "cell_type": "markdown",
   "id": "fe0087a4",
   "metadata": {},
   "source": [
    "### Print file content information"
   ]
  },
  {
   "cell_type": "code",
   "execution_count": 7,
   "id": "fb985c55",
   "metadata": {},
   "outputs": [
    {
     "data": {
      "text/plain": [
       "('RA', 'Dec', 'e1', 'e2', 'w', 'mag', 'patch')"
      ]
     },
     "execution_count": 7,
     "metadata": {},
     "output_type": "execute_result"
    }
   ],
   "source": [
    "# Column names\n",
    "data.dtype.names"
   ]
  },
  {
   "cell_type": "code",
   "execution_count": 8,
   "id": "2c872147",
   "metadata": {},
   "outputs": [
    {
     "data": {
      "text/plain": [
       "97239250"
      ]
     },
     "execution_count": 8,
     "metadata": {},
     "output_type": "execute_result"
    }
   ],
   "source": [
    "# Number of objects\n",
    "len(data)"
   ]
  },
  {
   "cell_type": "code",
   "execution_count": 9,
   "id": "ce445538",
   "metadata": {},
   "outputs": [
    {
     "data": {
      "text/plain": [
       "SIMPLE  =                    T / conforms to FITS standard                      \n",
       "BITPIX  =                    8 / array data type                                \n",
       "NAXIS   =                    0 / number of array dimensions                     \n",
       "EXTEND  =                    T                                                  \n",
       "AUTHOR  = 'mkilbing'           / Who ran the software                           \n",
       "SOFTNAME= 'sp_validation'      / Name of the software                           \n",
       "SOFTVERS= '0.3.3   '           / Version of the software                        \n",
       "DATE    = '2022-04-19_15-50-42' / When it was started                           \n",
       "R       = '<R>     '           / Mean full response <R_shear> + <R_select>      \n",
       "R_11    =   0.6891199907965454 / Full response matrix comp 1 1                  \n",
       "R_12    = 0.000144995449973587 / Full response matrix comp 1 2                  \n",
       "R_21    = 7.83877734394397E-05 / Full response matrix comp 2 1                  \n",
       "R_22    =   0.6890598043215553 / Full response matrix comp 2 2                  \n",
       "R_G     = '<R_g>   '           / Mean shear response matrix <R_shear>           \n",
       "R_G11   =   0.6847631907965454 / Mean shear resp matrix comp 1 1                \n",
       "R_G12   = 0.000141395449973587 / Mean shear resp matrix comp 1 2                \n",
       "R_G21   = 0.000139087773439439 / Mean shear resp matrix comp 2 1                \n",
       "R_G22   =   0.6859605043215553 / Mean shear resp matrix comp 2 2                \n",
       "R_S     = '<R_S>   '           / Global selection response matrix <R_select>    \n",
       "R_S11   =            0.0043568 / Global selection resp matrix comp 1 1          \n",
       "R_S12   =              3.6E-06 / Global selection resp matrix comp 1 2          \n",
       "R_S21   =            -6.07E-05 / Global selection resp matrix comp 2 1          \n",
       "R_S22   =            0.0030993 / Global selection resp matrix comp 2 2          \n",
       "C_1     = -0.00018552536972899 / Additive bias 1st comp                         \n",
       "C_2     = 0.000151504673874592 / Additive bias 2nd comp                         \n",
       "C1_ERR  =             2.39E-05 / Standard deviation of c_1                      \n",
       "C2_ERR  =             2.41E-05 / Standard deviation of c_2                      \n",
       "W       = 'Weight  '           / 1 / (2*sig_eps^2 + sig^2(g_1) + sig^2(g_2))    "
      ]
     },
     "execution_count": 9,
     "metadata": {},
     "output_type": "execute_result"
    }
   ],
   "source": [
    "# Print headers\n",
    "hdu_list[0].header"
   ]
  },
  {
   "cell_type": "code",
   "execution_count": 10,
   "id": "040bd0dc",
   "metadata": {},
   "outputs": [
    {
     "data": {
      "text/plain": [
       "XTENSION= 'BINTABLE'           / binary table extension                         \n",
       "BITPIX  =                    8 / array data type                                \n",
       "NAXIS   =                    2 / number of array dimensions                     \n",
       "NAXIS1  =                   50 / length of dimension 1                          \n",
       "NAXIS2  =             97239250 / length of dimension 2                          \n",
       "PCOUNT  =                    0 / number of group parameters                     \n",
       "GCOUNT  =                    1 / number of groups                               \n",
       "TFIELDS =                    7 / number of table fields                         \n",
       "TTYPE1  = 'RA      '                                                            \n",
       "TFORM1  = 'D       '                                                            \n",
       "TUNIT1  = 'deg     '                                                            \n",
       "TTYPE2  = 'Dec     '                                                            \n",
       "TFORM2  = 'D       '                                                            \n",
       "TUNIT2  = 'deg     '                                                            \n",
       "TTYPE3  = 'e1      '           / Calibrated reduced shear estimate, 1st comp    \n",
       "TFORM3  = 'D       '                                                            \n",
       "TTYPE4  = 'e2      '           / Calibrated reduced shear estimate, 2nd comp    \n",
       "TFORM4  = 'D       '                                                            \n",
       "TTYPE5  = 'w       '           / Weight                                         \n",
       "TFORM5  = 'D       '                                                            \n",
       "TTYPE6  = 'mag     '           / Magnitude = MAG_AUTO (SExtractor)              \n",
       "TFORM6  = 'D       '                                                            \n",
       "TTYPE7  = 'patch   '                                                            \n",
       "TFORM7  = 'I       '                                                            "
      ]
     },
     "execution_count": 10,
     "metadata": {},
     "output_type": "execute_result"
    }
   ],
   "source": [
    "hdu_list[1].header"
   ]
  },
  {
   "cell_type": "markdown",
   "id": "6b893f9f",
   "metadata": {},
   "source": [
    "### Example 1: Plot magnitude distribution"
   ]
  },
  {
   "cell_type": "code",
   "execution_count": 40,
   "id": "142fff57",
   "metadata": {},
   "outputs": [
    {
     "data": {
      "image/png": "[encoded data removed]",
      "text/plain": [
       "<Figure size 432x288 with 1 Axes>"
      ]
     },
     "metadata": {
      "needs_background": "light"
     },
     "output_type": "display_data"
    }
   ],
   "source": [
    "plt.hist(data['mag'], bins=100, range=(19, 26))\n",
    "plt.xlabel('$r$-band magnitude')\n",
    "_ = plt.ylabel('frequency')"
   ]
  },
  {
   "cell_type": "markdown",
   "id": "fa9c2a8b",
   "metadata": {},
   "source": [
    "### Example 2: Compute shear-shear correlation function"
   ]
  },
  {
   "cell_type": "code",
   "execution_count": 37,
   "id": "37ea4bcd",
   "metadata": {},
   "outputs": [],
   "source": [
    "# Create TreeCorr configuration\n",
    "\n",
    "# Get coordinate units from FITS file\n",
    "coord_unit = hdu_list[1].header['TUNIT1']\n",
    "if coord_unit != hdu_list[1].header['TUNIT2']:\n",
    "    raise ValueError('Units for RA and Dec should be equal')\n",
    "\n",
    "# Set output unit of angular separation\n",
    "sep_unit = 'arcmin'\n",
    "\n",
    "TreeCorrConfig = {\n",
    "        'ra_units': coord_unit,\n",
    "        'dec_units': coord_unit,\n",
    "        'max_sep': '200',\n",
    "        'min_sep': '1',\n",
    "        'sep_units': sep_unit,\n",
    "        'nbins': 20\n",
    "    }"
   ]
  },
  {
   "cell_type": "code",
   "execution_count": 38,
   "id": "203279f8",
   "metadata": {},
   "outputs": [],
   "source": [
    "# Create TreeCorr catalogue\n",
    "cat_gal = treecorr.Catalog(\n",
    "    ra=data['RA'],\n",
    "    dec=data['Dec'],\n",
    "    g1=data['e1'],\n",
    "    g2=data['e2'],\n",
    "    w=data['w'],\n",
    "    ra_units=coord_unit,\n",
    "    dec_units=coord_unit\n",
    ")"
   ]
  },
  {
   "cell_type": "code",
   "execution_count": 13,
   "id": "7eb2be94",
   "metadata": {},
   "outputs": [],
   "source": [
    "# Create correlation object\n",
    "gg = treecorr.GGCorrelation(TreeCorrConfig)"
   ]
  },
  {
   "cell_type": "code",
   "execution_count": 14,
   "id": "73c9a7c9",
   "metadata": {},
   "outputs": [],
   "source": [
    "# Process correlation. This can take a few minutes.\n",
    "gg.process(cat_gal, cat_gal)"
   ]
  },
  {
   "cell_type": "code",
   "execution_count": 15,
   "id": "76b9d00e",
   "metadata": {},
   "outputs": [
    {
     "data": {
      "image/png": "[encoded data removed]",
      "text/plain": [
       "<Figure size 1008x576 with 1 Axes>"
      ]
     },
     "metadata": {
      "needs_background": "light"
     },
     "output_type": "display_data"
    }
   ],
   "source": [
    "# Plot components of the correlation functions\n",
    "plt.figure(figsize=(14,8))\n",
    "\n",
    "plt.errorbar(gg.meanr, gg.xip, yerr=np.sqrt(gg.varxip), label=r'$\\xi_+$')\n",
    "plt.errorbar(gg.meanr, gg.xim, yerr=np.sqrt(gg.varxim), label=r'$\\xi_-$')\n",
    "plt.loglog()\n",
    "\n",
    "plt.legend()\n",
    "plt.xlabel(rf'$\\theta$ [{sep_unit}]')\n",
    "_ = plt.ylabel(r'$\\xi_\\pm(\\theta)$')"
   ]
  },
  {
   "cell_type": "markdown",
   "id": "195f2fad",
   "metadata": {},
   "source": [
    "## 2. Extended weak-lensing catalogue\n",
    "\n",
    "This catalogue needs to be *calibrated before use*.\n",
    "It contains the relevant information to calibrate the catalogue, with the method of *metacalibration* (https://arxiv.org/abs/1702.02600).\n",
    "\n",
    "Cuts can be applied to the catalogue before calibration."
   ]
  },
  {
   "cell_type": "markdown",
   "id": "66045aba",
   "metadata": {},
   "source": [
    "### Open FITS file"
   ]
  },
  {
   "cell_type": "code",
   "execution_count": 16,
   "id": "2ed6dcba",
   "metadata": {},
   "outputs": [
    {
     "name": "stdout",
     "output_type": "stream",
     "text": [
      "Openging catalogue unions_shapepipe_extended_2022_v1.0.fits...\n"
     ]
    }
   ],
   "source": [
    "cat_ext_name = f'{cat_base}_extended_{year}_{version}.fits'\n",
    "print(f'Openging catalogue {cat_ext_name}...')\n",
    "hdu_list_ext = fits.open(cat_ext_name)\n",
    "data_ext = hdu_list_ext[1].data "
   ]
  },
  {
   "cell_type": "markdown",
   "id": "ce764424",
   "metadata": {},
   "source": [
    "### Print file content information"
   ]
  },
  {
   "cell_type": "code",
   "execution_count": 17,
   "id": "3e812141",
   "metadata": {},
   "outputs": [
    {
     "data": {
      "text/plain": [
       "('RA',\n",
       " 'Dec',\n",
       " 'e1',\n",
       " 'e2',\n",
       " 'w',\n",
       " 'mag',\n",
       " 'snr',\n",
       " 'e1_uncal',\n",
       " 'e2_uncal',\n",
       " 'R_g11',\n",
       " 'R_g22',\n",
       " 'R_g12',\n",
       " 'R_g21',\n",
       " 'e1_PSF',\n",
       " 'e2_PSF',\n",
       " 'fwhm_PSF',\n",
       " 'mask_extern',\n",
       " 'patch')"
      ]
     },
     "execution_count": 17,
     "metadata": {},
     "output_type": "execute_result"
    }
   ],
   "source": [
    "# Print column names\n",
    "data_ext.dtype.names"
   ]
  },
  {
   "cell_type": "code",
   "execution_count": 18,
   "id": "5ada03c6",
   "metadata": {},
   "outputs": [
    {
     "data": {
      "text/plain": [
       "97239250"
      ]
     },
     "execution_count": 18,
     "metadata": {},
     "output_type": "execute_result"
    }
   ],
   "source": [
    "# Number of objects\n",
    "len(data_ext)"
   ]
  },
  {
   "cell_type": "markdown",
   "id": "239315f6",
   "metadata": {},
   "source": [
    "### Shear calibration"
   ]
  },
  {
   "cell_type": "markdown",
   "id": "5b9dff82",
   "metadata": {},
   "source": [
    "The calibration for ShapePipe depends on the properties of the galaxy sample. It should be\n",
    "carried out after selecting a (sub-)sample of galaxies."
   ]
  },
  {
   "cell_type": "code",
   "execution_count": 26,
   "id": "cd6cd146",
   "metadata": {},
   "outputs": [
    {
     "name": "stdout",
     "output_type": "stream",
     "text": [
      "Keeping 97239250/97239250 = 100.0% objects\n"
     ]
    }
   ],
   "source": [
    "# First step: Apply cuts, select (sub-)sample of galaxies.\n",
    "# The following dummy example selects the entire sample.\n",
    "mask = np.full(len(data_ext), True)\n",
    "\n",
    "# Other examples:\n",
    "## Select objects in LensFit umasked regions\n",
    "# mask = data_ext['mask_extern'] == 0\n",
    "\n",
    "## Select objects in patch P3\n",
    "# mask = data_ext['patch'] == 3\n",
    "\n",
    "## r-band magnitude cut\n",
    "# mask = data_ext['mag'] < 23.5\n",
    "\n",
    "n_kept = len(np.where(mask == True)[0])\n",
    "n_all = len(data_ext)\n",
    "print(\n",
    "    f'Keeping {n_kept}/{n_all} = '\n",
    "    + f'{n_kept / n_all * 100:.1f}% objects'\n",
    ")\n",
    "\n",
    "data_ext_sub = data_ext[mask]"
   ]
  },
  {
   "cell_type": "code",
   "execution_count": 27,
   "id": "a337abf0",
   "metadata": {},
   "outputs": [],
   "source": [
    "# Second step: Carry out calibration, as follows."
   ]
  },
  {
   "cell_type": "markdown",
   "id": "90b6c60f",
   "metadata": {},
   "source": [
    "#### Compute additive bias"
   ]
  },
  {
   "cell_type": "code",
   "execution_count": 28,
   "id": "16d16ad9",
   "metadata": {},
   "outputs": [],
   "source": [
    "# For a survey as large as UNIONS/CFIS, the assumption that the mean shear over\n",
    "# the observed area vanishes, is a very good approximation.\n",
    "# Then, the additive bias is the weighted mean of the uncalibrated ellipticities.\n",
    "\n",
    "# This value corresponding to the entire sample is also given in the\n",
    "# catalogue FITS header.\n",
    "\n",
    "c = np.empty(shape=(2))\n",
    "for comp in (0, 1):\n",
    "    c[comp] = np.average(\n",
    "        data_ext_sub[f'e{comp+1}_uncal'],\n",
    "        weights=data_ext_sub['w']\n",
    "    )"
   ]
  },
  {
   "cell_type": "code",
   "execution_count": 29,
   "id": "b9e71046",
   "metadata": {},
   "outputs": [
    {
     "name": "stdout",
     "output_type": "stream",
     "text": [
      "Additive bias\n",
      "c_1 = -0.000186\n",
      "c_2 = 0.000152\n"
     ]
    }
   ],
   "source": [
    "print('Additive bias')\n",
    "for comp in (0, 1):\n",
    "    print(f'c_{comp+1} = {c[comp]:.3g}')"
   ]
  },
  {
   "cell_type": "markdown",
   "id": "1f2804e8",
   "metadata": {},
   "source": [
    "#### Compute multiplicative bias\n",
    "\n",
    "In the metacalibration scheme the multiplicative bias is a 2x2 matrix $R$.\n",
    "It is the sum of the shear response matrix $R_g$ and the selection response matrix $R_\\textrm{s}$,\n",
    "$$R = R_g + R_\\textrm{s} .$$\n",
    "These matrices corresponding to the entire sample are also given in the catalogue FITS header."
   ]
  },
  {
   "cell_type": "markdown",
   "id": "b8735dc1",
   "metadata": {},
   "source": [
    "##### Shear response matrix $R_g$"
   ]
  },
  {
   "cell_type": "code",
   "execution_count": 30,
   "id": "db33c704",
   "metadata": {},
   "outputs": [],
   "source": [
    "# The shear response matrix for each individual galaxy is part of the extended catalogue.\n",
    "# The corresponding ensemble matrix for a (sub-)sample needs to be computed\n",
    "# after selecting the (sub-)sample in the first step above.\n",
    "\n",
    "R_g = np.empty(shape=(2, 2))\n",
    "\n",
    "for idx in (0, 1):\n",
    "    for jdx in (0, 1):\n",
    "        R_g[idx, jdx] = np.mean(data_ext_sub[f'R_g{idx+1}{jdx+1}'])"
   ]
  },
  {
   "cell_type": "code",
   "execution_count": 31,
   "id": "98f3cdb7",
   "metadata": {},
   "outputs": [
    {
     "name": "stdout",
     "output_type": "stream",
     "text": [
      "Shear response matrix R_g =\n",
      "[[6.84763191e-01 1.41395450e-04]\n",
      " [1.39087773e-04 6.85960504e-01]]\n"
     ]
    }
   ],
   "source": [
    "print('Shear response matrix R_g =')\n",
    "print(np.matrix(R_g))"
   ]
  },
  {
   "cell_type": "markdown",
   "id": "59b4f65c",
   "metadata": {},
   "source": [
    "##### Selection matrix $R_\\textrm{s}$\n",
    "\n",
    "The selection matrix was pre-computed for the entire galaxy sample; it is not\n",
    "possible do obtain $R_\\textrm{s}$ for individual galaxies. Therefore, in this\n",
    "version of the ShapePipe catalogue we use the global selection matrix also for\n",
    "sub-samples of galaxies. This will be improved in future versions.\n",
    "\n",
    "Since $|R_\\textrm{s}| < |R_g|$, the resulting error is small."
   ]
  },
  {
   "cell_type": "code",
   "execution_count": 32,
   "id": "bd8c947a",
   "metadata": {},
   "outputs": [],
   "source": [
    "R_s = np.empty(shape=(2, 2))\n",
    "for idx in (0, 1):\n",
    "    for jdx in (0, 1):\n",
    "        R_s[idx][jdx] = hdu_list_ext[0].header[f'R_S{idx+1}{jdx+1}']"
   ]
  },
  {
   "cell_type": "code",
   "execution_count": 33,
   "id": "39edb074",
   "metadata": {},
   "outputs": [
    {
     "name": "stdout",
     "output_type": "stream",
     "text": [
      "Selection response matrix R_s =\n",
      "[[ 4.3568e-03  3.6000e-06]\n",
      " [-6.0700e-05  3.0993e-03]]\n"
     ]
    }
   ],
   "source": [
    "print('Selection response matrix R_s =')\n",
    "print(np.matrix(R_s))"
   ]
  },
  {
   "cell_type": "markdown",
   "id": "d878c3c2",
   "metadata": {},
   "source": [
    "##### Total response matrix $R = R_g + R_\\textrm{s}$"
   ]
  },
  {
   "cell_type": "code",
   "execution_count": 34,
   "id": "df7ae3eb",
   "metadata": {},
   "outputs": [
    {
     "name": "stdout",
     "output_type": "stream",
     "text": [
      "Total response matrix R =\n",
      "[[6.89119991e-01 1.44995450e-04]\n",
      " [7.83877734e-05 6.89059804e-01]]\n"
     ]
    }
   ],
   "source": [
    "R = R_g + R_s\n",
    "\n",
    "print('Total response matrix R =')\n",
    "print(np.matrix(R))"
   ]
  },
  {
   "cell_type": "markdown",
   "id": "7d8de270",
   "metadata": {},
   "source": [
    "#### Apply calibration to raw shear values and obtain calibrated shear estimates\n",
    "\n",
    "The relation between observed shear $\\gamma^\\textrm{obs}$ and true shear $\\gamma$ is given by the matrix equation\n",
    "$$\\gamma^\\textrm{obs} = R \\gamma + c .$$\n",
    "To account for the two biases we subtract the additive term, and multiply with the inverse of the total response matrix."
   ]
  },
  {
   "cell_type": "code",
   "execution_count": 35,
   "id": "6d8944cc",
   "metadata": {},
   "outputs": [],
   "source": [
    "e_uncal_minus_c = np.array([\n",
    "    data_ext['e1_uncal'] - c[0],\n",
    "    data_ext['e2_uncal'] - c[1]\n",
    "])\n",
    "Rm1 = np.linalg.inv(R)\n",
    "e_cal = Rm1.dot(e_uncal_minus_c)"
   ]
  },
  {
   "cell_type": "code",
   "execution_count": 36,
   "id": "0c0842de",
   "metadata": {},
   "outputs": [
    {
     "name": "stdout",
     "output_type": "stream",
     "text": [
      "[[ 0.07302936 -0.61328627  0.20705113]\n",
      " [-0.06351253  0.29880159  0.64937902]]\n",
      "[ 0.07302936 -0.61328627  0.20705113] [-0.06351253  0.29880159  0.64937902]\n"
     ]
    }
   ],
   "source": [
    "# Cross-check (*only* valid if no cut has been applied to galaxysample):\n",
    "# Compare first few calibrated shears from base catalogue to\n",
    "# the ones from the extended catalogue calibrated \"by hand\"\n",
    "\n",
    "print(e_cal[:,0:3])\n",
    "\n",
    "print(data['e1'][0:3], data['e2'][0:3])"
   ]
  },
  {
   "cell_type": "code",
   "execution_count": null,
   "id": "1ff6dd5b",
   "metadata": {},
   "outputs": [],
   "source": []
  }
 ],
 "metadata": {
  "kernelspec": {
   "display_name": "Python 3 (ipykernel)",
   "language": "python",
   "name": "python3"
  },
  "language_info": {
   "codemirror_mode": {
    "name": "ipython",
    "version": 3
   },
   "file_extension": ".py",
   "mimetype": "text/x-python",
   "name": "python",
   "nbconvert_exporter": "python",
   "pygments_lexer": "ipython3",
   "version": "3.9.7"
  }
 },
 "nbformat": 4,
 "nbformat_minor": 5
}
