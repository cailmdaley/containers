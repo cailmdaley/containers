{
 "cells": [
  {
   "cell_type": "code",
   "execution_count": null,
   "id": "0bc28825",
   "metadata": {},
   "outputs": [],
   "source": [
    "import numpy as np\n",
    "import matplotlib.pyplot as plt\n",
    "import pandas as pd\n",
    "import sys\n",
    "import os\n",
    "from scipy import stats"
   ]
  },
  {
   "cell_type": "code",
   "execution_count": null,
   "id": "b330adb7",
   "metadata": {},
   "outputs": [],
   "source": [
    "sp_val = '{}/sp_validation/sp_validation'.format(os.environ['HOME'])\n",
    "\n",
    "for sc in ['survey', 'params', 'io','basic']:\n",
    "    script = os.path.join(sp_val, sc)\n",
    "    %run $script"
   ]
  },
  {
   "cell_type": "code",
   "execution_count": null,
   "id": "8583d6c4",
   "metadata": {},
   "outputs": [],
   "source": [
    "# Load the data\n",
    "dataset = pd.read_csv('./P3X/all_data.csv')"
   ]
  },
  {
   "cell_type": "code",
   "execution_count": null,
   "id": "1842d7af",
   "metadata": {},
   "outputs": [],
   "source": [
    "print(np.shape(dataset))"
   ]
  },
  {
   "cell_type": "code",
   "execution_count": null,
   "id": "5f2939df",
   "metadata": {},
   "outputs": [],
   "source": [
    "def NormalizeData(data):\n",
    "    return (data - np.min(data)) / (np.max(data) - np.min(data))"
   ]
  },
  {
   "cell_type": "code",
   "execution_count": null,
   "id": "1fcfe212",
   "metadata": {},
   "outputs": [],
   "source": [
    "# Extract every parameters, some are from the catalogue and some are from the calibration at x square degree\n",
    "n_gal = NormalizeData(dataset['n gal'].values)\n",
    "kappaE = NormalizeData(dataset['kappa_E'].values)\n",
    "kappaE_smooth = NormalizeData(dataset['kappa_E smooth'].values)\n",
    "kappaB = NormalizeData(dataset['kappa_B'].values)\n",
    "kappaB_smooth = NormalizeData(dataset['kappa_B smooth'].values)\n",
    "kappaE_05 = NormalizeData(dataset['kappa_E 05 deg'].values)\n",
    "kappaB_05 = NormalizeData(dataset['kappa_B 05 deg'].values)\n",
    "kappaE_1 = NormalizeData(dataset['kappa_E 1 deg'].values)\n",
    "kappaB_1 = NormalizeData(dataset['kappa_B 1 deg'].values)\n",
    "kappaE_2 = NormalizeData(dataset['kappa_E 2 deg'].values)\n",
    "kappaB_2 = NormalizeData(dataset['kappa_B 2 deg'].values)\n",
    "kappaE_4 = NormalizeData(dataset['kappa_E 4 deg'].values)\n",
    "kappaB_4 = NormalizeData(dataset['kappa_B 4 deg'].values)\n",
    "R11shear_05 = NormalizeData(dataset['R_11 shear 05 deg'].values)\n",
    "R22shear_05 = NormalizeData(dataset['R_22 shear 05 deg'].values)\n",
    "R12shear_05 = NormalizeData(dataset['R_12 shear 05 deg'].values)\n",
    "R21shear_05 = NormalizeData(dataset['R_21 shear 05 deg'].values)\n",
    "R11selec_05 = NormalizeData(dataset['R_11 selec 05 deg'].values)\n",
    "R22selec_05 = NormalizeData(dataset['R_22 selec 05 deg'].values)\n",
    "R12selec_05 = NormalizeData(dataset['R_12 selec 05 deg'].values)\n",
    "R21selec_05 = NormalizeData(dataset['R_21 selec 05 deg'].values)\n",
    "R11tot_05 = NormalizeData(dataset['R_11 tot 05 deg'].values)\n",
    "R22tot_05 = NormalizeData(dataset['R_22 tot 05 deg'].values)\n",
    "R12tot_05 = NormalizeData(dataset['R_12 tot 05 deg'].values)\n",
    "R21tot_05 = NormalizeData(dataset['R_21 tot 05 deg'].values)\n",
    "R11shear_1 = NormalizeData(dataset['R_11 shear 1 deg'].values)\n",
    "R22shear_1 = NormalizeData(dataset['R_22 shear 1 deg'].values)\n",
    "R12shear_1 = NormalizeData(dataset['R_12 shear 1 deg'].values)\n",
    "R21shear_1 = NormalizeData(dataset['R_21 shear 1 deg'].values)\n",
    "R11selec_1 = NormalizeData(dataset['R_11 selec 1 deg'].values)\n",
    "R22selec_1 = NormalizeData(dataset['R_22 selec 1 deg'].values)\n",
    "R12selec_1 = NormalizeData(dataset['R_12 selec 1 deg'].values)\n",
    "R21selec_1 = NormalizeData(dataset['R_21 selec 1 deg'].values)\n",
    "R11tot_1 = NormalizeData(dataset['R_11 tot 1 deg'].values)\n",
    "R22tot_1 = NormalizeData(dataset['R_22 tot 1 deg'].values)\n",
    "R12tot_1 = NormalizeData(dataset['R_12 tot 1 deg'].values)\n",
    "R21tot_1 = NormalizeData(dataset['R_21 tot 1 deg'].values)\n",
    "R11shear_2 = NormalizeData(dataset['R_11 shear 2 deg'].values)\n",
    "R22shear_2 = NormalizeData(dataset['R_22 shear 2 deg'].values)\n",
    "R12shear_2 = NormalizeData(dataset['R_12 shear 2 deg'].values)\n",
    "R21shear_2 = NormalizeData(dataset['R_21 shear 2 deg'].values)\n",
    "R11selec_2 = NormalizeData(dataset['R_11 selec 2 deg'].values)\n",
    "R22selec_2 = NormalizeData(dataset['R_22 selec 2 deg'].values)\n",
    "R12selec_2 = NormalizeData(dataset['R_12 selec 2 deg'].values)\n",
    "R21selec_2 = NormalizeData(dataset['R_21 selec 2 deg'].values)\n",
    "R11ttot_2 = NormalizeData(dataset['R_11 tot 2 deg'].values)\n",
    "R22tot_2 = NormalizeData(dataset['R_22 tot 2 deg'].values)\n",
    "R12tot_2 = NormalizeData(dataset['R_12 tot 2 deg'].values)\n",
    "R21tot_2 = NormalizeData(dataset['R_21 tot 2 deg'].values)\n",
    "R11shear_4 = NormalizeData(dataset['R_11 shear 4 deg'].values)\n",
    "R22shear_4 = NormalizeData(dataset['R_22 shear 4 deg'].values)\n",
    "R12shear_4 = NormalizeData(dataset['R_12 shear 4 deg'].values)\n",
    "R21shear_4 = NormalizeData(dataset['R_21 shear 4 deg'].values)\n",
    "R11selec_4 = NormalizeData(dataset['R_11 selec 4 deg'].values)\n",
    "R22selec_4 = NormalizeData(dataset['R_22 selec 4 deg'].values)\n",
    "R12selec_4 = NormalizeData(dataset['R_12 selec 4 deg'].values)\n",
    "R21selec_4 = NormalizeData(dataset['R_21 selec 4 deg'].values)\n",
    "R11tot_4 = NormalizeData(dataset['R_11 tot 4 deg'].values)\n",
    "R22tot_4 = NormalizeData(dataset['R_22 tot 4 deg'].values)\n",
    "R12tot_4 = NormalizeData(dataset['R_12 tot 4 deg'].values)\n",
    "R21tot_4 = NormalizeData(dataset['R_21 tot 4 deg'].values)\n",
    "psf1 = NormalizeData(dataset['psf 1'].values)\n",
    "psf2 = NormalizeData(dataset['psf 2'].values)\n",
    "module_psf = NormalizeData(dataset['module psf'].values)\n",
    "size_gal = NormalizeData(dataset['size gal'].values)\n",
    "n_epoch = NormalizeData(dataset['n epoch'].values)\n",
    "mag = NormalizeData(dataset['mag'].values)\n",
    "snr_gal = NormalizeData(dataset['snr'].values)\n",
    "snr_ngmix = NormalizeData(dataset['snr ngmix'].values)\n",
    "size_psf = NormalizeData(dataset['size psf'].values)\n",
    "w = NormalizeData(dataset['weight gal'].values)\n",
    "Rshear_diag_05 = NormalizeData(dataset['R diag shear 05 deg'].values)\n",
    "Rshear_off_05 = NormalizeData(dataset['R off diag shear 05 deg'].values)\n",
    "Rselec_diag_05 = NormalizeData(dataset['R diag selec 05 deg'].values)\n",
    "Relec_off_05 = NormalizeData(dataset['R off diag selec 05 deg'].values)\n",
    "Rtot_diag_05 = NormalizeData(dataset['R diag tot 05 deg'].values)\n",
    "Rtot_off_05 = NormalizeData(dataset['R off diag tot 05 deg'].values)\n",
    "Rshear_diag_1 = NormalizeData(dataset['R diag shear 1 deg'].values)\n",
    "Rshear_off_1 = NormalizeData(dataset['R off diag shear 1 deg'].values)\n",
    "Rselec_diag_1 = NormalizeData(dataset['R diag selec 1 deg'].values)\n",
    "Rselec_off_1 = NormalizeData(dataset['R off diag selec 1 deg'].values)\n",
    "Rtot_diag_1 = NormalizeData(dataset['R diag tot 1 deg'].values)\n",
    "Rtot_off_1 = NormalizeData(dataset['R off diag tot 1 deg'].values)\n",
    "Rshear_diag_2 = NormalizeData(dataset['R diag shear 2 deg'].values)\n",
    "Rshear_off_2 = NormalizeData(dataset['R off diag shear 2 deg'].values)\n",
    "Rselec_diag_2 = NormalizeData(dataset['R diag selec 2 deg'].values)\n",
    "Rselec_off_2 = NormalizeData(dataset['R off diag selec 2 deg'].values)\n",
    "Rtot_diag_2 = NormalizeData(dataset['R diag tot 2 deg'].values)\n",
    "Rtot_off_2 = NormalizeData(dataset['R off diag tot 2 deg'].values)\n",
    "Rshear_diag_4 = NormalizeData(dataset['R diag shear 4 deg'].values)\n",
    "Rshear_off_4 = NormalizeData(dataset['R off diag shear 4 deg'].values)\n",
    "Rselec_diag_4 = NormalizeData(dataset['R diag selec 4 deg'].values)\n",
    "Rselec_off_4 = NormalizeData(dataset['R off diag selec 4 deg'].values)\n",
    "Rtot_diag_4 = NormalizeData(dataset['R diag tot 4 deg'].values)\n",
    "Rtot_off_4 = NormalizeData(dataset['R off diag tot 4 deg'].values)\n",
    "peaks = NormalizeData(dataset['peaks'].values)\n",
    "c1_05 = NormalizeData(dataset['c1 05 deg'].values)\n",
    "c2_05 = NormalizeData(dataset['c2 05 deg'].values)\n",
    "c1_1 = NormalizeData(dataset['c1 1 deg'].values)\n",
    "c2_1 = NormalizeData(dataset['c2 1 deg'].values)\n",
    "c1_2 = NormalizeData(dataset['c1 2 deg'].values)\n",
    "c2_2 = NormalizeData(dataset['c2 2 deg'].values)\n",
    "c1_4 = NormalizeData(dataset['c1 4 deg'].values)\n",
    "c2_4 = NormalizeData(dataset['c2 4 deg'].values)"
   ]
  },
  {
   "cell_type": "code",
   "execution_count": null,
   "id": "aa1cfdec",
   "metadata": {},
   "outputs": [],
   "source": [
    "correlation(snr_gal,snr_ngmix,\n",
    "            'snr_test','snr ngmix','snr', weights=None,n_bin=50,save_plot=False)\n",
    "print(stats.pearsonr(snr_gal,snr_ngmix))"
   ]
  },
  {
   "cell_type": "markdown",
   "id": "821a5f7b",
   "metadata": {},
   "source": [
    "# R matrix vs ngal"
   ]
  },
  {
   "cell_type": "code",
   "execution_count": null,
   "id": "2bff0b3d",
   "metadata": {},
   "outputs": [],
   "source": [
    "correlation(n_gal,Rshear_diag_1,\n",
    "            'ngal_Rshear','R shear','ngal', weights=None,n_bin=50,save_plot=False)\n",
    "print(stats.pearsonr(n_gal,Rshear_diag_1))"
   ]
  },
  {
   "cell_type": "code",
   "execution_count": null,
   "id": "10967484",
   "metadata": {},
   "outputs": [],
   "source": [
    "correlation(n_gal,Rshear_off_1,\n",
    "            'ngal_Rshear_off','R shear off','ngal', weights=None,n_bin=50,save_plot=False)\n",
    "print(stats.pearsonr(n_gal,Rshear_off_1))"
   ]
  },
  {
   "cell_type": "code",
   "execution_count": null,
   "id": "49fa4aad",
   "metadata": {},
   "outputs": [],
   "source": [
    "correlation(n_gal,Rselec_diag_1,\n",
    "            'ngal_Rselec','R selec','ngal', weights=None,n_bin=50,save_plot=False)\n",
    "print(stats.pearsonr(n_gal,Rselec_diag_1))"
   ]
  },
  {
   "cell_type": "code",
   "execution_count": null,
   "id": "8b3bce81",
   "metadata": {},
   "outputs": [],
   "source": [
    "correlation(n_gal,Rselec_off_1,\n",
    "            'ngal_Rselec_off','R selec off','ngal', weights=None,n_bin=50,save_plot=False)\n",
    "print(stats.pearsonr(n_gal,Rselec_off_1))"
   ]
  },
  {
   "cell_type": "code",
   "execution_count": null,
   "id": "b2cc227a",
   "metadata": {},
   "outputs": [],
   "source": [
    "correlation(n_gal,Rtot_diag_1,\n",
    "            'ngal_Rtot','R tot','ngal', weights=None,n_bin=50,save_plot=False)\n",
    "print(stats.pearsonr(n_gal,Rtot_diag_1))"
   ]
  },
  {
   "cell_type": "code",
   "execution_count": null,
   "id": "e59b806b",
   "metadata": {},
   "outputs": [],
   "source": [
    "correlation(n_gal,Rtot_off_1,\n",
    "            'ngal_Rtot_off','R tot off','ngal', weights=None,n_bin=50,save_plot=False)\n",
    "print(stats.pearsonr(n_gal,Rtot_off_1))"
   ]
  },
  {
   "cell_type": "markdown",
   "id": "4549c0a9",
   "metadata": {},
   "source": [
    "# R matrix vs R matrix"
   ]
  },
  {
   "cell_type": "code",
   "execution_count": null,
   "id": "ba5bfb61",
   "metadata": {},
   "outputs": [],
   "source": [
    "correlation(R11shear_1,R22shear_1,\n",
    "            'R22shear_R11shear','R22 shear','R11 shear', weights=None,n_bin=50,save_plot=False)\n",
    "print(stats.pearsonr(R11shear_1,R22shear_1))"
   ]
  },
  {
   "cell_type": "code",
   "execution_count": null,
   "id": "30db37d6",
   "metadata": {},
   "outputs": [],
   "source": [
    "correlation(R11shear_1,R11tot_1,\n",
    "            'R11tot_R11shear','R11 tot','R11 shear', weights=None,n_bin=50,save_plot=False)\n",
    "print(stats.pearsonr(R11shear_1,R11tot_1))"
   ]
  },
  {
   "cell_type": "code",
   "execution_count": null,
   "id": "06da9ba3",
   "metadata": {},
   "outputs": [],
   "source": [
    "correlation(R22shear_1,R11tot_1,\n",
    "            'R11tot_R22shear','R11 tot','R22 shear', weights=None,n_bin=50,save_plot=False)\n",
    "print(stats.pearsonr(R22shear_1,R11tot_1))"
   ]
  },
  {
   "cell_type": "code",
   "execution_count": null,
   "id": "6037ccc0",
   "metadata": {},
   "outputs": [],
   "source": [
    "correlation(R11selec_1,R11tot_1,\n",
    "            'R11tot_R11selec','R11 tot','R11 selec', weights=None,n_bin=50,save_plot=False)\n",
    "print(stats.pearsonr(R11selec_1,R11tot_1))"
   ]
  },
  {
   "cell_type": "code",
   "execution_count": null,
   "id": "a381b3a8",
   "metadata": {},
   "outputs": [],
   "source": [
    "correlation(R22selec_1,R11tot_1,\n",
    "            'R11tot_R22selec','R11 tot','R22 selec', weights=None,n_bin=50,save_plot=False)\n",
    "print(stats.pearsonr(R22selec_1,R11tot_1))"
   ]
  },
  {
   "cell_type": "markdown",
   "id": "18d374bc",
   "metadata": {},
   "source": [
    "# Some quatities that look really correlated in the correlation matrix"
   ]
  },
  {
   "cell_type": "code",
   "execution_count": null,
   "id": "18c4736b",
   "metadata": {},
   "outputs": [],
   "source": [
    "correlation(size_psf,R11selec_1,\n",
    "            'sizepsf_R11selec','R11 selec','size psf', weights=None,n_bin=50,save_plot=False)\n",
    "print(stats.pearsonr(size_psf,R11selec_1))"
   ]
  },
  {
   "cell_type": "code",
   "execution_count": null,
   "id": "53d337a6",
   "metadata": {},
   "outputs": [],
   "source": [
    "correlation(size_psf,R22selec_1,\n",
    "            'sizepsf_R22selec','R22 selec','size psf', weights=None,n_bin=50,save_plot=False)\n",
    "print(stats.pearsonr(size_psf,R22selec_1))"
   ]
  },
  {
   "cell_type": "code",
   "execution_count": null,
   "id": "3549ea9a",
   "metadata": {},
   "outputs": [],
   "source": [
    "correlation(n_epoch,module_psf,\n",
    "            'nepoch_modulepsf','module psf','n epoch', weights=None,n_bin=50,save_plot=False)\n",
    "print(stats.pearsonr(n_epoch,module_psf))"
   ]
  },
  {
   "cell_type": "code",
   "execution_count": null,
   "id": "fa964b84",
   "metadata": {},
   "outputs": [],
   "source": [
    "correlation(n_epoch,psf1,\n",
    "            'nepoch_psf1','psf1','n epoch', weights=None,n_bin=50,save_plot=False)\n",
    "print(stats.pearsonr(n_epoch,psf1))"
   ]
  },
  {
   "cell_type": "code",
   "execution_count": null,
   "id": "8f9f4987",
   "metadata": {},
   "outputs": [],
   "source": [
    "correlation(n_epoch,psf2,\n",
    "            'nepoch_psf2','psf2','n epoch', weights=None,n_bin=50,save_plot=False)\n",
    "print(stats.pearsonr(n_epoch,psf2))"
   ]
  },
  {
   "cell_type": "code",
   "execution_count": null,
   "id": "44314009",
   "metadata": {},
   "outputs": [],
   "source": [
    "correlation(mag,size_gal,\n",
    "            'mag_sizegal','size gal','mag', weights=None,n_bin=50,save_plot=False)\n",
    "print(stats.pearsonr(mag,size_gal))"
   ]
  },
  {
   "cell_type": "code",
   "execution_count": null,
   "id": "5204368f",
   "metadata": {},
   "outputs": [],
   "source": [
    "correlation(mag,n_epoch,\n",
    "            'mag_nepoch','n epoch','mag', weights=None,n_bin=50,save_plot=False)\n",
    "print(stats.pearsonr(mag,n_epoch))"
   ]
  },
  {
   "cell_type": "code",
   "execution_count": null,
   "id": "abdb5bce",
   "metadata": {},
   "outputs": [],
   "source": [
    "correlation(w,size_gal,\n",
    "            'w_sizegal','size gal','w', weights=None,n_bin=50,save_plot=False)\n",
    "print(stats.pearsonr(w,size_gal))"
   ]
  },
  {
   "cell_type": "code",
   "execution_count": null,
   "id": "a607f976",
   "metadata": {},
   "outputs": [],
   "source": [
    "correlation(snr_gal,mag,\n",
    "            'snr_mag','mag','snr', weights=None,n_bin=50,save_plot=False)\n",
    "print(stats.pearsonr(snr_gal,mag))"
   ]
  },
  {
   "cell_type": "code",
   "execution_count": null,
   "id": "dd19bf6d",
   "metadata": {},
   "outputs": [],
   "source": [
    "correlation(snr_ngmix,mag,\n",
    "            'snr_mag','mag','snr ngmix', weights=None,n_bin=50,save_plot=False)\n",
    "print(stats.pearsonr(snr_ngmix,mag))"
   ]
  },
  {
   "cell_type": "code",
   "execution_count": null,
   "id": "0f74c114",
   "metadata": {},
   "outputs": [],
   "source": [
    "correlation(w,mag,\n",
    "            'w_mag','mag','w', weights=None,n_bin=50,save_plot=False)\n",
    "print(stats.pearsonr(w,mag))"
   ]
  },
  {
   "cell_type": "code",
   "execution_count": null,
   "id": "0d63a11e",
   "metadata": {},
   "outputs": [],
   "source": [
    "correlation(w,snr_gal,\n",
    "            'w_snr','snr','w', weights=None,n_bin=50,save_plot=False)\n",
    "print(stats.pearsonr(w,snr_gal))"
   ]
  },
  {
   "cell_type": "code",
   "execution_count": null,
   "id": "f74ee48f",
   "metadata": {},
   "outputs": [],
   "source": [
    "correlation(w,snr_ngmix,\n",
    "            'w_snr','snr ngmix','w', weights=None,n_bin=50,save_plot=False)\n",
    "print(stats.pearsonr(w,snr_ngmix))"
   ]
  },
  {
   "cell_type": "markdown",
   "id": "205880e4",
   "metadata": {},
   "source": [
    "# Check with kappaB"
   ]
  },
  {
   "cell_type": "code",
   "execution_count": null,
   "id": "9b09dc7c",
   "metadata": {},
   "outputs": [],
   "source": [
    "correlation(kappaB_1,R11shear_1,\n",
    "            'R11shear_kappaB','R 11 shear','kappa B', weights=None,n_bin=50,save_plot=False)\n",
    "print(stats.pearsonr(kappaB_1,R11shear_1))"
   ]
  },
  {
   "cell_type": "code",
   "execution_count": null,
   "id": "ff12d389",
   "metadata": {},
   "outputs": [],
   "source": [
    "correlation(kappaB_smooth,R11shear_1,\n",
    "            'R11shear_kappaBsmooth','R 11 shear','kappa B smooth', weights=None,n_bin=50,save_plot=False)\n",
    "print(stats.pearsonr(kappaB_smooth,R11shear_1))"
   ]
  },
  {
   "cell_type": "markdown",
   "id": "940112ec",
   "metadata": {},
   "source": [
    "# KappaE vs others"
   ]
  },
  {
   "cell_type": "code",
   "execution_count": null,
   "id": "0a2f58ea",
   "metadata": {},
   "outputs": [],
   "source": [
    "correlation(kappaE,kappaE_smooth,\n",
    "            'kappaEsmooth_kappaE','kappa E smooth','kappa E', weights=None,n_bin=50,save_plot=False)\n",
    "print(stats.pearsonr(kappaE,kappaE_smooth))"
   ]
  },
  {
   "cell_type": "code",
   "execution_count": null,
   "id": "3f871cfd",
   "metadata": {},
   "outputs": [],
   "source": [
    "correlation(kappaE,kappaE_1,\n",
    "            'kappaE_1_kappaE','kappa E 1 deg','kappa E', weights=None,n_bin=50,save_plot=False)\n",
    "print(stats.pearsonr(kappaE,kappaE_1))"
   ]
  },
  {
   "cell_type": "code",
   "execution_count": null,
   "id": "23090915",
   "metadata": {},
   "outputs": [],
   "source": [
    "correlation(kappaE_1,Rshear_diag_1,\n",
    "            'Rsheardiag_kappaE','R diag shear','kappa E', weights=None,n_bin=50,save_plot=False)\n",
    "print(stats.pearsonr(kappaE_1,Rshear_diag_1))"
   ]
  },
  {
   "cell_type": "code",
   "execution_count": null,
   "id": "b9f16878",
   "metadata": {},
   "outputs": [],
   "source": [
    "correlation(kappaE_1,Rshear_off_1,\n",
    "            'Rshearoff_kappaE','R off shear','kappa E', weights=None,n_bin=50,save_plot=False)\n",
    "print(stats.pearsonr(kappaE_1,Rshear_off_1))"
   ]
  },
  {
   "cell_type": "code",
   "execution_count": null,
   "id": "51d4ebf6",
   "metadata": {},
   "outputs": [],
   "source": [
    "correlation(kappaE_1,Rselec_diag_1,\n",
    "            'Rselecdiag_kappaE','R diag selec','kappa E', weights=None,n_bin=50,save_plot=False)\n",
    "print(stats.pearsonr(kappaE_1,Rselec_diag_1))"
   ]
  },
  {
   "cell_type": "code",
   "execution_count": null,
   "id": "da07bc2f",
   "metadata": {},
   "outputs": [],
   "source": [
    "correlation(kappaE_1,n_gal,\n",
    "            'ngal_kappaE','n gal','kappa E', weights=None,n_bin=50,save_plot=False)\n",
    "print(stats.pearsonr(kappaE_1,n_gal))"
   ]
  },
  {
   "cell_type": "code",
   "execution_count": null,
   "id": "5acca22c",
   "metadata": {},
   "outputs": [],
   "source": [
    "correlation(kappaE_1,module_psf,\n",
    "            'modulepsf_kappaE','module psf','kappa E', weights=None,n_bin=50,save_plot=False)\n",
    "print(stats.pearsonr(kappaE_1,module_psf))"
   ]
  },
  {
   "cell_type": "code",
   "execution_count": null,
   "id": "2c4b4974",
   "metadata": {},
   "outputs": [],
   "source": [
    "correlation(kappaE_1,psf1,\n",
    "            'psf1_kappaE','psf1','kappa E', weights=None,n_bin=50,save_plot=False)\n",
    "print(stats.pearsonr(kappaE_1,psf1))"
   ]
  },
  {
   "cell_type": "code",
   "execution_count": null,
   "id": "8be35dbd",
   "metadata": {},
   "outputs": [],
   "source": [
    "correlation(kappaE_1,psf2,\n",
    "            'psf2_kappaE','psf2','kappa E', weights=None,n_bin=50,save_plot=False)\n",
    "print(stats.pearsonr(kappaE_1,psf2))"
   ]
  },
  {
   "cell_type": "code",
   "execution_count": null,
   "id": "7b159a69",
   "metadata": {},
   "outputs": [],
   "source": [
    "correlation(kappaE_smooth,size_gal,\n",
    "            'sizegal_kappaE','size gal','kappa E', weights=None,n_bin=50,save_plot=False)\n",
    "print(stats.pearsonr(kappaE_1,size_gal))"
   ]
  },
  {
   "cell_type": "code",
   "execution_count": null,
   "id": "7aaf5d92",
   "metadata": {},
   "outputs": [],
   "source": [
    "correlation(kappaE_1,n_epoch,\n",
    "            'nepoch_kappaE','n epoch','kappa E', weights=None,n_bin=50,save_plot=False)\n",
    "print(stats.pearsonr(kappaE_1,n_epoch))"
   ]
  },
  {
   "cell_type": "code",
   "execution_count": null,
   "id": "c94b0a34",
   "metadata": {},
   "outputs": [],
   "source": [
    "correlation(kappaE_1,mag,\n",
    "            'mag_kappaE','mag','kappa E', weights=None,n_bin=50,save_plot=False)\n",
    "print(stats.pearsonr(kappaE_1,mag))"
   ]
  },
  {
   "cell_type": "code",
   "execution_count": null,
   "id": "f6e39dbe",
   "metadata": {},
   "outputs": [],
   "source": [
    "correlation(kappaE_1,size_psf,\n",
    "            'sizepsf_kappaE','size_psf','kappa E', weights=None,n_bin=50,save_plot=False)\n",
    "print(stats.pearsonr(kappaE_1,size_psf))"
   ]
  },
  {
   "cell_type": "code",
   "execution_count": null,
   "id": "d83e299f",
   "metadata": {},
   "outputs": [],
   "source": [
    "correlation(kappaE_1,w,\n",
    "            'w_kappaE','w','kappa E', weights=None,n_bin=50,save_plot=False)\n",
    "print(stats.pearsonr(kappaE_1,w))"
   ]
  },
  {
   "cell_type": "code",
   "execution_count": null,
   "id": "9766cb98",
   "metadata": {},
   "outputs": [],
   "source": [
    "correlation(kappaE_1,c1_1,\n",
    "            'c1_kappaE','c1','kappa E', weights=None,n_bin=50,save_plot=False)\n",
    "print(stats.pearsonr(kappaE_1,c1_1))"
   ]
  },
  {
   "cell_type": "code",
   "execution_count": null,
   "id": "b09e453f",
   "metadata": {},
   "outputs": [],
   "source": [
    "correlation(kappaE_1,c2_1,\n",
    "            'c2_kappaE','c2','kappa E', weights=None,n_bin=50,save_plot=False)\n",
    "print(stats.pearsonr(kappaE_1,c2_1))"
   ]
  },
  {
   "cell_type": "markdown",
   "id": "7eb132e3",
   "metadata": {},
   "source": [
    "# R shear vs other"
   ]
  },
  {
   "cell_type": "code",
   "execution_count": null,
   "id": "75e2ce97",
   "metadata": {},
   "outputs": [],
   "source": [
    "correlation(module_psf,Rshear_diag_1,\n",
    "            'modulepsf_Rshear','R shear','module psf', weights=None,n_bin=50,save_plot=False)\n",
    "print(stats.pearsonr(module_psf,Rshear_diag_1))"
   ]
  },
  {
   "cell_type": "code",
   "execution_count": null,
   "id": "324a103b",
   "metadata": {},
   "outputs": [],
   "source": [
    "correlation(psf1,Rshear_diag_1,\n",
    "            'modulepsf_Rshear','R shear','psf1', weights=None,n_bin=50,save_plot=False)\n",
    "print(stats.pearsonr(psf1,Rshear_diag_1))"
   ]
  },
  {
   "cell_type": "code",
   "execution_count": null,
   "id": "0cf906bb",
   "metadata": {},
   "outputs": [],
   "source": [
    "correlation(psf2,Rshear_diag_1,\n",
    "            'modulepsf_Rshear','R shear','psf2', weights=None,n_bin=50,save_plot=False)\n",
    "print(stats.pearsonr(psf2,Rshear_diag_1))"
   ]
  },
  {
   "cell_type": "code",
   "execution_count": null,
   "id": "7b7b98ec",
   "metadata": {},
   "outputs": [],
   "source": [
    "correlation(size_gal,Rshear_diag_1,\n",
    "            'sizegal_Rshear','R shear','size gal', weights=None,n_bin=50,save_plot=False)\n",
    "print(stats.pearsonr(size_gal,Rshear_diag_1))"
   ]
  },
  {
   "cell_type": "code",
   "execution_count": null,
   "id": "74924813",
   "metadata": {},
   "outputs": [],
   "source": [
    "correlation(Rshear_diag_1,size_gal,\n",
    "            'sizegal_Rshear','size gal','R shear', weights=None,n_bin=50,save_plot=False)\n",
    "print(stats.pearsonr(Rshear_diag_1,size_gal))"
   ]
  },
  {
   "cell_type": "code",
   "execution_count": null,
   "id": "37bdb635",
   "metadata": {},
   "outputs": [],
   "source": [
    "correlation(n_epoch,Rshear_diag_1,\n",
    "            'nepoch_Rshear','R shear','n epoch', weights=None,n_bin=50,save_plot=False)\n",
    "print(stats.pearsonr(n_epoch,Rshear_diag_1))"
   ]
  },
  {
   "cell_type": "code",
   "execution_count": null,
   "id": "a54a3b2c",
   "metadata": {},
   "outputs": [],
   "source": [
    "correlation(mag,Rshear_diag_1,\n",
    "            'mag_Rshear','R shear','mag', weights=None,n_bin=50,save_plot=False)\n",
    "print(stats.pearsonr(mag,Rshear_diag_1))"
   ]
  },
  {
   "cell_type": "code",
   "execution_count": null,
   "id": "e1800c07",
   "metadata": {},
   "outputs": [],
   "source": [
    "correlation(size_psf,Rshear_diag_1,\n",
    "            'sizepsf_Rshear','R shear','size psf', weights=None,n_bin=50,save_plot=False)\n",
    "print(stats.pearsonr(size_psf,Rshear_diag_1))"
   ]
  },
  {
   "cell_type": "code",
   "execution_count": null,
   "id": "c2f976cf",
   "metadata": {},
   "outputs": [],
   "source": [
    "correlation(snr_ngmix,Rshear_diag_1,\n",
    "            'snr_Rshear','R shear','snr', weights=None,n_bin=50,save_plot=False)\n",
    "print(stats.pearsonr(snr_ngmix,Rshear_diag_1))"
   ]
  },
  {
   "cell_type": "code",
   "execution_count": null,
   "id": "c28769b5",
   "metadata": {},
   "outputs": [],
   "source": [
    "correlation(w,Rshear_diag_1,\n",
    "            'w_Rshear','R shear','w', weights=None,n_bin=50,save_plot=False)\n",
    "print(stats.pearsonr(w,Rshear_diag_1))"
   ]
  },
  {
   "cell_type": "code",
   "execution_count": null,
   "id": "7d382f77",
   "metadata": {},
   "outputs": [],
   "source": [
    "correlation(peaks,Rshear_diag_1,\n",
    "            'peaks_Rshear','R shear','peaks', weights=None,n_bin=50,save_plot=False)\n",
    "print(stats.pearsonr(peaks,Rshear_diag_1))"
   ]
  },
  {
   "cell_type": "code",
   "execution_count": null,
   "id": "f5bca745",
   "metadata": {},
   "outputs": [],
   "source": [
    "correlation(c1_1,Rshear_diag_1,\n",
    "            'c1_Rshear','R shear','c1', weights=None,n_bin=50,save_plot=False)\n",
    "print(stats.pearsonr(c1_1,Rshear_diag_1))"
   ]
  },
  {
   "cell_type": "code",
   "execution_count": null,
   "id": "479ef790",
   "metadata": {},
   "outputs": [],
   "source": [
    "correlation(c2_1,Rshear_diag_1,\n",
    "            'c2_Rshear','R shear','c2', weights=None,n_bin=50,save_plot=False)\n",
    "print(stats.pearsonr(c2_1,Rshear_diag_1))"
   ]
  },
  {
   "cell_type": "markdown",
   "id": "6bbb1256",
   "metadata": {},
   "source": [
    "# R selec vs other"
   ]
  },
  {
   "cell_type": "code",
   "execution_count": null,
   "id": "710a88c8",
   "metadata": {},
   "outputs": [],
   "source": [
    "correlation(module_psf,Rselec_diag_1,\n",
    "            'modulepsf_Rselec','R selec','module psf', weights=None,n_bin=50,save_plot=False)\n",
    "print(stats.pearsonr(module_psf,Rselec_diag_1))"
   ]
  },
  {
   "cell_type": "code",
   "execution_count": null,
   "id": "8f7e5731",
   "metadata": {},
   "outputs": [],
   "source": [
    "correlation(psf1,Rselec_diag_1,\n",
    "            'psf1_Rselec','R selec','psf1', weights=None,n_bin=50,save_plot=False)\n",
    "print(stats.pearsonr(psf1,Rselec_diag_1))"
   ]
  },
  {
   "cell_type": "code",
   "execution_count": null,
   "id": "c7c5a343",
   "metadata": {},
   "outputs": [],
   "source": [
    "correlation(psf2,Rselec_diag_1,\n",
    "            'psf2_Rselec','R selec','psf2', weights=None,n_bin=50,save_plot=False)\n",
    "print(stats.pearsonr(psf2,Rselec_diag_1))"
   ]
  },
  {
   "cell_type": "code",
   "execution_count": null,
   "id": "0040e65f",
   "metadata": {},
   "outputs": [],
   "source": [
    "correlation(size_gal,Rselec_diag_1,\n",
    "            'sizegal_Rselec','R selec','size gal', weights=None,n_bin=50,save_plot=False)\n",
    "print(stats.pearsonr(size_gal,Rselec_diag_1))"
   ]
  },
  {
   "cell_type": "code",
   "execution_count": null,
   "id": "ab9b70e5",
   "metadata": {},
   "outputs": [],
   "source": [
    "correlation(n_epoch,Rselec_diag_1,\n",
    "            'nepoch_Rselec','R selec','n epoch', weights=None,n_bin=50,save_plot=False)\n",
    "print(stats.pearsonr(n_epoch,Rselec_diag_1))"
   ]
  },
  {
   "cell_type": "code",
   "execution_count": null,
   "id": "56659954",
   "metadata": {},
   "outputs": [],
   "source": [
    "correlation(mag,Rselec_diag_1,\n",
    "            'mag_Rselec','R selec','mag', weights=None,n_bin=50,save_plot=False)\n",
    "print(stats.pearsonr(mag,Rselec_diag_1))"
   ]
  },
  {
   "cell_type": "code",
   "execution_count": null,
   "id": "60e9069f",
   "metadata": {},
   "outputs": [],
   "source": [
    "correlation(size_psf,Rselec_diag_1,\n",
    "            'sizepsf_Rselec','R selec','size psf', weights=None,n_bin=50,save_plot=False)\n",
    "print(stats.pearsonr(size_psf,Rselec_diag_1))"
   ]
  },
  {
   "cell_type": "code",
   "execution_count": null,
   "id": "11fb49ee",
   "metadata": {},
   "outputs": [],
   "source": [
    "correlation(snr_ngmix,Rselec_diag_1,\n",
    "            'snr_Rselec','R selec','snr', weights=None,n_bin=50,save_plot=False)\n",
    "print(stats.pearsonr(snr_ngmix,Rselec_diag_1))"
   ]
  },
  {
   "cell_type": "code",
   "execution_count": null,
   "id": "efded846",
   "metadata": {},
   "outputs": [],
   "source": [
    "correlation(w,Rselec_diag_1,\n",
    "            'w_Rselec','R selec','w', weights=None,n_bin=50,save_plot=False)\n",
    "print(stats.pearsonr(w,Rselec_diag_1))"
   ]
  },
  {
   "cell_type": "code",
   "execution_count": null,
   "id": "dbeef202",
   "metadata": {},
   "outputs": [],
   "source": [
    "correlation(peaks,Rselec_diag_1,\n",
    "            'peaks_Rselec','R selec','peaks', weights=None,n_bin=50,save_plot=False)\n",
    "print(stats.pearsonr(peaks,Rselec_diag_1))"
   ]
  },
  {
   "cell_type": "code",
   "execution_count": null,
   "id": "b2e89f68",
   "metadata": {},
   "outputs": [],
   "source": [
    "correlation(c1_1,Rselec_diag_1,\n",
    "            'c1_Rselec','R selec','c1', weights=None,n_bin=50,save_plot=False)\n",
    "print(stats.pearsonr(c1_1,Rselec_diag_1))"
   ]
  },
  {
   "cell_type": "code",
   "execution_count": null,
   "id": "30510f85",
   "metadata": {},
   "outputs": [],
   "source": [
    "correlation(c2_1,Rselec_diag_1,\n",
    "            'c2_Rselec','R selec','c2', weights=None,n_bin=50,save_plot=False)\n",
    "print(stats.pearsonr(c2_1,Rselec_diag_1))"
   ]
  },
  {
   "cell_type": "markdown",
   "id": "cc2d369f",
   "metadata": {},
   "source": [
    "# Test different snr_min"
   ]
  },
  {
   "cell_type": "code",
   "execution_count": null,
   "id": "f572c993",
   "metadata": {},
   "outputs": [],
   "source": [
    "mag_snr7 = np.load('/Users/emmaaycoberry/Documents/Stage/M2_SUTS/test_snr/mag_map_snr7.npy')\n",
    "mag_snr10 = np.load('/Users/emmaaycoberry/Documents/Stage/M2_SUTS/test_snr/mag_map_snr10.npy')\n",
    "\n",
    "w_snr7 = np.load('/Users/emmaaycoberry/Documents/Stage/M2_SUTS/test_snr/wmap_snr7.npy')\n",
    "w_snr10 = np.load('/Users/emmaaycoberry/Documents/Stage/M2_SUTS/test_snr/wmap_snr10.npy')\n",
    "\n",
    "snr_snr7 = np.load('/Users/emmaaycoberry/Documents/Stage/M2_SUTS/test_snr/snr_map_snr7.npy')\n",
    "snr_snr10 = np.load('/Users/emmaaycoberry/Documents/Stage/M2_SUTS/test_snr/snr_map_snr10.npy')"
   ]
  },
  {
   "cell_type": "code",
   "execution_count": null,
   "id": "1bda8a5b",
   "metadata": {},
   "outputs": [],
   "source": [
    "correlation(np.ravel(w_snr10),np.ravel(snr_snr10),\n",
    "            'w_snr','snr 10','w', weights=None,n_bin=50,save_plot=False)\n",
    "print(stats.pearsonr(np.ravel(w_snr10),np.ravel(snr_snr10)))"
   ]
  },
  {
   "cell_type": "code",
   "execution_count": null,
   "id": "ca7e43fe",
   "metadata": {},
   "outputs": [],
   "source": [
    "correlation(np.ravel(w_snr7),np.ravel(snr_snr7),\n",
    "            'w_snr','snr 7','w', weights=None,n_bin=50,save_plot=False)\n",
    "print(stats.pearsonr(np.ravel(w_snr7),np.ravel(snr_snr7)))"
   ]
  },
  {
   "cell_type": "code",
   "execution_count": null,
   "id": "1d0aa83f",
   "metadata": {},
   "outputs": [],
   "source": [
    "correlation(np.ravel(w_snr10),np.ravel(mag_snr10),\n",
    "            'w_snr','mag 10','w', weights=None,n_bin=50,save_plot=False)\n",
    "print(stats.pearsonr(np.ravel(w_snr10),np.ravel(mag_snr10)))"
   ]
  },
  {
   "cell_type": "code",
   "execution_count": null,
   "id": "fb23ad40",
   "metadata": {},
   "outputs": [],
   "source": [
    "correlation(np.ravel(w_snr7),np.ravel(mag_snr7),\n",
    "            'w_snr','mag 7','w', weights=None,n_bin=50,save_plot=False)\n",
    "print(stats.pearsonr(np.ravel(w_snr7),np.ravel(mag_snr7)))"
   ]
  },
  {
   "cell_type": "code",
   "execution_count": null,
   "id": "b5e0b9f8",
   "metadata": {},
   "outputs": [],
   "source": [
    "correlation(np.ravel(snr_snr10),np.ravel(mag_snr10),\n",
    "            'w_snr','mag 10','snr 10', weights=None,n_bin=30,save_plot=False)\n",
    "print(stats.pearsonr(np.ravel(snr_snr10),np.ravel(mag_snr10)))"
   ]
  },
  {
   "cell_type": "code",
   "execution_count": null,
   "id": "eb79fdbe",
   "metadata": {},
   "outputs": [],
   "source": [
    "correlation(np.ravel(snr_snr7),np.ravel(mag_snr7),\n",
    "            'w_snr','mag 7','snr 7', weights=None,n_bin=30,save_plot=False)\n",
    "print(stats.pearsonr(np.ravel(snr_snr7),np.ravel(mag_snr7)))"
   ]
  }
 ],
 "metadata": {
  "kernelspec": {
   "display_name": "Python 3 (ipykernel)",
   "language": "python",
   "name": "python3"
  },
  "language_info": {
   "codemirror_mode": {
    "name": "ipython",
    "version": 3
   },
   "file_extension": ".py",
   "mimetype": "text/x-python",
   "name": "python",
   "nbconvert_exporter": "python",
   "pygments_lexer": "ipython3",
   "version": "3.9.7"
  }
 },
 "nbformat": 4,
 "nbformat_minor": 5
}
