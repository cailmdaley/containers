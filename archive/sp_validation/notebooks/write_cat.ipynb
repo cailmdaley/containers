{
 "cells": [
  {
   "cell_type": "markdown",
   "id": "04da9f97",
   "metadata": {},
   "source": [
    "# Weak-lensing galaxy shape catalogue validation\n",
    "\n",
    "## Write catalogues\n",
    "\n",
    "Contents\n",
    "- Write catalogue FITS files"
   ]
  },
  {
   "cell_type": "markdown",
   "id": "7f6a3708",
   "metadata": {},
   "source": [
    "> **_NOTE:_** Before running this notebook, set kernel to `main_set.ipynb'"
   ]
  },
  {
   "cell_type": "code",
   "execution_count": null,
   "id": "6d6c714a",
   "metadata": {},
   "outputs": [],
   "source": [
    "import os"
   ]
  },
  {
   "cell_type": "code",
   "execution_count": null,
   "id": "dc71cc0d",
   "metadata": {},
   "outputs": [],
   "source": [
    "from sp_validation.util import *\n",
    "from sp_validation.cat import *\n",
    "from sp_validation.basic import metacal"
   ]
  },
  {
   "cell_type": "code",
   "execution_count": null,
   "id": "7667d302",
   "metadata": {},
   "outputs": [],
   "source": [
    "R_shear_ind = {}\n",
    "for sh in shapes:\n",
    "    # Shear response per galaxy\n",
    "    R_shear_ind[sh] = gal_metacal[sh].R_shear"
   ]
  },
  {
   "cell_type": "markdown",
   "id": "5e7f238f",
   "metadata": {},
   "source": [
    "### Write basic shape catalogue"
   ]
  },
  {
   "cell_type": "code",
   "execution_count": null,
   "id": "62e46cad",
   "metadata": {},
   "outputs": [],
   "source": [
    "local_cal = False\n",
    "\n",
    "if local_cal:\n",
    "    for sh in shapes:\n",
    "        write_shape_catalog(\n",
    "            f'{output_shape_cat_base}_{sh}.fits',\n",
    "            ra[sh],\n",
    "            dec[sh],\n",
    "            w[sh],\n",
    "            mag=mag[sh],\n",
    "            g=g_corr_mc[sh],\n",
    "            g1_uncal=g_uncorr[sh][0],\n",
    "            g2_uncal=g_uncorr[sh][1], \n",
    "            R_g11=R_shear_ind[sh][0, 0],\n",
    "            R_g12=R_shear_ind[sh][0, 1],\n",
    "            R_g21=R_shear_ind[sh][1, 0],\n",
    "            R_g22=R_shear_ind[sh][1, 1],\n",
    "            R=gal_metacal[sh].R,\n",
    "            R_shear=R_shear[sh],\n",
    "            R_select=gal_metacal[sh].R_selection,\n",
    "            c=c[sh],\n",
    "            c_err=c_err[sh],\n",
    "            alpha_leakage=alpha_leak_mean[sh],\n",
    "            add_cols=add_cols_data[sh],\n",
    "        )\n",
    "else:\n",
    "    for sh in shapes:   \n",
    "        write_shape_catalog(\n",
    "            f'{output_shape_cat_base}_{sh}.fits',\n",
    "            ra[sh],\n",
    "            dec[sh],\n",
    "            w[sh],\n",
    "            mag=mag[sh],\n",
    "            g=g_corr_mc[sh],\n",
    "            g1_uncal=g_uncorr[sh][0],\n",
    "            g2_uncal=g_uncorr[sh][1],\n",
    "            R=gal_metacal[sh].R,\n",
    "            R_shear=R_shear[sh],\n",
    "            R_select=gal_metacal[sh].R_selection,\n",
    "            c=c[sh],\n",
    "            c_err=c_err[sh],\n",
    "            alpha_leakage=alpha_leak_mean[sh],\n",
    "            add_cols=add_cols_data[sh],\n",
    "        )"
   ]
  },
  {
   "cell_type": "markdown",
   "id": "25b35c10",
   "metadata": {},
   "source": [
    "### Write extended shape catalogue"
   ]
  },
  {
   "cell_type": "code",
   "execution_count": null,
   "id": "f7d6f707",
   "metadata": {},
   "outputs": [],
   "source": [
    "ext_cols = {}\n",
    "for sh in shapes:\n",
    "    if add_cols:\n",
    "        ext_cols[sh] = add_cols_data[sh]\n",
    "    else:\n",
    "        ext_cols[sh] = {}"
   ]
  },
  {
   "cell_type": "code",
   "execution_count": null,
   "id": "82e8dae2",
   "metadata": {},
   "outputs": [],
   "source": [
    "# Optional: Create flag from external mask\n",
    "if mask_external_path:\n",
    "    for sh in shapes:\n",
    "        m_extern = mask_overlap(ra[sh], dec[sh], tile_ID[sh], mask_external_path)"
   ]
  },
  {
   "cell_type": "code",
   "execution_count": null,
   "id": "815a1a89",
   "metadata": {},
   "outputs": [],
   "source": [
    "for sh in shapes:\n",
    "\n",
    "    # Additional columns:\n",
    "    # {e1, e2, size}_PSF\n",
    "    ext_cols[sh]['e1_PSF'] = dd[key_PSF_ell[sh]][:,0][m_gal[sh]][mask[sh]]\n",
    "    ext_cols[sh]['e2_PSF'] = dd[key_PSF_ell[sh]][:,1][m_gal[sh]][mask[sh]]\n",
    "    ext_cols[sh]['fwhm_PSF'] = size_to_fwhm[sh](dd[key_PSF_size[sh]][m_gal[sh]][mask[sh]])\n",
    "    if mask_external_path:\n",
    "        ext_cols[sh]['mask_extern'] = m_extern\n",
    "\n",
    "    # Extended catalogue with SNR, individual R matrices, ext_cols\n",
    "    write_shape_catalog(\n",
    "        f'{output_shape_cat_base}_extended_{sh}.fits',\n",
    "        ra[sh],\n",
    "        dec[sh],\n",
    "        w[sh],\n",
    "        mag=mag[sh],\n",
    "        snr=snr[sh],\n",
    "        g=g_corr_mc[sh],\n",
    "        g1_uncal=g_uncorr[sh][0],\n",
    "        g2_uncal=g_uncorr[sh][1],\n",
    "        R_g11=R_shear_ind[sh][0, 0],\n",
    "        R_g12=R_shear_ind[sh][0, 1],\n",
    "        R_g21=R_shear_ind[sh][1, 0],\n",
    "        R_g22=R_shear_ind[sh][1, 1],       \n",
    "        R=gal_metacal[sh].R,\n",
    "        R_shear=R_shear[sh],\n",
    "        R_select=gal_metacal[sh].R_selection,\n",
    "        c=c[sh],\n",
    "        c_err=c_err[sh],\n",
    "        alpha_leakage=alpha_leak_mean[sh],\n",
    "        add_cols=ext_cols[sh],\n",
    "     )"
   ]
  },
  {
   "cell_type": "markdown",
   "id": "a6319ed3-0add-4fd1-a174-2b188863cd8e",
   "metadata": {},
   "source": [
    "### Write comprehensive shape catalogue (all objects, no cuts)"
   ]
  },
  {
   "cell_type": "code",
   "execution_count": null,
   "id": "ea2e13a6-86b1-44fd-92b3-34fc48b318a1",
   "metadata": {},
   "outputs": [],
   "source": [
    "# Add additional columns without cuts nor mask applied\n",
    "\n",
    "ext_cols_pre_cal = {}\n",
    "\n",
    "for sh in shapes:\n",
    "    ext_cols_pre_cal[sh] = {}\n",
    "\n",
    "    # Standard additional columns\n",
    "    if add_cols:\n",
    "        for key in add_cols:\n",
    "            ext_cols_pre_cal[sh][key] = dd[key]\n",
    "\n",
    "    # Pre-calibration columns\n",
    "    if add_cols_pre_cal:\n",
    "        for key in add_cols_pre_cal:\n",
    "            ext_cols_pre_cal[sh][key] = dd[key]\n",
    "\n",
    "    # Flag to cut duplicate objects in overlapping region with neighbouring tiles\n",
    "    ext_cols_pre_cal[sh][\"overlap\"] = cut_overlap\n",
    "    add_cols_pre_cal_format[\"overlap\"] = \"I\"\n",
    "\n",
    "    # Additional columns {e1, e2, size}_PSF\n",
    "    ext_cols_pre_cal[sh]['e1_PSF'] = dd[key_PSF_ell[sh]][:,0]\n",
    "    ext_cols_pre_cal[sh]['e2_PSF'] = dd[key_PSF_ell[sh]][:,1]\n",
    "    ext_cols_pre_cal[sh]['fwhm_PSF'] = size_to_fwhm[sh](dd[key_PSF_size[sh]])\n",
    "\n",
    "    _, _, iv_w = metacal.get_variance_ivweights(dd, sigma_eps_prior, mask=None, col_2d=True)\n",
    "\n",
    "    mag = get_col(dd, \"MAG_AUTO\", None, None)\n",
    "    snr = get_snr(sh, dd, None, None)\n",
    "    g1_uncal = dd[\"NGMIX_ELL_NOSHEAR\"][:, 0]\n",
    "    g2_uncal = dd[\"NGMIX_ELL_NOSHEAR\"][:, 1]\n",
    "    \n",
    "    # Comprehensive catalogue without cuts nor mask applied\n",
    "    write_shape_catalog(\n",
    "        f'{output_shape_cat_base}_comprehensive_{sh}.fits',\n",
    "        ra[\"all\"],\n",
    "        dec[\"all\"],\n",
    "        iv_w,\n",
    "        mag=mag,\n",
    "        snr=snr,\n",
    "        g1_uncal=g1_uncal,\n",
    "        g2_uncal=g2_uncal,\n",
    "        add_cols=ext_cols_pre_cal[sh],\n",
    "        add_cols_format=add_cols_pre_cal_format,\n",
    "     )"
   ]
  },
  {
   "cell_type": "markdown",
   "id": "b39cd31a",
   "metadata": {
    "jp-MarkdownHeadingCollapsed": true
   },
   "source": [
    "### Write galaxy (or random) position catalogue"
   ]
  },
  {
   "cell_type": "code",
   "execution_count": null,
   "id": "775983e5",
   "metadata": {},
   "outputs": [],
   "source": [
    "if len(shapes) == 0:\n",
    "    print('writing random cat (hack)')\n",
    "        \n",
    "    ra = dd['RA'][cut_overlap]\n",
    "    dec = dd['DEC'][cut_overlap]\n",
    "    #tile_id_str = [f'{id:07.3f}' for id in dd['TILE_ID'][cut_overlap]]\n",
    "    tile_id = dd['TILE_ID'][cut_overlap]\n",
    "    write_galaxy_cat(f'{output_shape_cat_base}.fits', ra, dec, tile_id)"
   ]
  },
  {
   "cell_type": "markdown",
   "id": "f01191ef",
   "metadata": {},
   "source": [
    "### Write PSF catalogue with multi-epoch shapes from shape measurement methods"
   ]
  },
  {
   "cell_type": "code",
   "execution_count": null,
   "id": "eef73bb7",
   "metadata": {},
   "outputs": [],
   "source": [
    "for sh in shapes:                                                               \n",
    "                                                                                \n",
    "    write_PSF_cat(                                                              \n",
    "        f'{output_PSF_cat_base}_{sh}.fits',                                     \n",
    "        ra_star[sh],                                                            \n",
    "        dec_star[sh],                                                           \n",
    "        g_star_psf[sh][0],                                                      \n",
    "        g_star_psf[sh][1]                                                       \n",
    "    ) "
   ]
  },
  {
   "cell_type": "code",
   "execution_count": null,
   "id": "c23b5ec7-a208-47df-a555-22622d2dbdf3",
   "metadata": {},
   "outputs": [],
   "source": []
  }
 ],
 "metadata": {
  "kernelspec": {
   "display_name": "sp_validation",
   "language": "python",
   "name": "sp_validation"
  },
  "language_info": {
   "codemirror_mode": {
    "name": "ipython",
    "version": 3
   },
   "file_extension": ".py",
   "mimetype": "text/x-python",
   "name": "python",
   "nbconvert_exporter": "python",
   "pygments_lexer": "ipython3",
   "version": "3.9.19"
  }
 },
 "nbformat": 4,
 "nbformat_minor": 5
}
